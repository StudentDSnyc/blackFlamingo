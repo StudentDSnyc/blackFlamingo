{
 "cells": [
  {
   "cell_type": "code",
   "execution_count": 7,
   "metadata": {
    "collapsed": true
   },
   "outputs": [],
   "source": [
    "from sklearn import ensemble\n",
    "import pandas as pd\n",
    "import numpy as np\n",
    "pd.set_option('display.max_columns',100)"
   ]
  },
  {
   "cell_type": "code",
   "execution_count": 29,
   "metadata": {},
   "outputs": [
    {
     "name": "stdout",
     "output_type": "stream",
     "text": [
      "(1168, 86)\n",
      "(292, 86)\n",
      "(1460, 86)\n",
      "(1459, 86)\n"
     ]
    }
   ],
   "source": [
    "\n",
    "housetrain_tree= pd.read_csv('../Data/housetrain_tree.csv')\n",
    "housetest_tree= pd.read_csv('../Data/housetest_tree.csv')\n",
    "\n",
    "print(housetrain_tree.shape)\n",
    "print(housetest_tree.shape)"
   ]
  },
  {
   "cell_type": "code",
   "execution_count": 35,
   "metadata": {
    "collapsed": true
   },
   "outputs": [],
   "source": [
    "#combine house train and house test for one hot encoding\n",
    "house_combined= pd.concat([housetrain_tree, housetest_tree], ignore_index=True)"
   ]
  },
  {
   "cell_type": "code",
   "execution_count": 52,
   "metadata": {
    "collapsed": true
   },
   "outputs": [],
   "source": [
    "#dummify combined house data\n",
    "encoded_house_combined=pd.get_dummies(house_combined, drop_first=True, dummy_na=True)"
   ]
  },
  {
   "cell_type": "code",
   "execution_count": 68,
   "metadata": {
    "collapsed": true
   },
   "outputs": [],
   "source": [
    "#split house data to train and test\n",
    "housetrain_tree= encoded_house_combined[:1460]\n",
    "housetest_tree=encoded_house_combined[1460:]\n",
    "print(housetrain_tree.shape)\n",
    "print(housetest_tree.shape)\n"
   ]
  },
  {
   "cell_type": "code",
   "execution_count": 70,
   "metadata": {
    "collapsed": true,
    "scrolled": true
   },
   "outputs": [],
   "source": [
    "#split 80/20 house train to private train and private test\n",
    "from sklearn.model_selection import train_test_split\n",
    "\n",
    "privtrain_tree, privtest_tree= train_test_split(housetrain_tree, test_size=0.2, random_state=0)\n",
    "\n",
    "print(privtrain_tree.shape)\n",
    "print(privtest_tree.shape)"
   ]
  },
  {
   "cell_type": "code",
   "execution_count": 4,
   "metadata": {
    "collapsed": true
   },
   "outputs": [],
   "source": [
    "randomForest = ensemble.RandomForestRegressor(oob_score = True)"
   ]
  },
  {
   "cell_type": "code",
   "execution_count": 5,
   "metadata": {},
   "outputs": [
    {
     "name": "stdout",
     "output_type": "stream",
     "text": [
      "(1168,)\n",
      "(1168, 192)\n",
      "(292,)\n",
      "(292, 192)\n"
     ]
    }
   ],
   "source": [
    "y_train = np.log(privtrain_tree['SalePrice'])\n",
    "x_train = privtrain_tree.drop('SalePrice', axis=1)\n",
    "print(y_train.shape)\n",
    "print(x_train.shape)\n",
    "\n",
    "y_test = np.log(privtest_tree['SalePrice'])\n",
    "x_test = privtest_tree.drop('SalePrice', axis=1)\n",
    "print(y_test.shape)\n",
    "print(x_test.shape)"
   ]
  },
  {
   "cell_type": "code",
   "execution_count": 13,
   "metadata": {
    "scrolled": true
   },
   "outputs": [
    {
     "name": "stdout",
     "output_type": "stream",
     "text": [
      "Fitting 5 folds for each of 60 candidates, totalling 300 fits\n",
      "[CV] n_estimators=100, max_depth=5, max_features=30 ..................\n",
      "[CV] n_estimators=100, max_depth=5, max_features=30 ..................\n",
      "[CV] n_estimators=100, max_depth=5, max_features=30 ..................\n",
      "[CV] n_estimators=100, max_depth=5, max_features=30 ..................\n",
      "[CV] n_estimators=100, max_depth=5, max_features=30 ..................\n",
      "[CV] n_estimators=250, max_depth=5, max_features=30 ..................\n",
      "[CV] n_estimators=250, max_depth=5, max_features=30 ..................\n",
      "[CV] n_estimators=250, max_depth=5, max_features=30 ..................\n",
      "[CV]  n_estimators=100, max_depth=5, max_features=30, score=-0.01868918428563502, total=   0.4s\n",
      "[CV] n_estimators=250, max_depth=5, max_features=30 ..................\n",
      "[CV]  n_estimators=100, max_depth=5, max_features=30, score=-0.022214206830979768, total=   0.5s\n",
      "[CV] n_estimators=250, max_depth=5, max_features=30 ..................\n",
      "[CV]  n_estimators=100, max_depth=5, max_features=30, score=-0.03184104221661306, total=   0.5s\n",
      "[CV] n_estimators=500, max_depth=5, max_features=30 ..................\n",
      "[CV]  n_estimators=100, max_depth=5, max_features=30, score=-0.027490179036890956, total=   0.5s\n",
      "[CV] n_estimators=500, max_depth=5, max_features=30 ..................\n",
      "[CV]  n_estimators=100, max_depth=5, max_features=30, score=-0.02264447270345192, total=   0.5s\n",
      "[CV] n_estimators=500, max_depth=5, max_features=30 ..................\n"
     ]
    },
    {
     "name": "stderr",
     "output_type": "stream",
     "text": [
      "[Parallel(n_jobs=-1)]: Done   2 tasks      | elapsed:    0.6s\n"
     ]
    },
    {
     "name": "stdout",
     "output_type": "stream",
     "text": [
      "[CV]  n_estimators=250, max_depth=5, max_features=30, score=-0.018246267986539614, total=   0.8s\n",
      "[CV] n_estimators=500, max_depth=5, max_features=30 ..................\n",
      "[CV]  n_estimators=250, max_depth=5, max_features=30, score=-0.021391438276695145, total=   0.7s\n",
      "[CV]  n_estimators=250, max_depth=5, max_features=30, score=-0.031208213775557027, total=   0.8s\n",
      "[CV] n_estimators=500, max_depth=5, max_features=30 ..................\n",
      "[CV] n_estimators=100, max_depth=5, max_features=40 ..................\n",
      "[CV]  n_estimators=250, max_depth=5, max_features=30, score=-0.027082363952242478, total=   0.7s\n",
      "[CV] n_estimators=100, max_depth=5, max_features=40 ..................\n"
     ]
    },
    {
     "name": "stderr",
     "output_type": "stream",
     "text": [
      "[Parallel(n_jobs=-1)]: Done   9 tasks      | elapsed:    1.4s\n"
     ]
    },
    {
     "name": "stdout",
     "output_type": "stream",
     "text": [
      "[CV]  n_estimators=100, max_depth=5, max_features=40, score=-0.02987431010268297, total=   0.4s\n",
      "[CV]  n_estimators=250, max_depth=5, max_features=30, score=-0.02199716990382877, total=   0.8s\n",
      "[CV] n_estimators=100, max_depth=5, max_features=40 ..................\n",
      "[CV] n_estimators=100, max_depth=5, max_features=40 ..................\n",
      "[CV]  n_estimators=100, max_depth=5, max_features=40, score=-0.020314339590421865, total=   0.6s\n",
      "[CV] n_estimators=100, max_depth=5, max_features=40 ..................\n",
      "[CV]  n_estimators=500, max_depth=5, max_features=30, score=-0.01823313173714044, total=   1.3s\n",
      "[CV] n_estimators=250, max_depth=5, max_features=40 ..................\n",
      "[CV]  n_estimators=500, max_depth=5, max_features=30, score=-0.030782318395265178, total=   1.4s\n",
      "[CV] n_estimators=250, max_depth=5, max_features=40 ..................\n",
      "[CV]  n_estimators=500, max_depth=5, max_features=30, score=-0.02142300912178157, total=   1.6s\n",
      "[CV] n_estimators=250, max_depth=5, max_features=40 ..................\n",
      "[CV]  n_estimators=100, max_depth=5, max_features=40, score=-0.018182304025209085, total=   0.6s\n",
      "[CV] n_estimators=250, max_depth=5, max_features=40 ..................\n",
      "[CV]  n_estimators=500, max_depth=5, max_features=30, score=-0.027166607597844606, total=   1.4s\n",
      "[CV] n_estimators=250, max_depth=5, max_features=40 ..................\n",
      "[CV]  n_estimators=100, max_depth=5, max_features=40, score=-0.026450555041827018, total=   0.8s\n",
      "[CV] n_estimators=500, max_depth=5, max_features=40 ..................\n"
     ]
    },
    {
     "name": "stderr",
     "output_type": "stream",
     "text": [
      "[Parallel(n_jobs=-1)]: Done  16 tasks      | elapsed:    2.5s\n"
     ]
    },
    {
     "name": "stdout",
     "output_type": "stream",
     "text": [
      "[CV]  n_estimators=100, max_depth=5, max_features=40, score=-0.022302830199863795, total=   0.3s\n",
      "[CV] n_estimators=500, max_depth=5, max_features=40 ..................\n",
      "[CV]  n_estimators=500, max_depth=5, max_features=30, score=-0.022144884171908536, total=   1.5s\n",
      "[CV] n_estimators=500, max_depth=5, max_features=40 ..................\n",
      "[CV]  n_estimators=250, max_depth=5, max_features=40, score=-0.030484533914460748, total=   0.9s\n",
      "[CV] n_estimators=500, max_depth=5, max_features=40 ..................\n",
      "[CV]  n_estimators=250, max_depth=5, max_features=40, score=-0.019649251837845293, total=   0.9s\n",
      "[CV]  n_estimators=250, max_depth=5, max_features=40, score=-0.017816855290981717, total=   0.9s\n",
      "[CV] n_estimators=500, max_depth=5, max_features=40 ..................\n",
      "[CV] n_estimators=100, max_depth=5, max_features=50 ..................\n",
      "[CV]  n_estimators=250, max_depth=5, max_features=40, score=-0.02192273981103615, total=   0.9s\n",
      "[CV]  n_estimators=250, max_depth=5, max_features=40, score=-0.025948314553942503, total=   0.9s\n",
      "[CV] n_estimators=100, max_depth=5, max_features=50 ..................\n",
      "[CV] n_estimators=100, max_depth=5, max_features=50 ..................\n"
     ]
    },
    {
     "name": "stderr",
     "output_type": "stream",
     "text": [
      "[Parallel(n_jobs=-1)]: Done  25 tasks      | elapsed:    3.6s\n"
     ]
    },
    {
     "name": "stdout",
     "output_type": "stream",
     "text": [
      "[CV]  n_estimators=500, max_depth=5, max_features=40, score=-0.03018820213317681, total=   1.6s\n",
      "[CV] n_estimators=100, max_depth=5, max_features=50 ..................\n",
      "[CV]  n_estimators=100, max_depth=5, max_features=50, score=-0.018056123095380443, total=   0.6s\n",
      "[CV] n_estimators=100, max_depth=5, max_features=50 ..................\n",
      "[CV]  n_estimators=100, max_depth=5, max_features=50, score=-0.029771053708661982, total=   0.8s\n",
      "[CV]  n_estimators=100, max_depth=5, max_features=50, score=-0.0187223067267202, total=   0.7s\n",
      "[CV] n_estimators=250, max_depth=5, max_features=50 ..................\n",
      "[CV] n_estimators=250, max_depth=5, max_features=50 ..................\n",
      "[CV]  n_estimators=500, max_depth=5, max_features=40, score=-0.0199683208023956, total=   1.6s\n",
      "[CV] n_estimators=250, max_depth=5, max_features=50 ..................\n",
      "[CV]  n_estimators=500, max_depth=5, max_features=40, score=-0.01798559815513293, total=   1.6s\n",
      "[CV] n_estimators=250, max_depth=5, max_features=50 ..................\n",
      "[CV]  n_estimators=100, max_depth=5, max_features=50, score=-0.02469289002809882, total=   0.6s\n",
      "[CV] n_estimators=250, max_depth=5, max_features=50 ..................\n",
      "[CV]  n_estimators=100, max_depth=5, max_features=50, score=-0.02200220163181453, total=   0.6s\n",
      "[CV] n_estimators=500, max_depth=5, max_features=50 ..................\n",
      "[CV]  n_estimators=500, max_depth=5, max_features=40, score=-0.02580046642668683, total=   1.7s\n",
      "[CV]  n_estimators=500, max_depth=5, max_features=40, score=-0.02196747903228119, total=   1.7s\n",
      "[CV] n_estimators=500, max_depth=5, max_features=50 ..................\n",
      "[CV] n_estimators=500, max_depth=5, max_features=50 ..................\n"
     ]
    },
    {
     "name": "stderr",
     "output_type": "stream",
     "text": [
      "[Parallel(n_jobs=-1)]: Done  34 tasks      | elapsed:    5.3s\n"
     ]
    },
    {
     "name": "stdout",
     "output_type": "stream",
     "text": [
      "[CV]  n_estimators=250, max_depth=5, max_features=50, score=-0.01874635483117207, total=   1.1s\n",
      "[CV] n_estimators=500, max_depth=5, max_features=50 ..................\n",
      "[CV]  n_estimators=250, max_depth=5, max_features=50, score=-0.03030949075088794, total=   1.1s\n",
      "[CV] n_estimators=500, max_depth=5, max_features=50 ..................\n",
      "[CV]  n_estimators=250, max_depth=5, max_features=50, score=-0.01752590827697005, total=   1.0s\n",
      "[CV] n_estimators=100, max_depth=5, max_features=60 ..................\n",
      "[CV]  n_estimators=250, max_depth=5, max_features=50, score=-0.02486176434817575, total=   0.9s\n",
      "[CV] n_estimators=100, max_depth=5, max_features=60 ..................\n",
      "[CV]  n_estimators=250, max_depth=5, max_features=50, score=-0.02187300221525224, total=   1.0s\n",
      "[CV] n_estimators=100, max_depth=5, max_features=60 ..................\n",
      "[CV]  n_estimators=100, max_depth=5, max_features=60, score=-0.01891077663196104, total=   0.6s\n",
      "[CV] n_estimators=100, max_depth=5, max_features=60 ..................\n",
      "[CV]  n_estimators=100, max_depth=5, max_features=60, score=-0.029545339597976186, total=   0.7s\n",
      "[CV] n_estimators=100, max_depth=5, max_features=60 ..................\n",
      "[CV]  n_estimators=500, max_depth=5, max_features=50, score=-0.029961413799027458, total=   1.5s\n",
      "[CV] n_estimators=250, max_depth=5, max_features=60 ..................\n",
      "[CV]  n_estimators=100, max_depth=5, max_features=60, score=-0.01779236500170179, total=   0.7s\n",
      "[CV] n_estimators=250, max_depth=5, max_features=60 ..................\n",
      "[CV]  n_estimators=500, max_depth=5, max_features=50, score=-0.019159111685989712, total=   1.8s\n",
      "[CV] n_estimators=250, max_depth=5, max_features=60 ..................\n",
      "[CV]  n_estimators=500, max_depth=5, max_features=50, score=-0.017637644332724557, total=   1.8s\n",
      "[CV] n_estimators=250, max_depth=5, max_features=60 ..................\n",
      "[CV]  n_estimators=100, max_depth=5, max_features=60, score=-0.02480258030844866, total=   0.7s\n",
      "[CV] n_estimators=250, max_depth=5, max_features=60 ..................\n"
     ]
    },
    {
     "name": "stderr",
     "output_type": "stream",
     "text": [
      "[Parallel(n_jobs=-1)]: Done  45 tasks      | elapsed:    7.3s\n"
     ]
    },
    {
     "name": "stdout",
     "output_type": "stream",
     "text": [
      "[CV]  n_estimators=100, max_depth=5, max_features=60, score=-0.02177037568862678, total=   0.6s\n",
      "[CV] n_estimators=500, max_depth=5, max_features=60 ..................\n",
      "[CV]  n_estimators=500, max_depth=5, max_features=50, score=-0.021759350265429155, total=   1.9s\n",
      "[CV] n_estimators=500, max_depth=5, max_features=60 ..................\n",
      "[CV]  n_estimators=500, max_depth=5, max_features=50, score=-0.02490255890256217, total=   2.1s\n",
      "[CV] n_estimators=500, max_depth=5, max_features=60 ..................\n",
      "[CV]  n_estimators=250, max_depth=5, max_features=60, score=-0.03013115052899905, total=   1.1s\n",
      "[CV] n_estimators=500, max_depth=5, max_features=60 ..................\n",
      "[CV]  n_estimators=250, max_depth=5, max_features=60, score=-0.018623307112980464, total=   1.1s\n",
      "[CV] n_estimators=500, max_depth=5, max_features=60 ..................\n",
      "[CV]  n_estimators=250, max_depth=5, max_features=60, score=-0.02478368370187635, total=   1.0s\n",
      "[CV] n_estimators=100, max_depth=10, max_features=30 .................\n",
      "[CV]  n_estimators=250, max_depth=5, max_features=60, score=-0.01778197820997325, total=   1.1s\n",
      "[CV] n_estimators=100, max_depth=10, max_features=30 .................\n",
      "[CV]  n_estimators=250, max_depth=5, max_features=60, score=-0.02173799171190508, total=   1.1s\n",
      "[CV] n_estimators=100, max_depth=10, max_features=30 .................\n",
      "[CV]  n_estimators=100, max_depth=10, max_features=30, score=-0.024346640403306027, total=   0.8s\n",
      "[CV] n_estimators=100, max_depth=10, max_features=30 .................\n",
      "[CV]  n_estimators=100, max_depth=10, max_features=30, score=-0.015789206218365576, total=   0.9s\n",
      "[CV] n_estimators=100, max_depth=10, max_features=30 .................\n",
      "[CV]  n_estimators=100, max_depth=10, max_features=30, score=-0.014859195333679727, total=   0.8s\n",
      "[CV] n_estimators=250, max_depth=10, max_features=30 .................\n"
     ]
    },
    {
     "name": "stderr",
     "output_type": "stream",
     "text": [
      "[Parallel(n_jobs=-1)]: Done  56 tasks      | elapsed:    9.6s\n"
     ]
    },
    {
     "name": "stdout",
     "output_type": "stream",
     "text": [
      "[CV]  n_estimators=500, max_depth=5, max_features=60, score=-0.029972302627668188, total=   1.9s\n",
      "[CV] n_estimators=250, max_depth=10, max_features=30 .................\n",
      "[CV]  n_estimators=500, max_depth=5, max_features=60, score=-0.021588511098824946, total=   2.0s\n",
      "[CV]  n_estimators=500, max_depth=5, max_features=60, score=-0.018747383173323195, total=   2.2s\n",
      "[CV] n_estimators=250, max_depth=10, max_features=30 .................\n",
      "[CV] n_estimators=250, max_depth=10, max_features=30 .................\n",
      "[CV]  n_estimators=500, max_depth=5, max_features=60, score=-0.018043136169398566, total=   2.1s\n",
      "[CV] n_estimators=250, max_depth=10, max_features=30 .................\n",
      "[CV]  n_estimators=500, max_depth=5, max_features=60, score=-0.02441046536255094, total=   2.1s\n",
      "[CV] n_estimators=500, max_depth=10, max_features=30 .................\n",
      "[CV]  n_estimators=100, max_depth=10, max_features=30, score=-0.0209880484902117, total=   0.8s\n",
      "[CV] n_estimators=500, max_depth=10, max_features=30 .................\n",
      "[CV]  n_estimators=100, max_depth=10, max_features=30, score=-0.01860366935564756, total=   0.8s\n",
      "[CV] n_estimators=500, max_depth=10, max_features=30 .................\n",
      "[CV]  n_estimators=250, max_depth=10, max_features=30, score=-0.0239055871853539, total=   1.1s\n",
      "[CV] n_estimators=500, max_depth=10, max_features=30 .................\n",
      "[CV]  n_estimators=250, max_depth=10, max_features=30, score=-0.016025579576499294, total=   1.0s\n",
      "[CV] n_estimators=500, max_depth=10, max_features=30 .................\n",
      "[CV]  n_estimators=250, max_depth=10, max_features=30, score=-0.021151288969812353, total=   1.1s\n",
      "[CV] n_estimators=100, max_depth=10, max_features=40 .................\n",
      "[CV]  n_estimators=250, max_depth=10, max_features=30, score=-0.014466373143448003, total=   1.2s\n",
      "[CV] n_estimators=100, max_depth=10, max_features=40 .................\n",
      "[CV]  n_estimators=250, max_depth=10, max_features=30, score=-0.018299306810366907, total=   1.1s\n",
      "[CV] n_estimators=100, max_depth=10, max_features=40 .................\n"
     ]
    },
    {
     "name": "stderr",
     "output_type": "stream",
     "text": [
      "[Parallel(n_jobs=-1)]: Done  69 tasks      | elapsed:   11.8s\n"
     ]
    },
    {
     "name": "stdout",
     "output_type": "stream",
     "text": [
      "[CV]  n_estimators=100, max_depth=10, max_features=40, score=-0.023043264170712348, total=   1.1s\n",
      "[CV] n_estimators=100, max_depth=10, max_features=40 .................\n",
      "[CV]  n_estimators=100, max_depth=10, max_features=40, score=-0.015629474207032597, total=   1.1s\n",
      "[CV] n_estimators=100, max_depth=10, max_features=40 .................\n",
      "[CV]  n_estimators=500, max_depth=10, max_features=30, score=-0.023614052057324038, total=   2.5s\n",
      "[CV] n_estimators=250, max_depth=10, max_features=40 .................\n",
      "[CV]  n_estimators=100, max_depth=10, max_features=40, score=-0.015683958044539696, total=   1.2s\n",
      "[CV] n_estimators=250, max_depth=10, max_features=40 .................\n",
      "[CV]  n_estimators=500, max_depth=10, max_features=30, score=-0.01467838413623121, total=   2.5s\n",
      "[CV] n_estimators=250, max_depth=10, max_features=40 .................\n",
      "[CV]  n_estimators=500, max_depth=10, max_features=30, score=-0.016178763848502687, total=   2.6s\n",
      "[CV] n_estimators=250, max_depth=10, max_features=40 .................\n",
      "[CV]  n_estimators=500, max_depth=10, max_features=30, score=-0.020733498477231892, total=   2.5s\n",
      "[CV] n_estimators=250, max_depth=10, max_features=40 .................\n",
      "[CV]  n_estimators=500, max_depth=10, max_features=30, score=-0.018292752092912614, total=   2.3s\n",
      "[CV] n_estimators=500, max_depth=10, max_features=40 .................\n",
      "[CV]  n_estimators=100, max_depth=10, max_features=40, score=-0.0180799697134537, total=   0.7s\n",
      "[CV] n_estimators=500, max_depth=10, max_features=40 .................\n",
      "[CV]  n_estimators=100, max_depth=10, max_features=40, score=-0.020335836267992267, total=   0.8s\n",
      "[CV] n_estimators=500, max_depth=10, max_features=40 .................\n",
      "[CV]  n_estimators=250, max_depth=10, max_features=40, score=-0.02288203266073946, total=   1.1s\n",
      "[CV] n_estimators=500, max_depth=10, max_features=40 .................\n",
      "[CV]  n_estimators=250, max_depth=10, max_features=40, score=-0.015199907581958029, total=   1.3s\n",
      "[CV] n_estimators=500, max_depth=10, max_features=40 .................\n"
     ]
    },
    {
     "name": "stderr",
     "output_type": "stream",
     "text": [
      "[Parallel(n_jobs=-1)]: Done  82 tasks      | elapsed:   14.8s\n"
     ]
    },
    {
     "name": "stdout",
     "output_type": "stream",
     "text": [
      "[CV]  n_estimators=250, max_depth=10, max_features=40, score=-0.015002480703936293, total=   1.3s\n",
      "[CV] n_estimators=100, max_depth=10, max_features=50 .................\n",
      "[CV]  n_estimators=250, max_depth=10, max_features=40, score=-0.01986059638238524, total=   1.6s\n",
      "[CV]  n_estimators=250, max_depth=10, max_features=40, score=-0.018022469715337785, total=   1.5s\n",
      "[CV] n_estimators=100, max_depth=10, max_features=50 .................\n",
      "[CV] n_estimators=100, max_depth=10, max_features=50 .................\n",
      "[CV]  n_estimators=100, max_depth=10, max_features=50, score=-0.023812106818709572, total=   1.1s\n",
      "[CV] n_estimators=100, max_depth=10, max_features=50 .................\n",
      "[CV]  n_estimators=100, max_depth=10, max_features=50, score=-0.014461946225799585, total=   1.1s\n",
      "[CV] n_estimators=100, max_depth=10, max_features=50 .................\n",
      "[CV]  n_estimators=100, max_depth=10, max_features=50, score=-0.015627818356645288, total=   1.3s\n",
      "[CV] n_estimators=250, max_depth=10, max_features=50 .................\n",
      "[CV]  n_estimators=500, max_depth=10, max_features=40, score=-0.022853591663920588, total=   2.9s\n",
      "[CV]  n_estimators=500, max_depth=10, max_features=40, score=-0.015555217423374408, total=   2.7s\n",
      "[CV] n_estimators=250, max_depth=10, max_features=50 .................\n",
      "[CV] n_estimators=250, max_depth=10, max_features=50 .................\n",
      "[CV]  n_estimators=500, max_depth=10, max_features=40, score=-0.014802681166216655, total=   2.7s\n",
      "[CV] n_estimators=250, max_depth=10, max_features=50 .................\n",
      "[CV]  n_estimators=100, max_depth=10, max_features=50, score=-0.0196057149821154, total=   0.7s\n",
      "[CV] n_estimators=250, max_depth=10, max_features=50 .................\n",
      "[CV]  n_estimators=100, max_depth=10, max_features=50, score=-0.01816678717108483, total=   0.6s\n",
      "[CV] n_estimators=500, max_depth=10, max_features=50 .................\n",
      "[CV]  n_estimators=500, max_depth=10, max_features=40, score=-0.020293877308921144, total=   3.0s\n",
      "[CV] n_estimators=500, max_depth=10, max_features=50 .................\n",
      "[CV]  n_estimators=500, max_depth=10, max_features=40, score=-0.018352958908032506, total=   3.3s\n",
      "[CV] n_estimators=500, max_depth=10, max_features=50 .................\n",
      "[CV]  n_estimators=250, max_depth=10, max_features=50, score=-0.015055485145085682, total=   1.7s\n",
      "[CV] n_estimators=500, max_depth=10, max_features=50 .................\n",
      "[CV]  n_estimators=250, max_depth=10, max_features=50, score=-0.014548363515920181, total=   1.8s\n",
      "[CV] n_estimators=500, max_depth=10, max_features=50 .................\n",
      "[CV]  n_estimators=250, max_depth=10, max_features=50, score=-0.0236303718753369, total=   2.0s\n",
      "[CV] n_estimators=100, max_depth=10, max_features=60 .................\n",
      "[CV]  n_estimators=250, max_depth=10, max_features=50, score=-0.019415612399982515, total=   1.8s\n"
     ]
    },
    {
     "name": "stderr",
     "output_type": "stream",
     "text": [
      "[Parallel(n_jobs=-1)]: Done  97 tasks      | elapsed:   18.9s\n"
     ]
    },
    {
     "name": "stdout",
     "output_type": "stream",
     "text": [
      "[CV] n_estimators=100, max_depth=10, max_features=60 .................\n",
      "[CV]  n_estimators=250, max_depth=10, max_features=50, score=-0.01849907409002097, total=   1.8s\n",
      "[CV] n_estimators=100, max_depth=10, max_features=60 .................\n",
      "[CV]  n_estimators=100, max_depth=10, max_features=60, score=-0.022422864564222836, total=   1.0s\n",
      "[CV] n_estimators=100, max_depth=10, max_features=60 .................\n",
      "[CV]  n_estimators=100, max_depth=10, max_features=60, score=-0.015459671018177567, total=   1.1s\n",
      "[CV] n_estimators=100, max_depth=10, max_features=60 .................\n",
      "[CV]  n_estimators=100, max_depth=10, max_features=60, score=-0.015365702272833175, total=   1.4s\n",
      "[CV] n_estimators=250, max_depth=10, max_features=60 .................\n",
      "[CV]  n_estimators=500, max_depth=10, max_features=50, score=-0.023135434336102025, total=   3.5s\n",
      "[CV] n_estimators=250, max_depth=10, max_features=60 .................\n",
      "[CV]  n_estimators=100, max_depth=10, max_features=60, score=-0.01944701517836308, total=   1.2s\n",
      "[CV] n_estimators=250, max_depth=10, max_features=60 .................\n",
      "[CV]  n_estimators=500, max_depth=10, max_features=50, score=-0.015180148769041607, total=   3.6s\n",
      "[CV] n_estimators=250, max_depth=10, max_features=60 .................\n",
      "[CV]  n_estimators=100, max_depth=10, max_features=60, score=-0.01845564598298109, total=   0.9s\n",
      "[CV] n_estimators=250, max_depth=10, max_features=60 .................\n",
      "[CV]  n_estimators=500, max_depth=10, max_features=50, score=-0.014657119451684538, total=   3.3s\n",
      "[CV] n_estimators=500, max_depth=10, max_features=60 .................\n",
      "[CV]  n_estimators=500, max_depth=10, max_features=50, score=-0.019572446926618244, total=   3.8s\n",
      "[CV] n_estimators=500, max_depth=10, max_features=60 .................\n",
      "[CV]  n_estimators=500, max_depth=10, max_features=50, score=-0.018306505015038672, total=   3.8s\n",
      "[CV] n_estimators=500, max_depth=10, max_features=60 .................\n",
      "[CV]  n_estimators=250, max_depth=10, max_features=60, score=-0.0230977327615561, total=   2.1s\n",
      "[CV] n_estimators=500, max_depth=10, max_features=60 .................\n",
      "[CV]  n_estimators=250, max_depth=10, max_features=60, score=-0.015153244505317543, total=   1.8s\n",
      "[CV] n_estimators=500, max_depth=10, max_features=60 .................\n"
     ]
    },
    {
     "name": "stderr",
     "output_type": "stream",
     "text": [
      "[Parallel(n_jobs=-1)]: Done 112 tasks      | elapsed:   23.5s\n"
     ]
    },
    {
     "name": "stdout",
     "output_type": "stream",
     "text": [
      "[CV]  n_estimators=250, max_depth=10, max_features=60, score=-0.015344709852159586, total=   2.0s\n",
      "[CV] n_estimators=100, max_depth=15, max_features=30 .................\n",
      "[CV]  n_estimators=250, max_depth=10, max_features=60, score=-0.019036361507663527, total=   2.1s\n",
      "[CV] n_estimators=100, max_depth=15, max_features=30 .................\n",
      "[CV]  n_estimators=250, max_depth=10, max_features=60, score=-0.018459614192321224, total=   2.0s\n",
      "[CV] n_estimators=100, max_depth=15, max_features=30 .................\n",
      "[CV]  n_estimators=100, max_depth=15, max_features=30, score=-0.01583305247379809, total=   1.0s\n",
      "[CV]  n_estimators=100, max_depth=15, max_features=30, score=-0.023123576758165024, total=   1.2s\n",
      "[CV] n_estimators=100, max_depth=15, max_features=30 .................\n",
      "[CV] n_estimators=100, max_depth=15, max_features=30 .................\n",
      "[CV]  n_estimators=100, max_depth=15, max_features=30, score=-0.01487954597610153, total=   1.1s\n",
      "[CV] n_estimators=250, max_depth=15, max_features=30 .................\n",
      "[CV]  n_estimators=500, max_depth=10, max_features=60, score=-0.023403437452546683, total=   3.1s\n",
      "[CV] n_estimators=250, max_depth=15, max_features=30 .................\n",
      "[CV]  n_estimators=100, max_depth=15, max_features=30, score=-0.01852602502461545, total=   1.0s\n",
      "[CV] n_estimators=250, max_depth=15, max_features=30 .................\n",
      "[CV]  n_estimators=100, max_depth=15, max_features=30, score=-0.020520668809238238, total=   1.0s\n",
      "[CV] n_estimators=250, max_depth=15, max_features=30 .................\n",
      "[CV]  n_estimators=500, max_depth=10, max_features=60, score=-0.014945136798524656, total=   3.7s\n",
      "[CV] n_estimators=250, max_depth=15, max_features=30 .................\n",
      "[CV]  n_estimators=500, max_depth=10, max_features=60, score=-0.01513745538077129, total=   3.9s\n",
      "[CV] n_estimators=500, max_depth=15, max_features=30 .................\n",
      "[CV]  n_estimators=500, max_depth=10, max_features=60, score=-0.019032969413258712, total=   3.7s\n",
      "[CV] n_estimators=500, max_depth=15, max_features=30 .................\n",
      "[CV]  n_estimators=250, max_depth=15, max_features=30, score=-0.0157200352628612, total=   1.8s\n",
      "[CV] n_estimators=500, max_depth=15, max_features=30 .................\n",
      "[CV]  n_estimators=250, max_depth=15, max_features=30, score=-0.022913874540909755, total=   2.0s\n",
      "[CV] n_estimators=500, max_depth=15, max_features=30 .................\n",
      "[CV]  n_estimators=500, max_depth=10, max_features=60, score=-0.01850012782134785, total=   4.0s\n",
      "[CV] n_estimators=500, max_depth=15, max_features=30 .................\n",
      "[CV]  n_estimators=250, max_depth=15, max_features=30, score=-0.014678198681797889, total=   1.3s\n",
      "[CV] n_estimators=100, max_depth=15, max_features=40 .................\n",
      "[CV]  n_estimators=250, max_depth=15, max_features=30, score=-0.020208195303243606, total=   1.3s\n",
      "[CV] n_estimators=100, max_depth=15, max_features=40 .................\n"
     ]
    },
    {
     "name": "stderr",
     "output_type": "stream",
     "text": [
      "[Parallel(n_jobs=-1)]: Done 129 tasks      | elapsed:   28.0s\n"
     ]
    },
    {
     "name": "stdout",
     "output_type": "stream",
     "text": [
      "[CV]  n_estimators=250, max_depth=15, max_features=30, score=-0.01803940900157615, total=   1.4s\n",
      "[CV] n_estimators=100, max_depth=15, max_features=40 .................\n",
      "[CV]  n_estimators=100, max_depth=15, max_features=40, score=-0.02366613479864311, total=   0.9s\n",
      "[CV] n_estimators=100, max_depth=15, max_features=40 .................\n",
      "[CV]  n_estimators=100, max_depth=15, max_features=40, score=-0.015318565576094043, total=   1.2s\n",
      "[CV] n_estimators=100, max_depth=15, max_features=40 .................\n",
      "[CV]  n_estimators=100, max_depth=15, max_features=40, score=-0.015202596874114281, total=   1.1s\n",
      "[CV] n_estimators=250, max_depth=15, max_features=40 .................\n",
      "[CV]  n_estimators=500, max_depth=15, max_features=30, score=-0.022916095210949068, total=   2.8s\n",
      "[CV] n_estimators=250, max_depth=15, max_features=40 .................\n",
      "[CV]  n_estimators=500, max_depth=15, max_features=30, score=-0.015802741631702002, total=   2.9s\n",
      "[CV] n_estimators=250, max_depth=15, max_features=40 .................\n",
      "[CV]  n_estimators=100, max_depth=15, max_features=40, score=-0.020289229998826912, total=   1.2s\n",
      "[CV] n_estimators=250, max_depth=15, max_features=40 .................\n",
      "[CV]  n_estimators=100, max_depth=15, max_features=40, score=-0.01811848160487333, total=   0.8s\n",
      "[CV] n_estimators=250, max_depth=15, max_features=40 .................\n",
      "[CV]  n_estimators=500, max_depth=15, max_features=30, score=-0.01988830655845562, total=   2.9s\n",
      "[CV] n_estimators=500, max_depth=15, max_features=40 .................\n",
      "[CV]  n_estimators=500, max_depth=15, max_features=30, score=-0.014428953077208373, total=   3.2s\n",
      "[CV] n_estimators=500, max_depth=15, max_features=40 .................\n",
      "[CV]  n_estimators=500, max_depth=15, max_features=30, score=-0.01794062075860931, total=   2.9s\n",
      "[CV] n_estimators=500, max_depth=15, max_features=40 .................\n",
      "[CV]  n_estimators=250, max_depth=15, max_features=40, score=-0.022926908729581624, total=   1.5s\n",
      "[CV] n_estimators=500, max_depth=15, max_features=40 .................\n",
      "[CV]  n_estimators=250, max_depth=15, max_features=40, score=-0.020238100828195417, total=   1.6s\n",
      "[CV] n_estimators=500, max_depth=15, max_features=40 .................\n",
      "[CV]  n_estimators=250, max_depth=15, max_features=40, score=-0.014951135346317687, total=   1.8s\n",
      "[CV] n_estimators=100, max_depth=15, max_features=50 .................\n",
      "[CV]  n_estimators=250, max_depth=15, max_features=40, score=-0.014470073234203558, total=   1.8s\n",
      "[CV] n_estimators=100, max_depth=15, max_features=50 .................\n",
      "[CV]  n_estimators=250, max_depth=15, max_features=40, score=-0.01786082640611068, total=   1.6s\n",
      "[CV] n_estimators=100, max_depth=15, max_features=50 .................\n",
      "[CV]  n_estimators=100, max_depth=15, max_features=50, score=-0.022568286934761497, total=   1.3s\n",
      "[CV] n_estimators=100, max_depth=15, max_features=50 .................\n",
      "[CV]  n_estimators=100, max_depth=15, max_features=50, score=-0.015123351257027075, total=   1.3s\n",
      "[CV] n_estimators=100, max_depth=15, max_features=50 .................\n"
     ]
    },
    {
     "name": "stderr",
     "output_type": "stream",
     "text": [
      "[Parallel(n_jobs=-1)]: Done 146 tasks      | elapsed:   33.7s\n"
     ]
    },
    {
     "name": "stdout",
     "output_type": "stream",
     "text": [
      "[CV]  n_estimators=100, max_depth=15, max_features=50, score=-0.014136028016589754, total=   1.4s\n",
      "[CV] n_estimators=250, max_depth=15, max_features=50 .................\n",
      "[CV]  n_estimators=500, max_depth=15, max_features=40, score=-0.014488465273835472, total=   3.2s\n",
      "[CV] n_estimators=250, max_depth=15, max_features=50 .................\n",
      "[CV]  n_estimators=500, max_depth=15, max_features=40, score=-0.022657589053337094, total=   3.7s\n",
      "[CV] n_estimators=250, max_depth=15, max_features=50 .................\n",
      "[CV]  n_estimators=500, max_depth=15, max_features=40, score=-0.015200998398838069, total=   3.7s\n",
      "[CV]  n_estimators=100, max_depth=15, max_features=50, score=-0.019023787382946345, total=   1.2s\n",
      "[CV] n_estimators=250, max_depth=15, max_features=50 .................\n",
      "[CV] n_estimators=250, max_depth=15, max_features=50 .................\n",
      "[CV]  n_estimators=100, max_depth=15, max_features=50, score=-0.017884127669043074, total=   1.0s\n",
      "[CV] n_estimators=500, max_depth=15, max_features=50 .................\n",
      "[CV]  n_estimators=500, max_depth=15, max_features=40, score=-0.019909339922490107, total=   3.6s\n",
      "[CV] n_estimators=500, max_depth=15, max_features=50 .................\n",
      "[CV]  n_estimators=500, max_depth=15, max_features=40, score=-0.017933382198793712, total=   3.5s\n",
      "[CV]  n_estimators=250, max_depth=15, max_features=50, score=-0.022499264793240843, total=   1.7s\n",
      "[CV] n_estimators=500, max_depth=15, max_features=50 .................\n",
      "[CV] n_estimators=500, max_depth=15, max_features=50 .................\n",
      "[CV]  n_estimators=250, max_depth=15, max_features=50, score=-0.017763941671489113, total=   1.7s\n",
      "[CV] n_estimators=500, max_depth=15, max_features=50 .................\n",
      "[CV]  n_estimators=250, max_depth=15, max_features=50, score=-0.014917661292063735, total=   2.1s\n",
      "[CV]  n_estimators=250, max_depth=15, max_features=50, score=-0.014388072641902633, total=   2.0s\n",
      "[CV] n_estimators=100, max_depth=15, max_features=60 .................\n",
      "[CV] n_estimators=100, max_depth=15, max_features=60 .................\n",
      "[CV]  n_estimators=250, max_depth=15, max_features=50, score=-0.018889905726466844, total=   1.9s\n",
      "[CV] n_estimators=100, max_depth=15, max_features=60 .................\n",
      "[CV]  n_estimators=100, max_depth=15, max_features=60, score=-0.01498792600000004, total=   1.3s\n",
      "[CV] n_estimators=100, max_depth=15, max_features=60 .................\n",
      "[CV]  n_estimators=100, max_depth=15, max_features=60, score=-0.023173446073804418, total=   1.6s\n",
      "[CV] n_estimators=100, max_depth=15, max_features=60 .................\n",
      "[CV]  n_estimators=100, max_depth=15, max_features=60, score=-0.015010216299255799, total=   1.7s\n",
      "[CV] n_estimators=250, max_depth=15, max_features=60 .................\n",
      "[CV]  n_estimators=500, max_depth=15, max_features=50, score=-0.02261175140435559, total=   3.9s\n",
      "[CV] n_estimators=250, max_depth=15, max_features=60 .................\n",
      "[CV]  n_estimators=500, max_depth=15, max_features=50, score=-0.01518752531274826, total=   4.2s\n",
      "[CV] n_estimators=250, max_depth=15, max_features=60 .................\n",
      "[CV]  n_estimators=100, max_depth=15, max_features=60, score=-0.019248605718419975, total=   1.3s\n",
      "[CV] n_estimators=250, max_depth=15, max_features=60 .................\n",
      "[CV]  n_estimators=100, max_depth=15, max_features=60, score=-0.018682634236101885, total=   1.2s\n"
     ]
    },
    {
     "name": "stderr",
     "output_type": "stream",
     "text": [
      "[Parallel(n_jobs=-1)]: Done 165 tasks      | elapsed:   40.1s\n"
     ]
    },
    {
     "name": "stdout",
     "output_type": "stream",
     "text": [
      "[CV] n_estimators=250, max_depth=15, max_features=60 .................\n",
      "[CV]  n_estimators=500, max_depth=15, max_features=50, score=-0.01441558905397915, total=   4.0s\n",
      "[CV] n_estimators=500, max_depth=15, max_features=60 .................\n",
      "[CV]  n_estimators=500, max_depth=15, max_features=50, score=-0.01910712099608059, total=   4.1s\n",
      "[CV] n_estimators=500, max_depth=15, max_features=60 .................\n",
      "[CV]  n_estimators=250, max_depth=15, max_features=60, score=-0.022955068870843972, total=   2.2s\n",
      "[CV] n_estimators=500, max_depth=15, max_features=60 .................\n",
      "[CV]  n_estimators=250, max_depth=15, max_features=60, score=-0.015152441504675372, total=   2.2s\n",
      "[CV] n_estimators=500, max_depth=15, max_features=60 .................\n",
      "[CV]  n_estimators=500, max_depth=15, max_features=50, score=-0.017927866934080414, total=   5.1s\n",
      "[CV] n_estimators=500, max_depth=15, max_features=60 .................\n",
      "[CV]  n_estimators=250, max_depth=15, max_features=60, score=-0.018994603614554625, total=   2.2s\n",
      "[CV] n_estimators=100, max_depth=20, max_features=30 .................\n",
      "[CV]  n_estimators=250, max_depth=15, max_features=60, score=-0.01502328121065492, total=   2.5s\n",
      "[CV] n_estimators=100, max_depth=20, max_features=30 .................\n",
      "[CV]  n_estimators=250, max_depth=15, max_features=60, score=-0.018537185996457595, total=   2.6s\n",
      "[CV] n_estimators=100, max_depth=20, max_features=30 .................\n",
      "[CV]  n_estimators=100, max_depth=20, max_features=30, score=-0.02358193397678567, total=   1.0s\n",
      "[CV] n_estimators=100, max_depth=20, max_features=30 .................\n",
      "[CV]  n_estimators=100, max_depth=20, max_features=30, score=-0.01558992676035201, total=   1.3s\n",
      "[CV] n_estimators=100, max_depth=20, max_features=30 .................\n",
      "[CV]  n_estimators=100, max_depth=20, max_features=30, score=-0.014501883603233115, total=   1.3s\n",
      "[CV] n_estimators=250, max_depth=20, max_features=30 .................\n",
      "[CV]  n_estimators=500, max_depth=15, max_features=60, score=-0.015049964539676889, total=   4.2s\n",
      "[CV] n_estimators=250, max_depth=20, max_features=30 .................\n",
      "[CV]  n_estimators=500, max_depth=15, max_features=60, score=-0.022995841028030373, total=   4.6s\n",
      "[CV] n_estimators=250, max_depth=20, max_features=30 .................\n",
      "[CV]  n_estimators=100, max_depth=20, max_features=30, score=-0.02102584292815759, total=   1.0s\n",
      "[CV] n_estimators=250, max_depth=20, max_features=30 .................\n",
      "[CV]  n_estimators=100, max_depth=20, max_features=30, score=-0.018259487859239233, total=   0.9s\n",
      "[CV] n_estimators=250, max_depth=20, max_features=30 .................\n",
      "[CV]  n_estimators=500, max_depth=15, max_features=60, score=-0.01495946624299303, total=   4.6s\n",
      "[CV] n_estimators=500, max_depth=20, max_features=30 .................\n",
      "[CV]  n_estimators=500, max_depth=15, max_features=60, score=-0.01891076900449602, total=   4.4s\n",
      "[CV] n_estimators=500, max_depth=20, max_features=30 .................\n"
     ]
    },
    {
     "name": "stderr",
     "output_type": "stream",
     "text": [
      "[Parallel(n_jobs=-1)]: Done 184 tasks      | elapsed:   46.8s\n"
     ]
    },
    {
     "name": "stdout",
     "output_type": "stream",
     "text": [
      "[CV]  n_estimators=250, max_depth=20, max_features=30, score=-0.023239990567699806, total=   2.0s\n",
      "[CV] n_estimators=500, max_depth=20, max_features=30 .................\n",
      "[CV]  n_estimators=250, max_depth=20, max_features=30, score=-0.015958874745534434, total=   1.8s\n",
      "[CV] n_estimators=500, max_depth=20, max_features=30 .................\n",
      "[CV]  n_estimators=250, max_depth=20, max_features=30, score=-0.014256914374978188, total=   1.8s\n",
      "[CV] n_estimators=500, max_depth=20, max_features=30 .................\n",
      "[CV]  n_estimators=250, max_depth=20, max_features=30, score=-0.020396595254842723, total=   1.8s\n",
      "[CV]  n_estimators=500, max_depth=15, max_features=60, score=-0.018303698821218316, total=   4.6s\n",
      "[CV] n_estimators=100, max_depth=20, max_features=40 .................\n",
      "[CV] n_estimators=100, max_depth=20, max_features=40 .................\n",
      "[CV]  n_estimators=250, max_depth=20, max_features=30, score=-0.017961045702213036, total=   1.5s\n",
      "[CV] n_estimators=100, max_depth=20, max_features=40 .................\n",
      "[CV]  n_estimators=100, max_depth=20, max_features=40, score=-0.015780832622886022, total=   1.0s\n",
      "[CV] n_estimators=100, max_depth=20, max_features=40 .................\n",
      "[CV]  n_estimators=100, max_depth=20, max_features=40, score=-0.015019250699599654, total=   1.0s\n",
      "[CV] n_estimators=100, max_depth=20, max_features=40 .................\n",
      "[CV]  n_estimators=100, max_depth=20, max_features=40, score=-0.022793096181349396, total=   1.2s\n",
      "[CV] n_estimators=250, max_depth=20, max_features=40 .................\n",
      "[CV]  n_estimators=500, max_depth=20, max_features=30, score=-0.023000709859617167, total=   3.0s\n",
      "[CV] n_estimators=250, max_depth=20, max_features=40 .................\n",
      "[CV]  n_estimators=100, max_depth=20, max_features=40, score=-0.02039881192895689, total=   1.1s\n",
      "[CV] n_estimators=250, max_depth=20, max_features=40 .................\n",
      "[CV]  n_estimators=100, max_depth=20, max_features=40, score=-0.018436902810772315, total=   1.2s\n",
      "[CV] n_estimators=250, max_depth=20, max_features=40 .................\n",
      "[CV]  n_estimators=500, max_depth=20, max_features=30, score=-0.016034838765403674, total=   3.3s\n",
      "[CV] n_estimators=250, max_depth=20, max_features=40 .................\n",
      "[CV]  n_estimators=500, max_depth=20, max_features=30, score=-0.014036926626627632, total=   3.2s\n",
      "[CV] n_estimators=500, max_depth=20, max_features=40 .................\n",
      "[CV]  n_estimators=500, max_depth=20, max_features=30, score=-0.019994642066666422, total=   3.1s\n",
      "[CV] n_estimators=500, max_depth=20, max_features=40 .................\n",
      "[CV]  n_estimators=500, max_depth=20, max_features=30, score=-0.017961317312645542, total=   3.2s\n",
      "[CV] n_estimators=500, max_depth=20, max_features=40 .................\n",
      "[CV]  n_estimators=250, max_depth=20, max_features=40, score=-0.02253540669349658, total=   1.9s\n",
      "[CV] n_estimators=500, max_depth=20, max_features=40 .................\n",
      "[CV]  n_estimators=250, max_depth=20, max_features=40, score=-0.014737055786598195, total=   1.5s\n",
      "[CV] n_estimators=500, max_depth=20, max_features=40 .................\n",
      "[CV]  n_estimators=250, max_depth=20, max_features=40, score=-0.015110859686922396, total=   1.5s\n",
      "[CV] n_estimators=100, max_depth=20, max_features=50 .................\n",
      "[CV]  n_estimators=250, max_depth=20, max_features=40, score=-0.01789277518091103, total=   1.8s\n",
      "[CV] n_estimators=100, max_depth=20, max_features=50 .................\n",
      "[CV]  n_estimators=250, max_depth=20, max_features=40, score=-0.020042567469677725, total=   2.1s\n",
      "[CV] n_estimators=100, max_depth=20, max_features=50 .................\n"
     ]
    },
    {
     "name": "stderr",
     "output_type": "stream",
     "text": [
      "[Parallel(n_jobs=-1)]: Done 205 tasks      | elapsed:   52.5s\n"
     ]
    },
    {
     "name": "stdout",
     "output_type": "stream",
     "text": [
      "[CV]  n_estimators=100, max_depth=20, max_features=50, score=-0.02281934282197715, total=   1.4s\n",
      "[CV] n_estimators=100, max_depth=20, max_features=50 .................\n",
      "[CV]  n_estimators=100, max_depth=20, max_features=50, score=-0.01511408982257566, total=   1.3s\n",
      "[CV] n_estimators=100, max_depth=20, max_features=50 .................\n",
      "[CV]  n_estimators=100, max_depth=20, max_features=50, score=-0.014832627599065515, total=   1.3s\n",
      "[CV] n_estimators=250, max_depth=20, max_features=50 .................\n",
      "[CV]  n_estimators=500, max_depth=20, max_features=40, score=-0.014420344735676612, total=   3.8s\n",
      "[CV] n_estimators=250, max_depth=20, max_features=50 .................\n",
      "[CV]  n_estimators=500, max_depth=20, max_features=40, score=-0.022509074646536897, total=   4.0s\n",
      "[CV] n_estimators=250, max_depth=20, max_features=50 .................\n",
      "[CV]  n_estimators=100, max_depth=20, max_features=50, score=-0.01945347652811508, total=   1.1s\n",
      "[CV] n_estimators=250, max_depth=20, max_features=50 .................\n",
      "[CV]  n_estimators=500, max_depth=20, max_features=40, score=-0.01562631274738035, total=   4.1s\n",
      "[CV] n_estimators=250, max_depth=20, max_features=50 .................\n",
      "[CV]  n_estimators=500, max_depth=20, max_features=40, score=-0.019850553903231344, total=   3.7s\n",
      "[CV] n_estimators=500, max_depth=20, max_features=50 .................\n",
      "[CV]  n_estimators=100, max_depth=20, max_features=50, score=-0.018287992342693685, total=   1.0s\n",
      "[CV] n_estimators=500, max_depth=20, max_features=50 .................\n",
      "[CV]  n_estimators=500, max_depth=20, max_features=40, score=-0.017879923395237727, total=   3.8s\n",
      "[CV] n_estimators=500, max_depth=20, max_features=50 .................\n",
      "[CV]  n_estimators=250, max_depth=20, max_features=50, score=-0.022870643773095847, total=   2.0s\n",
      "[CV] n_estimators=500, max_depth=20, max_features=50 .................\n",
      "[CV]  n_estimators=250, max_depth=20, max_features=50, score=-0.014852033255539342, total=   1.8s\n",
      "[CV] n_estimators=500, max_depth=20, max_features=50 .................\n",
      "[CV]  n_estimators=250, max_depth=20, max_features=50, score=-0.019361734435997712, total=   1.9s\n",
      "[CV] n_estimators=100, max_depth=20, max_features=60 .................\n",
      "[CV]  n_estimators=250, max_depth=20, max_features=50, score=-0.017790722438880604, total=   1.8s\n",
      "[CV] n_estimators=100, max_depth=20, max_features=60 .................\n",
      "[CV]  n_estimators=250, max_depth=20, max_features=50, score=-0.014488623626512593, total=   1.9s\n",
      "[CV] n_estimators=100, max_depth=20, max_features=60 .................\n",
      "[CV]  n_estimators=100, max_depth=20, max_features=60, score=-0.022500574174695358, total=   1.3s\n",
      "[CV] n_estimators=100, max_depth=20, max_features=60 .................\n",
      "[CV]  n_estimators=100, max_depth=20, max_features=60, score=-0.01497695816041739, total=   1.4s\n",
      "[CV] n_estimators=100, max_depth=20, max_features=60 .................\n",
      "[CV]  n_estimators=100, max_depth=20, max_features=60, score=-0.014950491400408513, total=   1.5s\n",
      "[CV] n_estimators=250, max_depth=20, max_features=60 .................\n",
      "[CV]  n_estimators=100, max_depth=20, max_features=60, score=-0.019479547919973316, total=   1.4s\n",
      "[CV] n_estimators=250, max_depth=20, max_features=60 .................\n",
      "[CV]  n_estimators=500, max_depth=20, max_features=50, score=-0.022703267706332818, total=   4.8s\n",
      "[CV]  n_estimators=100, max_depth=20, max_features=60, score=-0.018407994432112305, total=   1.2s\n",
      "[CV] n_estimators=250, max_depth=20, max_features=60 .................\n",
      "[CV] n_estimators=250, max_depth=20, max_features=60 .................\n",
      "[CV]  n_estimators=500, max_depth=20, max_features=50, score=-0.01453305954567909, total=   4.2s\n",
      "[CV] n_estimators=250, max_depth=20, max_features=60 .................\n"
     ]
    },
    {
     "name": "stderr",
     "output_type": "stream",
     "text": [
      "[Parallel(n_jobs=-1)]: Done 226 tasks      | elapsed:  1.0min\n"
     ]
    },
    {
     "name": "stdout",
     "output_type": "stream",
     "text": [
      "[CV]  n_estimators=500, max_depth=20, max_features=50, score=-0.015052887567727833, total=   4.8s\n",
      "[CV] n_estimators=500, max_depth=20, max_features=60 .................\n",
      "[CV]  n_estimators=500, max_depth=20, max_features=50, score=-0.01775344555887272, total=   4.3s\n",
      "[CV]  n_estimators=500, max_depth=20, max_features=50, score=-0.01939970453157779, total=   4.6s\n",
      "[CV] n_estimators=500, max_depth=20, max_features=60 .................\n",
      "[CV] n_estimators=500, max_depth=20, max_features=60 .................\n",
      "[CV]  n_estimators=250, max_depth=20, max_features=60, score=-0.023001105554913123, total=   2.5s\n",
      "[CV] n_estimators=500, max_depth=20, max_features=60 .................\n",
      "[CV]  n_estimators=250, max_depth=20, max_features=60, score=-0.018279242398273592, total=   2.1s\n",
      "[CV]  n_estimators=250, max_depth=20, max_features=60, score=-0.014727624513652207, total=   2.4s\n",
      "[CV] n_estimators=500, max_depth=20, max_features=60 .................\n",
      "[CV] n_estimators=100, max_depth=25, max_features=30 .................\n",
      "[CV]  n_estimators=250, max_depth=20, max_features=60, score=-0.01899948919626795, total=   2.3s\n",
      "[CV] n_estimators=100, max_depth=25, max_features=30 .................\n",
      "[CV]  n_estimators=250, max_depth=20, max_features=60, score=-0.015243932876871256, total=   2.5s\n",
      "[CV] n_estimators=100, max_depth=25, max_features=30 .................\n",
      "[CV]  n_estimators=100, max_depth=25, max_features=30, score=-0.023180982075296088, total=   1.0s\n",
      "[CV] n_estimators=100, max_depth=25, max_features=30 .................\n",
      "[CV]  n_estimators=100, max_depth=25, max_features=30, score=-0.01548140280103388, total=   1.2s\n",
      "[CV] n_estimators=100, max_depth=25, max_features=30 .................\n",
      "[CV]  n_estimators=100, max_depth=25, max_features=30, score=-0.01476866692327413, total=   1.4s\n",
      "[CV] n_estimators=250, max_depth=25, max_features=30 .................\n",
      "[CV]  n_estimators=100, max_depth=25, max_features=30, score=-0.017898640982084095, total=   1.0s\n",
      "[CV] n_estimators=250, max_depth=25, max_features=30 .................\n",
      "[CV]  n_estimators=100, max_depth=25, max_features=30, score=-0.020885634943106555, total=   1.4s\n",
      "[CV] n_estimators=250, max_depth=25, max_features=30 .................\n",
      "[CV]  n_estimators=500, max_depth=20, max_features=60, score=-0.022744278117091357, total=   4.7s\n",
      "[CV] n_estimators=250, max_depth=25, max_features=30 .................\n",
      "[CV]  n_estimators=500, max_depth=20, max_features=60, score=-0.01505425250477875, total=   4.5s\n",
      "[CV] n_estimators=250, max_depth=25, max_features=30 .................\n",
      "[CV]  n_estimators=500, max_depth=20, max_features=60, score=-0.014879416974434914, total=   4.8s\n",
      "[CV] n_estimators=500, max_depth=25, max_features=30 .................\n",
      "[CV]  n_estimators=500, max_depth=20, max_features=60, score=-0.01872440015119728, total=   4.5s\n",
      "[CV] n_estimators=500, max_depth=25, max_features=30 .................\n",
      "[CV]  n_estimators=250, max_depth=25, max_features=30, score=-0.02302470123393255, total=   2.2s\n",
      "[CV] n_estimators=500, max_depth=25, max_features=30 .................\n",
      "[CV]  n_estimators=250, max_depth=25, max_features=30, score=-0.02046803283832575, total=   1.5s\n",
      "[CV]  n_estimators=250, max_depth=25, max_features=30, score=-0.015764231012555443, total=   1.8s\n",
      "[CV] n_estimators=500, max_depth=25, max_features=30 .................\n",
      "[CV] n_estimators=500, max_depth=25, max_features=30 .................\n",
      "[CV]  n_estimators=250, max_depth=25, max_features=30, score=-0.01434921165086272, total=   1.7s\n",
      "[CV] n_estimators=100, max_depth=25, max_features=40 .................\n",
      "[CV]  n_estimators=500, max_depth=20, max_features=60, score=-0.018119186960598166, total=   4.9s\n",
      "[CV] n_estimators=100, max_depth=25, max_features=40 .................\n"
     ]
    },
    {
     "name": "stderr",
     "output_type": "stream",
     "text": [
      "[Parallel(n_jobs=-1)]: Done 249 tasks      | elapsed:  1.1min\n"
     ]
    },
    {
     "name": "stdout",
     "output_type": "stream",
     "text": [
      "[CV]  n_estimators=250, max_depth=25, max_features=30, score=-0.017867801529990842, total=   1.4s\n",
      "[CV] n_estimators=100, max_depth=25, max_features=40 .................\n",
      "[CV]  n_estimators=100, max_depth=25, max_features=40, score=-0.023191418436490082, total=   1.0s\n",
      "[CV] n_estimators=100, max_depth=25, max_features=40 .................\n",
      "[CV]  n_estimators=100, max_depth=25, max_features=40, score=-0.016081158517002817, total=   1.0s\n",
      "[CV] n_estimators=100, max_depth=25, max_features=40 .................\n",
      "[CV]  n_estimators=100, max_depth=25, max_features=40, score=-0.01522354701007644, total=   1.2s\n",
      "[CV] n_estimators=250, max_depth=25, max_features=40 .................\n",
      "[CV]  n_estimators=100, max_depth=25, max_features=40, score=-0.020023996303265387, total=   1.1s\n",
      "[CV] n_estimators=250, max_depth=25, max_features=40 .................\n",
      "[CV]  n_estimators=100, max_depth=25, max_features=40, score=-0.018277846516828577, total=   0.9s\n",
      "[CV] n_estimators=250, max_depth=25, max_features=40 .................\n",
      "[CV]  n_estimators=500, max_depth=25, max_features=30, score=-0.022846784896547248, total=   3.4s\n",
      "[CV] n_estimators=250, max_depth=25, max_features=40 .................\n",
      "[CV]  n_estimators=500, max_depth=25, max_features=30, score=-0.015882023697854505, total=   3.4s\n",
      "[CV] n_estimators=250, max_depth=25, max_features=40 .................\n",
      "[CV]  n_estimators=500, max_depth=25, max_features=30, score=-0.01408012775881887, total=   3.3s\n",
      "[CV] n_estimators=500, max_depth=25, max_features=40 .................\n",
      "[CV]  n_estimators=500, max_depth=25, max_features=30, score=-0.020053055556257776, total=   3.2s\n",
      "[CV]  n_estimators=500, max_depth=25, max_features=30, score=-0.01782139421545149, total=   3.2s\n",
      "[CV] n_estimators=500, max_depth=25, max_features=40 .................\n",
      "[CV] n_estimators=500, max_depth=25, max_features=40 .................\n",
      "[CV]  n_estimators=250, max_depth=25, max_features=40, score=-0.022782478711980487, total=   1.4s\n",
      "[CV] n_estimators=500, max_depth=25, max_features=40 .................\n",
      "[CV]  n_estimators=250, max_depth=25, max_features=40, score=-0.015265905338090947, total=   1.6s\n",
      "[CV] n_estimators=500, max_depth=25, max_features=40 .................\n",
      "[CV]  n_estimators=250, max_depth=25, max_features=40, score=-0.020020983610237013, total=   1.5s\n",
      "[CV] n_estimators=100, max_depth=25, max_features=50 .................\n",
      "[CV]  n_estimators=250, max_depth=25, max_features=40, score=-0.01472756597520084, total=   1.7s\n",
      "[CV] n_estimators=100, max_depth=25, max_features=50 .................\n",
      "[CV]  n_estimators=250, max_depth=25, max_features=40, score=-0.017854535619690415, total=   1.6s\n",
      "[CV] n_estimators=100, max_depth=25, max_features=50 .................\n",
      "[CV]  n_estimators=100, max_depth=25, max_features=50, score=-0.022516043026639572, total=   1.3s\n",
      "[CV] n_estimators=100, max_depth=25, max_features=50 .................\n",
      "[CV]  n_estimators=100, max_depth=25, max_features=50, score=-0.014920364026360633, total=   1.4s\n",
      "[CV] n_estimators=100, max_depth=25, max_features=50 .................\n",
      "[CV]  n_estimators=100, max_depth=25, max_features=50, score=-0.014776534425497825, total=   1.5s\n",
      "[CV] n_estimators=250, max_depth=25, max_features=50 .................\n",
      "[CV]  n_estimators=500, max_depth=25, max_features=40, score=-0.022674079241848413, total=   3.8s\n",
      "[CV] n_estimators=250, max_depth=25, max_features=50 .................\n",
      "[CV]  n_estimators=100, max_depth=25, max_features=50, score=-0.019401786338485095, total=   1.3s\n",
      "[CV]  n_estimators=500, max_depth=25, max_features=40, score=-0.01557156382326037, total=   3.9s\n",
      "[CV] n_estimators=250, max_depth=25, max_features=50 .................\n",
      "[CV] n_estimators=250, max_depth=25, max_features=50 .................\n",
      "[CV]  n_estimators=100, max_depth=25, max_features=50, score=-0.018498496397503377, total=   1.2s\n",
      "[CV] n_estimators=250, max_depth=25, max_features=50 .................\n",
      "[CV]  n_estimators=500, max_depth=25, max_features=40, score=-0.019957754169404842, total=   3.5s\n",
      "[CV] n_estimators=500, max_depth=25, max_features=50 .................\n",
      "[CV]  n_estimators=500, max_depth=25, max_features=40, score=-0.014469287690314237, total=   4.0s\n",
      "[CV] n_estimators=500, max_depth=25, max_features=50 .................\n"
     ]
    },
    {
     "name": "stderr",
     "output_type": "stream",
     "text": [
      "[Parallel(n_jobs=-1)]: Done 272 tasks      | elapsed:  1.2min\n"
     ]
    },
    {
     "name": "stdout",
     "output_type": "stream",
     "text": [
      "[CV]  n_estimators=250, max_depth=25, max_features=50, score=-0.022802074770792748, total=   1.6s\n",
      "[CV] n_estimators=500, max_depth=25, max_features=50 .................\n",
      "[CV]  n_estimators=500, max_depth=25, max_features=40, score=-0.017857072237444753, total=   4.3s\n",
      "[CV] n_estimators=500, max_depth=25, max_features=50 .................\n",
      "[CV]  n_estimators=250, max_depth=25, max_features=50, score=-0.014705616154966667, total=   2.3s\n",
      "[CV]  n_estimators=250, max_depth=25, max_features=50, score=-0.017918977654693843, total=   2.1s\n",
      "[CV] n_estimators=500, max_depth=25, max_features=50 .................\n",
      "[CV] n_estimators=100, max_depth=25, max_features=60 .................\n",
      "[CV]  n_estimators=250, max_depth=25, max_features=50, score=-0.014519059021868256, total=   2.2s\n",
      "[CV] n_estimators=100, max_depth=25, max_features=60 .................\n",
      "[CV]  n_estimators=250, max_depth=25, max_features=50, score=-0.019391976721480592, total=   2.4s\n",
      "[CV] n_estimators=100, max_depth=25, max_features=60 .................\n",
      "[CV]  n_estimators=100, max_depth=25, max_features=60, score=-0.022516358646931998, total=   1.4s\n",
      "[CV] n_estimators=100, max_depth=25, max_features=60 .................\n",
      "[CV]  n_estimators=100, max_depth=25, max_features=60, score=-0.014966452658137086, total=   1.4s\n",
      "[CV] n_estimators=100, max_depth=25, max_features=60 .................\n",
      "[CV]  n_estimators=500, max_depth=25, max_features=50, score=-0.02274216435993785, total=   3.9s\n",
      "[CV] n_estimators=250, max_depth=25, max_features=60 .................\n",
      "[CV]  n_estimators=100, max_depth=25, max_features=60, score=-0.014892661053385745, total=   1.4s\n",
      "[CV] n_estimators=250, max_depth=25, max_features=60 .................\n",
      "[CV]  n_estimators=500, max_depth=25, max_features=50, score=-0.014957174944944078, total=   4.6s\n",
      "[CV] n_estimators=250, max_depth=25, max_features=60 .................\n",
      "[CV]  n_estimators=100, max_depth=25, max_features=60, score=-0.019279697762438923, total=   1.1s\n",
      "[CV]  n_estimators=500, max_depth=25, max_features=50, score=-0.014583405284184543, total=   4.2s\n",
      "[CV] n_estimators=250, max_depth=25, max_features=60 .................\n",
      "[CV] n_estimators=250, max_depth=25, max_features=60 .................\n",
      "[CV]  n_estimators=100, max_depth=25, max_features=60, score=-0.01861526561475494, total=   1.2s\n",
      "[CV] n_estimators=500, max_depth=25, max_features=60 .................\n",
      "[CV]  n_estimators=500, max_depth=25, max_features=50, score=-0.01934776973995848, total=   4.1s\n",
      "[CV] n_estimators=500, max_depth=25, max_features=60 .................\n",
      "[CV]  n_estimators=250, max_depth=25, max_features=60, score=-0.023080778203900566, total=   2.4s\n",
      "[CV] n_estimators=500, max_depth=25, max_features=60 .................\n",
      "[CV]  n_estimators=500, max_depth=25, max_features=50, score=-0.017912433984336937, total=   4.5s\n",
      "[CV] n_estimators=500, max_depth=25, max_features=60 .................\n",
      "[CV]  n_estimators=250, max_depth=25, max_features=60, score=-0.014778042019891165, total=   2.9s\n",
      "[CV] n_estimators=500, max_depth=25, max_features=60 .................\n",
      "[CV]  n_estimators=250, max_depth=25, max_features=60, score=-0.019025509688403466, total=   2.3s\n",
      "[CV]  n_estimators=250, max_depth=25, max_features=60, score=-0.015292450425889373, total=   2.5s\n",
      "[CV]  n_estimators=250, max_depth=25, max_features=60, score=-0.018338539059226857, total=   2.5s\n",
      "[CV]  n_estimators=500, max_depth=25, max_features=60, score=-0.02289511537056551, total=   4.4s\n",
      "[CV]  n_estimators=500, max_depth=25, max_features=60, score=-0.014870995986073441, total=   4.1s\n",
      "[CV]  n_estimators=500, max_depth=25, max_features=60, score=-0.018633720464299952, total=   3.5s\n",
      "[CV]  n_estimators=500, max_depth=25, max_features=60, score=-0.01501281816460892, total=   3.7s\n",
      "[CV]  n_estimators=500, max_depth=25, max_features=60, score=-0.018178585623801438, total=   3.2s\n"
     ]
    },
    {
     "name": "stderr",
     "output_type": "stream",
     "text": [
      "[Parallel(n_jobs=-1)]: Done 300 out of 300 | elapsed:  1.4min finished\n"
     ]
    },
    {
     "name": "stdout",
     "output_type": "stream",
     "text": [
      "CPU times: user 4.3 s, sys: 152 ms, total: 4.46 s\n",
      "Wall time: 1min 26s\n"
     ]
    },
    {
     "data": {
      "text/plain": [
       "GridSearchCV(cv=5, error_score='raise',\n",
       "       estimator=RandomForestRegressor(bootstrap=True, criterion='mse', max_depth=25,\n",
       "           max_features=100, max_leaf_nodes=None,\n",
       "           min_impurity_decrease=0.0, min_impurity_split=None,\n",
       "           min_samples_leaf=1, min_samples_split=2,\n",
       "           min_weight_fraction_leaf=0.0, n_estimators=1000, n_jobs=-1,\n",
       "           oob_score=True, random_state=67, verbose=0, warm_start=False),\n",
       "       fit_params=None, iid=True, n_jobs=-1,\n",
       "       param_grid={'n_estimators': [100, 250, 500], 'max_depth': [5, 10, 15, 20, 25], 'max_features': [30, 40, 50, 60]},\n",
       "       pre_dispatch='2*n_jobs', refit=True, return_train_score='warn',\n",
       "       scoring='neg_mean_squared_error', verbose=10)"
      ]
     },
     "execution_count": 13,
     "metadata": {},
     "output_type": "execute_result"
    }
   ],
   "source": [
    "from sklearn.model_selection import GridSearchCV\n",
    "param_grid = { \"n_estimators\"      : [100, 250, 500],\n",
    "           \"max_features\"      : [30, 40, 50, 60],\n",
    "           \"max_depth\"         : [5, 10, 15, 20, 25]}\n",
    "randomForest.set_params(random_state=67)\n",
    "grid_search_tree = GridSearchCV(randomForest, param_grid, cv=5, n_jobs=-1, verbose=10, scoring='neg_mean_squared_error')\n",
    "%time grid_search_tree.fit(x_train, y_train)"
   ]
  },
  {
   "cell_type": "code",
   "execution_count": 14,
   "metadata": {},
   "outputs": [
    {
     "data": {
      "text/plain": [
       "{'max_depth': 15, 'max_features': 50, 'n_estimators': 250}"
      ]
     },
     "execution_count": 14,
     "metadata": {},
     "output_type": "execute_result"
    }
   ],
   "source": [
    "grid_search_tree.best_params_"
   ]
  },
  {
   "cell_type": "code",
   "execution_count": 15,
   "metadata": {},
   "outputs": [
    {
     "data": {
      "text/plain": [
       "0.14031845164520926"
      ]
     },
     "execution_count": 15,
     "metadata": {},
     "output_type": "execute_result"
    }
   ],
   "source": [
    "pred_test = grid_search_tree.predict(x_test)\n",
    "np.sqrt(np.mean((pred_test - y_test)**2))"
   ]
  },
  {
   "cell_type": "code",
   "execution_count": 9,
   "metadata": {},
   "outputs": [
    {
     "data": {
      "text/plain": [
       "RandomForestRegressor(bootstrap=True, criterion='mse', max_depth=25,\n",
       "           max_features=100, max_leaf_nodes=None,\n",
       "           min_impurity_decrease=0.0, min_impurity_split=None,\n",
       "           min_samples_leaf=1, min_samples_split=2,\n",
       "           min_weight_fraction_leaf=0.0, n_estimators=1000, n_jobs=-1,\n",
       "           oob_score=True, random_state=55, verbose=0, warm_start=False)"
      ]
     },
     "execution_count": 9,
     "metadata": {},
     "output_type": "execute_result"
    }
   ],
   "source": [
    "randomForest.set_params(random_state=55, n_jobs=-1, max_features=100, max_depth=25, n_estimators=1000)\n",
    "randomForest.fit(x_train, y_train)"
   ]
  },
  {
   "cell_type": "code",
   "execution_count": 16,
   "metadata": {},
   "outputs": [
    {
     "data": {
      "text/plain": [
       "0.14146642506083301"
      ]
     },
     "execution_count": 16,
     "metadata": {},
     "output_type": "execute_result"
    }
   ],
   "source": [
    "pred_test = randomForest.predict(x_test)\n",
    "np.sqrt(np.mean((pred_test - y_test)**2))"
   ]
  },
  {
   "cell_type": "code",
   "execution_count": 17,
   "metadata": {
    "collapsed": true
   },
   "outputs": [],
   "source": [
    "forest_importance = pd.DataFrame({\"feature\":list(x_train), \"importance\":randomForest.feature_importances_}).sort_values(['importance'], ascending=False)\n",
    "forest_importance\n",
    "forest_importance.to_csv('rf_importance.csv')"
   ]
  },
  {
   "cell_type": "code",
   "execution_count": 12,
   "metadata": {
    "scrolled": true
   },
   "outputs": [
    {
     "data": {
      "text/html": [
       "<div>\n",
       "<style scoped>\n",
       "    .dataframe tbody tr th:only-of-type {\n",
       "        vertical-align: middle;\n",
       "    }\n",
       "\n",
       "    .dataframe tbody tr th {\n",
       "        vertical-align: top;\n",
       "    }\n",
       "\n",
       "    .dataframe thead th {\n",
       "        text-align: right;\n",
       "    }\n",
       "</style>\n",
       "<table border=\"1\" class=\"dataframe\">\n",
       "  <thead>\n",
       "    <tr style=\"text-align: right;\">\n",
       "      <th></th>\n",
       "      <th>feature</th>\n",
       "      <th>importance</th>\n",
       "    </tr>\n",
       "  </thead>\n",
       "  <tbody>\n",
       "    <tr>\n",
       "      <th>56</th>\n",
       "      <td>OverallQual_clean</td>\n",
       "      <td>0.333073</td>\n",
       "    </tr>\n",
       "    <tr>\n",
       "      <th>41</th>\n",
       "      <td>Neighborhood_catN</td>\n",
       "      <td>0.151295</td>\n",
       "    </tr>\n",
       "    <tr>\n",
       "      <th>130</th>\n",
       "      <td>GrLivArea_clean</td>\n",
       "      <td>0.119154</td>\n",
       "    </tr>\n",
       "    <tr>\n",
       "      <th>189</th>\n",
       "      <td>TotalBath_clean</td>\n",
       "      <td>0.037530</td>\n",
       "    </tr>\n",
       "    <tr>\n",
       "      <th>118</th>\n",
       "      <td>TotalBsmtSF_clean</td>\n",
       "      <td>0.036326</td>\n",
       "    </tr>\n",
       "    <tr>\n",
       "      <th>58</th>\n",
       "      <td>YearBuilt_clean</td>\n",
       "      <td>0.032248</td>\n",
       "    </tr>\n",
       "    <tr>\n",
       "      <th>128</th>\n",
       "      <td>X1stFlrSF_clean</td>\n",
       "      <td>0.026871</td>\n",
       "    </tr>\n",
       "    <tr>\n",
       "      <th>185</th>\n",
       "      <td>Garage.interaction_catN</td>\n",
       "      <td>0.016420</td>\n",
       "    </tr>\n",
       "    <tr>\n",
       "      <th>111</th>\n",
       "      <td>BsmtFinSF1_clean</td>\n",
       "      <td>0.015992</td>\n",
       "    </tr>\n",
       "    <tr>\n",
       "      <th>159</th>\n",
       "      <td>GarageArea_clean</td>\n",
       "      <td>0.015420</td>\n",
       "    </tr>\n",
       "    <tr>\n",
       "      <th>186</th>\n",
       "      <td>Garage.interaction_catD</td>\n",
       "      <td>0.012380</td>\n",
       "    </tr>\n",
       "    <tr>\n",
       "      <th>191</th>\n",
       "      <td>AvgHouseLivArea.ratio_clean</td>\n",
       "      <td>0.009632</td>\n",
       "    </tr>\n",
       "    <tr>\n",
       "      <th>42</th>\n",
       "      <td>Neighborhood_catD</td>\n",
       "      <td>0.009549</td>\n",
       "    </tr>\n",
       "    <tr>\n",
       "      <th>15</th>\n",
       "      <td>LotArea_clean</td>\n",
       "      <td>0.009220</td>\n",
       "    </tr>\n",
       "    <tr>\n",
       "      <th>86</th>\n",
       "      <td>ExterQual_lev_x.3</td>\n",
       "      <td>0.008264</td>\n",
       "    </tr>\n",
       "    <tr>\n",
       "      <th>188</th>\n",
       "      <td>Room.size_clean</td>\n",
       "      <td>0.007685</td>\n",
       "    </tr>\n",
       "    <tr>\n",
       "      <th>57</th>\n",
       "      <td>OverallCond_clean</td>\n",
       "      <td>0.007648</td>\n",
       "    </tr>\n",
       "    <tr>\n",
       "      <th>158</th>\n",
       "      <td>GarageCars_clean</td>\n",
       "      <td>0.007637</td>\n",
       "    </tr>\n",
       "    <tr>\n",
       "      <th>149</th>\n",
       "      <td>FireplaceQu_catN</td>\n",
       "      <td>0.006966</td>\n",
       "    </tr>\n",
       "    <tr>\n",
       "      <th>14</th>\n",
       "      <td>LotFrontage_clean</td>\n",
       "      <td>0.006935</td>\n",
       "    </tr>\n",
       "    <tr>\n",
       "      <th>59</th>\n",
       "      <td>YearRemodAdd_clean</td>\n",
       "      <td>0.005827</td>\n",
       "    </tr>\n",
       "    <tr>\n",
       "      <th>8</th>\n",
       "      <td>MSSubClass_catN</td>\n",
       "      <td>0.005517</td>\n",
       "    </tr>\n",
       "    <tr>\n",
       "      <th>132</th>\n",
       "      <td>FullBath_clean</td>\n",
       "      <td>0.005474</td>\n",
       "    </tr>\n",
       "    <tr>\n",
       "      <th>129</th>\n",
       "      <td>X2ndFlrSF_clean</td>\n",
       "      <td>0.005397</td>\n",
       "    </tr>\n",
       "    <tr>\n",
       "      <th>125</th>\n",
       "      <td>CentralAir_lev_x.N</td>\n",
       "      <td>0.005186</td>\n",
       "    </tr>\n",
       "    <tr>\n",
       "      <th>184</th>\n",
       "      <td>Garage.interaction_lev_x.3.TA</td>\n",
       "      <td>0.005098</td>\n",
       "    </tr>\n",
       "    <tr>\n",
       "      <th>155</th>\n",
       "      <td>GarageYrBlt_clean</td>\n",
       "      <td>0.004396</td>\n",
       "    </tr>\n",
       "    <tr>\n",
       "      <th>117</th>\n",
       "      <td>BsmtUnfSF_clean</td>\n",
       "      <td>0.003928</td>\n",
       "    </tr>\n",
       "    <tr>\n",
       "      <th>139</th>\n",
       "      <td>TotRmsAbvGrd_clean</td>\n",
       "      <td>0.003546</td>\n",
       "    </tr>\n",
       "    <tr>\n",
       "      <th>190</th>\n",
       "      <td>BathToBed_clean</td>\n",
       "      <td>0.003437</td>\n",
       "    </tr>\n",
       "    <tr>\n",
       "      <th>...</th>\n",
       "      <td>...</td>\n",
       "      <td>...</td>\n",
       "    </tr>\n",
       "    <tr>\n",
       "      <th>28</th>\n",
       "      <td>Neighborhood_lev_x.CollgCr</td>\n",
       "      <td>0.000113</td>\n",
       "    </tr>\n",
       "    <tr>\n",
       "      <th>101</th>\n",
       "      <td>BsmtCond_lev_x.Gd</td>\n",
       "      <td>0.000108</td>\n",
       "    </tr>\n",
       "    <tr>\n",
       "      <th>16</th>\n",
       "      <td>Alley_lev_x.Grvl</td>\n",
       "      <td>0.000106</td>\n",
       "    </tr>\n",
       "    <tr>\n",
       "      <th>65</th>\n",
       "      <td>RoofMatl_catN</td>\n",
       "      <td>0.000104</td>\n",
       "    </tr>\n",
       "    <tr>\n",
       "      <th>119</th>\n",
       "      <td>Heating_lev_x.GasA</td>\n",
       "      <td>0.000103</td>\n",
       "    </tr>\n",
       "    <tr>\n",
       "      <th>37</th>\n",
       "      <td>Neighborhood_lev_x.Sawyer</td>\n",
       "      <td>0.000096</td>\n",
       "    </tr>\n",
       "    <tr>\n",
       "      <th>69</th>\n",
       "      <td>Exterior1st_lev_x.Shingles</td>\n",
       "      <td>0.000089</td>\n",
       "    </tr>\n",
       "    <tr>\n",
       "      <th>151</th>\n",
       "      <td>GarageType_lev_x.BuiltIn</td>\n",
       "      <td>0.000087</td>\n",
       "    </tr>\n",
       "    <tr>\n",
       "      <th>160</th>\n",
       "      <td>GarageQual_lev_x.FaPo</td>\n",
       "      <td>0.000083</td>\n",
       "    </tr>\n",
       "    <tr>\n",
       "      <th>38</th>\n",
       "      <td>Neighborhood_lev_x.Somerst</td>\n",
       "      <td>0.000083</td>\n",
       "    </tr>\n",
       "    <tr>\n",
       "      <th>64</th>\n",
       "      <td>RoofMatl_catP</td>\n",
       "      <td>0.000079</td>\n",
       "    </tr>\n",
       "    <tr>\n",
       "      <th>63</th>\n",
       "      <td>RoofMatl_lev_x.CompShg</td>\n",
       "      <td>0.000071</td>\n",
       "    </tr>\n",
       "    <tr>\n",
       "      <th>74</th>\n",
       "      <td>Exterior2nd_lev_x.Cement</td>\n",
       "      <td>0.000070</td>\n",
       "    </tr>\n",
       "    <tr>\n",
       "      <th>1</th>\n",
       "      <td>MSSubClass_lev_x.160</td>\n",
       "      <td>0.000069</td>\n",
       "    </tr>\n",
       "    <tr>\n",
       "      <th>35</th>\n",
       "      <td>Neighborhood_lev_x.NridgHt</td>\n",
       "      <td>0.000067</td>\n",
       "    </tr>\n",
       "    <tr>\n",
       "      <th>32</th>\n",
       "      <td>Neighborhood_lev_x.Mitchel</td>\n",
       "      <td>0.000064</td>\n",
       "    </tr>\n",
       "    <tr>\n",
       "      <th>66</th>\n",
       "      <td>Exterior1st_lev_x.Cement</td>\n",
       "      <td>0.000064</td>\n",
       "    </tr>\n",
       "    <tr>\n",
       "      <th>120</th>\n",
       "      <td>Heating_catP</td>\n",
       "      <td>0.000058</td>\n",
       "    </tr>\n",
       "    <tr>\n",
       "      <th>95</th>\n",
       "      <td>Foundation_lev_x.Slab</td>\n",
       "      <td>0.000058</td>\n",
       "    </tr>\n",
       "    <tr>\n",
       "      <th>182</th>\n",
       "      <td>Garage.interaction_lev_x.1.FaPo</td>\n",
       "      <td>0.000053</td>\n",
       "    </tr>\n",
       "    <tr>\n",
       "      <th>19</th>\n",
       "      <td>LotShape_lev_x.IR2</td>\n",
       "      <td>0.000047</td>\n",
       "    </tr>\n",
       "    <tr>\n",
       "      <th>140</th>\n",
       "      <td>Functional_lev_x.Min2</td>\n",
       "      <td>0.000047</td>\n",
       "    </tr>\n",
       "    <tr>\n",
       "      <th>34</th>\n",
       "      <td>Neighborhood_lev_x.NoRidge</td>\n",
       "      <td>0.000045</td>\n",
       "    </tr>\n",
       "    <tr>\n",
       "      <th>50</th>\n",
       "      <td>BldgType_lev_x.Twnhs</td>\n",
       "      <td>0.000036</td>\n",
       "    </tr>\n",
       "    <tr>\n",
       "      <th>49</th>\n",
       "      <td>BldgType_lev_x.2fmCon</td>\n",
       "      <td>0.000035</td>\n",
       "    </tr>\n",
       "    <tr>\n",
       "      <th>0</th>\n",
       "      <td>MSSubClass_lev_x.120</td>\n",
       "      <td>0.000032</td>\n",
       "    </tr>\n",
       "    <tr>\n",
       "      <th>39</th>\n",
       "      <td>Neighborhood_lev_x.Timber</td>\n",
       "      <td>0.000030</td>\n",
       "    </tr>\n",
       "    <tr>\n",
       "      <th>10</th>\n",
       "      <td>MSZoning_lev_x.FV</td>\n",
       "      <td>0.000028</td>\n",
       "    </tr>\n",
       "    <tr>\n",
       "      <th>2</th>\n",
       "      <td>MSSubClass_lev_x.190</td>\n",
       "      <td>0.000024</td>\n",
       "    </tr>\n",
       "    <tr>\n",
       "      <th>53</th>\n",
       "      <td>HouseStyle_lev_x.SFoyer</td>\n",
       "      <td>0.000008</td>\n",
       "    </tr>\n",
       "  </tbody>\n",
       "</table>\n",
       "<p>192 rows × 2 columns</p>\n",
       "</div>"
      ],
      "text/plain": [
       "                             feature  importance\n",
       "56                 OverallQual_clean    0.333073\n",
       "41                 Neighborhood_catN    0.151295\n",
       "130                  GrLivArea_clean    0.119154\n",
       "189                  TotalBath_clean    0.037530\n",
       "118                TotalBsmtSF_clean    0.036326\n",
       "58                   YearBuilt_clean    0.032248\n",
       "128                  X1stFlrSF_clean    0.026871\n",
       "185          Garage.interaction_catN    0.016420\n",
       "111                 BsmtFinSF1_clean    0.015992\n",
       "159                 GarageArea_clean    0.015420\n",
       "186          Garage.interaction_catD    0.012380\n",
       "191      AvgHouseLivArea.ratio_clean    0.009632\n",
       "42                 Neighborhood_catD    0.009549\n",
       "15                     LotArea_clean    0.009220\n",
       "86                 ExterQual_lev_x.3    0.008264\n",
       "188                  Room.size_clean    0.007685\n",
       "57                 OverallCond_clean    0.007648\n",
       "158                 GarageCars_clean    0.007637\n",
       "149                 FireplaceQu_catN    0.006966\n",
       "14                 LotFrontage_clean    0.006935\n",
       "59                YearRemodAdd_clean    0.005827\n",
       "8                    MSSubClass_catN    0.005517\n",
       "132                   FullBath_clean    0.005474\n",
       "129                  X2ndFlrSF_clean    0.005397\n",
       "125               CentralAir_lev_x.N    0.005186\n",
       "184    Garage.interaction_lev_x.3.TA    0.005098\n",
       "155                GarageYrBlt_clean    0.004396\n",
       "117                  BsmtUnfSF_clean    0.003928\n",
       "139               TotRmsAbvGrd_clean    0.003546\n",
       "190                  BathToBed_clean    0.003437\n",
       "..                               ...         ...\n",
       "28        Neighborhood_lev_x.CollgCr    0.000113\n",
       "101                BsmtCond_lev_x.Gd    0.000108\n",
       "16                  Alley_lev_x.Grvl    0.000106\n",
       "65                     RoofMatl_catN    0.000104\n",
       "119               Heating_lev_x.GasA    0.000103\n",
       "37         Neighborhood_lev_x.Sawyer    0.000096\n",
       "69        Exterior1st_lev_x.Shingles    0.000089\n",
       "151         GarageType_lev_x.BuiltIn    0.000087\n",
       "160            GarageQual_lev_x.FaPo    0.000083\n",
       "38        Neighborhood_lev_x.Somerst    0.000083\n",
       "64                     RoofMatl_catP    0.000079\n",
       "63            RoofMatl_lev_x.CompShg    0.000071\n",
       "74          Exterior2nd_lev_x.Cement    0.000070\n",
       "1               MSSubClass_lev_x.160    0.000069\n",
       "35        Neighborhood_lev_x.NridgHt    0.000067\n",
       "32        Neighborhood_lev_x.Mitchel    0.000064\n",
       "66          Exterior1st_lev_x.Cement    0.000064\n",
       "120                     Heating_catP    0.000058\n",
       "95             Foundation_lev_x.Slab    0.000058\n",
       "182  Garage.interaction_lev_x.1.FaPo    0.000053\n",
       "19                LotShape_lev_x.IR2    0.000047\n",
       "140            Functional_lev_x.Min2    0.000047\n",
       "34        Neighborhood_lev_x.NoRidge    0.000045\n",
       "50              BldgType_lev_x.Twnhs    0.000036\n",
       "49             BldgType_lev_x.2fmCon    0.000035\n",
       "0               MSSubClass_lev_x.120    0.000032\n",
       "39         Neighborhood_lev_x.Timber    0.000030\n",
       "10                 MSZoning_lev_x.FV    0.000028\n",
       "2               MSSubClass_lev_x.190    0.000024\n",
       "53           HouseStyle_lev_x.SFoyer    0.000008\n",
       "\n",
       "[192 rows x 2 columns]"
      ]
     },
     "execution_count": 12,
     "metadata": {},
     "output_type": "execute_result"
    }
   ],
   "source": [
    "forest_importance"
   ]
  },
  {
   "cell_type": "code",
   "execution_count": 72,
   "metadata": {
    "collapsed": true
   },
   "outputs": [],
   "source": [
    "housetrain_tree.to_csv('../Data/housetrain_tree.csv')\n",
    "housetest_tree.to_csv('../Data/housetest_tree.csv')\n",
    "privtrain_tree.to_csv('../Data/privtrain_tree.csv')\n",
    "privtest_tree.to_csv('../Data/privtest_tree.csv')"
   ]
  },
  {
   "cell_type": "code",
   "execution_count": null,
   "metadata": {
    "collapsed": true
   },
   "outputs": [],
   "source": []
  }
 ],
 "metadata": {
  "kernelspec": {
   "display_name": "Python 3",
   "language": "python",
   "name": "python3"
  },
  "language_info": {
   "codemirror_mode": {
    "name": "ipython",
    "version": 3
   },
   "file_extension": ".py",
   "mimetype": "text/x-python",
   "name": "python",
   "nbconvert_exporter": "python",
   "pygments_lexer": "ipython3",
   "version": "3.6.2"
  }
 },
 "nbformat": 4,
 "nbformat_minor": 2
}
