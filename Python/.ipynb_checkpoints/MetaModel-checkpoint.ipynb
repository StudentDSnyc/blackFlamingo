{
 "cells": [
  {
   "cell_type": "code",
   "execution_count": 1,
   "metadata": {},
   "outputs": [
    {
     "name": "stderr",
     "output_type": "stream",
     "text": [
      "/home/paul/env/py35/lib/python3.5/site-packages/sklearn/cross_validation.py:41: DeprecationWarning: This module was deprecated in version 0.18 in favor of the model_selection module into which all the refactored classes and functions are moved. Also note that the interface of the new CV iterators are different from that of this module. This module will be removed in 0.20.\n",
      "  \"This module will be removed in 0.20.\", DeprecationWarning)\n"
     ]
    }
   ],
   "source": [
    "from sklearn.linear_model import ElasticNet, LinearRegression as lr\n",
    "from sklearn.ensemble import GradientBoostingRegressor as gbr, RandomForestRegressor as rfr\n",
    "from xgboost import XGBRegressor"
   ]
  },
  {
   "cell_type": "code",
   "execution_count": 2,
   "metadata": {},
   "outputs": [],
   "source": [
    "# Useful if you are debugging the function inside another .py script\n",
    "%load_ext autoreload\n",
    "%autoreload 2"
   ]
  },
  {
   "cell_type": "code",
   "execution_count": 3,
   "metadata": {},
   "outputs": [],
   "source": [
    "import pandas as pd\n",
    "\n",
    "houses_train = pd.read_csv('../Data/encoded_houses_train.csv')\n",
    "houses_test = pd.read_csv('../Data/encoded_houses_test.csv')"
   ]
  },
  {
   "cell_type": "code",
   "execution_count": 5,
   "metadata": {},
   "outputs": [],
   "source": [
    "X_train = houses_train.loc[:, houses_train.columns != \"SalePrice\"].values # convert to np.array\n",
    "y_train = houses_train.loc[:, houses_train.columns == \"SalePrice\"].values.reshape(-1, )\n",
    "\n",
    "X_test = houses_test.loc[:, houses_train.columns != \"SalePrice\"].values # convert to np.array"
   ]
  },
  {
   "cell_type": "code",
   "execution_count": 6,
   "metadata": {},
   "outputs": [],
   "source": [
    "from stacking import stacking_regression\n",
    "from sklearn.metrics import mean_squared_error\n",
    "import numpy as np"
   ]
  },
  {
   "cell_type": "code",
   "execution_count": 7,
   "metadata": {},
   "outputs": [],
   "source": [
    "def rmsle(y, y_pred):\n",
    "    return np.sqrt(mean_squared_error(np.log(y), np.log(y_pred)))"
   ]
  },
  {
   "cell_type": "code",
   "execution_count": 8,
   "metadata": {},
   "outputs": [],
   "source": [
    "models = [\n",
    "    # linear model, ElasticNet = lasso + ridge\n",
    "    ElasticNet(random_state=0, \n",
    "              fit_intercept=True, alpha=0.18069, l1_ratio=0.01),\n",
    "    \n",
    "    # deep random forst model\n",
    "    rfr(random_state=0,\n",
    "        n_estimators=1000, max_depth=20,  max_features=70),\n",
    "    \n",
    "    # aggressive random forst model\n",
    "    rfr(random_state=0, \n",
    "        n_estimators=1500, max_depth=10,  max_features=75),\n",
    "    \n",
    "    # conservative gbm model\n",
    "    gbr(random_state=0, learning_rate = 0.005, max_features='sqrt',\n",
    "        min_samples_leaf=15, min_samples_split=10, \n",
    "        n_estimators=3000, max_depth=3),\n",
    "    \n",
    "    # aggressive gbm model\n",
    "    gbr(random_state = 0, learning_rate = 0.01, max_features='sqrt',\n",
    "        min_samples_leaf=10, min_samples_split=5, \n",
    "        n_estimators = 1000, max_depth = 9)\n",
    "    ]\n",
    "\n",
    "meta_model = lr(normalize=True)"
   ]
  },
  {
   "cell_type": "code",
   "execution_count": 9,
   "metadata": {},
   "outputs": [
    {
     "name": "stdout",
     "output_type": "stream",
     "text": [
      "metric: [rmsle]\n",
      "\n",
      "model 0: [ElasticNet]\n",
      "    fold 0: [0.11222698]\n",
      "    fold 1: [0.14332003]\n",
      "    fold 2: [0.13190117]\n",
      "    fold 3: [0.11816643]\n",
      "    fold 4: [0.15528400]\n",
      "    ----\n",
      "    MEAN:   [0.13312390]\n",
      "\n",
      "model 1: [RandomForestRegressor]\n",
      "    fold 0: [0.12238222]\n",
      "    fold 1: [0.14862462]\n",
      "    fold 2: [0.14750322]\n",
      "    fold 3: [0.12720399]\n",
      "    fold 4: [0.13794949]\n",
      "    ----\n",
      "    MEAN:   [0.13713847]\n",
      "\n",
      "model 2: [RandomForestRegressor]\n",
      "    fold 0: [0.12262096]\n",
      "    fold 1: [0.15082459]\n",
      "    fold 2: [0.14902387]\n",
      "    fold 3: [0.12860001]\n",
      "    fold 4: [0.13805402]\n",
      "    ----\n",
      "    MEAN:   [0.13826709]\n",
      "\n",
      "model 3: [GradientBoostingRegressor]\n",
      "    fold 0: [0.10894401]\n",
      "    fold 1: [0.13500386]\n",
      "    fold 2: [0.13522029]\n",
      "    fold 3: [0.11253161]\n",
      "    fold 4: [0.12402067]\n",
      "    ----\n",
      "    MEAN:   [0.12363159]\n",
      "\n",
      "model 4: [GradientBoostingRegressor]\n",
      "    fold 0: [0.11364445]\n",
      "    fold 1: [0.13369030]\n",
      "    fold 2: [0.13653745]\n",
      "    fold 3: [0.11129162]\n",
      "    fold 4: [0.12195834]\n",
      "    ----\n",
      "    MEAN:   [0.12384692]\n",
      "\n",
      "CPU times: user 1min 44s, sys: 2.22 s, total: 1min 46s\n",
      "Wall time: 1min 43s\n"
     ]
    }
   ],
   "source": [
    "%%time\n",
    "stacking_features, stacking_prediction = stacking_regression(models, \n",
    "                                          rfr(random_state=0,\n",
    "                                              n_estimators=1000, \n",
    "                                              max_depth=5,  \n",
    "                                              max_features=2), \n",
    "                                          X_train, y_train, X_test,\n",
    "                                          transform_target=np.log1p, transform_pred = np.expm1, \n",
    "                                          metric=rmsle, verbose=2, n_folds=5)"
   ]
  },
  {
   "cell_type": "code",
   "execution_count": null,
   "metadata": {},
   "outputs": [],
   "source": []
  },
  {
   "cell_type": "code",
   "execution_count": 10,
   "metadata": {},
   "outputs": [
    {
     "name": "stdout",
     "output_type": "stream",
     "text": [
      "(1460, 5)\n",
      "(1459, 5)\n"
     ]
    }
   ],
   "source": [
    "print(stacking_features.shape)\n",
    "print(stacking_prediction.shape)"
   ]
  },
  {
   "cell_type": "code",
   "execution_count": 11,
   "metadata": {},
   "outputs": [
    {
     "data": {
      "text/plain": [
       "0.12640949466027315"
      ]
     },
     "execution_count": 11,
     "metadata": {},
     "output_type": "execute_result"
    }
   ],
   "source": [
    "import sklearn.model_selection as ms\n",
    "\n",
    "def averaging_score(x, y):\n",
    "    return rmsle(x.mean(axis=1), y)\n",
    "\n",
    "averaging_score(stacking_features, y_train)"
   ]
  },
  {
   "cell_type": "markdown",
   "metadata": {},
   "source": [
    "One way to evaluate a meta-model: cross_val_score"
   ]
  },
  {
   "cell_type": "code",
   "execution_count": 13,
   "metadata": {},
   "outputs": [],
   "source": [
    "meta_model = rfr(random_state=0, n_estimators=500, max_depth=1, max_features=2)"
   ]
  },
  {
   "cell_type": "code",
   "execution_count": 15,
   "metadata": {},
   "outputs": [
    {
     "name": "stdout",
     "output_type": "stream",
     "text": [
      "[ 0.25532142  0.28292185  0.26804731  0.27127183  0.2657161 ]\n",
      "0.268655702331\n"
     ]
    }
   ],
   "source": [
    "score = ms.cross_val_score(estimator=meta_model, X= stacking_features, y=y_train, cv=5, scoring='neg_mean_squared_log_error')\n",
    "print(np.sqrt(score * -1))\n",
    "print(np.mean(np.sqrt(score * -1)))"
   ]
  },
  {
   "cell_type": "markdown",
   "metadata": {},
   "source": [
    "another way -- using gridsearchCV to tune params, and use the crossval score from best param set"
   ]
  },
  {
   "cell_type": "code",
   "execution_count": 16,
   "metadata": {},
   "outputs": [
    {
     "name": "stdout",
     "output_type": "stream",
     "text": [
      "Fitting 5 folds for each of 50 candidates, totalling 250 fits\n",
      "[CV] max_depth=1, n_estimators=500, max_features=1 ...................\n",
      "[CV] max_depth=1, n_estimators=500, max_features=1 ...................\n",
      "[CV] max_depth=1, n_estimators=500, max_features=1 ...................\n",
      "[CV] max_depth=1, n_estimators=500, max_features=1 ...................\n",
      "[CV] max_depth=1, n_estimators=500, max_features=1 ...................\n",
      "[CV] max_depth=1, n_estimators=750, max_features=1 ...................\n",
      "[CV] max_depth=1, n_estimators=750, max_features=1 ...................\n",
      "[CV] max_depth=1, n_estimators=750, max_features=1 ...................\n",
      "[CV]  max_depth=1, n_estimators=500, max_features=1, score=-0.08004264387433634, total=   0.7s\n",
      "[CV]  max_depth=1, n_estimators=500, max_features=1, score=-0.07402189789415606, total=   0.7s\n",
      "[CV]  max_depth=1, n_estimators=500, max_features=1, score=-0.07065148321823998, total=   0.7s\n",
      "[CV] max_depth=1, n_estimators=750, max_features=1 ...................\n",
      "[CV]  max_depth=1, n_estimators=500, max_features=1, score=-0.06562911762860274, total=   0.7s\n",
      "[CV] max_depth=1, n_estimators=500, max_features=2 ...................\n",
      "[CV] max_depth=1, n_estimators=500, max_features=2 ...................\n",
      "[CV] max_depth=1, n_estimators=750, max_features=1 ...................\n",
      "[CV]  max_depth=1, n_estimators=500, max_features=1, score=-0.0699523140693548, total=   0.7s\n",
      "[CV] max_depth=1, n_estimators=500, max_features=2 ...................\n"
     ]
    },
    {
     "name": "stderr",
     "output_type": "stream",
     "text": [
      "[Parallel(n_jobs=-1)]: Done   2 tasks      | elapsed:    0.7s\n"
     ]
    },
    {
     "name": "stdout",
     "output_type": "stream",
     "text": [
      "[CV]  max_depth=1, n_estimators=750, max_features=1, score=-0.07068456304317669, total=   1.0s\n",
      "[CV] max_depth=1, n_estimators=500, max_features=2 ...................\n",
      "[CV]  max_depth=1, n_estimators=750, max_features=1, score=-0.06543569694681459, total=   1.0s\n",
      "[CV]  max_depth=1, n_estimators=750, max_features=1, score=-0.07992856665109377, total=   1.0s\n",
      "[CV] max_depth=1, n_estimators=500, max_features=2 ...................\n",
      "[CV] max_depth=1, n_estimators=750, max_features=2 ...................\n",
      "[CV]  max_depth=1, n_estimators=500, max_features=2, score=-0.06496218394389178, total=   0.7s\n",
      "[CV] max_depth=1, n_estimators=750, max_features=2 ...................\n",
      "[CV]  max_depth=1, n_estimators=500, max_features=2, score=-0.07997786574444558, total=   0.7s\n",
      "[CV] max_depth=1, n_estimators=750, max_features=2 ...................\n",
      "[CV]  max_depth=1, n_estimators=500, max_features=2, score=-0.07160049044785537, total=   0.7s\n",
      "[CV] max_depth=1, n_estimators=750, max_features=2 ...................\n"
     ]
    },
    {
     "name": "stderr",
     "output_type": "stream",
     "text": [
      "[Parallel(n_jobs=-1)]: Done   9 tasks      | elapsed:    1.5s\n"
     ]
    },
    {
     "name": "stdout",
     "output_type": "stream",
     "text": [
      "[CV]  max_depth=1, n_estimators=750, max_features=1, score=-0.07396655869345385, total=   1.1s\n",
      "[CV] max_depth=1, n_estimators=750, max_features=2 ...................\n",
      "[CV]  max_depth=1, n_estimators=750, max_features=1, score=-0.06992568411163698, total=   1.1s\n",
      "[CV] max_depth=1, n_estimators=500, max_features=3 ...................\n",
      "[CV]  max_depth=1, n_estimators=500, max_features=2, score=-0.07336447068697352, total=   0.7s\n",
      "[CV]  max_depth=1, n_estimators=500, max_features=2, score=-0.0705349088241995, total=   0.7s\n",
      "[CV] max_depth=1, n_estimators=500, max_features=3 ...................\n",
      "[CV] max_depth=1, n_estimators=500, max_features=3 ...................\n",
      "[CV]  max_depth=1, n_estimators=750, max_features=2, score=-0.06503232288451787, total=   1.1s\n",
      "[CV] max_depth=1, n_estimators=500, max_features=3 ...................\n"
     ]
    },
    {
     "name": "stderr",
     "output_type": "stream",
     "text": [
      "[Parallel(n_jobs=-1)]: Done  16 tasks      | elapsed:    2.3s\n"
     ]
    },
    {
     "name": "stdout",
     "output_type": "stream",
     "text": [
      "[CV]  max_depth=1, n_estimators=750, max_features=2, score=-0.07982235578627006, total=   1.1s\n",
      "[CV] max_depth=1, n_estimators=500, max_features=3 ...................\n",
      "[CV]  max_depth=1, n_estimators=750, max_features=2, score=-0.07163683467043505, total=   1.1s\n",
      "[CV] max_depth=1, n_estimators=750, max_features=3 ...................\n",
      "[CV]  max_depth=1, n_estimators=500, max_features=3, score=-0.08004759249445699, total=   0.8s\n",
      "[CV] max_depth=1, n_estimators=750, max_features=3 ...................\n",
      "[CV]  max_depth=1, n_estimators=500, max_features=3, score=-0.07245979378031929, total=   0.8s\n",
      "[CV]  max_depth=1, n_estimators=750, max_features=2, score=-0.07324792991826819, total=   1.2s\n",
      "[CV]  max_depth=1, n_estimators=500, max_features=3, score=-0.06503766157160122, total=   0.8s\n",
      "[CV] max_depth=1, n_estimators=750, max_features=3 ...................\n",
      "[CV] max_depth=1, n_estimators=750, max_features=3 ...................\n",
      "[CV] max_depth=1, n_estimators=750, max_features=3 ...................\n",
      "[CV]  max_depth=1, n_estimators=750, max_features=2, score=-0.07007329070718463, total=   1.1s\n",
      "[CV] max_depth=1, n_estimators=500, max_features=4 ...................\n",
      "[CV]  max_depth=1, n_estimators=500, max_features=3, score=-0.07324865712333503, total=   0.8s\n",
      "[CV] max_depth=1, n_estimators=500, max_features=4 ...................\n",
      "[CV]  max_depth=1, n_estimators=500, max_features=3, score=-0.07052653782103, total=   0.8s\n",
      "[CV] max_depth=1, n_estimators=500, max_features=4 ...................\n"
     ]
    },
    {
     "name": "stderr",
     "output_type": "stream",
     "text": [
      "[Parallel(n_jobs=-1)]: Done  25 tasks      | elapsed:    3.5s\n"
     ]
    },
    {
     "name": "stdout",
     "output_type": "stream",
     "text": [
      "[CV]  max_depth=1, n_estimators=750, max_features=3, score=-0.06506363019146436, total=   1.1s\n",
      "[CV] max_depth=1, n_estimators=500, max_features=4 ...................\n",
      "[CV]  max_depth=1, n_estimators=750, max_features=3, score=-0.07993153926046069, total=   1.1s\n",
      "[CV]  max_depth=1, n_estimators=500, max_features=4, score=-0.06490136868379878, total=   0.8s\n",
      "[CV] max_depth=1, n_estimators=750, max_features=4 ...................\n",
      "[CV] max_depth=1, n_estimators=500, max_features=4 ...................\n",
      "[CV]  max_depth=1, n_estimators=750, max_features=3, score=-0.07034460142537304, total=   1.1s\n",
      "[CV] max_depth=1, n_estimators=750, max_features=4 ...................\n",
      "[CV]  max_depth=1, n_estimators=500, max_features=4, score=-0.08044237607182358, total=   0.8s\n",
      "[CV] max_depth=1, n_estimators=750, max_features=4 ...................\n",
      "[CV]  max_depth=1, n_estimators=750, max_features=3, score=-0.07330606685650946, total=   1.2s\n",
      "[CV]  max_depth=1, n_estimators=750, max_features=3, score=-0.07250325099160432, total=   1.2s\n",
      "[CV] max_depth=1, n_estimators=750, max_features=4 ...................\n",
      "[CV] max_depth=1, n_estimators=750, max_features=4 ...................\n",
      "[CV]  max_depth=1, n_estimators=500, max_features=4, score=-0.07351359384211076, total=   0.9s\n",
      "[CV] max_depth=1, n_estimators=500, max_features=5 ...................\n",
      "[CV]  max_depth=1, n_estimators=500, max_features=4, score=-0.07343646577640892, total=   0.8s\n",
      "[CV] max_depth=1, n_estimators=500, max_features=5 ...................\n",
      "[CV]  max_depth=1, n_estimators=500, max_features=4, score=-0.07077710573904542, total=   0.8s\n",
      "[CV] max_depth=1, n_estimators=500, max_features=5 ...................\n"
     ]
    },
    {
     "name": "stderr",
     "output_type": "stream",
     "text": [
      "[Parallel(n_jobs=-1)]: Done  34 tasks      | elapsed:    4.7s\n"
     ]
    },
    {
     "name": "stdout",
     "output_type": "stream",
     "text": [
      "[CV]  max_depth=1, n_estimators=750, max_features=4, score=-0.08028807364318646, total=   1.2s\n",
      "[CV] max_depth=1, n_estimators=500, max_features=5 ...................\n",
      "[CV]  max_depth=1, n_estimators=500, max_features=5, score=-0.0653569968617519, total=   0.8s\n",
      "[CV] max_depth=1, n_estimators=500, max_features=5 ...................\n",
      "[CV]  max_depth=1, n_estimators=750, max_features=4, score=-0.0733838059419341, total=   1.2s\n",
      "[CV]  max_depth=1, n_estimators=750, max_features=4, score=-0.07347072192773368, total=   1.2s\n",
      "[CV] max_depth=1, n_estimators=750, max_features=5 ...................\n",
      "[CV]  max_depth=1, n_estimators=750, max_features=4, score=-0.06504163924590257, total=   1.3s\n",
      "[CV] max_depth=1, n_estimators=750, max_features=5 ...................\n",
      "[CV] max_depth=1, n_estimators=750, max_features=5 ...................\n",
      "[CV]  max_depth=1, n_estimators=750, max_features=4, score=-0.07070775644866333, total=   1.2s\n",
      "[CV] max_depth=1, n_estimators=750, max_features=5 ...................\n",
      "[CV]  max_depth=1, n_estimators=500, max_features=5, score=-0.08053002658483317, total=   0.9s\n",
      "[CV] max_depth=1, n_estimators=750, max_features=5 ...................\n",
      "[CV]  max_depth=1, n_estimators=500, max_features=5, score=-0.07398795107611982, total=   0.9s\n",
      "[CV] max_depth=2, n_estimators=500, max_features=1 ...................\n",
      "[CV]  max_depth=1, n_estimators=500, max_features=5, score=-0.07104170909780179, total=   0.8s\n",
      "[CV] max_depth=2, n_estimators=500, max_features=1 ...................\n",
      "[CV]  max_depth=1, n_estimators=500, max_features=5, score=-0.07340819303631185, total=   0.8s\n",
      "[CV] max_depth=2, n_estimators=500, max_features=1 ...................\n"
     ]
    },
    {
     "name": "stderr",
     "output_type": "stream",
     "text": [
      "[Parallel(n_jobs=-1)]: Done  45 tasks      | elapsed:    6.2s\n"
     ]
    },
    {
     "name": "stdout",
     "output_type": "stream",
     "text": [
      "[CV]  max_depth=2, n_estimators=500, max_features=1, score=-0.02652541379785133, total=   0.8s\n",
      "[CV] max_depth=2, n_estimators=500, max_features=1 ...................\n",
      "[CV]  max_depth=1, n_estimators=750, max_features=5, score=-0.08043129063743787, total=   1.2s\n",
      "[CV] max_depth=2, n_estimators=500, max_features=1 ...................\n",
      "[CV]  max_depth=1, n_estimators=750, max_features=5, score=-0.06546965283135064, total=   1.3s\n",
      "[CV]  max_depth=1, n_estimators=750, max_features=5, score=-0.07328480219522292, total=   1.2s\n",
      "[CV]  max_depth=1, n_estimators=750, max_features=5, score=-0.07389072747573541, total=   1.2s\n",
      "[CV] max_depth=2, n_estimators=750, max_features=1 ...................\n",
      "[CV] max_depth=2, n_estimators=750, max_features=1 ...................\n",
      "[CV] max_depth=2, n_estimators=750, max_features=1 ...................\n",
      "[CV]  max_depth=2, n_estimators=500, max_features=1, score=-0.03964885848190582, total=   0.7s\n",
      "[CV] max_depth=2, n_estimators=750, max_features=1 ...................\n",
      "[CV]  max_depth=1, n_estimators=750, max_features=5, score=-0.07097629993410037, total=   1.2s\n",
      "[CV]  max_depth=2, n_estimators=500, max_features=1, score=-0.034804180289561705, total=   0.7s\n",
      "[CV] max_depth=2, n_estimators=500, max_features=2 ...................\n",
      "[CV] max_depth=2, n_estimators=750, max_features=1 ...................\n",
      "[CV]  max_depth=2, n_estimators=500, max_features=1, score=-0.03332164817139972, total=   0.7s\n",
      "[CV] max_depth=2, n_estimators=500, max_features=2 ...................\n",
      "[CV]  max_depth=2, n_estimators=500, max_features=1, score=-0.029406482551847846, total=   0.7s\n",
      "[CV] max_depth=2, n_estimators=500, max_features=2 ...................\n",
      "[CV]  max_depth=2, n_estimators=750, max_features=1, score=-0.02645732949151018, total=   1.1s\n",
      "[CV] max_depth=2, n_estimators=500, max_features=2 ...................\n",
      "[CV]  max_depth=2, n_estimators=750, max_features=1, score=-0.03968526916190698, total=   1.1s\n",
      "[CV] max_depth=2, n_estimators=500, max_features=2 ...................\n",
      "[CV]  max_depth=2, n_estimators=750, max_features=1, score=-0.03482404202027102, total=   1.1s\n",
      "[CV] max_depth=2, n_estimators=750, max_features=2 ...................\n",
      "[CV]  max_depth=2, n_estimators=500, max_features=2, score=-0.026900211625925412, total=   0.8s\n",
      "[CV] max_depth=2, n_estimators=750, max_features=2 ...................\n"
     ]
    },
    {
     "name": "stderr",
     "output_type": "stream",
     "text": [
      "[Parallel(n_jobs=-1)]: Done  56 tasks      | elapsed:    7.8s\n"
     ]
    },
    {
     "name": "stdout",
     "output_type": "stream",
     "text": [
      "[CV]  max_depth=2, n_estimators=750, max_features=1, score=-0.03326196875615165, total=   1.1s\n",
      "[CV] max_depth=2, n_estimators=750, max_features=2 ...................\n",
      "[CV]  max_depth=2, n_estimators=750, max_features=1, score=-0.029372254220255134, total=   1.1s\n",
      "[CV] max_depth=2, n_estimators=750, max_features=2 ...................\n",
      "[CV]  max_depth=2, n_estimators=500, max_features=2, score=-0.03490453307554136, total=   0.8s\n",
      "[CV] max_depth=2, n_estimators=750, max_features=2 ...................\n",
      "[CV]  max_depth=2, n_estimators=500, max_features=2, score=-0.039379345494815365, total=   0.8s\n",
      "[CV] max_depth=2, n_estimators=500, max_features=3 ...................\n",
      "[CV]  max_depth=2, n_estimators=500, max_features=2, score=-0.032862573735565406, total=   0.8s\n",
      "[CV] max_depth=2, n_estimators=500, max_features=3 ...................\n",
      "[CV]  max_depth=2, n_estimators=500, max_features=2, score=-0.029881280719450763, total=   0.8s\n",
      "[CV] max_depth=2, n_estimators=500, max_features=3 ...................\n",
      "[CV]  max_depth=2, n_estimators=750, max_features=2, score=-0.02690959183772561, total=   1.2s\n",
      "[CV] max_depth=2, n_estimators=500, max_features=3 ...................\n",
      "[CV]  max_depth=2, n_estimators=750, max_features=2, score=-0.03933033465338934, total=   1.2s\n",
      "[CV] max_depth=2, n_estimators=500, max_features=3 ...................\n",
      "[CV]  max_depth=2, n_estimators=500, max_features=3, score=-0.027134548728443408, total=   0.9s\n",
      "[CV] max_depth=2, n_estimators=750, max_features=3 ...................\n",
      "[CV]  max_depth=2, n_estimators=750, max_features=2, score=-0.034931062848301477, total=   1.2s\n",
      "[CV] max_depth=2, n_estimators=750, max_features=3 ...................\n",
      "[CV]  max_depth=2, n_estimators=750, max_features=2, score=-0.03282456632471178, total=   1.2s\n",
      "[CV] max_depth=2, n_estimators=750, max_features=3 ...................\n",
      "[CV]  max_depth=2, n_estimators=750, max_features=2, score=-0.029750810983096936, total=   1.2s\n",
      "[CV] max_depth=2, n_estimators=750, max_features=3 ...................\n",
      "[CV]  max_depth=2, n_estimators=500, max_features=3, score=-0.035303042289423325, total=   0.8s\n",
      "[CV]  max_depth=2, n_estimators=500, max_features=3, score=-0.03937592340759818, total=   0.9s\n",
      "[CV] max_depth=2, n_estimators=750, max_features=3 ...................\n",
      "[CV] max_depth=2, n_estimators=500, max_features=4 ...................\n"
     ]
    },
    {
     "name": "stderr",
     "output_type": "stream",
     "text": [
      "[Parallel(n_jobs=-1)]: Done  69 tasks      | elapsed:    9.3s\n"
     ]
    },
    {
     "name": "stdout",
     "output_type": "stream",
     "text": [
      "[CV]  max_depth=2, n_estimators=500, max_features=3, score=-0.03270189370431062, total=   0.9s\n",
      "[CV] max_depth=2, n_estimators=500, max_features=4 ...................\n",
      "[CV]  max_depth=2, n_estimators=500, max_features=3, score=-0.03044575337643602, total=   0.9s\n",
      "[CV] max_depth=2, n_estimators=500, max_features=4 ...................\n",
      "[CV]  max_depth=2, n_estimators=500, max_features=4, score=-0.02724138949935999, total=   0.9s\n",
      "[CV] max_depth=2, n_estimators=500, max_features=4 ...................\n",
      "[CV]  max_depth=2, n_estimators=750, max_features=3, score=-0.027147491970427873, total=   1.3s\n",
      "[CV] max_depth=2, n_estimators=500, max_features=4 ...................\n",
      "[CV]  max_depth=2, n_estimators=750, max_features=3, score=-0.03935843814017415, total=   1.3s\n",
      "[CV] max_depth=2, n_estimators=750, max_features=4 ...................\n",
      "[CV]  max_depth=2, n_estimators=750, max_features=3, score=-0.035382681191431675, total=   1.3s\n",
      "[CV] max_depth=2, n_estimators=750, max_features=4 ...................\n",
      "[CV]  max_depth=2, n_estimators=750, max_features=3, score=-0.03269129329523199, total=   1.3s\n",
      "[CV] max_depth=2, n_estimators=750, max_features=4 ...................\n",
      "[CV]  max_depth=2, n_estimators=750, max_features=3, score=-0.030439005635984864, total=   1.3s\n",
      "[CV] max_depth=2, n_estimators=750, max_features=4 ...................\n",
      "[CV]  max_depth=2, n_estimators=500, max_features=4, score=-0.03963989383495567, total=   1.0s\n",
      "[CV] max_depth=2, n_estimators=750, max_features=4 ...................\n",
      "[CV]  max_depth=2, n_estimators=500, max_features=4, score=-0.03570184337916239, total=   1.0s\n",
      "[CV] max_depth=2, n_estimators=500, max_features=5 ...................\n"
     ]
    },
    {
     "name": "stderr",
     "output_type": "stream",
     "text": [
      "[Parallel(n_jobs=-1)]: Done  82 tasks      | elapsed:   11.0s\n"
     ]
    },
    {
     "name": "stdout",
     "output_type": "stream",
     "text": [
      "[CV]  max_depth=2, n_estimators=500, max_features=4, score=-0.032789031708971565, total=   0.9s\n",
      "[CV] max_depth=2, n_estimators=500, max_features=5 ...................\n",
      "[CV]  max_depth=2, n_estimators=500, max_features=4, score=-0.0306407838339416, total=   0.9s\n",
      "[CV] max_depth=2, n_estimators=500, max_features=5 ...................\n",
      "[CV]  max_depth=2, n_estimators=750, max_features=4, score=-0.027292694352683, total=   1.4s\n",
      "[CV] max_depth=2, n_estimators=500, max_features=5 ...................\n",
      "[CV]  max_depth=2, n_estimators=500, max_features=5, score=-0.02737785449295079, total=   1.0s\n",
      "[CV] max_depth=2, n_estimators=500, max_features=5 ...................\n",
      "[CV]  max_depth=2, n_estimators=750, max_features=4, score=-0.039555929489104975, total=   1.4s\n",
      "[CV] max_depth=2, n_estimators=750, max_features=5 ...................\n",
      "[CV]  max_depth=2, n_estimators=750, max_features=4, score=-0.03564287632843223, total=   1.4s\n",
      "[CV] max_depth=2, n_estimators=750, max_features=5 ...................\n",
      "[CV]  max_depth=2, n_estimators=750, max_features=4, score=-0.032801679172992655, total=   1.4s\n",
      "[CV] max_depth=2, n_estimators=750, max_features=5 ...................\n",
      "[CV]  max_depth=2, n_estimators=750, max_features=4, score=-0.030661977732336084, total=   1.4s\n",
      "[CV] max_depth=2, n_estimators=750, max_features=5 ...................\n",
      "[CV]  max_depth=2, n_estimators=500, max_features=5, score=-0.0398827072145025, total=   1.0s\n",
      "[CV] max_depth=2, n_estimators=750, max_features=5 ...................\n",
      "[CV]  max_depth=2, n_estimators=500, max_features=5, score=-0.03581069049133499, total=   1.0s\n",
      "[CV] max_depth=3, n_estimators=500, max_features=1 ...................\n",
      "[CV]  max_depth=2, n_estimators=500, max_features=5, score=-0.03271202944665682, total=   1.0s\n",
      "[CV] max_depth=3, n_estimators=500, max_features=1 ...................\n",
      "[CV]  max_depth=2, n_estimators=500, max_features=5, score=-0.03072177487975035, total=   1.0s\n",
      "[CV] max_depth=3, n_estimators=500, max_features=1 ...................\n",
      "[CV]  max_depth=3, n_estimators=500, max_features=1, score=-0.014706574721904994, total=   0.8s\n",
      "[CV] max_depth=3, n_estimators=500, max_features=1 ...................\n",
      "[CV]  max_depth=2, n_estimators=750, max_features=5, score=-0.027455267576815455, total=   1.5s\n",
      "[CV] max_depth=3, n_estimators=500, max_features=1 ...................\n",
      "[CV]  max_depth=2, n_estimators=750, max_features=5, score=-0.03982914264802894, total=   1.5s\n",
      "[CV]  max_depth=2, n_estimators=750, max_features=5, score=-0.03580712945181142, total=   1.5s\n",
      "[CV] max_depth=3, n_estimators=750, max_features=1 ...................\n",
      "[CV] max_depth=3, n_estimators=750, max_features=1 ...................\n"
     ]
    },
    {
     "name": "stderr",
     "output_type": "stream",
     "text": [
      "[Parallel(n_jobs=-1)]: Done  97 tasks      | elapsed:   13.8s\n"
     ]
    },
    {
     "name": "stdout",
     "output_type": "stream",
     "text": [
      "[CV]  max_depth=3, n_estimators=500, max_features=1, score=-0.025073298845180267, total=   0.8s\n",
      "[CV] max_depth=3, n_estimators=750, max_features=1 ...................\n",
      "[CV]  max_depth=2, n_estimators=750, max_features=5, score=-0.032649995039015306, total=   1.5s\n",
      "[CV] max_depth=3, n_estimators=750, max_features=1 ...................\n",
      "[CV]  max_depth=2, n_estimators=750, max_features=5, score=-0.03075998327350568, total=   1.5s\n",
      "[CV] max_depth=3, n_estimators=750, max_features=1 ...................\n",
      "[CV]  max_depth=3, n_estimators=500, max_features=1, score=-0.020753992536007307, total=   0.8s\n",
      "[CV] max_depth=3, n_estimators=500, max_features=2 ...................\n",
      "[CV]  max_depth=3, n_estimators=500, max_features=1, score=-0.01794919459032966, total=   0.8s\n",
      "[CV] max_depth=3, n_estimators=500, max_features=2 ...................\n",
      "[CV]  max_depth=3, n_estimators=500, max_features=1, score=-0.01932771613772205, total=   0.8s\n",
      "[CV] max_depth=3, n_estimators=500, max_features=2 ...................\n",
      "[CV]  max_depth=3, n_estimators=500, max_features=2, score=-0.014530565341858516, total=   0.9s\n",
      "[CV] max_depth=3, n_estimators=500, max_features=2 ...................\n",
      "[CV]  max_depth=3, n_estimators=500, max_features=2, score=-0.024682805807373885, total=   0.9s\n",
      "[CV] max_depth=3, n_estimators=500, max_features=2 ...................\n",
      "[CV]  max_depth=3, n_estimators=750, max_features=1, score=-0.014697971866729838, total=   1.2s\n",
      "[CV] max_depth=3, n_estimators=750, max_features=2 ...................\n",
      "[CV]  max_depth=3, n_estimators=750, max_features=1, score=-0.025071721956280626, total=   1.2s\n",
      "[CV] max_depth=3, n_estimators=750, max_features=2 ...................\n",
      "[CV]  max_depth=3, n_estimators=750, max_features=1, score=-0.01932994444862672, total=   1.1s\n",
      "[CV]  max_depth=3, n_estimators=750, max_features=1, score=-0.017936730305577873, total=   1.1s\n",
      "[CV] max_depth=3, n_estimators=750, max_features=2 ...................\n",
      "[CV] max_depth=3, n_estimators=750, max_features=2 ...................\n",
      "[CV]  max_depth=3, n_estimators=750, max_features=1, score=-0.020742033325052697, total=   1.1s\n",
      "[CV] max_depth=3, n_estimators=750, max_features=2 ...................\n"
     ]
    },
    {
     "name": "stderr",
     "output_type": "stream",
     "text": [
      "[Parallel(n_jobs=-1)]: Done 112 tasks      | elapsed:   15.3s\n"
     ]
    },
    {
     "name": "stdout",
     "output_type": "stream",
     "text": [
      "[CV]  max_depth=3, n_estimators=500, max_features=2, score=-0.020558814832718122, total=   0.9s\n",
      "[CV] max_depth=3, n_estimators=500, max_features=3 ...................\n",
      "[CV]  max_depth=3, n_estimators=500, max_features=2, score=-0.017196608552261038, total=   0.9s\n",
      "[CV] max_depth=3, n_estimators=500, max_features=3 ...................\n",
      "[CV]  max_depth=3, n_estimators=500, max_features=2, score=-0.01897312674004159, total=   0.9s\n",
      "[CV] max_depth=3, n_estimators=500, max_features=3 ...................\n",
      "[CV]  max_depth=3, n_estimators=750, max_features=2, score=-0.024639049465044954, total=   1.3s\n",
      "[CV] max_depth=3, n_estimators=500, max_features=3 ...................\n",
      "[CV]  max_depth=3, n_estimators=750, max_features=2, score=-0.014525720330689702, total=   1.3s\n",
      "[CV] max_depth=3, n_estimators=500, max_features=3 ...................\n",
      "[CV]  max_depth=3, n_estimators=500, max_features=3, score=-0.014559370422036248, total=   1.0s\n",
      "[CV] max_depth=3, n_estimators=750, max_features=3 ...................\n",
      "[CV]  max_depth=3, n_estimators=750, max_features=2, score=-0.020604604798587344, total=   1.3s\n",
      "[CV] max_depth=3, n_estimators=750, max_features=3 ...................\n",
      "[CV]  max_depth=3, n_estimators=750, max_features=2, score=-0.01720783101022949, total=   1.3s\n",
      "[CV] max_depth=3, n_estimators=750, max_features=3 ...................\n",
      "[CV]  max_depth=3, n_estimators=750, max_features=2, score=-0.018911533840845145, total=   1.4s\n",
      "[CV] max_depth=3, n_estimators=750, max_features=3 ...................\n",
      "[CV]  max_depth=3, n_estimators=500, max_features=3, score=-0.024600397403542855, total=   1.0s\n",
      "[CV] max_depth=3, n_estimators=750, max_features=3 ...................\n",
      "[CV]  max_depth=3, n_estimators=500, max_features=3, score=-0.020605048666110556, total=   1.0s\n",
      "[CV] max_depth=3, n_estimators=500, max_features=4 ...................\n",
      "[CV]  max_depth=3, n_estimators=500, max_features=3, score=-0.016924376735366498, total=   1.0s\n",
      "[CV] max_depth=3, n_estimators=500, max_features=4 ...................\n",
      "[CV]  max_depth=3, n_estimators=500, max_features=3, score=-0.019121471886744658, total=   1.0s\n",
      "[CV] max_depth=3, n_estimators=500, max_features=4 ...................\n",
      "[CV]  max_depth=3, n_estimators=750, max_features=3, score=-0.014560638493828297, total=   1.5s\n",
      "[CV] max_depth=3, n_estimators=500, max_features=4 ...................\n",
      "[CV]  max_depth=3, n_estimators=750, max_features=3, score=-0.02464067573731838, total=   1.5s\n",
      "[CV] max_depth=3, n_estimators=500, max_features=4 ...................\n",
      "[CV]  max_depth=3, n_estimators=750, max_features=3, score=-0.01694406919637354, total=   1.4s\n",
      "[CV]  max_depth=3, n_estimators=750, max_features=3, score=-0.020598483017747103, total=   1.5s\n",
      "[CV] max_depth=3, n_estimators=750, max_features=4 ...................\n",
      "[CV]  max_depth=3, n_estimators=500, max_features=4, score=-0.014647438883132346, total=   1.1s\n",
      "[CV] max_depth=3, n_estimators=750, max_features=4 ...................\n",
      "[CV] max_depth=3, n_estimators=750, max_features=4 ...................\n"
     ]
    },
    {
     "name": "stderr",
     "output_type": "stream",
     "text": [
      "[Parallel(n_jobs=-1)]: Done 129 tasks      | elapsed:   18.3s\n"
     ]
    },
    {
     "name": "stdout",
     "output_type": "stream",
     "text": [
      "[CV]  max_depth=3, n_estimators=750, max_features=3, score=-0.019109623272861274, total=   1.5s\n",
      "[CV] max_depth=3, n_estimators=750, max_features=4 ...................\n",
      "[CV]  max_depth=3, n_estimators=500, max_features=4, score=-0.02510724671785436, total=   1.1s\n",
      "[CV] max_depth=3, n_estimators=750, max_features=4 ...................\n",
      "[CV]  max_depth=3, n_estimators=500, max_features=4, score=-0.020765713504746118, total=   1.1s\n",
      "[CV] max_depth=3, n_estimators=500, max_features=5 ...................\n",
      "[CV]  max_depth=3, n_estimators=500, max_features=4, score=-0.016910163164842746, total=   1.1s\n",
      "[CV] max_depth=3, n_estimators=500, max_features=5 ...................\n",
      "[CV]  max_depth=3, n_estimators=500, max_features=4, score=-0.019251340489794214, total=   1.1s\n",
      "[CV] max_depth=3, n_estimators=500, max_features=5 ...................\n",
      "[CV]  max_depth=3, n_estimators=750, max_features=4, score=-0.014628229015523563, total=   1.6s\n",
      "[CV] max_depth=3, n_estimators=500, max_features=5 ...................\n",
      "[CV]  max_depth=3, n_estimators=750, max_features=4, score=-0.025042901269129284, total=   1.6s\n",
      "[CV] max_depth=3, n_estimators=500, max_features=5 ...................\n",
      "[CV]  max_depth=3, n_estimators=750, max_features=4, score=-0.020717986584359895, total=   1.6s\n",
      "[CV] max_depth=3, n_estimators=750, max_features=5 ...................\n",
      "[CV]  max_depth=3, n_estimators=500, max_features=5, score=-0.014651006069963286, total=   1.2s\n",
      "[CV] max_depth=3, n_estimators=750, max_features=5 ...................\n",
      "[CV]  max_depth=3, n_estimators=750, max_features=4, score=-0.016922565404050956, total=   1.6s\n",
      "[CV] max_depth=3, n_estimators=750, max_features=5 ...................\n",
      "[CV]  max_depth=3, n_estimators=750, max_features=4, score=-0.01932958369914707, total=   1.6s\n",
      "[CV] max_depth=3, n_estimators=750, max_features=5 ...................\n",
      "[CV]  max_depth=3, n_estimators=500, max_features=5, score=-0.02078620775196018, total=   1.2s\n",
      "[CV]  max_depth=3, n_estimators=500, max_features=5, score=-0.025406602475678813, total=   1.2s\n",
      "[CV] max_depth=4, n_estimators=500, max_features=1 ...................\n",
      "[CV] max_depth=3, n_estimators=750, max_features=5 ...................\n",
      "[CV]  max_depth=3, n_estimators=500, max_features=5, score=-0.016865402084384744, total=   1.2s\n",
      "[CV] max_depth=4, n_estimators=500, max_features=1 ...................\n",
      "[CV]  max_depth=3, n_estimators=500, max_features=5, score=-0.019400974129255306, total=   1.2s\n",
      "[CV] max_depth=4, n_estimators=500, max_features=1 ...................\n",
      "[CV]  max_depth=4, n_estimators=500, max_features=1, score=-0.012252367926862384, total=   0.8s\n",
      "[CV] max_depth=4, n_estimators=500, max_features=1 ...................\n"
     ]
    },
    {
     "name": "stderr",
     "output_type": "stream",
     "text": [
      "[Parallel(n_jobs=-1)]: Done 146 tasks      | elapsed:   21.4s\n"
     ]
    },
    {
     "name": "stdout",
     "output_type": "stream",
     "text": [
      "[CV]  max_depth=3, n_estimators=750, max_features=5, score=-0.02526917201688885, total=   1.8s\n",
      "[CV] max_depth=4, n_estimators=500, max_features=1 ...................\n",
      "[CV]  max_depth=3, n_estimators=750, max_features=5, score=-0.014674418837649375, total=   1.8s\n",
      "[CV] max_depth=4, n_estimators=750, max_features=1 ...................\n",
      "[CV]  max_depth=4, n_estimators=500, max_features=1, score=-0.02012755584089462, total=   0.8s\n",
      "[CV] max_depth=4, n_estimators=750, max_features=1 ...................\n",
      "[CV]  max_depth=4, n_estimators=500, max_features=1, score=-0.017653345498146743, total=   0.8s\n",
      "[CV] max_depth=4, n_estimators=750, max_features=1 ...................\n",
      "[CV]  max_depth=3, n_estimators=750, max_features=5, score=-0.020773270502893012, total=   1.8s\n",
      "[CV] max_depth=4, n_estimators=750, max_features=1 ...................\n",
      "[CV]  max_depth=3, n_estimators=750, max_features=5, score=-0.016875379885898115, total=   1.8s\n",
      "[CV] max_depth=4, n_estimators=750, max_features=1 ...................\n",
      "[CV]  max_depth=4, n_estimators=500, max_features=1, score=-0.013560100543301553, total=   0.8s\n",
      "[CV] max_depth=4, n_estimators=500, max_features=2 ...................\n",
      "[CV]  max_depth=3, n_estimators=750, max_features=5, score=-0.01942033817773015, total=   1.7s\n",
      "[CV] max_depth=4, n_estimators=500, max_features=2 ...................\n",
      "[CV]  max_depth=4, n_estimators=500, max_features=1, score=-0.0153915050191801, total=   0.8s\n",
      "[CV] max_depth=4, n_estimators=500, max_features=2 ...................\n",
      "[CV]  max_depth=4, n_estimators=750, max_features=1, score=-0.012266157003013266, total=   1.3s\n",
      "[CV] max_depth=4, n_estimators=500, max_features=2 ...................\n",
      "[CV]  max_depth=4, n_estimators=500, max_features=2, score=-0.012239792691587266, total=   0.9s\n",
      "[CV] max_depth=4, n_estimators=500, max_features=2 ...................\n",
      "[CV]  max_depth=4, n_estimators=750, max_features=1, score=-0.02015940351136015, total=   1.2s\n",
      "[CV] max_depth=4, n_estimators=750, max_features=2 ...................\n",
      "[CV]  max_depth=4, n_estimators=500, max_features=2, score=-0.019828032967287017, total=   1.0s\n",
      "[CV]  max_depth=4, n_estimators=750, max_features=1, score=-0.017627179365425124, total=   1.2s\n",
      "[CV] max_depth=4, n_estimators=750, max_features=2 ...................\n",
      "[CV] max_depth=4, n_estimators=750, max_features=2 ...................\n",
      "[CV]  max_depth=4, n_estimators=750, max_features=1, score=-0.013570844822660213, total=   1.2s\n",
      "[CV] max_depth=4, n_estimators=750, max_features=2 ...................\n",
      "[CV]  max_depth=4, n_estimators=750, max_features=1, score=-0.01542677434472124, total=   1.2s\n",
      "[CV] max_depth=4, n_estimators=750, max_features=2 ...................\n",
      "[CV]  max_depth=4, n_estimators=500, max_features=2, score=-0.01741932531334613, total=   1.0s\n",
      "[CV] max_depth=4, n_estimators=500, max_features=3 ...................\n",
      "[CV]  max_depth=4, n_estimators=500, max_features=2, score=-0.013356686108511867, total=   0.9s\n",
      "[CV] max_depth=4, n_estimators=500, max_features=3 ...................\n",
      "[CV]  max_depth=4, n_estimators=500, max_features=2, score=-0.015120810009549873, total=   0.9s\n",
      "[CV] max_depth=4, n_estimators=500, max_features=3 ...................\n"
     ]
    },
    {
     "name": "stderr",
     "output_type": "stream",
     "text": [
      "[Parallel(n_jobs=-1)]: Done 165 tasks      | elapsed:   24.3s\n"
     ]
    },
    {
     "name": "stdout",
     "output_type": "stream",
     "text": [
      "[CV]  max_depth=4, n_estimators=750, max_features=2, score=-0.017411506159128207, total=   1.4s\n",
      "[CV]  max_depth=4, n_estimators=500, max_features=3, score=-0.012379868011432149, total=   1.1s\n",
      "[CV] max_depth=4, n_estimators=500, max_features=3 ...................\n",
      "[CV] max_depth=4, n_estimators=500, max_features=3 ...................\n",
      "[CV]  max_depth=4, n_estimators=750, max_features=2, score=-0.012225628385335557, total=   1.5s\n",
      "[CV] max_depth=4, n_estimators=750, max_features=3 ...................\n",
      "[CV]  max_depth=4, n_estimators=750, max_features=2, score=-0.019812340072496784, total=   1.5s\n",
      "[CV] max_depth=4, n_estimators=750, max_features=3 ...................\n",
      "[CV]  max_depth=4, n_estimators=750, max_features=2, score=-0.013351500487161334, total=   1.4s\n",
      "[CV] max_depth=4, n_estimators=750, max_features=3 ...................\n",
      "[CV]  max_depth=4, n_estimators=750, max_features=2, score=-0.015128362866168586, total=   1.4s\n",
      "[CV] max_depth=4, n_estimators=750, max_features=3 ...................\n",
      "[CV]  max_depth=4, n_estimators=500, max_features=3, score=-0.020007919237028906, total=   1.1s\n",
      "[CV] max_depth=4, n_estimators=750, max_features=3 ...................\n",
      "[CV]  max_depth=4, n_estimators=500, max_features=3, score=-0.017203704257418316, total=   1.1s\n",
      "[CV] max_depth=4, n_estimators=500, max_features=4 ...................\n",
      "[CV]  max_depth=4, n_estimators=500, max_features=3, score=-0.015224376276258545, total=   1.1s\n",
      "[CV] max_depth=4, n_estimators=500, max_features=4 ...................\n",
      "[CV]  max_depth=4, n_estimators=500, max_features=3, score=-0.013217934028795564, total=   1.1s\n",
      "[CV] max_depth=4, n_estimators=500, max_features=4 ...................\n",
      "[CV]  max_depth=4, n_estimators=750, max_features=3, score=-0.012346292688090127, total=   1.6s\n",
      "[CV] max_depth=4, n_estimators=500, max_features=4 ...................\n",
      "[CV]  max_depth=4, n_estimators=750, max_features=3, score=-0.019980646878026222, total=   1.6s\n",
      "[CV] max_depth=4, n_estimators=500, max_features=4 ...................\n",
      "[CV]  max_depth=4, n_estimators=750, max_features=3, score=-0.017200642480800325, total=   1.6s\n",
      "[CV] max_depth=4, n_estimators=750, max_features=4 ...................\n",
      "[CV]  max_depth=4, n_estimators=500, max_features=4, score=-0.012417201237378075, total=   1.2s\n",
      "[CV] max_depth=4, n_estimators=750, max_features=4 ...................\n",
      "[CV]  max_depth=4, n_estimators=750, max_features=3, score=-0.013199070694160842, total=   1.6s\n",
      "[CV] max_depth=4, n_estimators=750, max_features=4 ...................\n",
      "[CV]  max_depth=4, n_estimators=750, max_features=3, score=-0.015145476842980402, total=   1.6s\n",
      "[CV] max_depth=4, n_estimators=750, max_features=4 ...................\n",
      "[CV]  max_depth=4, n_estimators=500, max_features=4, score=-0.02000848987868045, total=   1.2s\n",
      "[CV] max_depth=4, n_estimators=750, max_features=4 ...................\n",
      "[CV]  max_depth=4, n_estimators=500, max_features=4, score=-0.01727283881437585, total=   1.2s\n",
      "[CV] max_depth=4, n_estimators=500, max_features=5 ...................\n",
      "[CV]  max_depth=4, n_estimators=500, max_features=4, score=-0.013201259810861565, total=   1.2s\n",
      "[CV] max_depth=4, n_estimators=500, max_features=5 ...................\n",
      "[CV]  max_depth=4, n_estimators=500, max_features=4, score=-0.015087606573365036, total=   1.2s\n",
      "[CV] max_depth=4, n_estimators=500, max_features=5 ...................\n"
     ]
    },
    {
     "name": "stderr",
     "output_type": "stream",
     "text": [
      "[Parallel(n_jobs=-1)]: Done 184 tasks      | elapsed:   27.9s\n"
     ]
    },
    {
     "name": "stdout",
     "output_type": "stream",
     "text": [
      "[CV]  max_depth=4, n_estimators=750, max_features=4, score=-0.019975718060778552, total=   1.8s\n",
      "[CV] max_depth=4, n_estimators=500, max_features=5 ...................\n",
      "[CV]  max_depth=4, n_estimators=750, max_features=4, score=-0.01238772873297385, total=   1.9s\n",
      "[CV] max_depth=4, n_estimators=500, max_features=5 ...................\n",
      "[CV]  max_depth=4, n_estimators=750, max_features=4, score=-0.017272795733954398, total=   1.8s\n",
      "[CV] max_depth=4, n_estimators=750, max_features=5 ...................\n",
      "[CV]  max_depth=4, n_estimators=500, max_features=5, score=-0.012438408970263944, total=   1.3s\n",
      "[CV] max_depth=4, n_estimators=750, max_features=5 ...................\n",
      "[CV]  max_depth=4, n_estimators=750, max_features=4, score=-0.013244864845903889, total=   1.8s\n",
      "[CV] max_depth=4, n_estimators=750, max_features=5 ...................\n",
      "[CV]  max_depth=4, n_estimators=750, max_features=4, score=-0.015074616342877491, total=   1.8s\n",
      "[CV] max_depth=4, n_estimators=750, max_features=5 ...................\n",
      "[CV]  max_depth=4, n_estimators=500, max_features=5, score=-0.017168569441917976, total=   1.4s\n",
      "[CV]  max_depth=4, n_estimators=500, max_features=5, score=-0.02025603632124395, total=   1.4s\n",
      "[CV] max_depth=4, n_estimators=750, max_features=5 ...................\n",
      "[CV] max_depth=5, n_estimators=500, max_features=1 ...................\n",
      "[CV]  max_depth=4, n_estimators=500, max_features=5, score=-0.013278438705487373, total=   1.3s\n",
      "[CV] max_depth=5, n_estimators=500, max_features=1 ...................\n",
      "[CV]  max_depth=4, n_estimators=500, max_features=5, score=-0.01522706561731723, total=   1.4s\n",
      "[CV] max_depth=5, n_estimators=500, max_features=1 ...................\n",
      "[CV]  max_depth=5, n_estimators=500, max_features=1, score=-0.013069303228961573, total=   0.8s\n",
      "[CV] max_depth=5, n_estimators=500, max_features=1 ...................\n",
      "[CV]  max_depth=4, n_estimators=750, max_features=5, score=-0.012437588459673937, total=   2.0s\n",
      "[CV] max_depth=5, n_estimators=500, max_features=1 ...................\n",
      "[CV]  max_depth=4, n_estimators=750, max_features=5, score=-0.020179566363797304, total=   2.0s\n",
      "[CV] max_depth=5, n_estimators=750, max_features=1 ...................\n",
      "[CV]  max_depth=5, n_estimators=500, max_features=1, score=-0.01883264615886645, total=   0.8s\n",
      "[CV] max_depth=5, n_estimators=750, max_features=1 ...................\n",
      "[CV]  max_depth=5, n_estimators=500, max_features=1, score=-0.017516084455905953, total=   0.9s\n",
      "[CV]  max_depth=4, n_estimators=750, max_features=5, score=-0.01716862294935834, total=   2.0s\n",
      "[CV] max_depth=5, n_estimators=750, max_features=1 ...................\n",
      "[CV] max_depth=5, n_estimators=750, max_features=1 ...................\n",
      "[CV]  max_depth=5, n_estimators=500, max_features=1, score=-0.01201296863711261, total=   0.8s\n",
      "[CV] max_depth=5, n_estimators=750, max_features=1 ...................\n",
      "[CV]  max_depth=4, n_estimators=750, max_features=5, score=-0.013297421314420525, total=   2.0s\n",
      "[CV] max_depth=5, n_estimators=500, max_features=2 ...................\n",
      "[CV]  max_depth=4, n_estimators=750, max_features=5, score=-0.015205479432845975, total=   2.0s\n",
      "[CV] max_depth=5, n_estimators=500, max_features=2 ...................\n",
      "[CV]  max_depth=5, n_estimators=500, max_features=1, score=-0.015272211694572818, total=   0.8s\n",
      "[CV] max_depth=5, n_estimators=500, max_features=2 ...................\n"
     ]
    },
    {
     "name": "stderr",
     "output_type": "stream",
     "text": [
      "[Parallel(n_jobs=-1)]: Done 205 tasks      | elapsed:   31.6s\n"
     ]
    },
    {
     "name": "stdout",
     "output_type": "stream",
     "text": [
      "[CV]  max_depth=5, n_estimators=750, max_features=1, score=-0.0130562502695408, total=   1.3s\n",
      "[CV] max_depth=5, n_estimators=500, max_features=2 ...................\n",
      "[CV]  max_depth=5, n_estimators=750, max_features=1, score=-0.018789529919649176, total=   1.3s\n",
      "[CV] max_depth=5, n_estimators=500, max_features=2 ...................\n",
      "[CV]  max_depth=5, n_estimators=500, max_features=2, score=-0.013227359133927467, total=   1.0s\n",
      "[CV]  max_depth=5, n_estimators=750, max_features=1, score=-0.01751263556244757, total=   1.3s\n",
      "[CV] max_depth=5, n_estimators=750, max_features=2 ...................\n",
      "[CV] max_depth=5, n_estimators=750, max_features=2 ...................\n",
      "[CV]  max_depth=5, n_estimators=750, max_features=1, score=-0.012054857573619404, total=   1.3s\n",
      "[CV] max_depth=5, n_estimators=750, max_features=2 ...................\n",
      "[CV]  max_depth=5, n_estimators=500, max_features=2, score=-0.0187255028308181, total=   1.0s\n",
      "[CV] max_depth=5, n_estimators=750, max_features=2 ...................\n",
      "[CV]  max_depth=5, n_estimators=750, max_features=1, score=-0.01520288887858897, total=   1.3s\n",
      "[CV] max_depth=5, n_estimators=750, max_features=2 ...................\n",
      "[CV]  max_depth=5, n_estimators=500, max_features=2, score=-0.017386739032783465, total=   1.0s\n",
      "[CV] max_depth=5, n_estimators=500, max_features=3 ...................\n",
      "[CV]  max_depth=5, n_estimators=500, max_features=2, score=-0.011865696195397698, total=   1.0s\n",
      "[CV] max_depth=5, n_estimators=500, max_features=3 ...................\n",
      "[CV]  max_depth=5, n_estimators=500, max_features=2, score=-0.015217724138521849, total=   1.0s\n",
      "[CV] max_depth=5, n_estimators=500, max_features=3 ...................\n",
      "[CV]  max_depth=5, n_estimators=750, max_features=2, score=-0.018750072814669515, total=   1.5s\n",
      "[CV]  max_depth=5, n_estimators=500, max_features=3, score=-0.013438784417763465, total=   1.2s\n",
      "[CV] max_depth=5, n_estimators=500, max_features=3 ...................\n",
      "[CV]  max_depth=5, n_estimators=750, max_features=2, score=-0.017322910478202343, total=   1.5s\n",
      "[CV]  max_depth=5, n_estimators=750, max_features=2, score=-0.013195278514194258, total=   1.5s\n",
      "[CV] max_depth=5, n_estimators=750, max_features=3 ...................\n",
      "[CV] max_depth=5, n_estimators=750, max_features=3 ...................\n",
      "[CV] max_depth=5, n_estimators=500, max_features=3 ...................\n",
      "[CV]  max_depth=5, n_estimators=750, max_features=2, score=-0.011857367485029522, total=   1.5s\n",
      "[CV] max_depth=5, n_estimators=750, max_features=3 ...................\n",
      "[CV]  max_depth=5, n_estimators=750, max_features=2, score=-0.0151765025621102, total=   1.5s\n",
      "[CV] max_depth=5, n_estimators=750, max_features=3 ...................\n",
      "[CV]  max_depth=5, n_estimators=500, max_features=3, score=-0.018999902702511735, total=   1.2s\n",
      "[CV] max_depth=5, n_estimators=750, max_features=3 ...................\n",
      "[CV]  max_depth=5, n_estimators=500, max_features=3, score=-0.017279412625548902, total=   1.2s\n",
      "[CV] max_depth=5, n_estimators=500, max_features=4 ...................\n",
      "[CV]  max_depth=5, n_estimators=500, max_features=3, score=-0.015223330951813685, total=   1.1s\n",
      "[CV] max_depth=5, n_estimators=500, max_features=4 ...................\n",
      "[CV]  max_depth=5, n_estimators=500, max_features=3, score=-0.011935042206204411, total=   1.2s\n",
      "[CV] max_depth=5, n_estimators=500, max_features=4 ...................\n",
      "[CV]  max_depth=5, n_estimators=750, max_features=3, score=-0.013412993133150863, total=   1.8s\n",
      "[CV] max_depth=5, n_estimators=500, max_features=4 ...................\n",
      "[CV]  max_depth=5, n_estimators=750, max_features=3, score=-0.01891033734318208, total=   1.8s\n",
      "[CV]  max_depth=5, n_estimators=750, max_features=3, score=-0.01728991160309333, total=   1.7s\n",
      "[CV] max_depth=5, n_estimators=500, max_features=4 ...................\n",
      "[CV] max_depth=5, n_estimators=750, max_features=4 ...................\n",
      "[CV]  max_depth=5, n_estimators=750, max_features=3, score=-0.011921744738451414, total=   1.8s\n",
      "[CV] max_depth=5, n_estimators=750, max_features=4 ...................\n",
      "[CV]  max_depth=5, n_estimators=500, max_features=4, score=-0.01355377379037866, total=   1.3s\n",
      "[CV] max_depth=5, n_estimators=750, max_features=4 ...................\n"
     ]
    },
    {
     "name": "stderr",
     "output_type": "stream",
     "text": [
      "[Parallel(n_jobs=-1)]: Done 226 tasks      | elapsed:   35.8s\n"
     ]
    },
    {
     "name": "stdout",
     "output_type": "stream",
     "text": [
      "[CV]  max_depth=5, n_estimators=750, max_features=3, score=-0.015140703143627513, total=   1.8s\n",
      "[CV] max_depth=5, n_estimators=750, max_features=4 ...................\n",
      "[CV]  max_depth=5, n_estimators=500, max_features=4, score=-0.019110636287309697, total=   1.3s\n",
      "[CV] max_depth=5, n_estimators=750, max_features=4 ...................\n",
      "[CV]  max_depth=5, n_estimators=500, max_features=4, score=-0.017356942375398296, total=   1.3s\n",
      "[CV] max_depth=5, n_estimators=500, max_features=5 ...................\n",
      "[CV]  max_depth=5, n_estimators=500, max_features=4, score=-0.011997837482269787, total=   1.3s\n",
      "[CV] max_depth=5, n_estimators=500, max_features=5 ...................\n",
      "[CV]  max_depth=5, n_estimators=500, max_features=4, score=-0.015409894479927216, total=   1.4s\n",
      "[CV] max_depth=5, n_estimators=500, max_features=5 ...................\n",
      "[CV]  max_depth=5, n_estimators=750, max_features=4, score=-0.013524690417263212, total=   2.0s\n",
      "[CV] max_depth=5, n_estimators=500, max_features=5 ...................\n",
      "[CV]  max_depth=5, n_estimators=750, max_features=4, score=-0.019083718502426295, total=   2.0s\n",
      "[CV] max_depth=5, n_estimators=500, max_features=5 ...................\n",
      "[CV]  max_depth=5, n_estimators=750, max_features=4, score=-0.017350305270833945, total=   2.0s\n",
      "[CV] max_depth=5, n_estimators=750, max_features=5 ...................\n",
      "[CV]  max_depth=5, n_estimators=500, max_features=5, score=-0.01364121148498969, total=   1.5s\n",
      "[CV] max_depth=5, n_estimators=750, max_features=5 ...................\n",
      "[CV]  max_depth=5, n_estimators=750, max_features=4, score=-0.01202382212612166, total=   2.0s\n",
      "[CV] max_depth=5, n_estimators=750, max_features=5 ...................\n",
      "[CV]  max_depth=5, n_estimators=750, max_features=4, score=-0.015337824728098656, total=   2.0s\n",
      "[CV] max_depth=5, n_estimators=750, max_features=5 ...................\n",
      "[CV]  max_depth=5, n_estimators=500, max_features=5, score=-0.017346895887943976, total=   1.5s\n",
      "[CV] max_depth=5, n_estimators=750, max_features=5 ...................\n",
      "[CV]  max_depth=5, n_estimators=500, max_features=5, score=-0.019258955527484727, total=   1.5s\n",
      "[CV]  max_depth=5, n_estimators=500, max_features=5, score=-0.012198926039042341, total=   1.4s\n",
      "[CV]  max_depth=5, n_estimators=500, max_features=5, score=-0.015571324585928243, total=   1.5s\n",
      "[CV]  max_depth=5, n_estimators=750, max_features=5, score=-0.019263503565800602, total=   1.9s\n",
      "[CV]  max_depth=5, n_estimators=750, max_features=5, score=-0.01362068848218453, total=   2.0s\n",
      "[CV]  max_depth=5, n_estimators=750, max_features=5, score=-0.01735497716643277, total=   1.8s\n",
      "[CV]  max_depth=5, n_estimators=750, max_features=5, score=-0.01554808741821512, total=   1.7s\n",
      "[CV]  max_depth=5, n_estimators=750, max_features=5, score=-0.012202333844735132, total=   1.9s\n"
     ]
    },
    {
     "name": "stderr",
     "output_type": "stream",
     "text": [
      "[Parallel(n_jobs=-1)]: Done 250 out of 250 | elapsed:   40.6s finished\n"
     ]
    },
    {
     "name": "stdout",
     "output_type": "stream",
     "text": [
      "CPU times: user 1.33 s, sys: 108 ms, total: 1.44 s\n",
      "Wall time: 41.6 s\n"
     ]
    },
    {
     "data": {
      "text/plain": [
       "GridSearchCV(cv=5, error_score='raise',\n",
       "       estimator=RandomForestRegressor(bootstrap=True, criterion='mse', max_depth=1,\n",
       "           max_features=2, max_leaf_nodes=None, min_impurity_decrease=0.0,\n",
       "           min_impurity_split=None, min_samples_leaf=1,\n",
       "           min_samples_split=2, min_weight_fraction_leaf=0.0,\n",
       "           n_estimators=500, n_jobs=1, oob_score=False, random_state=67,\n",
       "           verbose=0, warm_start=False),\n",
       "       fit_params=None, iid=True, n_jobs=-1,\n",
       "       param_grid={'max_features': range(1, 6), 'n_estimators': [500, 750], 'max_depth': range(1, 6)},\n",
       "       pre_dispatch='2*n_jobs', refit=True, return_train_score='warn',\n",
       "       scoring='neg_mean_squared_log_error', verbose=10)"
      ]
     },
     "execution_count": 16,
     "metadata": {},
     "output_type": "execute_result"
    }
   ],
   "source": [
    "param_grid = { \"n_estimators\"      : [500, 750],\n",
    "           \"max_features\"      : range(1, 6),\n",
    "           \"max_depth\"         : range(1, 6)}\n",
    "meta_model.set_params(random_state=67)\n",
    "grid_search_tree = ms.GridSearchCV(meta_model, param_grid, cv=5, n_jobs=-1, verbose=10, scoring='neg_mean_squared_log_error')\n",
    "%time grid_search_tree.fit(stacking_features, y_train)"
   ]
  },
  {
   "cell_type": "code",
   "execution_count": 17,
   "metadata": {},
   "outputs": [
    {
     "data": {
      "text/plain": [
       "{'max_depth': 5, 'max_features': 2, 'n_estimators': 750}"
      ]
     },
     "execution_count": 17,
     "metadata": {},
     "output_type": "execute_result"
    }
   ],
   "source": [
    "grid_search_tree.best_params_"
   ]
  },
  {
   "cell_type": "code",
   "execution_count": 18,
   "metadata": {},
   "outputs": [
    {
     "data": {
      "text/plain": [
       "0.1235330982807489"
      ]
     },
     "execution_count": 18,
     "metadata": {},
     "output_type": "execute_result"
    }
   ],
   "source": [
    "np.sqrt(grid_search_tree.best_score_ * -1)"
   ]
  },
  {
   "cell_type": "code",
   "execution_count": null,
   "metadata": {},
   "outputs": [],
   "source": []
  },
  {
   "cell_type": "code",
   "execution_count": null,
   "metadata": {},
   "outputs": [],
   "source": []
  },
  {
   "cell_type": "code",
   "execution_count": null,
   "metadata": {},
   "outputs": [],
   "source": []
  }
 ],
 "metadata": {
  "kernelspec": {
   "display_name": "Python 3",
   "language": "python",
   "name": "python3"
  },
  "language_info": {
   "codemirror_mode": {
    "name": "ipython",
    "version": 3
   },
   "file_extension": ".py",
   "mimetype": "text/x-python",
   "name": "python",
   "nbconvert_exporter": "python",
   "pygments_lexer": "ipython3",
   "version": "3.6.3"
  }
 },
 "nbformat": 4,
 "nbformat_minor": 2
}
