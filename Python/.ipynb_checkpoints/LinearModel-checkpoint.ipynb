{
 "cells": [
  {
   "cell_type": "markdown",
   "metadata": {},
   "source": [
    "## Load packages and data"
   ]
  },
  {
   "cell_type": "code",
   "execution_count": 165,
   "metadata": {
    "collapsed": true
   },
   "outputs": [],
   "source": [
    "# Loading the packages to be used\n",
    "from __future__ import print_function  # Python 2 and 3\n",
    "import pandas as pd\n",
    "import numpy as np\n",
    "from scipy import stats\n",
    "import matplotlib.pyplot as plt\n",
    "from scipy import stats\n",
    "%matplotlib inline"
   ]
  },
  {
   "cell_type": "code",
   "execution_count": 210,
   "metadata": {
    "collapsed": true
   },
   "outputs": [],
   "source": [
    "# Import data; for linear regression, either import encoded datasets or dummify and then oneHotEncode in python\n",
    "houses_train = pd.read_csv('/Users/kathrynbryant/Dropbox/NYCDSA/blackFlamingo/Data/encoded_houses_train.csv')\n",
    "houses_test = pd.read_csv('/Users/kathrynbryant/Dropbox/NYCDSA/blackFlamingo/Data/encoded_houses_test.csv')\n",
    "encoded_private_train = pd.read_csv('/Users/kathrynbryant/Dropbox/NYCDSA/blackFlamingo/Data/encoded_private_train.csv')\n",
    "encoded_private_test = pd.read_csv('/Users/kathrynbryant/Dropbox/NYCDSA/blackFlamingo/Data/encoded_private_test.csv')\n",
    "private_train = pd.read_csv('/Users/kathrynbryant/Dropbox/NYCDSA/blackFlamingo/Data/private_train.csv')\n",
    "private_test = pd.read_csv('/Users/kathrynbryant/Dropbox/NYCDSA/blackFlamingo/Data/private_test.csv')"
   ]
  },
  {
   "cell_type": "markdown",
   "metadata": {},
   "source": [
    "## Clean data for pandas (if needed)"
   ]
  },
  {
   "cell_type": "code",
   "execution_count": 19,
   "metadata": {
    "collapsed": true
   },
   "outputs": [],
   "source": [
    "# Save the 'Id' column\n",
    "#houses_train_ID = houses_train['Id']\n",
    "#houses_test_ID = houses_test['Id']\n",
    "#private_train_ID = private_train['Id']\n",
    "#private_test_ID = private_test['Id']\n",
    "\n",
    "# Now drop the 'Id' colum since we can not use it as a feature to train our model.\n",
    "#houses_train.drop(\"Id\", axis = 1, inplace = True)\n",
    "#houses_test.drop(\"Id\", axis = 1, inplace = True)\n",
    "#private_train.drop(\"Id\", axis = 1, inplace = True)\n",
    "#private_test.drop(\"Id\", axis = 1, inplace = True)"
   ]
  },
  {
   "cell_type": "markdown",
   "metadata": {},
   "source": [
    "## Define predictor and response objects"
   ]
  },
  {
   "cell_type": "code",
   "execution_count": 243,
   "metadata": {},
   "outputs": [],
   "source": [
    "# Define data frame of predictors and BoxCox response variable\n",
    "X_private_train = encoded_private_train.drop('SalePrice', axis = 1)\n",
    "yT_private_train, private_lambda = stats.boxcox(private_train[['SalePrice']]) # T indicates transformation; ndarray \n",
    "yT_private_train = stats.boxcox(encoded_private_train['SalePrice'], lmbda = 0.22)\n",
    "# Note: The above lambda was found in R; to let Python find it, use the commented-out line above\n",
    "\n",
    "X_private_test = encoded_private_test.drop('SalePrice', axis = 1)\n",
    "\n",
    "X_houses_train = houses_train.drop('SalePrice', axis = 1)\n",
    "yT_houses_train = stats.boxcox(houses_train['SalePrice'], lmbda = 0.22) # T indicates transformation; ndarray output"
   ]
  },
  {
   "cell_type": "markdown",
   "metadata": {},
   "source": [
    "## Defining model object and fitting to private training set"
   ]
  },
  {
   "cell_type": "code",
   "execution_count": 244,
   "metadata": {
    "collapsed": true
   },
   "outputs": [],
   "source": [
    "#### Define a linear regression object ols\n",
    "from sklearn import linear_model\n",
    "ols = linear_model.LinearRegression()"
   ]
  },
  {
   "cell_type": "markdown",
   "metadata": {},
   "source": [
    "(Recall from lecture code) \n",
    "Some attributes and methods we will use for linear regression:\n",
    "\n",
    "- `coef_`: Estimated coefficients ($\\hat{\\beta}_1$,...) for the linear regression problem.\n",
    "- `intercept_`: Independent term ($\\hat{\\beta}_0$) in the linear model.\n",
    "- `fit(X, y)`: Fit linear model.\n",
    "- `predict(X)`: Predict using the linear model\n",
    "- `score(X, y)`: Returns the coefficient of determination $R^2$ of the prediction."
   ]
  },
  {
   "cell_type": "code",
   "execution_count": 237,
   "metadata": {
    "collapsed": true
   },
   "outputs": [],
   "source": [
    "# If data isn't already pre-split:\n",
    "#try:  # train_test_split was moved in 0.18.0\n",
    "#    from sklearn.model_selection import train_test_split\n",
    "#except:  # Following import works through 0.19 but outputs a warning in 0.18\n",
    "#    from sklearn.cross_validation import train_test_split\n",
    "#X_private_train, X_private_test, yT_private_train, yT_private_test = train_test_split(X_houses_train, yT_houses_train, test_size=0.2, random_state=11)\n",
    "\n"
   ]
  },
  {
   "cell_type": "code",
   "execution_count": 245,
   "metadata": {},
   "outputs": [
    {
     "data": {
      "text/plain": [
       "LinearRegression(copy_X=True, fit_intercept=True, n_jobs=1, normalize=False)"
      ]
     },
     "execution_count": 245,
     "metadata": {},
     "output_type": "execute_result"
    }
   ],
   "source": [
    "# Fit a linear model to our private_train data using BoxCoxed response\n",
    "ols.fit(X_private_train, yT_private_train) "
   ]
  },
  {
   "cell_type": "code",
   "execution_count": 246,
   "metadata": {
    "collapsed": true
   },
   "outputs": [],
   "source": [
    "# Predict BoxCoxed response outputs\n",
    "predictedT = ols.predict(X_private_train)"
   ]
  },
  {
   "cell_type": "code",
   "execution_count": 247,
   "metadata": {},
   "outputs": [
    {
     "data": {
      "text/plain": [
       "array([ 59.82547362,  56.77666655,  61.74734862, ...,  76.43972091,\n",
       "        54.83332822,  59.32353102])"
      ]
     },
     "execution_count": 247,
     "metadata": {},
     "output_type": "execute_result"
    }
   ],
   "source": [
    "predictedT"
   ]
  },
  {
   "cell_type": "code",
   "execution_count": 248,
   "metadata": {},
   "outputs": [],
   "source": [
    "# Inverse BoxCox previous prediction to get predicted SalePrices\n",
    "#predicted = np.power((predictedT * private_lambda) + 1, 1 / private_lambda) \n",
    "predicted = np.power((predictedT * 0.22) + 1, 1/(0.22)) # Use line above to use python-found lambda value"
   ]
  },
  {
   "cell_type": "code",
   "execution_count": 249,
   "metadata": {},
   "outputs": [
    {
     "name": "stdout",
     "output_type": "stream",
     "text": [
      "RMSE: 0.08528780403197979\n"
     ]
    }
   ],
   "source": [
    "# Compute RMSE and R^2 using log of un-BoxCoxed predictions; must use .reshape(-1,1) to match dimensions of object\n",
    "# containing actual y-values with object containing predicted y-values\n",
    "print(\"RMSE: {0}\".format(np.sqrt(np.mean((np.log(encoded_private_train['SalePrice'].values) - np.log(predicted)) ** 2))))"
   ]
  },
  {
   "cell_type": "markdown",
   "metadata": {
    "collapsed": true
   },
   "source": [
    "## Testing model on private test set"
   ]
  },
  {
   "cell_type": "code",
   "execution_count": 250,
   "metadata": {},
   "outputs": [],
   "source": [
    "# Predict BoxCoxed response outputs for private test\n",
    "test_predictedT = ols.predict(X_private_test)"
   ]
  },
  {
   "cell_type": "code",
   "execution_count": 257,
   "metadata": {},
   "outputs": [
    {
     "data": {
      "text/plain": [
       "array([ 59.82547362,  56.77666655,  61.74734862, ...,  76.43972091,\n",
       "        54.83332822,  59.32353102])"
      ]
     },
     "execution_count": 257,
     "metadata": {},
     "output_type": "execute_result"
    }
   ],
   "source": [
    "predictedT"
   ]
  },
  {
   "cell_type": "code",
   "execution_count": 258,
   "metadata": {},
   "outputs": [
    {
     "data": {
      "text/plain": [
       "array([  1.92271606e+13,  -3.45902668e+12,  -6.80319881e+11,\n",
       "         9.10965126e+12,   2.66662764e+12,  -2.03594596e+12,\n",
       "        -2.20468984e+12,  -3.72171007e+13,   4.55427040e+12,\n",
       "        -2.43498030e+11,  -8.06737477e+11,   4.36891369e+12,\n",
       "        -5.44458794e+12,  -2.51835162e+12,  -1.70097379e+12,\n",
       "         5.51440318e+11,  -9.55220005e+10,   5.82586864e+12,\n",
       "        -1.77529354e+13,   5.23311651e+12,   2.44177630e+12,\n",
       "         1.21111481e+13,  -6.10416260e+12,  -1.79311568e+13,\n",
       "        -1.27842670e+12,  -1.00501678e+12,  -1.55930605e+12,\n",
       "        -7.57591411e+12,   5.66014302e+11,   1.57869127e+13,\n",
       "        -9.99266475e+12,   1.18764209e+13,   1.56641631e+13,\n",
       "         2.69313960e+12,  -3.77079965e+12,  -1.47517999e+12,\n",
       "         1.22344095e+13,   4.59270973e+13,   8.36380417e+12,\n",
       "         1.20909881e+13,  -3.64923565e+12,   6.55611662e+11,\n",
       "        -5.21646774e+12,   5.07229560e+12,   1.22524805e+12,\n",
       "        -7.22704239e+10,   4.87753988e+12,   2.71338903e+12,\n",
       "         9.96629594e+12,   1.69980223e+11,   1.53380500e+12,\n",
       "        -4.28382555e+12,   1.18686760e+13,  -8.54978472e+12,\n",
       "        -2.20851062e+12,   7.53087710e+11,   1.08918995e+12,\n",
       "        -3.39863857e+12,  -2.21643893e+12,   5.65281427e+12,\n",
       "         2.08844294e+12,  -4.30140763e+12,  -2.73940545e+12,\n",
       "         3.03735292e+12,   2.23884973e+12,   4.47028544e+12,\n",
       "        -8.11975155e+12,  -8.14808694e+12,  -4.02813432e+12,\n",
       "         3.92733169e+12,  -3.97340134e+12,  -4.31199693e+12,\n",
       "        -5.14891991e+12,   6.94447446e+12,   8.42620506e+11,\n",
       "         3.42776639e+12,  -1.75649339e+12,  -9.09485199e+11,\n",
       "         1.31811437e+13,  -1.91735256e+12,   5.39324404e+12,\n",
       "         5.07235687e+12,   1.04539359e+13,  -3.21621535e+12,\n",
       "         4.57040728e+12,   1.13412393e+13,  -2.68788720e+12,\n",
       "         3.70141879e+12,   2.83785647e+12,  -3.74625533e+12,\n",
       "         2.46527843e+13,  -1.05671392e+12,  -6.44830143e+12,\n",
       "         5.94442512e+12,   8.48852677e+12,   1.38830373e+13,\n",
       "         2.21009191e+12,   1.85783757e+12,  -5.08637209e+11,\n",
       "         4.78946412e+12,   3.56914217e+11,   2.58156540e+12,\n",
       "        -1.69763876e+13,   8.75765084e+11,   1.28781878e+13,\n",
       "        -3.12598297e+13,  -9.31132064e+11,  -7.46162224e+12,\n",
       "        -6.00169654e+11,   2.23539123e+12,   3.80857338e+12,\n",
       "        -4.17273690e+13,   3.84759443e+12,   7.07345638e+08,\n",
       "         3.99966758e+12,  -7.44682994e+13,   1.48592591e+12,\n",
       "         1.86853223e+12,  -1.67069314e+12,   1.40090845e+12,\n",
       "         1.41117670e+13,   1.37857032e+12,  -2.47562385e+12,\n",
       "         2.29534921e+12,  -3.89176772e+12,  -1.12409999e+13,\n",
       "        -1.41768351e+12,  -5.18992458e+12,  -1.09340788e+13,\n",
       "         1.25763435e+12,   6.65652786e+12,  -2.21374936e+12,\n",
       "         1.07442393e+13,  -3.92176640e+12,   2.98341866e+12,\n",
       "         3.06968702e+13,  -6.62389539e+12,   3.03511505e+12,\n",
       "         7.46894920e+12,  -9.56896908e+12,  -7.81731110e+12,\n",
       "         4.56521488e+12,   6.06438147e+11,  -8.87054345e+11,\n",
       "         9.07634186e+12,   3.39683709e+12,  -1.41037174e+13,\n",
       "         9.44305740e+12,   5.20880769e+12,  -5.66652808e+12,\n",
       "        -5.94899960e+12,   1.30512144e+12,   7.29423958e+12,\n",
       "        -7.13803811e+12,  -1.08823609e+11,   1.18952075e+13,\n",
       "         7.78601767e+12,  -8.79978076e+13,  -7.44393832e+12,\n",
       "         3.39283494e+12,   4.84908133e+12,  -3.27044208e+12,\n",
       "         5.51157173e+12,  -1.50361599e+12,  -1.55716391e+12,\n",
       "        -1.71815612e+13,  -2.59585989e+12,   1.36028627e+12,\n",
       "         1.05385171e+12,   6.76037586e+10,   1.42904129e+13,\n",
       "         4.22439637e+12,  -1.62775957e+13,  -3.97637150e+12,\n",
       "         1.49557427e+12,  -1.23945902e+12,  -1.98920878e+12,\n",
       "        -8.21789522e+12,   6.88713607e+11,   7.34774276e+12,\n",
       "        -8.14626885e+12,  -2.17648533e+12,   6.40978417e+12,\n",
       "         2.55572872e+13,   3.21512063e+13,  -1.54766059e+12,\n",
       "         3.03112269e+12,  -5.99087946e+12,   3.83123391e+12,\n",
       "        -1.10925409e+12,  -5.56309034e+11,   2.67872506e+12,\n",
       "        -4.19044819e+11,  -3.41509427e+12,   1.27336177e+13,\n",
       "        -1.07923984e+12,   3.80025110e+12,  -5.37331629e+12,\n",
       "         5.92557547e+11,  -1.21623104e+12,   3.96120811e+11,\n",
       "         3.29269579e+12,  -5.62339571e+11,   4.12311034e+12,\n",
       "         1.03561770e+12,  -6.69573696e+12,  -1.11023249e+12,\n",
       "         2.14333867e+12,   1.68739961e+12,  -1.53057060e+13,\n",
       "         5.28554687e+12,  -7.70755803e+11,   3.27462832e+12,\n",
       "         5.20906996e+12,  -4.14409024e+12,  -4.28139413e+12,\n",
       "        -1.12732953e+13,   4.64053579e+12,  -4.02413481e+12,\n",
       "         1.90578196e+12,  -4.61233284e+12,   4.76820028e+10,\n",
       "         6.58481014e+12,  -3.08485868e+12,  -1.04765733e+13,\n",
       "        -6.11666241e+13,  -1.46520177e+13,  -1.38550080e+13,\n",
       "         4.88358028e+12,   2.77406627e+12,   1.28404386e+12,\n",
       "        -2.65557305e+12,   4.04412291e+11,  -1.08991009e+13,\n",
       "         5.41109464e+12,   2.54475946e+12,   2.00415461e+12,\n",
       "        -4.74608374e+11,   5.13751442e+11,   1.11145498e+13,\n",
       "         8.45140314e+12,  -5.87287122e+11,  -1.47774028e+12,\n",
       "         3.89650635e+12,  -3.19852128e+12,   3.82354833e+12,\n",
       "         1.15740657e+12,  -9.09312731e+11,  -3.84352280e+12,\n",
       "        -4.46560959e+12,   1.38097650e+13,   4.12227242e+12,\n",
       "        -2.35063064e+11,   6.44738207e+12,  -4.62438808e+12,\n",
       "        -8.19970262e+12,   8.39600366e+11,   3.02749952e+12,\n",
       "         3.48579394e+11,  -2.35885435e+11,   2.84844813e+11,\n",
       "        -4.11653849e+12,   1.25423807e+12,   2.75602262e+11,\n",
       "         2.61004981e+12,   1.86880238e+13,   1.74327732e+12,\n",
       "         6.66351165e+12,  -7.44284001e+12,   2.36486206e+12,\n",
       "        -8.70593562e+12,  -1.65643100e+13,   6.38591083e+12,\n",
       "         4.39291630e+12,   9.75996004e+12,   3.81488883e+12,\n",
       "         1.80191924e+13,   8.77577595e+12,   4.96895433e+11,\n",
       "        -4.13666292e+12,   6.49579400e+12,   5.46179410e+11,\n",
       "        -1.38362029e+13,   2.82968311e+12,   9.16161790e+12,\n",
       "         3.94581744e+12,  -6.23452293e+10,   2.65806531e+12,\n",
       "         1.08102629e+13,  -2.01841273e+12,   1.56788838e+12,\n",
       "        -3.17330057e+12])"
      ]
     },
     "execution_count": 258,
     "metadata": {},
     "output_type": "execute_result"
    }
   ],
   "source": [
    "test_predictedT"
   ]
  },
  {
   "cell_type": "code",
   "execution_count": 130,
   "metadata": {},
   "outputs": [
    {
     "name": "stderr",
     "output_type": "stream",
     "text": [
      "/Users/kathrynbryant/anaconda3/lib/python3.6/site-packages/ipykernel_launcher.py:2: RuntimeWarning: invalid value encountered in power\n",
      "  \n"
     ]
    }
   ],
   "source": [
    "# Inverse BoxCox previous prediction to get predicted SalePrices\n",
    "test_predicted = np.power((test_predictedT * 0.22) + 1, 1/(0.22))"
   ]
  },
  {
   "cell_type": "code",
   "execution_count": 125,
   "metadata": {},
   "outputs": [
    {
     "name": "stdout",
     "output_type": "stream",
     "text": [
      "RMSE: nan\n"
     ]
    }
   ],
   "source": [
    "# Compute RMSE and R^2 using log of un-BoxCoxed predictions; must use .reshape(-1,1) to match dimensions of object\n",
    "# containing actual y-values with object containing predicted y-values\n",
    "print(\"RMSE: {0}\".format(np.sqrt(np.mean((np.log(private_test['SalePrice'].values.reshape(-1,1)) - np.log(test_predicted)) ** 2))))"
   ]
  },
  {
   "cell_type": "code",
   "execution_count": null,
   "metadata": {
    "collapsed": true
   },
   "outputs": [],
   "source": []
  }
 ],
 "metadata": {
  "kernelspec": {
   "display_name": "Python 3",
   "language": "python",
   "name": "python3"
  },
  "language_info": {
   "codemirror_mode": {
    "name": "ipython",
    "version": 3
   },
   "file_extension": ".py",
   "mimetype": "text/x-python",
   "name": "python",
   "nbconvert_exporter": "python",
   "pygments_lexer": "ipython3",
   "version": "3.6.2"
  }
 },
 "nbformat": 4,
 "nbformat_minor": 2
}
