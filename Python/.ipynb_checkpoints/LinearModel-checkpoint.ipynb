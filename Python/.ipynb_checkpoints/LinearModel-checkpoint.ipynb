{
 "cells": [
  {
   "cell_type": "markdown",
   "metadata": {},
   "source": [
    "## Load packages and data"
   ]
  },
  {
   "cell_type": "code",
   "execution_count": 18,
   "metadata": {
    "collapsed": true
   },
   "outputs": [],
   "source": [
    "# Loading the packages to be used\n",
    "from __future__ import print_function  # Python 2 and 3\n",
    "import pandas as pd\n",
    "import numpy as np\n",
    "from scipy import stats\n",
    "import matplotlib.pyplot as plt\n",
    "from scipy import stats\n",
    "%matplotlib inline"
   ]
  },
  {
   "cell_type": "code",
   "execution_count": 19,
   "metadata": {
    "collapsed": true
   },
   "outputs": [],
   "source": [
    "#pd.set_option(\"display.max_rows\", 400)\n",
    "#pd.set_option(\"display.max_columns\", 400)"
   ]
  },
  {
   "cell_type": "code",
   "execution_count": 20,
   "metadata": {
    "collapsed": true
   },
   "outputs": [],
   "source": [
    "# Import data; for linear regression, either import encoded datasets or dummify and then oneHotEncode in python\n",
    "houses_train = pd.read_csv('/Users/kathrynbryant/Dropbox/NYCDSA/blackFlamingo/Data/encoded_houses_train.csv')\n",
    "houses_test = pd.read_csv('/Users/kathrynbryant/Dropbox/NYCDSA/blackFlamingo/Data/encoded_houses_test.csv')\n",
    "encoded_private_train = pd.read_csv('/Users/kathrynbryant/Dropbox/NYCDSA/blackFlamingo/Data/encoded_private_train.csv')\n",
    "encoded_private_test = pd.read_csv('/Users/kathrynbryant/Dropbox/NYCDSA/blackFlamingo/Data/encoded_private_test.csv')"
   ]
  },
  {
   "cell_type": "markdown",
   "metadata": {},
   "source": [
    "## Define predictor and response objects"
   ]
  },
  {
   "cell_type": "code",
   "execution_count": 21,
   "metadata": {
    "collapsed": true
   },
   "outputs": [],
   "source": [
    "# Define data frame of predictors and BoxCox response variable\n",
    "X_private_train = encoded_private_train.drop('SalePrice', axis = 1)\n",
    "#yT_private_train, private_lambda = stats.boxcox(encoded_private_train[['SalePrice']]) # T indicates transformation; ndarray \n",
    "yT_private_train = stats.boxcox(encoded_private_train['SalePrice'], lmbda = 0.22)\n",
    "# Note: The above lambda was found in R; to let Python find it, use the commented-out line above\n",
    "\n",
    "X_private_test = encoded_private_test.drop('SalePrice', axis = 1)\n",
    "\n",
    "X_houses_train = houses_train.drop('SalePrice', axis = 1)\n",
    "yT_houses_train = stats.boxcox(houses_train['SalePrice'], lmbda = 0.22) # T indicates transformation; ndarray output"
   ]
  },
  {
   "cell_type": "code",
   "execution_count": 22,
   "metadata": {},
   "outputs": [
    {
     "name": "stderr",
     "output_type": "stream",
     "text": [
      "IOPub data rate exceeded.\n",
      "The notebook server will temporarily stop sending output\n",
      "to the client in order to avoid crashing it.\n",
      "To change this limit, set the config variable\n",
      "`--NotebookApp.iopub_data_rate_limit`.\n"
     ]
    }
   ],
   "source": [
    "X_private_train"
   ]
  },
  {
   "cell_type": "markdown",
   "metadata": {},
   "source": [
    "## Defining model object and fitting to private training set"
   ]
  },
  {
   "cell_type": "code",
   "execution_count": 4,
   "metadata": {
    "collapsed": true
   },
   "outputs": [],
   "source": [
    "#### Define a linear regression object ols\n",
    "from sklearn import linear_model\n",
    "ols = linear_model.LinearRegression()"
   ]
  },
  {
   "cell_type": "markdown",
   "metadata": {},
   "source": [
    "(Recall from lecture code) \n",
    "Some attributes and methods we will use for linear regression:\n",
    "\n",
    "- `coef_`: Estimated coefficients ($\\hat{\\beta}_1$,...) for the linear regression problem.\n",
    "- `intercept_`: Independent term ($\\hat{\\beta}_0$) in the linear model.\n",
    "- `fit(X, y)`: Fit linear model.\n",
    "- `predict(X)`: Predict using the linear model\n",
    "- `score(X, y)`: Returns the coefficient of determination $R^2$ of the prediction."
   ]
  },
  {
   "cell_type": "code",
   "execution_count": 35,
   "metadata": {
    "collapsed": true
   },
   "outputs": [],
   "source": [
    "# If data isn't already pre-split:\n",
    "#try:  # train_test_split was moved in 0.18.0\n",
    "#    from sklearn.model_selection import train_test_split\n",
    "#except:  # Following import works through 0.19 but outputs a warning in 0.18\n",
    "#    from sklearn.cross_validation import train_test_split\n",
    "#X_private_train, X_private_test, yT_private_train, yT_private_test = train_test_split(X_houses_train, yT_houses_train, test_size=0.2, random_state=11)\n",
    "\n"
   ]
  },
  {
   "cell_type": "code",
   "execution_count": 36,
   "metadata": {
    "collapsed": true
   },
   "outputs": [],
   "source": [
    "#from sklearn.decomposition import PCA\n",
    "#pca = PCA(n_components=200)\n",
    "#pca.fit(X_private_train)"
   ]
  },
  {
   "cell_type": "code",
   "execution_count": 5,
   "metadata": {},
   "outputs": [
    {
     "data": {
      "text/plain": [
       "LinearRegression(copy_X=True, fit_intercept=True, n_jobs=1, normalize=False)"
      ]
     },
     "execution_count": 5,
     "metadata": {},
     "output_type": "execute_result"
    }
   ],
   "source": [
    "# Fit a linear model to our private_train data using BoxCoxed response\n",
    "#ols.fit(pca.transform(X_private_train), yT_private_train)\n",
    "ols.fit(X_private_train, yT_private_train)"
   ]
  },
  {
   "cell_type": "code",
   "execution_count": 6,
   "metadata": {
    "collapsed": true
   },
   "outputs": [],
   "source": [
    "# Predict BoxCoxed response outputs\n",
    "#predictedT = ols.predict(pca.transform(X_private_train))\n",
    "predictedT = ols.predict(X_private_train)"
   ]
  },
  {
   "cell_type": "code",
   "execution_count": 7,
   "metadata": {},
   "outputs": [
    {
     "data": {
      "text/plain": [
       "array([ 59.60898702,  56.33606426,  61.58536357, ...,  75.79308148,\n",
       "        55.50690578,  61.42394931])"
      ]
     },
     "execution_count": 7,
     "metadata": {},
     "output_type": "execute_result"
    }
   ],
   "source": [
    "predictedT"
   ]
  },
  {
   "cell_type": "code",
   "execution_count": 8,
   "metadata": {
    "collapsed": true
   },
   "outputs": [],
   "source": [
    "# Inverse BoxCox previous prediction to get predicted SalePrices\n",
    "#predicted = np.power((predictedT * private_lambda) + 1, 1 / private_lambda) \n",
    "predicted = np.power((predictedT * 0.22) + 1, 1/(0.22)) # Use line above to use python-found lambda value"
   ]
  },
  {
   "cell_type": "code",
   "execution_count": 9,
   "metadata": {},
   "outputs": [
    {
     "name": "stdout",
     "output_type": "stream",
     "text": [
      "RMSE: 0.10210227576270292\n"
     ]
    }
   ],
   "source": [
    "# Compute RMSE and R^2 using log of un-BoxCoxed predictions; must use .reshape(-1,1) to match dimensions of object\n",
    "# containing actual y-values with object containing predicted y-values\n",
    "print(\"RMSE: {0}\".format(np.sqrt(np.mean((np.log(encoded_private_train['SalePrice'].values) - np.log(predicted)) ** 2))))"
   ]
  },
  {
   "cell_type": "markdown",
   "metadata": {
    "collapsed": true
   },
   "source": [
    "## Testing model on private test set"
   ]
  },
  {
   "cell_type": "code",
   "execution_count": 10,
   "metadata": {
    "collapsed": true
   },
   "outputs": [],
   "source": [
    "# Predict BoxCoxed response outputs for private test\n",
    "#test_predictedT = ols.predict(pca.transform(X_private_test))\n",
    "test_predictedT = ols.predict(X_private_test)"
   ]
  },
  {
   "cell_type": "code",
   "execution_count": 12,
   "metadata": {},
   "outputs": [
    {
     "name": "stderr",
     "output_type": "stream",
     "text": [
      "/Users/kathrynbryant/anaconda3/lib/python3.6/site-packages/ipykernel_launcher.py:2: RuntimeWarning: invalid value encountered in power\n",
      "  \n"
     ]
    }
   ],
   "source": [
    "# Inverse BoxCox previous prediction to get predicted SalePrices\n",
    "test_predicted = np.power((test_predictedT * 0.22) + 1, 1/(0.22))"
   ]
  },
  {
   "cell_type": "code",
   "execution_count": 13,
   "metadata": {},
   "outputs": [
    {
     "name": "stdout",
     "output_type": "stream",
     "text": [
      "RMSE: nan\n"
     ]
    }
   ],
   "source": [
    "# Compute RMSE and R^2 using log of un-BoxCoxed predictions; must use .reshape(-1,1) to match dimensions of object\n",
    "# containing actual y-values with object containing predicted y-values\n",
    "print(\"RMSE: {0}\".format(np.sqrt(np.mean((np.log(encoded_private_test['SalePrice'].values.reshape(-1,1)) - np.log(test_predicted)) ** 2))))"
   ]
  },
  {
   "cell_type": "code",
   "execution_count": null,
   "metadata": {
    "collapsed": true
   },
   "outputs": [],
   "source": []
  }
 ],
 "metadata": {
  "kernelspec": {
   "display_name": "Python 3",
   "language": "python",
   "name": "python3"
  },
  "language_info": {
   "codemirror_mode": {
    "name": "ipython",
    "version": 3
   },
   "file_extension": ".py",
   "mimetype": "text/x-python",
   "name": "python",
   "nbconvert_exporter": "python",
   "pygments_lexer": "ipython3",
   "version": "3.6.2"
  }
 },
 "nbformat": 4,
 "nbformat_minor": 2
}
