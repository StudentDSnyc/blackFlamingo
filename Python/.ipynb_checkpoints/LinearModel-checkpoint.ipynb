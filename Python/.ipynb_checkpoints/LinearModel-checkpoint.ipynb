{
 "cells": [
  {
   "cell_type": "markdown",
   "metadata": {},
   "source": [
    "## Load packages and data"
   ]
  },
  {
   "cell_type": "code",
   "execution_count": 2,
   "metadata": {
    "collapsed": true
   },
   "outputs": [],
   "source": [
    "# Loading the packages to be used\n",
    "from __future__ import print_function  # Python 2 and 3\n",
    "import pandas as pd\n",
    "import numpy as np\n",
    "from scipy import stats\n",
    "import matplotlib.pyplot as plt\n",
    "from scipy import stats\n",
    "%matplotlib inline"
   ]
  },
  {
   "cell_type": "code",
   "execution_count": 3,
   "metadata": {
    "collapsed": true
   },
   "outputs": [],
   "source": [
    "#pd.set_option(\"display.max_rows\", 400)\n",
    "pd.set_option(\"display.max_columns\", 400)"
   ]
  },
  {
   "cell_type": "code",
   "execution_count": 4,
   "metadata": {},
   "outputs": [],
   "source": [
    "# Import data; for linear regression, either import encoded datasets or dummify and then oneHotEncode in python\n",
    "housetrain_linear = pd.read_csv('../Data/housetrain_linear.csv')\n",
    "housetest_linear = pd.read_csv('../Data/housetest_linear.csv')\n",
    "privtrain_linear = pd.read_csv('../Data/privtrain_linear.csv')\n",
    "privteset_linear = pd.read_csv('../Data/privtest_linear.csv')"
   ]
  },
  {
   "cell_type": "code",
   "execution_count": 5,
   "metadata": {},
   "outputs": [
    {
     "name": "stdout",
     "output_type": "stream",
     "text": [
      "(1460, 230)\n",
      "(1459, 230)\n",
      "(1168, 228)\n",
      "(292, 228)\n"
     ]
    }
   ],
   "source": [
    "print(housetrain_linear.shape)\n",
    "print(housetest_linear.shape)\n",
    "print(privtrain_linear.shape)\n",
    "print(privteset_linear.shape)"
   ]
  },
  {
   "cell_type": "markdown",
   "metadata": {},
   "source": [
    "## Define predictor and response objects"
   ]
  },
  {
   "cell_type": "code",
   "execution_count": 4,
   "metadata": {
    "collapsed": true
   },
   "outputs": [],
   "source": [
    "# Define data frame of predictors and BoxCox response variable\n",
    "X_private_train = privtrain_linear.drop('SalePrice', axis = 1)\n",
    "yT_private_train, private_lambda = stats.boxcox(privtrain_linear[['SalePrice']]) # T indicates transformation; ndarray \n",
    "#yT_private_train = stats.boxcox(encoded_private_train['SalePrice'], lmbda = 0.22)\n",
    "# Note: The above lambda was found in R; to let Python find it, use the commented-out line above\n",
    "\n",
    "X_private_test = privtest_linear.drop('SalePrice', axis = 1)\n",
    "\n",
    "X_houses_train = housetrain_linear.drop('SalePrice', axis = 1)\n",
    "yT_houses_train, houses_lambda = stats.boxcox(housetrain_linear['SalePrice']) # T indicates transformation; ndarray output\n",
    "\n",
    "X_houses_test = housetest_linear.drop('SalePrice', axis = 1)"
   ]
  },
  {
   "cell_type": "code",
   "execution_count": 5,
   "metadata": {
    "collapsed": true
   },
   "outputs": [],
   "source": [
    "def unBoxCox(column, lambda_):\n",
    "    unboxcoxed_column = np.power((column * lambda_) + 1, (1/lambda_))\n",
    "    return unboxcoxed_column"
   ]
  },
  {
   "cell_type": "markdown",
   "metadata": {},
   "source": [
    "## Defining model object and fitting to private training set"
   ]
  },
  {
   "cell_type": "code",
   "execution_count": 6,
   "metadata": {
    "collapsed": true
   },
   "outputs": [],
   "source": [
    "#### Define a linear regression object ols\n",
    "from sklearn import linear_model\n",
    "ols = linear_model.LinearRegression()"
   ]
  },
  {
   "cell_type": "markdown",
   "metadata": {},
   "source": [
    "(Recall from lecture code) \n",
    "Some attributes and methods we will use for linear regression:\n",
    "\n",
    "- `coef_`: Estimated coefficients ($\\hat{\\beta}_1$,...) for the linear regression problem.\n",
    "- `intercept_`: Independent term ($\\hat{\\beta}_0$) in the linear model.\n",
    "- `fit(X, y)`: Fit linear model.\n",
    "- `predict(X)`: Predict using the linear model\n",
    "- `score(X, y)`: Returns the coefficient of determination $R^2$ of the prediction."
   ]
  },
  {
   "cell_type": "code",
   "execution_count": 35,
   "metadata": {
    "collapsed": true
   },
   "outputs": [],
   "source": [
    "# If data isn't already pre-split:\n",
    "#try:  # train_test_split was moved in 0.18.0\n",
    "#    from sklearn.model_selection import train_test_split\n",
    "#except:  # Following import works through 0.19 but outputs a warning in 0.18\n",
    "#    from sklearn.cross_validation import train_test_split\n",
    "#X_private_train, X_private_test, yT_private_train, yT_private_test = train_test_split(X_houses_train, yT_houses_train, test_size=0.2, random_state=11)\n",
    "\n"
   ]
  },
  {
   "cell_type": "code",
   "execution_count": 7,
   "metadata": {},
   "outputs": [
    {
     "data": {
      "text/plain": [
       "LinearRegression(copy_X=True, fit_intercept=True, n_jobs=1, normalize=False)"
      ]
     },
     "execution_count": 7,
     "metadata": {},
     "output_type": "execute_result"
    }
   ],
   "source": [
    "# Fit a linear model to our private_train data using BoxCoxed response\n",
    "ols.fit(X_private_train, yT_private_train)"
   ]
  },
  {
   "cell_type": "code",
   "execution_count": 8,
   "metadata": {
    "collapsed": true
   },
   "outputs": [],
   "source": [
    "# Predict BoxCoxed response outputs\n",
    "predictedT = ols.predict(X_private_train)"
   ]
  },
  {
   "cell_type": "code",
   "execution_count": 9,
   "metadata": {
    "collapsed": true
   },
   "outputs": [],
   "source": [
    "# Inverse BoxCox previous prediction to get predicted SalePrices\n",
    "predicted = unBoxCox(predictedT, private_lambda)"
   ]
  },
  {
   "cell_type": "code",
   "execution_count": 10,
   "metadata": {},
   "outputs": [
    {
     "name": "stdout",
     "output_type": "stream",
     "text": [
      "RMSE: 0.09955213126465351\n"
     ]
    }
   ],
   "source": [
    "# Compute RMSE and R^2 using log of un-BoxCoxed predictions\n",
    "print(\"RMSE: {0}\".format(np.sqrt(np.mean((np.log(privtrain_linear['SalePrice'].values) - np.log(predicted.reshape(-1,))) ** 2))))"
   ]
  },
  {
   "cell_type": "markdown",
   "metadata": {
    "collapsed": true
   },
   "source": [
    "## Testing model on private test set"
   ]
  },
  {
   "cell_type": "code",
   "execution_count": 11,
   "metadata": {
    "collapsed": true
   },
   "outputs": [],
   "source": [
    "# Predict BoxCoxed response outputs for private test\n",
    "#test_predictedT = ols.predict(pca.transform(X_private_test))\n",
    "test_predictedT = ols.predict(X_private_test)"
   ]
  },
  {
   "cell_type": "code",
   "execution_count": 12,
   "metadata": {
    "collapsed": true
   },
   "outputs": [],
   "source": [
    "# Inverse BoxCox previous prediction to get predicted SalePrices\n",
    "test_predicted = unBoxCox(test_predictedT, private_lambda)"
   ]
  },
  {
   "cell_type": "code",
   "execution_count": 13,
   "metadata": {},
   "outputs": [
    {
     "name": "stdout",
     "output_type": "stream",
     "text": [
      "RMSE: 0.1413714656657429\n"
     ]
    }
   ],
   "source": [
    "# Compute RMSE and R^2 using log of un-BoxCoxed predictions; must use .reshape(-1,1) to match dimensions of object\n",
    "# containing actual y-values with object containing predicted y-values\n",
    "print(\"RMSE: {0}\".format(np.sqrt(np.mean((np.log(privteset_linear['SalePrice'].values) - np.log(test_predicted.reshape(-1,))) ** 2))))"
   ]
  },
  {
   "cell_type": "markdown",
   "metadata": {
    "collapsed": true
   },
   "source": [
    "## Fitting on house test set"
   ]
  },
  {
   "cell_type": "code",
   "execution_count": 14,
   "metadata": {},
   "outputs": [
    {
     "name": "stdout",
     "output_type": "stream",
     "text": [
      "RMSE: 0.10379687561900319\n"
     ]
    }
   ],
   "source": [
    "ols = linear_model.LinearRegression()\n",
    "ols.fit(X_houses_train, yT_houses_train)\n",
    "predictedT = ols.predict(X_houses_train)\n",
    "predicted = unBoxCox(predictedT, houses_lambda)\n",
    "print(\"RMSE: {0}\".format(np.sqrt(np.mean((np.log(housetrain_linear['SalePrice'].values) - np.log(predicted.reshape(-1,))) ** 2))))"
   ]
  },
  {
   "cell_type": "code",
   "execution_count": null,
   "metadata": {
    "collapsed": true
   },
   "outputs": [],
   "source": []
  }
 ],
 "metadata": {
  "kernelspec": {
   "display_name": "Python 3",
   "language": "python",
   "name": "python3"
  },
  "language_info": {
   "codemirror_mode": {
    "name": "ipython",
    "version": 3
   },
   "file_extension": ".py",
   "mimetype": "text/x-python",
   "name": "python",
   "nbconvert_exporter": "python",
   "pygments_lexer": "ipython3",
   "version": "3.6.2"
  }
 },
 "nbformat": 4,
 "nbformat_minor": 2
}
