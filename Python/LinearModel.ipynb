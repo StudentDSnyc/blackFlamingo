{
 "cells": [
  {
   "cell_type": "markdown",
   "metadata": {},
   "source": [
    "## Load packages and data"
   ]
  },
  {
   "cell_type": "code",
   "execution_count": 31,
   "metadata": {
    "collapsed": true
   },
   "outputs": [],
   "source": [
    "# Loading the packages to be used\n",
    "from __future__ import print_function  # Python 2 and 3\n",
    "import pandas as pd\n",
    "import numpy as np\n",
    "from scipy import stats\n",
    "import matplotlib.pyplot as plt\n",
    "from scipy import stats\n",
    "%matplotlib inline"
   ]
  },
  {
   "cell_type": "code",
   "execution_count": 32,
   "metadata": {},
   "outputs": [],
   "source": [
    "# Import data; for linear regression, either import encoded datasets or dummify and then oneHotEncode in python\n",
    "houses_train = pd.read_csv('/Users/kathrynbryant/Dropbox/NYCDSA/blackFlamingo/Data/encoded_houses_train.csv')\n",
    "houses_test = pd.read_csv('/Users/kathrynbryant/Dropbox/NYCDSA/blackFlamingo/Data/encoded_houses_test.csv')\n",
    "encoded_private_train = pd.read_csv('/Users/kathrynbryant/Dropbox/NYCDSA/blackFlamingo/Data/encoded_private_train.csv')\n",
    "encoded_private_test = pd.read_csv('/Users/kathrynbryant/Dropbox/NYCDSA/blackFlamingo/Data/encoded_private_test.csv')"
   ]
  },
  {
   "cell_type": "markdown",
   "metadata": {},
   "source": [
    "## Define predictor and response objects"
   ]
  },
  {
   "cell_type": "code",
   "execution_count": 33,
   "metadata": {},
   "outputs": [],
   "source": [
    "# Define data frame of predictors and BoxCox response variable\n",
    "X_private_train = encoded_private_train.drop('SalePrice', axis = 1)\n",
    "#yT_private_train, private_lambda = stats.boxcox(encoded_private_train[['SalePrice']]) # T indicates transformation; ndarray \n",
    "yT_private_train = stats.boxcox(encoded_private_train['SalePrice'], lmbda = 0.22)\n",
    "# Note: The above lambda was found in R; to let Python find it, use the commented-out line above\n",
    "\n",
    "X_private_test = encoded_private_test.drop('SalePrice', axis = 1)\n",
    "\n",
    "X_houses_train = houses_train.drop('SalePrice', axis = 1)\n",
    "yT_houses_train = stats.boxcox(houses_train['SalePrice'], lmbda = 0.22) # T indicates transformation; ndarray output"
   ]
  },
  {
   "cell_type": "markdown",
   "metadata": {},
   "source": [
    "## Defining model object and fitting to private training set"
   ]
  },
  {
   "cell_type": "code",
   "execution_count": 34,
   "metadata": {
    "collapsed": true
   },
   "outputs": [],
   "source": [
    "#### Define a linear regression object ols\n",
    "from sklearn import linear_model\n",
    "ols = linear_model.LinearRegression()"
   ]
  },
  {
   "cell_type": "markdown",
   "metadata": {},
   "source": [
    "(Recall from lecture code) \n",
    "Some attributes and methods we will use for linear regression:\n",
    "\n",
    "- `coef_`: Estimated coefficients ($\\hat{\\beta}_1$,...) for the linear regression problem.\n",
    "- `intercept_`: Independent term ($\\hat{\\beta}_0$) in the linear model.\n",
    "- `fit(X, y)`: Fit linear model.\n",
    "- `predict(X)`: Predict using the linear model\n",
    "- `score(X, y)`: Returns the coefficient of determination $R^2$ of the prediction."
   ]
  },
  {
   "cell_type": "code",
   "execution_count": 35,
   "metadata": {
    "collapsed": true
   },
   "outputs": [],
   "source": [
    "# If data isn't already pre-split:\n",
    "#try:  # train_test_split was moved in 0.18.0\n",
    "#    from sklearn.model_selection import train_test_split\n",
    "#except:  # Following import works through 0.19 but outputs a warning in 0.18\n",
    "#    from sklearn.cross_validation import train_test_split\n",
    "#X_private_train, X_private_test, yT_private_train, yT_private_test = train_test_split(X_houses_train, yT_houses_train, test_size=0.2, random_state=11)\n",
    "\n"
   ]
  },
  {
   "cell_type": "code",
   "execution_count": 36,
   "metadata": {},
   "outputs": [],
   "source": [
    "#from sklearn.decomposition import PCA\n",
    "#pca = PCA(n_components=200)\n",
    "#pca.fit(X_private_train)"
   ]
  },
  {
   "cell_type": "code",
   "execution_count": 37,
   "metadata": {},
   "outputs": [
    {
     "ename": "ValueError",
     "evalue": "Input contains NaN, infinity or a value too large for dtype('float64').",
     "output_type": "error",
     "traceback": [
      "\u001b[0;31m---------------------------------------------------------------------------\u001b[0m",
      "\u001b[0;31mValueError\u001b[0m                                Traceback (most recent call last)",
      "\u001b[0;32m<ipython-input-37-a3127a1a72f9>\u001b[0m in \u001b[0;36m<module>\u001b[0;34m()\u001b[0m\n\u001b[1;32m      1\u001b[0m \u001b[0;31m# Fit a linear model to our private_train data using BoxCoxed response\u001b[0m\u001b[0;34m\u001b[0m\u001b[0;34m\u001b[0m\u001b[0m\n\u001b[1;32m      2\u001b[0m \u001b[0;31m#ols.fit(pca.transform(X_private_train), yT_private_train)\u001b[0m\u001b[0;34m\u001b[0m\u001b[0;34m\u001b[0m\u001b[0m\n\u001b[0;32m----> 3\u001b[0;31m \u001b[0mols\u001b[0m\u001b[0;34m.\u001b[0m\u001b[0mfit\u001b[0m\u001b[0;34m(\u001b[0m\u001b[0mX_private_train\u001b[0m\u001b[0;34m,\u001b[0m \u001b[0myT_private_train\u001b[0m\u001b[0;34m)\u001b[0m\u001b[0;34m\u001b[0m\u001b[0m\n\u001b[0m",
      "\u001b[0;32m~/anaconda3/lib/python3.6/site-packages/sklearn/linear_model/base.py\u001b[0m in \u001b[0;36mfit\u001b[0;34m(self, X, y, sample_weight)\u001b[0m\n\u001b[1;32m    480\u001b[0m         \u001b[0mn_jobs_\u001b[0m \u001b[0;34m=\u001b[0m \u001b[0mself\u001b[0m\u001b[0;34m.\u001b[0m\u001b[0mn_jobs\u001b[0m\u001b[0;34m\u001b[0m\u001b[0m\n\u001b[1;32m    481\u001b[0m         X, y = check_X_y(X, y, accept_sparse=['csr', 'csc', 'coo'],\n\u001b[0;32m--> 482\u001b[0;31m                          y_numeric=True, multi_output=True)\n\u001b[0m\u001b[1;32m    483\u001b[0m \u001b[0;34m\u001b[0m\u001b[0m\n\u001b[1;32m    484\u001b[0m         \u001b[0;32mif\u001b[0m \u001b[0msample_weight\u001b[0m \u001b[0;32mis\u001b[0m \u001b[0;32mnot\u001b[0m \u001b[0;32mNone\u001b[0m \u001b[0;32mand\u001b[0m \u001b[0mnp\u001b[0m\u001b[0;34m.\u001b[0m\u001b[0matleast_1d\u001b[0m\u001b[0;34m(\u001b[0m\u001b[0msample_weight\u001b[0m\u001b[0;34m)\u001b[0m\u001b[0;34m.\u001b[0m\u001b[0mndim\u001b[0m \u001b[0;34m>\u001b[0m \u001b[0;36m1\u001b[0m\u001b[0;34m:\u001b[0m\u001b[0;34m\u001b[0m\u001b[0m\n",
      "\u001b[0;32m~/anaconda3/lib/python3.6/site-packages/sklearn/utils/validation.py\u001b[0m in \u001b[0;36mcheck_X_y\u001b[0;34m(X, y, accept_sparse, dtype, order, copy, force_all_finite, ensure_2d, allow_nd, multi_output, ensure_min_samples, ensure_min_features, y_numeric, warn_on_dtype, estimator)\u001b[0m\n\u001b[1;32m    571\u001b[0m     X = check_array(X, accept_sparse, dtype, order, copy, force_all_finite,\n\u001b[1;32m    572\u001b[0m                     \u001b[0mensure_2d\u001b[0m\u001b[0;34m,\u001b[0m \u001b[0mallow_nd\u001b[0m\u001b[0;34m,\u001b[0m \u001b[0mensure_min_samples\u001b[0m\u001b[0;34m,\u001b[0m\u001b[0;34m\u001b[0m\u001b[0m\n\u001b[0;32m--> 573\u001b[0;31m                     ensure_min_features, warn_on_dtype, estimator)\n\u001b[0m\u001b[1;32m    574\u001b[0m     \u001b[0;32mif\u001b[0m \u001b[0mmulti_output\u001b[0m\u001b[0;34m:\u001b[0m\u001b[0;34m\u001b[0m\u001b[0m\n\u001b[1;32m    575\u001b[0m         y = check_array(y, 'csr', force_all_finite=True, ensure_2d=False,\n",
      "\u001b[0;32m~/anaconda3/lib/python3.6/site-packages/sklearn/utils/validation.py\u001b[0m in \u001b[0;36mcheck_array\u001b[0;34m(array, accept_sparse, dtype, order, copy, force_all_finite, ensure_2d, allow_nd, ensure_min_samples, ensure_min_features, warn_on_dtype, estimator)\u001b[0m\n\u001b[1;32m    451\u001b[0m                              % (array.ndim, estimator_name))\n\u001b[1;32m    452\u001b[0m         \u001b[0;32mif\u001b[0m \u001b[0mforce_all_finite\u001b[0m\u001b[0;34m:\u001b[0m\u001b[0;34m\u001b[0m\u001b[0m\n\u001b[0;32m--> 453\u001b[0;31m             \u001b[0m_assert_all_finite\u001b[0m\u001b[0;34m(\u001b[0m\u001b[0marray\u001b[0m\u001b[0;34m)\u001b[0m\u001b[0;34m\u001b[0m\u001b[0m\n\u001b[0m\u001b[1;32m    454\u001b[0m \u001b[0;34m\u001b[0m\u001b[0m\n\u001b[1;32m    455\u001b[0m     \u001b[0mshape_repr\u001b[0m \u001b[0;34m=\u001b[0m \u001b[0m_shape_repr\u001b[0m\u001b[0;34m(\u001b[0m\u001b[0marray\u001b[0m\u001b[0;34m.\u001b[0m\u001b[0mshape\u001b[0m\u001b[0;34m)\u001b[0m\u001b[0;34m\u001b[0m\u001b[0m\n",
      "\u001b[0;32m~/anaconda3/lib/python3.6/site-packages/sklearn/utils/validation.py\u001b[0m in \u001b[0;36m_assert_all_finite\u001b[0;34m(X)\u001b[0m\n\u001b[1;32m     42\u001b[0m             and not np.isfinite(X).all()):\n\u001b[1;32m     43\u001b[0m         raise ValueError(\"Input contains NaN, infinity\"\n\u001b[0;32m---> 44\u001b[0;31m                          \" or a value too large for %r.\" % X.dtype)\n\u001b[0m\u001b[1;32m     45\u001b[0m \u001b[0;34m\u001b[0m\u001b[0m\n\u001b[1;32m     46\u001b[0m \u001b[0;34m\u001b[0m\u001b[0m\n",
      "\u001b[0;31mValueError\u001b[0m: Input contains NaN, infinity or a value too large for dtype('float64')."
     ]
    }
   ],
   "source": [
    "# Fit a linear model to our private_train data using BoxCoxed response\n",
    "#ols.fit(pca.transform(X_private_train), yT_private_train)\n",
    "ols.fit(X_private_train, yT_private_train)"
   ]
  },
  {
   "cell_type": "code",
   "execution_count": 25,
   "metadata": {
    "collapsed": true
   },
   "outputs": [],
   "source": [
    "# Predict BoxCoxed response outputs\n",
    "#predictedT = ols.predict(pca.transform(X_private_train))\n",
    "predictedT = ols.predict(X_private_train)"
   ]
  },
  {
   "cell_type": "code",
   "execution_count": 26,
   "metadata": {},
   "outputs": [
    {
     "data": {
      "text/plain": [
       "array([ 59.8564746 ,  56.31624283,  62.13400496, ...,  76.31586053,\n",
       "        55.21181148,  60.26475354])"
      ]
     },
     "execution_count": 26,
     "metadata": {},
     "output_type": "execute_result"
    }
   ],
   "source": [
    "predictedT"
   ]
  },
  {
   "cell_type": "code",
   "execution_count": 27,
   "metadata": {
    "collapsed": true
   },
   "outputs": [],
   "source": [
    "# Inverse BoxCox previous prediction to get predicted SalePrices\n",
    "#predicted = np.power((predictedT * private_lambda) + 1, 1 / private_lambda) \n",
    "predicted = np.power((predictedT * 0.22) + 1, 1/(0.22)) # Use line above to use python-found lambda value"
   ]
  },
  {
   "cell_type": "code",
   "execution_count": 28,
   "metadata": {},
   "outputs": [
    {
     "name": "stdout",
     "output_type": "stream",
     "text": [
      "RMSE: 0.07754057269756197\n"
     ]
    }
   ],
   "source": [
    "# Compute RMSE and R^2 using log of un-BoxCoxed predictions; must use .reshape(-1,1) to match dimensions of object\n",
    "# containing actual y-values with object containing predicted y-values\n",
    "print(\"RMSE: {0}\".format(np.sqrt(np.mean((np.log(encoded_private_train['SalePrice'].values) - np.log(predicted)) ** 2))))"
   ]
  },
  {
   "cell_type": "markdown",
   "metadata": {
    "collapsed": true
   },
   "source": [
    "## Testing model on private test set"
   ]
  },
  {
   "cell_type": "code",
   "execution_count": 29,
   "metadata": {
    "collapsed": true
   },
   "outputs": [],
   "source": [
    "# Predict BoxCoxed response outputs for private test\n",
    "#test_predictedT = ols.predict(pca.transform(X_private_test))\n",
    "test_predictedT = ols.predict(X_private_test)"
   ]
  },
  {
   "cell_type": "code",
   "execution_count": 30,
   "metadata": {},
   "outputs": [
    {
     "data": {
      "text/plain": [
       "array([ -1.06208589e+13,   3.82687370e+12,   6.60602420e+12,\n",
       "         1.30198229e+13,   9.66227340e+11,   3.57795320e+12,\n",
       "        -7.54319940e+10,  -3.72058869e+13,   6.17225527e+11,\n",
       "         5.97502827e+12,   1.41381799e+12,   2.78647434e+12,\n",
       "        -6.11047640e+12,   1.43099247e+11,  -8.92298491e+08,\n",
       "        -8.91561055e+12,  -3.65074617e+11,   1.14166334e+12,\n",
       "        -1.88388090e+13,   8.55785497e+12,   4.25001905e+12,\n",
       "         5.09547203e+12,   1.32096170e+12,  -4.70682753e+12,\n",
       "         3.16856131e+12,   1.55497234e+11,   3.01123293e+12,\n",
       "         3.34752950e+09,  -1.07985193e+12,   1.04282750e+13,\n",
       "         1.12330863e+12,   1.05638246e+11,   5.23283580e+12,\n",
       "         7.21112704e+11,   6.74026846e+12,   4.74470991e+12,\n",
       "         2.20834237e+13,  -2.92711823e+13,   3.38552506e+12,\n",
       "         4.63566265e+12,  -8.67114284e+12,  -2.68453407e+12,\n",
       "        -1.16501912e+13,  -1.06355911e+13,  -2.23868589e+13,\n",
       "        -7.71493590e+11,   2.08721445e+12,   1.58415912e+11,\n",
       "         1.34876513e+12,   8.14033168e+12,   4.21522232e+12,\n",
       "         2.42822735e+12,   5.33964032e+12,   6.51017323e+12,\n",
       "        -8.67082868e+12,  -9.45746728e+11,   2.75635634e+12,\n",
       "        -7.10001121e+11,   3.34814854e+12,   7.28945955e+11,\n",
       "         9.48858263e+12,   1.06879049e+13,   3.12148862e+12,\n",
       "         6.79577254e+12,   3.19618769e+12,   3.27552092e+12,\n",
       "        -1.89539523e+12,   1.99786830e+12,   4.34753433e+12,\n",
       "         1.90303998e+11,   4.19428418e+12,   4.69105759e+12,\n",
       "         1.25789322e+12,   2.65959720e+12,   3.20923735e+12,\n",
       "         1.53940049e+12,   2.75873645e+12,   3.52984097e+12,\n",
       "         1.89017983e+12,   3.98878161e+12,   4.26411608e+12,\n",
       "        -9.71414844e+11,  -2.82188318e+11,   1.67595536e+12,\n",
       "         2.92563814e+12,  -9.40045389e+12,  -1.60641710e+13,\n",
       "         1.23814324e+11,   1.14171024e+12,   6.60596976e+11,\n",
       "        -4.36845574e+12,   8.36136152e+12,  -1.04724404e+13,\n",
       "         1.92348128e+12,   2.92703744e+12,   1.41923819e+12,\n",
       "         1.28267773e+13,   6.28678117e+11,  -1.54517885e+12,\n",
       "         2.70114036e+12,   6.24966780e+12,   4.83515659e+12,\n",
       "         9.16632518e+12,   1.17284654e+11,   9.99178599e+12,\n",
       "        -1.85895255e+13,   2.20844218e+12,  -1.15969296e+13,\n",
       "         6.34909841e+12,   2.31134285e+12,   5.09400738e+12,\n",
       "        -6.31017170e+13,   2.97370918e+12,  -2.44179124e+12,\n",
       "         5.96145254e+11,  -5.37848666e+13,   3.88950166e+12,\n",
       "        -3.98391427e+11,  -4.91021451e+12,   4.39505493e+12,\n",
       "         7.28086254e+12,   1.15724884e+12,   2.00231238e+12,\n",
       "         4.14253454e+12,   3.45095912e+11,  -2.15456405e+13,\n",
       "         5.08915181e+12,  -1.32678314e+11,  -5.90530477e+12,\n",
       "        -8.86744845e+12,   4.60257649e+12,  -1.80446942e+13,\n",
       "        -2.30443916e+12,  -2.15900728e+12,   2.04196584e+12,\n",
       "        -2.74374030e+13,  -7.84989355e+11,   2.03145906e+12,\n",
       "         2.60060954e+12,  -1.02534583e+13,  -4.21609697e+12,\n",
       "         7.31679789e+11,   2.94588995e+12,  -1.75782896e+12,\n",
       "         7.20485926e+12,   5.05755378e+12,  -1.17508296e+13,\n",
       "         3.24340787e+12,   7.60016125e+11,   1.66125462e+12,\n",
       "        -1.59406948e+12,   3.14120187e+12,   4.69782317e+12,\n",
       "         5.96105661e+12,   1.05957670e+12,  -1.25566148e+13,\n",
       "         4.16268027e+12,  -4.29591273e+13,  -1.17919864e+13,\n",
       "        -1.45953262e+11,  -3.91757352e+12,   3.81177750e+12,\n",
       "        -2.13748591e+12,   5.03686451e+12,   4.13867806e+11,\n",
       "        -1.56497734e+13,   3.69501554e+12,  -3.50690572e+12,\n",
       "         2.53064525e+12,   5.12290188e+12,   2.36533546e+12,\n",
       "         7.72935288e+12,  -3.26882855e+13,   4.53607442e+12,\n",
       "        -5.98665395e+12,   3.41188780e+12,  -7.02875706e+12,\n",
       "         2.12536271e+12,   2.92127565e+12,  -3.24482857e+12,\n",
       "        -4.82814229e+12,   4.24227296e+12,   7.68549803e+12,\n",
       "         5.76322584e+12,   3.86647705e+13,   1.10575152e+13,\n",
       "        -4.92743746e+11,  -1.56936937e+13,   3.07097752e+12,\n",
       "         7.01331975e+12,  -7.82196418e+12,  -1.27951654e+12,\n",
       "         6.30707925e+12,   4.32966742e+11,   1.00798617e+13,\n",
       "         2.29675295e+12,  -1.92221342e+12,  -1.21381686e+13,\n",
       "         3.66301837e+12,   5.76470677e+10,   4.07057462e+12,\n",
       "        -1.84725433e+13,   1.46291861e+12,   6.01358736e+11,\n",
       "         5.61100152e+12,   3.51404976e+12,   9.75164578e+12,\n",
       "         1.70069641e+12,   1.61108622e+12,   1.47295642e+13,\n",
       "         8.94025234e+12,   2.49844018e+12,   4.81399589e+12,\n",
       "         9.54905905e+12,  -1.51264135e+12,   5.89446837e+12,\n",
       "         6.02734045e+09,   7.87135548e+12,   3.56034808e+12,\n",
       "         7.08479303e+12,   1.41628481e+12,   1.85301161e+12,\n",
       "         1.29599877e+12,   1.21510627e+12,   1.41312911e+12,\n",
       "        -3.37225036e+13,  -3.45206256e+12,   9.70242726e+12,\n",
       "         2.88477638e+12,   6.06049380e+12,   1.51612417e+12,\n",
       "         5.16258560e+12,   6.03690844e+12,  -1.09288754e+13,\n",
       "         7.92530855e+12,  -4.39482766e+12,  -1.99127695e+12,\n",
       "         4.85983887e+12,   4.30372446e+12,   2.96600971e+12,\n",
       "         5.95080299e+12,   1.02474216e+12,   4.52229609e+12,\n",
       "         6.74426932e+12,  -1.36960650e+12,  -1.79719427e+13,\n",
       "         1.02440059e+12,  -3.98423353e+10,   1.56866854e+12,\n",
       "        -6.35184016e+11,   6.85406432e+12,  -3.62046886e+12,\n",
       "         2.74144241e+12,   2.92399353e+12,  -4.22700930e+12,\n",
       "         1.92806587e+12,   8.24107768e+12,   2.85256225e+12,\n",
       "         3.71903590e+12,   3.04863137e+12,  -1.08114703e+12,\n",
       "        -5.79014143e+12,  -2.86417625e+12,   1.82925957e+12,\n",
       "        -2.14808488e+12,   1.86659582e+13,   1.18791317e+12,\n",
       "         8.41930860e+12,   5.09292766e+12,   3.07356775e+12,\n",
       "         2.04371615e+11,   3.42933946e+12,   1.43937533e+12,\n",
       "         4.62990670e+12,   7.01618522e+11,   6.00938764e+12,\n",
       "         4.55627478e+12,   4.59617154e+11,  -1.63815473e+13,\n",
       "         1.30913409e+11,   3.18269146e+12,   1.58699479e+12,\n",
       "        -2.72867535e+13,   3.13314333e+12,   1.53875456e+12,\n",
       "        -2.33737483e+11,   7.23765016e+11,   6.22722916e+12,\n",
       "         7.60443697e+12,   2.86721299e+12,   3.36502982e+12,\n",
       "        -7.10023070e+11])"
      ]
     },
     "execution_count": 30,
     "metadata": {},
     "output_type": "execute_result"
    }
   ],
   "source": [
    "test_predictedT"
   ]
  },
  {
   "cell_type": "code",
   "execution_count": 14,
   "metadata": {},
   "outputs": [
    {
     "name": "stderr",
     "output_type": "stream",
     "text": [
      "/Users/kathrynbryant/anaconda3/lib/python3.6/site-packages/ipykernel_launcher.py:2: RuntimeWarning: invalid value encountered in power\n",
      "  \n"
     ]
    }
   ],
   "source": [
    "# Inverse BoxCox previous prediction to get predicted SalePrices\n",
    "test_predicted = np.power((test_predictedT * 0.22) + 1, 1/(0.22))"
   ]
  },
  {
   "cell_type": "code",
   "execution_count": 18,
   "metadata": {},
   "outputs": [
    {
     "name": "stdout",
     "output_type": "stream",
     "text": [
      "RMSE: nan\n"
     ]
    },
    {
     "name": "stderr",
     "output_type": "stream",
     "text": [
      "/Users/kathrynbryant/anaconda3/lib/python3.6/site-packages/ipykernel_launcher.py:3: RuntimeWarning: divide by zero encountered in log\n",
      "  This is separate from the ipykernel package so we can avoid doing imports until\n"
     ]
    }
   ],
   "source": [
    "# Compute RMSE and R^2 using log of un-BoxCoxed predictions; must use .reshape(-1,1) to match dimensions of object\n",
    "# containing actual y-values with object containing predicted y-values\n",
    "print(\"RMSE: {0}\".format(np.sqrt(np.mean((np.log(encoded_private_test['SalePrice'].values.reshape(-1,1)) - np.log(test_predicted)) ** 2))))"
   ]
  },
  {
   "cell_type": "code",
   "execution_count": null,
   "metadata": {
    "collapsed": true
   },
   "outputs": [],
   "source": []
  }
 ],
 "metadata": {
  "kernelspec": {
   "display_name": "Python 3",
   "language": "python",
   "name": "python3"
  },
  "language_info": {
   "codemirror_mode": {
    "name": "ipython",
    "version": 3
   },
   "file_extension": ".py",
   "mimetype": "text/x-python",
   "name": "python",
   "nbconvert_exporter": "python",
   "pygments_lexer": "ipython3",
   "version": "3.6.2"
  }
 },
 "nbformat": 4,
 "nbformat_minor": 2
}
