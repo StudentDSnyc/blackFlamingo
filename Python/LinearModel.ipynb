{
 "cells": [
  {
   "cell_type": "code",
   "execution_count": 1,
   "metadata": {
    "collapsed": true
   },
   "outputs": [],
   "source": [
    "# Loading the packages to be used\n",
    "from __future__ import print_function  # Python 2 and 3\n",
    "import pandas as pd\n",
    "import numpy as np\n",
    "from scipy import stats\n",
    "import matplotlib.pyplot as plt\n",
    "from scipy import stats\n",
    "%matplotlib inline"
   ]
  },
  {
   "cell_type": "code",
   "execution_count": 2,
   "metadata": {
    "collapsed": true
   },
   "outputs": [],
   "source": [
    "# Import data; for linear regression, either import encoded datasets or dummify and then oneHotEncode in python\n",
    "houses_train = pd.read_csv('/Users/kathrynbryant/Dropbox/NYCDSA/blackFlamingo/Data/encoded_houses_train.csv')\n",
    "houses_test = pd.read_csv('/Users/kathrynbryant/Dropbox/NYCDSA/blackFlamingo/Data/encoded_houses_test.csv')\n",
    "private_train = pd.read_csv('/Users/kathrynbryant/Dropbox/NYCDSA/blackFlamingo/Data/encoded_private_train.csv')\n",
    "private_test = pd.read_csv('/Users/kathrynbryant/Dropbox/NYCDSA/blackFlamingo/Data/encoded_private_test.csv')"
   ]
  },
  {
   "cell_type": "code",
   "execution_count": 3,
   "metadata": {},
   "outputs": [
    {
     "name": "stdout",
     "output_type": "stream",
     "text": [
      "(1460, 336)\n",
      "(1459, 336)\n",
      "(1168, 332)\n",
      "(292, 332)\n"
     ]
    }
   ],
   "source": [
    "print(houses_train.shape)\n",
    "print(houses_test.shape)\n",
    "print(private_train.shape)\n",
    "print(private_test.shape)"
   ]
  },
  {
   "cell_type": "code",
   "execution_count": 19,
   "metadata": {},
   "outputs": [],
   "source": [
    "# Save the 'Id' column\n",
    "#houses_train_ID = houses_train['Id']\n",
    "#houses_test_ID = houses_test['Id']\n",
    "#private_train_ID = private_train['Id']\n",
    "#private_test_ID = private_test['Id']\n",
    "\n",
    "# Now drop the 'Id' colum since we can not use it as a feature to train our model.\n",
    "#houses_train.drop(\"Id\", axis = 1, inplace = True)\n",
    "#houses_test.drop(\"Id\", axis = 1, inplace = True)\n",
    "#private_train.drop(\"Id\", axis = 1, inplace = True)\n",
    "#private_test.drop(\"Id\", axis = 1, inplace = True)"
   ]
  },
  {
   "cell_type": "code",
   "execution_count": 43,
   "metadata": {},
   "outputs": [],
   "source": [
    "# Define data frame of predictors and BoxCox response variable\n",
    "X_houses_train = houses_train.drop('SalePrice', axis = 1)\n",
    "yT_houses_train, _ = stats.boxcox(houses_train[['SalePrice']]) # T indicates transformation; ndarray output\n",
    "X_private_train = private_train.drop('SalePrice', axis = 1)\n",
    "yT_private_train, _ = stats.boxcox(private_train[['SalePrice']]) # T indicates transformation; ndarray output"
   ]
  },
  {
   "cell_type": "code",
   "execution_count": 46,
   "metadata": {},
   "outputs": [],
   "source": [
    "# Turn ndarray of BoxCoxed response variable into a data frame\n",
    "yT_houses_train = pd.DataFrame(yT_houses_train)\n",
    "yT_private_train = pd.DataFrame(yT_private_train)\n",
    "\n",
    "yT_houses_train.columns = ['SalePrice_BC']\n",
    "yT_private_train.columns = ['SalePrice_BC']"
   ]
  },
  {
   "cell_type": "code",
   "execution_count": 47,
   "metadata": {},
   "outputs": [
    {
     "data": {
      "text/html": [
       "<div>\n",
       "<style>\n",
       "    .dataframe thead tr:only-child th {\n",
       "        text-align: right;\n",
       "    }\n",
       "\n",
       "    .dataframe thead th {\n",
       "        text-align: left;\n",
       "    }\n",
       "\n",
       "    .dataframe tbody tr th {\n",
       "        vertical-align: top;\n",
       "    }\n",
       "</style>\n",
       "<table border=\"1\" class=\"dataframe\">\n",
       "  <thead>\n",
       "    <tr style=\"text-align: right;\">\n",
       "      <th></th>\n",
       "      <th>SalePrice_BC</th>\n",
       "    </tr>\n",
       "  </thead>\n",
       "  <tbody>\n",
       "    <tr>\n",
       "      <th>0</th>\n",
       "      <td>7.932608</td>\n",
       "    </tr>\n",
       "    <tr>\n",
       "      <th>1</th>\n",
       "      <td>7.878261</td>\n",
       "    </tr>\n",
       "    <tr>\n",
       "      <th>2</th>\n",
       "      <td>7.959616</td>\n",
       "    </tr>\n",
       "    <tr>\n",
       "      <th>3</th>\n",
       "      <td>7.774953</td>\n",
       "    </tr>\n",
       "    <tr>\n",
       "      <th>4</th>\n",
       "      <td>8.002873</td>\n",
       "    </tr>\n",
       "  </tbody>\n",
       "</table>\n",
       "</div>"
      ],
      "text/plain": [
       "   SalePrice_BC\n",
       "0      7.932608\n",
       "1      7.878261\n",
       "2      7.959616\n",
       "3      7.774953\n",
       "4      8.002873"
      ]
     },
     "execution_count": 47,
     "metadata": {},
     "output_type": "execute_result"
    }
   ],
   "source": [
    "yT_houses_train.head()"
   ]
  },
  {
   "cell_type": "code",
   "execution_count": 10,
   "metadata": {
    "collapsed": true
   },
   "outputs": [],
   "source": [
    "#### Define a linear regression object ols\n",
    "from sklearn import linear_model\n",
    "ols = linear_model.LinearRegression()"
   ]
  },
  {
   "cell_type": "markdown",
   "metadata": {},
   "source": [
    "(Recall from lecture code) \n",
    "Some attributes and methods we will use for linear regression:\n",
    "\n",
    "- `coef_`: Estimated coefficients ($\\hat{\\beta}_1$,...) for the linear regression problem.\n",
    "- `intercept_`: Independent term ($\\hat{\\beta}_0$) in the linear model.\n",
    "- `fit(X, y)`: Fit linear model.\n",
    "- `predict(X)`: Predict using the linear model\n",
    "- `score(X, y)`: Returns the coefficient of determination $R^2$ of the prediction."
   ]
  },
  {
   "cell_type": "code",
   "execution_count": 18,
   "metadata": {
    "collapsed": true
   },
   "outputs": [],
   "source": [
    "## If data isn't already pre-split:\n",
    "#try:  # train_test_split was moved in 0.18.0\n",
    "#    from sklearn.model_selection import train_test_split\n",
    "#except:  # Following import works through 0.19 but outputs a warning in 0.18\n",
    "#    from sklearn.cross_validation import train_test_split\n",
    "#X_train, X_test, y_train, y_test = train_test_split(X_houses_train, y_houses_train, test_size=0.2, random_state=927)"
   ]
  },
  {
   "cell_type": "code",
   "execution_count": 48,
   "metadata": {},
   "outputs": [
    {
     "data": {
      "text/plain": [
       "LinearRegression(copy_X=True, fit_intercept=True, n_jobs=1, normalize=False)"
      ]
     },
     "execution_count": 48,
     "metadata": {},
     "output_type": "execute_result"
    }
   ],
   "source": [
    "# Fit a linear model to our private_train data\n",
    "ols.fit(X_private_train, yT_private_train)"
   ]
  },
  {
   "cell_type": "code",
   "execution_count": 49,
   "metadata": {},
   "outputs": [
    {
     "name": "stdout",
     "output_type": "stream",
     "text": [
      "RMSE: SalePrice_BC    0.040433\n",
      "dtype: float64\n",
      "R^2: 0.95\n"
     ]
    }
   ],
   "source": [
    "# Predict with ols.predict(X_train) and automatically compute RSS and R^2\n",
    "print(\"RMSE: {0}\".format(np.sqrt(np.mean((yT_private_train - ols.predict(X_private_train)) ** 2))))\n",
    "\n",
    "## score: the R^2 of the fitted model\n",
    "print('R^2: %.2f' % ols.score(X_private_train, yT_private_train))"
   ]
  },
  {
   "cell_type": "code",
   "execution_count": null,
   "metadata": {
    "collapsed": true
   },
   "outputs": [],
   "source": []
  }
 ],
 "metadata": {
  "kernelspec": {
   "display_name": "Python 3",
   "language": "python",
   "name": "python3"
  },
  "language_info": {
   "codemirror_mode": {
    "name": "ipython",
    "version": 3
   },
   "file_extension": ".py",
   "mimetype": "text/x-python",
   "name": "python",
   "nbconvert_exporter": "python",
   "pygments_lexer": "ipython3",
   "version": "3.6.2"
  }
 },
 "nbformat": 4,
 "nbformat_minor": 2
}
