{
 "cells": [
  {
   "cell_type": "code",
   "execution_count": 1,
   "metadata": {},
   "outputs": [
    {
     "name": "stderr",
     "output_type": "stream",
     "text": [
      "/home/paul/env/py35/lib/python3.5/site-packages/sklearn/cross_validation.py:41: DeprecationWarning: This module was deprecated in version 0.18 in favor of the model_selection module into which all the refactored classes and functions are moved. Also note that the interface of the new CV iterators are different from that of this module. This module will be removed in 0.20.\n",
      "  \"This module will be removed in 0.20.\", DeprecationWarning)\n"
     ]
    }
   ],
   "source": [
    "from sklearn.linear_model import ElasticNet, LinearRegression as lr, LogisticRegression\n",
    "from sklearn.ensemble import GradientBoostingRegressor as gbr, RandomForestRegressor as rfr\n",
    "from xgboost import XGBRegressor"
   ]
  },
  {
   "cell_type": "code",
   "execution_count": 2,
   "metadata": {
    "collapsed": true
   },
   "outputs": [],
   "source": [
    "# Useful if you are debugging the function inside another .py script\n",
    "%load_ext autoreload\n",
    "%autoreload 2"
   ]
  },
  {
   "cell_type": "code",
   "execution_count": 3,
   "metadata": {
    "collapsed": true
   },
   "outputs": [],
   "source": [
    "import pandas as pd\n",
    "\n",
    "houses_train = pd.read_csv('../Data/encoded_houses_train.csv')\n",
    "houses_test = pd.read_csv('../Data/encoded_houses_test.csv')"
   ]
  },
  {
   "cell_type": "code",
   "execution_count": 4,
   "metadata": {
    "collapsed": true
   },
   "outputs": [],
   "source": [
    "X_train = houses_train.loc[:, houses_train.columns != \"SalePrice\"].values # convert to np.array\n",
    "y_train = houses_train.loc[:, houses_train.columns == \"SalePrice\"].values.reshape(-1, )\n",
    "\n",
    "X_test = houses_test.loc[:, houses_train.columns != \"SalePrice\"].values # convert to np.array"
   ]
  },
  {
   "cell_type": "code",
   "execution_count": 73,
   "metadata": {
    "collapsed": true
   },
   "outputs": [],
   "source": [
    "from stacking import stacking_regression, append_meta_features\n",
    "from sklearn.metrics import mean_squared_error\n",
    "import numpy as np"
   ]
  },
  {
   "cell_type": "code",
   "execution_count": 6,
   "metadata": {
    "collapsed": true
   },
   "outputs": [],
   "source": [
    "def rmsle(y, y_pred):\n",
    "    return np.sqrt(mean_squared_error(np.log(y), np.log(y_pred)))"
   ]
  },
  {
   "cell_type": "code",
   "execution_count": null,
   "metadata": {
    "collapsed": true
   },
   "outputs": [],
   "source": [
    "\n"
   ]
  },
  {
   "cell_type": "code",
   "execution_count": 49,
   "metadata": {
    "collapsed": true
   },
   "outputs": [],
   "source": []
  },
  {
   "cell_type": "code",
   "execution_count": null,
   "metadata": {
    "collapsed": true
   },
   "outputs": [],
   "source": []
  },
  {
   "cell_type": "code",
   "execution_count": null,
   "metadata": {
    "collapsed": true
   },
   "outputs": [],
   "source": []
  },
  {
   "cell_type": "code",
   "execution_count": 10,
   "metadata": {
    "collapsed": true
   },
   "outputs": [],
   "source": [
    "from  sklearn import preprocessing\n",
    "y_quant = pd.qcut(y_train, 5, labels=range(1,6))\n",
    "le = preprocessing.LabelEncoder()\n",
    "le.fit(y_quant)\n",
    "y_quant = le.transform(y_quant)"
   ]
  },
  {
   "cell_type": "code",
   "execution_count": 17,
   "metadata": {
    "collapsed": true
   },
   "outputs": [],
   "source": [
    "from sklearn.model_selection import train_test_split\n",
    "import sklearn.model_selection as ms\n",
    "from sklearn import metrics\n",
    "\n",
    "seed = 10\n",
    "test_ratio = 0.2\n",
    "\n",
    "X_pr_train, X_pr_test, y_pr_train, y_pr_test = train_test_split(X_train, y_quant, test_size=test_ratio, random_state=seed)"
   ]
  },
  {
   "cell_type": "code",
   "execution_count": 16,
   "metadata": {},
   "outputs": [
    {
     "name": "stdout",
     "output_type": "stream",
     "text": [
      "Fitting 5 folds for each of 10 candidates, totalling 50 fits\n",
      "[CV] C=1.0 ...........................................................\n",
      "[CV] C=1.0 ...........................................................\n",
      "[CV] C=1.0 ...........................................................\n",
      "[CV] C=1.0 ...........................................................\n",
      "[CV] C=1.0 ...........................................................\n",
      "[CV] C=2.51188643151 .................................................\n",
      "[CV] C=2.51188643151 .................................................\n",
      "[CV] C=2.51188643151 .................................................\n",
      "[CV] .................. C=1.0, score=0.6027397260273972, total=   1.8s\n",
      "[CV] C=2.51188643151 .................................................\n",
      "[CV] .................. C=1.0, score=0.6143344709897611, total=   1.8s\n",
      "[CV] C=2.51188643151 .................................................\n",
      "[CV] .................. C=1.0, score=0.6143344709897611, total=   2.0s\n",
      "[CV] C=6.3095734448 ..................................................\n",
      "[CV] .................. C=1.0, score=0.6883561643835616, total=   2.0s\n",
      "[CV] .................. C=1.0, score=0.5862068965517241, total=   2.0s\n",
      "[CV] C=6.3095734448 ..................................................\n",
      "[CV] C=6.3095734448 ..................................................\n"
     ]
    },
    {
     "name": "stderr",
     "output_type": "stream",
     "text": [
      "[Parallel(n_jobs=-1)]: Done   2 tasks      | elapsed:    1.9s\n"
     ]
    },
    {
     "name": "stdout",
     "output_type": "stream",
     "text": [
      "[CV] ........ C=2.51188643151, score=0.6075085324232082, total=   2.7s\n",
      "[CV] C=6.3095734448 ..................................................\n",
      "[CV] ........ C=2.51188643151, score=0.6075085324232082, total=   2.8s\n",
      "[CV] C=6.3095734448 ..................................................\n",
      "[CV] ......... C=2.51188643151, score=0.678082191780822, total=   3.0s\n",
      "[CV] C=15.8489319246 .................................................\n",
      "[CV] ........ C=2.51188643151, score=0.6164383561643836, total=   2.9s\n",
      "[CV] C=15.8489319246 .................................................\n",
      "[CV] ........ C=2.51188643151, score=0.5896551724137931, total=   2.9s\n",
      "[CV] C=15.8489319246 .................................................\n"
     ]
    },
    {
     "name": "stderr",
     "output_type": "stream",
     "text": [
      "[Parallel(n_jobs=-1)]: Done   9 tasks      | elapsed:    4.8s\n"
     ]
    },
    {
     "name": "stdout",
     "output_type": "stream",
     "text": [
      "[CV] ......... C=6.3095734448, score=0.6075085324232082, total=   3.7s\n",
      "[CV] C=15.8489319246 .................................................\n",
      "[CV] ......... C=6.3095734448, score=0.6177474402730375, total=   3.8s\n",
      "[CV] ......... C=6.3095734448, score=0.6643835616438356, total=   3.8s\n",
      "[CV] C=15.8489319246 .................................................\n",
      "[CV] C=39.8107170553 .................................................\n",
      "[CV] ......... C=6.3095734448, score=0.5827586206896552, total=   3.5s\n",
      "[CV] C=39.8107170553 .................................................\n",
      "[CV] ......... C=6.3095734448, score=0.6164383561643836, total=   3.7s\n",
      "[CV] C=39.8107170553 .................................................\n",
      "[CV] ........ C=15.8489319246, score=0.6040955631399317, total=   4.5s\n",
      "[CV] C=39.8107170553 .................................................\n"
     ]
    },
    {
     "name": "stderr",
     "output_type": "stream",
     "text": [
      "[Parallel(n_jobs=-1)]: Done  16 tasks      | elapsed:    7.6s\n"
     ]
    },
    {
     "name": "stdout",
     "output_type": "stream",
     "text": [
      "[CV] ........ C=15.8489319246, score=0.6245733788395904, total=   4.8s\n",
      "[CV] C=39.8107170553 .................................................\n",
      "[CV] ........ C=15.8489319246, score=0.6678082191780822, total=   5.1s\n",
      "[CV] C=100.0 .........................................................\n",
      "[CV] ........ C=15.8489319246, score=0.6198630136986302, total=   4.6s\n",
      "[CV] C=100.0 .........................................................\n",
      "[CV] ........ C=15.8489319246, score=0.5793103448275863, total=   4.5s\n",
      "[CV] C=100.0 .........................................................\n",
      "[CV] ........ C=39.8107170553, score=0.5972696245733788, total=   6.5s\n",
      "[CV] C=100.0 .........................................................\n",
      "[CV] ........ C=39.8107170553, score=0.6746575342465754, total=   6.6s\n",
      "[CV] C=100.0 .........................................................\n",
      "[CV] ........ C=39.8107170553, score=0.6177474402730375, total=   6.8s\n",
      "[CV] C=251.188643151 .................................................\n",
      "[CV] ........ C=39.8107170553, score=0.6027397260273972, total=   6.5s\n",
      "[CV] C=251.188643151 .................................................\n",
      "[CV] ........ C=39.8107170553, score=0.5827586206896552, total=   6.0s\n",
      "[CV] C=251.188643151 .................................................\n"
     ]
    },
    {
     "name": "stderr",
     "output_type": "stream",
     "text": [
      "[Parallel(n_jobs=-1)]: Done  25 tasks      | elapsed:   15.7s\n"
     ]
    },
    {
     "name": "stdout",
     "output_type": "stream",
     "text": [
      "[CV] ................ C=100.0, score=0.6541095890410958, total=   7.7s\n",
      "[CV] C=251.188643151 .................................................\n",
      "[CV] ................ C=100.0, score=0.6075085324232082, total=   8.6s\n",
      "[CV] C=251.188643151 .................................................\n",
      "[CV] ................. C=100.0, score=0.590443686006826, total=   9.4s\n",
      "[CV] C=630.95734448 ..................................................\n",
      "[CV] ................ C=100.0, score=0.5958904109589042, total=   7.9s\n",
      "[CV] C=630.95734448 ..................................................\n",
      "[CV] ................ C=100.0, score=0.5862068965517241, total=   8.7s\n",
      "[CV] C=630.95734448 ..................................................\n",
      "[CV] ........ C=251.188643151, score=0.5733788395904437, total=  10.2s\n",
      "[CV] C=630.95734448 ..................................................\n",
      "[CV] ........ C=251.188643151, score=0.6040955631399317, total=  11.1s\n",
      "[CV] C=630.95734448 ..................................................\n",
      "[CV] ........ C=251.188643151, score=0.6472602739726028, total=  10.8s\n",
      "[CV] C=1584.89319246 .................................................\n",
      "[CV] ........ C=251.188643151, score=0.5958904109589042, total=  10.1s\n",
      "[CV] C=1584.89319246 .................................................\n"
     ]
    },
    {
     "name": "stderr",
     "output_type": "stream",
     "text": [
      "[Parallel(n_jobs=-1)]: Done  34 tasks      | elapsed:   28.2s\n"
     ]
    },
    {
     "name": "stdout",
     "output_type": "stream",
     "text": [
      "[CV] ......... C=251.188643151, score=0.596551724137931, total=  10.7s\n",
      "[CV] C=1584.89319246 .................................................\n",
      "[CV] ......... C=630.95734448, score=0.5938566552901023, total=  15.6s\n",
      "[CV] C=1584.89319246 .................................................\n",
      "[CV] ......... C=630.95734448, score=0.5958904109589042, total=  13.0s\n",
      "[CV] C=1584.89319246 .................................................\n",
      "[CV] ......... C=630.95734448, score=0.6438356164383562, total=  14.9s\n",
      "[CV] C=3981.07170553 .................................................\n",
      "[CV] ......... C=630.95734448, score=0.5699658703071673, total=  18.3s\n",
      "[CV] C=3981.07170553 .................................................\n",
      "[CV] ......... C=630.95734448, score=0.5896551724137931, total=  14.6s\n",
      "[CV] C=3981.07170553 .................................................\n",
      "[CV] ........ C=1584.89319246, score=0.6438356164383562, total=  21.0s\n",
      "[CV] C=3981.07170553 .................................................\n"
     ]
    },
    {
     "name": "stderr",
     "output_type": "stream",
     "text": [
      "[Parallel(n_jobs=-1)]: Done  41 out of  50 | elapsed:   50.7s remaining:   11.1s\n"
     ]
    },
    {
     "name": "stdout",
     "output_type": "stream",
     "text": [
      "[CV] ......... C=1584.89319246, score=0.590443686006826, total=  22.9s\n",
      "[CV] C=3981.07170553 .................................................\n",
      "[CV] ........ C=1584.89319246, score=0.5699658703071673, total=  25.7s\n",
      "[CV] ........ C=1584.89319246, score=0.5862068965517241, total=  18.6s\n",
      "[CV] ........ C=1584.89319246, score=0.5958904109589042, total=  23.0s\n",
      "[CV] ........ C=3981.07170553, score=0.6404109589041096, total=  25.7s\n",
      "[CV] ........ C=3981.07170553, score=0.5665529010238908, total=  29.8s\n"
     ]
    },
    {
     "name": "stderr",
     "output_type": "stream",
     "text": [
      "[Parallel(n_jobs=-1)]: Done  47 out of  50 | elapsed:  1.1min remaining:    4.2s\n"
     ]
    },
    {
     "name": "stdout",
     "output_type": "stream",
     "text": [
      "[CV] ........ C=3981.07170553, score=0.5836177474402731, total=  29.0s\n",
      "[CV] ........ C=3981.07170553, score=0.5862068965517241, total=  18.0s\n",
      "[CV] ........ C=3981.07170553, score=0.5993150684931506, total=  18.7s\n"
     ]
    },
    {
     "name": "stderr",
     "output_type": "stream",
     "text": [
      "[Parallel(n_jobs=-1)]: Done  50 out of  50 | elapsed:  1.2min finished\n"
     ]
    },
    {
     "name": "stdout",
     "output_type": "stream",
     "text": [
      "CPU times: user 908 ms, sys: 64 ms, total: 972 ms\n",
      "Wall time: 1min 10s\n"
     ]
    },
    {
     "data": {
      "text/plain": [
       "GridSearchCV(cv=5, error_score='raise',\n",
       "       estimator=LogisticRegression(C=1.0, class_weight=None, dual=False, fit_intercept=True,\n",
       "          intercept_scaling=1, max_iter=100, multi_class='ovr', n_jobs=1,\n",
       "          penalty='l2', random_state=67, solver='liblinear', tol=0.0001,\n",
       "          verbose=0, warm_start=False),\n",
       "       fit_params=None, iid=True, n_jobs=-1,\n",
       "       param_grid={'C': array([  1.00000e+00,   2.51189e+00,   6.30957e+00,   1.58489e+01,\n",
       "         3.98107e+01,   1.00000e+02,   2.51189e+02,   6.30957e+02,\n",
       "         1.58489e+03,   3.98107e+03])},\n",
       "       pre_dispatch='2*n_jobs', refit=True, return_train_score='warn',\n",
       "       scoring='accuracy', verbose=10)"
      ]
     },
     "execution_count": 16,
     "metadata": {},
     "output_type": "execute_result"
    }
   ],
   "source": [
    "param_grid = { \"C\" : 10**np.arange(0, 4, 0.4)}\n",
    "logitCV = LogisticRegression()\n",
    "logitCV.set_params(random_state=67)\n",
    "grid_search_logit = ms.GridSearchCV(logitCV, param_grid, cv=5, n_jobs=-1, verbose=10, scoring='accuracy')\n",
    "%time grid_search_logit.fit(X_train, y_quant)"
   ]
  },
  {
   "cell_type": "code",
   "execution_count": 31,
   "metadata": {},
   "outputs": [
    {
     "name": "stdout",
     "output_type": "stream",
     "text": [
      "{'C': 1.0}\n",
      "0.621232876712\n"
     ]
    }
   ],
   "source": [
    "print(grid_search_logit.best_params_)\n",
    "print(grid_search_logit.best_score_)"
   ]
  },
  {
   "cell_type": "code",
   "execution_count": null,
   "metadata": {
    "collapsed": true
   },
   "outputs": [],
   "source": []
  },
  {
   "cell_type": "code",
   "execution_count": null,
   "metadata": {
    "collapsed": true
   },
   "outputs": [],
   "source": []
  },
  {
   "cell_type": "code",
   "execution_count": 24,
   "metadata": {},
   "outputs": [
    {
     "name": "stdout",
     "output_type": "stream",
     "text": [
      "Fitting 5 folds for each of 32 candidates, totalling 160 fits\n",
      "[CV] max_depth=10, n_estimators=500, max_features=10 .................\n",
      "[CV] max_depth=10, n_estimators=500, max_features=10 .................\n",
      "[CV] max_depth=10, n_estimators=500, max_features=10 .................\n",
      "[CV] max_depth=10, n_estimators=500, max_features=10 .................\n",
      "[CV] max_depth=10, n_estimators=700, max_features=10 .................\n",
      "[CV] max_depth=10, n_estimators=500, max_features=10 .................\n",
      "[CV] max_depth=10, n_estimators=700, max_features=10 .................\n",
      "[CV] max_depth=10, n_estimators=700, max_features=10 .................\n",
      "[CV]  max_depth=10, n_estimators=500, max_features=10, score=0.7226027397260274, total=   1.5s\n",
      "[CV] max_depth=10, n_estimators=700, max_features=10 .................\n",
      "[CV]  max_depth=10, n_estimators=500, max_features=10, score=0.658703071672355, total=   1.6s\n",
      "[CV]  max_depth=10, n_estimators=500, max_features=10, score=0.7054794520547946, total=   1.6s\n",
      "[CV] max_depth=10, n_estimators=700, max_features=10 .................\n",
      "[CV]  max_depth=10, n_estimators=500, max_features=10, score=0.6860068259385665, total=   1.6s\n",
      "[CV] max_depth=10, n_estimators=500, max_features=25 .................\n",
      "[CV]  max_depth=10, n_estimators=500, max_features=10, score=0.6448275862068965, total=   1.6s\n",
      "[CV] max_depth=10, n_estimators=500, max_features=25 .................\n",
      "[CV] max_depth=10, n_estimators=500, max_features=25 .................\n"
     ]
    },
    {
     "name": "stderr",
     "output_type": "stream",
     "text": [
      "[Parallel(n_jobs=-1)]: Done   2 tasks      | elapsed:    1.7s\n"
     ]
    },
    {
     "name": "stdout",
     "output_type": "stream",
     "text": [
      "[CV]  max_depth=10, n_estimators=700, max_features=10, score=0.6621160409556314, total=   2.2s\n",
      "[CV] max_depth=10, n_estimators=500, max_features=25 .................\n",
      "[CV]  max_depth=10, n_estimators=700, max_features=10, score=0.6928327645051194, total=   2.2s\n",
      "[CV] max_depth=10, n_estimators=500, max_features=25 .................\n",
      "[CV]  max_depth=10, n_estimators=700, max_features=10, score=0.7226027397260274, total=   2.2s\n",
      "[CV] max_depth=10, n_estimators=700, max_features=25 .................\n",
      "[CV]  max_depth=10, n_estimators=700, max_features=10, score=0.708904109589041, total=   2.2s\n",
      "[CV] max_depth=10, n_estimators=700, max_features=25 .................\n",
      "[CV]  max_depth=10, n_estimators=700, max_features=10, score=0.6551724137931034, total=   2.2s\n",
      "[CV] max_depth=10, n_estimators=700, max_features=25 .................\n",
      "[CV]  max_depth=10, n_estimators=500, max_features=25, score=0.7098976109215017, total=   2.4s\n",
      "[CV] max_depth=10, n_estimators=700, max_features=25 .................\n"
     ]
    },
    {
     "name": "stderr",
     "output_type": "stream",
     "text": [
      "[Parallel(n_jobs=-1)]: Done   9 tasks      | elapsed:    4.2s\n"
     ]
    },
    {
     "name": "stdout",
     "output_type": "stream",
     "text": [
      "[CV]  max_depth=10, n_estimators=500, max_features=25, score=0.6860068259385665, total=   2.5s\n",
      "[CV] max_depth=10, n_estimators=700, max_features=25 .................\n",
      "[CV]  max_depth=10, n_estimators=500, max_features=25, score=0.726027397260274, total=   2.5s\n",
      "[CV] max_depth=10, n_estimators=500, max_features=50 .................\n",
      "[CV]  max_depth=10, n_estimators=500, max_features=25, score=0.7294520547945206, total=   2.4s\n",
      "[CV] max_depth=10, n_estimators=500, max_features=50 .................\n",
      "[CV]  max_depth=10, n_estimators=500, max_features=25, score=0.6655172413793103, total=   2.6s\n",
      "[CV] max_depth=10, n_estimators=500, max_features=50 .................\n",
      "[CV]  max_depth=10, n_estimators=700, max_features=25, score=0.6791808873720137, total=   3.3s\n",
      "[CV] max_depth=10, n_estimators=500, max_features=50 .................\n"
     ]
    },
    {
     "name": "stderr",
     "output_type": "stream",
     "text": [
      "[Parallel(n_jobs=-1)]: Done  16 tasks      | elapsed:    6.0s\n"
     ]
    },
    {
     "name": "stdout",
     "output_type": "stream",
     "text": [
      "[CV]  max_depth=10, n_estimators=700, max_features=25, score=0.7294520547945206, total=   3.2s\n",
      "[CV] max_depth=10, n_estimators=500, max_features=50 .................\n",
      "[CV]  max_depth=10, n_estimators=700, max_features=25, score=0.7098976109215017, total=   3.3s\n",
      "[CV] max_depth=10, n_estimators=700, max_features=50 .................\n",
      "[CV]  max_depth=10, n_estimators=700, max_features=25, score=0.7328767123287672, total=   3.2s\n",
      "[CV] max_depth=10, n_estimators=700, max_features=50 .................\n",
      "[CV]  max_depth=10, n_estimators=700, max_features=25, score=0.6758620689655173, total=   3.3s\n",
      "[CV] max_depth=10, n_estimators=700, max_features=50 .................\n",
      "[CV]  max_depth=10, n_estimators=500, max_features=50, score=0.6860068259385665, total=   3.7s\n",
      "[CV] max_depth=10, n_estimators=700, max_features=50 .................\n",
      "[CV]  max_depth=10, n_estimators=500, max_features=50, score=0.7167235494880546, total=   3.6s\n",
      "[CV] max_depth=10, n_estimators=700, max_features=50 .................\n",
      "[CV]  max_depth=10, n_estimators=500, max_features=50, score=0.7465753424657534, total=   3.8s\n",
      "[CV] max_depth=10, n_estimators=500, max_features=75 .................\n",
      "[CV]  max_depth=10, n_estimators=500, max_features=50, score=0.7054794520547946, total=   3.8s\n",
      "[CV] max_depth=10, n_estimators=500, max_features=75 .................\n",
      "[CV]  max_depth=10, n_estimators=500, max_features=50, score=0.6862068965517242, total=   3.5s\n",
      "[CV] max_depth=10, n_estimators=500, max_features=75 .................\n"
     ]
    },
    {
     "name": "stderr",
     "output_type": "stream",
     "text": [
      "[Parallel(n_jobs=-1)]: Done  25 tasks      | elapsed:   11.3s\n"
     ]
    },
    {
     "name": "stdout",
     "output_type": "stream",
     "text": [
      "[CV]  max_depth=10, n_estimators=700, max_features=50, score=0.6825938566552902, total=   5.0s\n",
      "[CV] max_depth=10, n_estimators=500, max_features=75 .................\n",
      "[CV]  max_depth=10, n_estimators=700, max_features=50, score=0.7133105802047781, total=   5.0s\n",
      "[CV] max_depth=10, n_estimators=500, max_features=75 .................\n",
      "[CV]  max_depth=10, n_estimators=700, max_features=50, score=0.7397260273972602, total=   5.0s\n",
      "[CV] max_depth=10, n_estimators=700, max_features=75 .................\n",
      "[CV]  max_depth=10, n_estimators=700, max_features=50, score=0.7123287671232876, total=   5.0s\n",
      "[CV] max_depth=10, n_estimators=700, max_features=75 .................\n",
      "[CV]  max_depth=10, n_estimators=700, max_features=50, score=0.6793103448275862, total=   4.9s\n",
      "[CV] max_depth=10, n_estimators=700, max_features=75 .................\n",
      "[CV]  max_depth=10, n_estimators=500, max_features=75, score=0.6723549488054608, total=   4.8s\n",
      "[CV] max_depth=10, n_estimators=700, max_features=75 .................\n",
      "[CV]  max_depth=10, n_estimators=500, max_features=75, score=0.7201365187713311, total=   4.7s\n",
      "[CV] max_depth=10, n_estimators=700, max_features=75 .................\n",
      "[CV]  max_depth=10, n_estimators=500, max_features=75, score=0.7534246575342466, total=   4.8s\n",
      "[CV] max_depth=20, n_estimators=500, max_features=10 .................\n",
      "[CV]  max_depth=10, n_estimators=500, max_features=75, score=0.6655172413793103, total=   4.7s\n",
      "[CV] max_depth=20, n_estimators=500, max_features=10 .................\n",
      "[CV]  max_depth=10, n_estimators=500, max_features=75, score=0.7191780821917808, total=   4.9s\n",
      "[CV] max_depth=20, n_estimators=500, max_features=10 .................\n"
     ]
    },
    {
     "name": "stderr",
     "output_type": "stream",
     "text": [
      "[Parallel(n_jobs=-1)]: Done  34 tasks      | elapsed:   17.8s\n"
     ]
    },
    {
     "name": "stdout",
     "output_type": "stream",
     "text": [
      "[CV]  max_depth=20, n_estimators=500, max_features=10, score=0.6791808873720137, total=   1.7s\n",
      "[CV] max_depth=20, n_estimators=500, max_features=10 .................\n",
      "[CV]  max_depth=20, n_estimators=500, max_features=10, score=0.689419795221843, total=   1.8s\n",
      "[CV] max_depth=20, n_estimators=500, max_features=10 .................\n",
      "[CV]  max_depth=10, n_estimators=700, max_features=75, score=0.6723549488054608, total=   6.6s\n",
      "[CV] max_depth=20, n_estimators=700, max_features=10 .................\n",
      "[CV]  max_depth=20, n_estimators=500, max_features=10, score=0.7363013698630136, total=   1.9s\n",
      "[CV] max_depth=20, n_estimators=700, max_features=10 .................\n",
      "[CV]  max_depth=20, n_estimators=500, max_features=10, score=0.7328767123287672, total=   1.8s\n",
      "[CV] max_depth=20, n_estimators=700, max_features=10 .................\n",
      "[CV]  max_depth=10, n_estimators=700, max_features=75, score=0.7098976109215017, total=   6.6s\n",
      "[CV] max_depth=20, n_estimators=700, max_features=10 .................\n",
      "[CV]  max_depth=10, n_estimators=700, max_features=75, score=0.7157534246575342, total=   6.7s\n",
      "[CV] max_depth=20, n_estimators=700, max_features=10 .................\n",
      "[CV]  max_depth=10, n_estimators=700, max_features=75, score=0.7534246575342466, total=   7.0s\n",
      "[CV] max_depth=20, n_estimators=500, max_features=25 .................\n",
      "[CV]  max_depth=10, n_estimators=700, max_features=75, score=0.6724137931034483, total=   6.7s\n",
      "[CV] max_depth=20, n_estimators=500, max_features=25 .................\n",
      "[CV]  max_depth=20, n_estimators=500, max_features=10, score=0.6586206896551724, total=   1.8s\n",
      "[CV] max_depth=20, n_estimators=500, max_features=25 .................\n"
     ]
    },
    {
     "name": "stderr",
     "output_type": "stream",
     "text": [
      "[Parallel(n_jobs=-1)]: Done  45 tasks      | elapsed:   21.8s\n"
     ]
    },
    {
     "name": "stdout",
     "output_type": "stream",
     "text": [
      "[CV]  max_depth=20, n_estimators=700, max_features=10, score=0.6723549488054608, total=   2.5s\n",
      "[CV] max_depth=20, n_estimators=500, max_features=25 .................\n",
      "[CV]  max_depth=20, n_estimators=700, max_features=10, score=0.7226027397260274, total=   2.6s\n",
      "[CV] max_depth=20, n_estimators=500, max_features=25 .................\n",
      "[CV]  max_depth=20, n_estimators=700, max_features=10, score=0.6928327645051194, total=   2.7s\n",
      "[CV] max_depth=20, n_estimators=700, max_features=25 .................\n",
      "[CV]  max_depth=20, n_estimators=700, max_features=10, score=0.726027397260274, total=   2.6s\n",
      "[CV] max_depth=20, n_estimators=700, max_features=25 .................\n",
      "[CV]  max_depth=20, n_estimators=700, max_features=10, score=0.6586206896551724, total=   2.6s\n",
      "[CV] max_depth=20, n_estimators=700, max_features=25 .................\n",
      "[CV]  max_depth=20, n_estimators=500, max_features=25, score=0.689419795221843, total=   2.6s\n",
      "[CV] max_depth=20, n_estimators=700, max_features=25 .................\n",
      "[CV]  max_depth=20, n_estimators=500, max_features=25, score=0.7294520547945206, total=   2.6s\n",
      "[CV] max_depth=20, n_estimators=700, max_features=25 .................\n",
      "[CV]  max_depth=20, n_estimators=500, max_features=25, score=0.6928327645051194, total=   2.7s\n",
      "[CV] max_depth=20, n_estimators=500, max_features=50 .................\n",
      "[CV]  max_depth=20, n_estimators=500, max_features=25, score=0.726027397260274, total=   2.6s\n",
      "[CV] max_depth=20, n_estimators=500, max_features=50 .................\n",
      "[CV]  max_depth=20, n_estimators=500, max_features=25, score=0.6689655172413793, total=   3.0s\n",
      "[CV] max_depth=20, n_estimators=500, max_features=50 .................\n",
      "[CV]  max_depth=20, n_estimators=700, max_features=25, score=0.7030716723549488, total=   3.6s\n",
      "[CV] max_depth=20, n_estimators=500, max_features=50 .................\n"
     ]
    },
    {
     "name": "stderr",
     "output_type": "stream",
     "text": [
      "[Parallel(n_jobs=-1)]: Done  56 tasks      | elapsed:   26.7s\n"
     ]
    },
    {
     "name": "stdout",
     "output_type": "stream",
     "text": [
      "[CV]  max_depth=20, n_estimators=700, max_features=25, score=0.7030716723549488, total=   3.6s\n",
      "[CV] max_depth=20, n_estimators=500, max_features=50 .................\n",
      "[CV]  max_depth=20, n_estimators=700, max_features=25, score=0.7328767123287672, total=   3.6s\n",
      "[CV] max_depth=20, n_estimators=700, max_features=50 .................\n",
      "[CV]  max_depth=20, n_estimators=700, max_features=25, score=0.726027397260274, total=   3.9s\n",
      "[CV] max_depth=20, n_estimators=700, max_features=50 .................\n",
      "[CV]  max_depth=20, n_estimators=700, max_features=25, score=0.6689655172413793, total=   3.7s\n",
      "[CV] max_depth=20, n_estimators=700, max_features=50 .................\n",
      "[CV]  max_depth=20, n_estimators=500, max_features=50, score=0.6928327645051194, total=   4.2s\n",
      "[CV] max_depth=20, n_estimators=700, max_features=50 .................\n",
      "[CV]  max_depth=20, n_estimators=500, max_features=50, score=0.7064846416382252, total=   4.2s\n",
      "[CV] max_depth=20, n_estimators=700, max_features=50 .................\n",
      "[CV]  max_depth=20, n_estimators=500, max_features=50, score=0.7397260273972602, total=   4.0s\n",
      "[CV] max_depth=20, n_estimators=500, max_features=75 .................\n",
      "[CV]  max_depth=20, n_estimators=500, max_features=50, score=0.7226027397260274, total=   4.2s\n",
      "[CV] max_depth=20, n_estimators=500, max_features=75 .................\n",
      "[CV]  max_depth=20, n_estimators=500, max_features=50, score=0.6758620689655173, total=   3.9s\n",
      "[CV] max_depth=20, n_estimators=500, max_features=75 .................\n",
      "[CV]  max_depth=20, n_estimators=700, max_features=50, score=0.6825938566552902, total=   5.6s\n",
      "[CV] max_depth=20, n_estimators=500, max_features=75 .................\n",
      "[CV]  max_depth=20, n_estimators=700, max_features=50, score=0.7098976109215017, total=   5.6s\n",
      "[CV] max_depth=20, n_estimators=500, max_features=75 .................\n",
      "[CV]  max_depth=20, n_estimators=700, max_features=50, score=0.7431506849315068, total=   5.6s\n",
      "[CV] max_depth=20, n_estimators=700, max_features=75 .................\n",
      "[CV]  max_depth=20, n_estimators=700, max_features=50, score=0.7157534246575342, total=   5.6s\n",
      "[CV] max_depth=20, n_estimators=700, max_features=75 .................\n"
     ]
    },
    {
     "name": "stderr",
     "output_type": "stream",
     "text": [
      "[Parallel(n_jobs=-1)]: Done  69 tasks      | elapsed:   34.7s\n"
     ]
    },
    {
     "name": "stdout",
     "output_type": "stream",
     "text": [
      "[CV]  max_depth=20, n_estimators=700, max_features=50, score=0.6758620689655173, total=   5.5s\n",
      "[CV] max_depth=20, n_estimators=700, max_features=75 .................\n",
      "[CV]  max_depth=20, n_estimators=500, max_features=75, score=0.689419795221843, total=   5.4s\n",
      "[CV] max_depth=20, n_estimators=700, max_features=75 .................\n",
      "[CV]  max_depth=20, n_estimators=500, max_features=75, score=0.7235494880546075, total=   5.6s\n",
      "[CV]  max_depth=20, n_estimators=500, max_features=75, score=0.7602739726027398, total=   5.6s\n",
      "[CV] max_depth=25, n_estimators=500, max_features=10 .................\n",
      "[CV] max_depth=20, n_estimators=700, max_features=75 .................\n",
      "[CV]  max_depth=25, n_estimators=500, max_features=10, score=0.6689419795221843, total=   1.7s\n",
      "[CV] max_depth=25, n_estimators=500, max_features=10 .................\n",
      "[CV]  max_depth=20, n_estimators=500, max_features=75, score=0.6724137931034483, total=   5.3s\n",
      "[CV] max_depth=25, n_estimators=500, max_features=10 .................\n",
      "[CV]  max_depth=20, n_estimators=500, max_features=75, score=0.7157534246575342, total=   5.6s\n",
      "[CV] max_depth=25, n_estimators=500, max_features=10 .................\n",
      "[CV]  max_depth=25, n_estimators=500, max_features=10, score=0.689419795221843, total=   1.7s\n",
      "[CV] max_depth=25, n_estimators=500, max_features=10 .................\n",
      "[CV]  max_depth=25, n_estimators=500, max_features=10, score=0.7191780821917808, total=   1.7s\n",
      "[CV] max_depth=25, n_estimators=700, max_features=10 .................\n",
      "[CV]  max_depth=25, n_estimators=500, max_features=10, score=0.7328767123287672, total=   1.7s\n",
      "[CV] max_depth=25, n_estimators=700, max_features=10 .................\n",
      "[CV]  max_depth=20, n_estimators=700, max_features=75, score=0.6825938566552902, total=   7.3s\n",
      "[CV] max_depth=25, n_estimators=700, max_features=10 .................\n",
      "[CV]  max_depth=20, n_estimators=700, max_features=75, score=0.7201365187713311, total=   7.6s\n",
      "[CV] max_depth=25, n_estimators=700, max_features=10 .................\n",
      "[CV]  max_depth=25, n_estimators=500, max_features=10, score=0.6482758620689655, total=   1.8s\n",
      "[CV] max_depth=25, n_estimators=700, max_features=10 .................\n"
     ]
    },
    {
     "name": "stderr",
     "output_type": "stream",
     "text": [
      "[Parallel(n_jobs=-1)]: Done  82 tasks      | elapsed:   42.6s\n"
     ]
    },
    {
     "name": "stdout",
     "output_type": "stream",
     "text": [
      "[CV]  max_depth=20, n_estimators=700, max_features=75, score=0.7568493150684932, total=   7.6s\n",
      "[CV] max_depth=25, n_estimators=500, max_features=25 .................\n",
      "[CV]  max_depth=20, n_estimators=700, max_features=75, score=0.7226027397260274, total=   7.4s\n",
      "[CV] max_depth=25, n_estimators=500, max_features=25 .................\n",
      "[CV]  max_depth=25, n_estimators=700, max_features=10, score=0.6621160409556314, total=   2.5s\n",
      "[CV] max_depth=25, n_estimators=500, max_features=25 .................\n",
      "[CV]  max_depth=25, n_estimators=700, max_features=10, score=0.7030716723549488, total=   2.5s\n",
      "[CV] max_depth=25, n_estimators=500, max_features=25 .................\n",
      "[CV]  max_depth=25, n_estimators=700, max_features=10, score=0.7157534246575342, total=   2.5s\n",
      "[CV] max_depth=25, n_estimators=500, max_features=25 .................\n",
      "[CV]  max_depth=20, n_estimators=700, max_features=75, score=0.6724137931034483, total=   7.4s\n",
      "[CV] max_depth=25, n_estimators=700, max_features=25 .................\n",
      "[CV]  max_depth=25, n_estimators=700, max_features=10, score=0.7191780821917808, total=   2.5s\n",
      "[CV] max_depth=25, n_estimators=700, max_features=25 .................\n",
      "[CV]  max_depth=25, n_estimators=700, max_features=10, score=0.6620689655172414, total=   2.6s\n",
      "[CV] max_depth=25, n_estimators=700, max_features=25 .................\n",
      "[CV]  max_depth=25, n_estimators=500, max_features=25, score=0.6928327645051194, total=   2.6s\n",
      "[CV] max_depth=25, n_estimators=700, max_features=25 .................\n",
      "[CV]  max_depth=25, n_estimators=500, max_features=25, score=0.6928327645051194, total=   2.6s\n",
      "[CV] max_depth=25, n_estimators=700, max_features=25 .................\n",
      "[CV]  max_depth=25, n_estimators=500, max_features=25, score=0.7226027397260274, total=   2.6s\n",
      "[CV]  max_depth=25, n_estimators=500, max_features=25, score=0.7294520547945206, total=   2.6s\n",
      "[CV] max_depth=25, n_estimators=500, max_features=50 .................\n",
      "[CV] max_depth=25, n_estimators=500, max_features=50 .................\n",
      "[CV]  max_depth=25, n_estimators=500, max_features=25, score=0.6689655172413793, total=   2.6s\n",
      "[CV] max_depth=25, n_estimators=500, max_features=50 .................\n",
      "[CV]  max_depth=25, n_estimators=700, max_features=25, score=0.7030716723549488, total=   3.7s\n",
      "[CV] max_depth=25, n_estimators=500, max_features=50 .................\n",
      "[CV]  max_depth=25, n_estimators=700, max_features=25, score=0.6996587030716723, total=   3.7s\n",
      "[CV] max_depth=25, n_estimators=500, max_features=50 .................\n"
     ]
    },
    {
     "name": "stderr",
     "output_type": "stream",
     "text": [
      "[Parallel(n_jobs=-1)]: Done  97 tasks      | elapsed:   49.1s\n"
     ]
    },
    {
     "name": "stdout",
     "output_type": "stream",
     "text": [
      "[CV]  max_depth=25, n_estimators=700, max_features=25, score=0.726027397260274, total=   3.8s\n",
      "[CV] max_depth=25, n_estimators=700, max_features=50 .................\n",
      "[CV]  max_depth=25, n_estimators=700, max_features=25, score=0.7397260273972602, total=   3.6s\n",
      "[CV] max_depth=25, n_estimators=700, max_features=50 .................\n",
      "[CV]  max_depth=25, n_estimators=700, max_features=25, score=0.6689655172413793, total=   3.6s\n",
      "[CV] max_depth=25, n_estimators=700, max_features=50 .................\n",
      "[CV]  max_depth=25, n_estimators=500, max_features=50, score=0.6860068259385665, total=   4.0s\n",
      "[CV] max_depth=25, n_estimators=700, max_features=50 .................\n",
      "[CV]  max_depth=25, n_estimators=500, max_features=50, score=0.7064846416382252, total=   4.0s\n",
      "[CV] max_depth=25, n_estimators=700, max_features=50 .................\n",
      "[CV]  max_depth=25, n_estimators=500, max_features=50, score=0.7397260273972602, total=   4.0s\n",
      "[CV] max_depth=25, n_estimators=500, max_features=75 .................\n",
      "[CV]  max_depth=25, n_estimators=500, max_features=50, score=0.7294520547945206, total=   4.0s\n",
      "[CV] max_depth=25, n_estimators=500, max_features=75 .................\n",
      "[CV]  max_depth=25, n_estimators=500, max_features=50, score=0.6758620689655173, total=   4.0s\n",
      "[CV] max_depth=25, n_estimators=500, max_features=75 .................\n",
      "[CV]  max_depth=25, n_estimators=700, max_features=50, score=0.6825938566552902, total=   5.5s\n",
      "[CV] max_depth=25, n_estimators=500, max_features=75 .................\n",
      "[CV]  max_depth=25, n_estimators=700, max_features=50, score=0.7098976109215017, total=   5.5s\n",
      "[CV] max_depth=25, n_estimators=500, max_features=75 .................\n",
      "[CV]  max_depth=25, n_estimators=700, max_features=50, score=0.75, total=   5.5s\n",
      "[CV] max_depth=25, n_estimators=700, max_features=75 .................\n",
      "[CV]  max_depth=25, n_estimators=700, max_features=50, score=0.708904109589041, total=   5.5s\n",
      "[CV] max_depth=25, n_estimators=700, max_features=75 .................\n",
      "[CV]  max_depth=25, n_estimators=700, max_features=50, score=0.6758620689655173, total=   5.6s\n",
      "[CV] max_depth=25, n_estimators=700, max_features=75 .................\n",
      "[CV]  max_depth=25, n_estimators=500, max_features=75, score=0.6860068259385665, total=   5.4s\n",
      "[CV] max_depth=25, n_estimators=700, max_features=75 .................\n",
      "[CV]  max_depth=25, n_estimators=500, max_features=75, score=0.7201365187713311, total=   5.3s\n",
      "[CV] max_depth=25, n_estimators=700, max_features=75 .................\n"
     ]
    },
    {
     "name": "stderr",
     "output_type": "stream",
     "text": [
      "[Parallel(n_jobs=-1)]: Done 112 tasks      | elapsed:   57.8s\n"
     ]
    },
    {
     "name": "stdout",
     "output_type": "stream",
     "text": [
      "[CV]  max_depth=25, n_estimators=500, max_features=75, score=0.7602739726027398, total=   5.4s\n",
      "[CV] max_depth=30, n_estimators=500, max_features=10 .................\n",
      "[CV]  max_depth=25, n_estimators=500, max_features=75, score=0.7157534246575342, total=   5.3s\n",
      "[CV] max_depth=30, n_estimators=500, max_features=10 .................\n",
      "[CV]  max_depth=30, n_estimators=500, max_features=10, score=0.658703071672355, total=   1.7s\n",
      "[CV] max_depth=30, n_estimators=500, max_features=10 .................\n",
      "[CV]  max_depth=25, n_estimators=500, max_features=75, score=0.6655172413793103, total=   5.4s\n",
      "[CV] max_depth=30, n_estimators=500, max_features=10 .................\n",
      "[CV]  max_depth=30, n_estimators=500, max_features=10, score=0.6928327645051194, total=   1.8s\n",
      "[CV] max_depth=30, n_estimators=500, max_features=10 .................\n",
      "[CV]  max_depth=30, n_estimators=500, max_features=10, score=0.7191780821917808, total=   1.7s\n",
      "[CV] max_depth=30, n_estimators=700, max_features=10 .................\n",
      "[CV]  max_depth=30, n_estimators=500, max_features=10, score=0.7294520547945206, total=   1.7s\n",
      "[CV] max_depth=30, n_estimators=700, max_features=10 .................\n",
      "[CV]  max_depth=25, n_estimators=700, max_features=75, score=0.6825938566552902, total=   7.3s\n",
      "[CV] max_depth=30, n_estimators=700, max_features=10 .................\n",
      "[CV]  max_depth=25, n_estimators=700, max_features=75, score=0.7201365187713311, total=   7.3s\n",
      "[CV] max_depth=30, n_estimators=700, max_features=10 .................\n",
      "[CV]  max_depth=25, n_estimators=700, max_features=75, score=0.75, total=   7.4s\n",
      "[CV] max_depth=30, n_estimators=700, max_features=10 .................\n",
      "[CV]  max_depth=30, n_estimators=500, max_features=10, score=0.6482758620689655, total=   1.7s\n",
      "[CV] max_depth=30, n_estimators=500, max_features=25 .................\n",
      "[CV]  max_depth=25, n_estimators=700, max_features=75, score=0.7226027397260274, total=   7.5s\n",
      "[CV] max_depth=30, n_estimators=500, max_features=25 .................\n",
      "[CV]  max_depth=30, n_estimators=700, max_features=10, score=0.6689419795221843, total=   2.4s\n",
      "[CV] max_depth=30, n_estimators=500, max_features=25 .................\n",
      "[CV]  max_depth=25, n_estimators=700, max_features=75, score=0.6724137931034483, total=   7.4s\n",
      "[CV] max_depth=30, n_estimators=500, max_features=25 .................\n",
      "[CV]  max_depth=30, n_estimators=700, max_features=10, score=0.6996587030716723, total=   2.5s\n",
      "[CV] max_depth=30, n_estimators=500, max_features=25 .................\n",
      "[CV]  max_depth=30, n_estimators=700, max_features=10, score=0.7123287671232876, total=   2.6s\n",
      "[CV] max_depth=30, n_estimators=700, max_features=25 .................\n",
      "[CV]  max_depth=30, n_estimators=700, max_features=10, score=0.7191780821917808, total=   2.4s\n",
      "[CV] max_depth=30, n_estimators=700, max_features=25 .................\n",
      "[CV]  max_depth=30, n_estimators=700, max_features=10, score=0.6620689655172414, total=   2.5s\n",
      "[CV] max_depth=30, n_estimators=700, max_features=25 .................\n"
     ]
    },
    {
     "name": "stderr",
     "output_type": "stream",
     "text": [
      "[Parallel(n_jobs=-1)]: Done 129 tasks      | elapsed:  1.1min\n"
     ]
    },
    {
     "name": "stdout",
     "output_type": "stream",
     "text": [
      "[CV]  max_depth=30, n_estimators=500, max_features=25, score=0.6928327645051194, total=   2.6s\n",
      "[CV] max_depth=30, n_estimators=700, max_features=25 .................\n",
      "[CV]  max_depth=30, n_estimators=500, max_features=25, score=0.6928327645051194, total=   2.7s\n",
      "[CV] max_depth=30, n_estimators=700, max_features=25 .................\n",
      "[CV]  max_depth=30, n_estimators=500, max_features=25, score=0.7226027397260274, total=   2.7s\n",
      "[CV] max_depth=30, n_estimators=500, max_features=50 .................\n",
      "[CV]  max_depth=30, n_estimators=500, max_features=25, score=0.7328767123287672, total=   2.7s\n",
      "[CV] max_depth=30, n_estimators=500, max_features=50 .................\n",
      "[CV]  max_depth=30, n_estimators=500, max_features=25, score=0.6689655172413793, total=   2.7s\n",
      "[CV] max_depth=30, n_estimators=500, max_features=50 .................\n",
      "[CV]  max_depth=30, n_estimators=700, max_features=25, score=0.7030716723549488, total=   3.6s\n",
      "[CV] max_depth=30, n_estimators=500, max_features=50 .................\n",
      "[CV]  max_depth=30, n_estimators=700, max_features=25, score=0.6996587030716723, total=   3.6s\n",
      "[CV] max_depth=30, n_estimators=500, max_features=50 .................\n",
      "[CV]  max_depth=30, n_estimators=700, max_features=25, score=0.726027397260274, total=   3.7s\n",
      "[CV] max_depth=30, n_estimators=700, max_features=50 .................\n",
      "[CV]  max_depth=30, n_estimators=700, max_features=25, score=0.7397260273972602, total=   3.7s\n",
      "[CV] max_depth=30, n_estimators=700, max_features=50 .................\n",
      "[CV]  max_depth=30, n_estimators=700, max_features=25, score=0.6689655172413793, total=   3.6s\n",
      "[CV] max_depth=30, n_estimators=700, max_features=50 .................\n",
      "[CV]  max_depth=30, n_estimators=500, max_features=50, score=0.6860068259385665, total=   4.0s\n",
      "[CV] max_depth=30, n_estimators=700, max_features=50 .................\n",
      "[CV]  max_depth=30, n_estimators=500, max_features=50, score=0.7064846416382252, total=   3.9s\n",
      "[CV] max_depth=30, n_estimators=700, max_features=50 .................\n",
      "[CV]  max_depth=30, n_estimators=500, max_features=50, score=0.7397260273972602, total=   4.1s\n",
      "[CV] max_depth=30, n_estimators=500, max_features=75 .................\n",
      "[CV]  max_depth=30, n_estimators=500, max_features=50, score=0.726027397260274, total=   4.3s\n",
      "[CV] max_depth=30, n_estimators=500, max_features=75 .................\n",
      "[CV]  max_depth=30, n_estimators=500, max_features=50, score=0.6758620689655173, total=   4.0s\n",
      "[CV] max_depth=30, n_estimators=500, max_features=75 .................\n",
      "[CV]  max_depth=30, n_estimators=700, max_features=50, score=0.6825938566552902, total=   5.5s\n",
      "[CV] max_depth=30, n_estimators=500, max_features=75 .................\n",
      "[CV]  max_depth=30, n_estimators=700, max_features=50, score=0.7098976109215017, total=   5.5s\n",
      "[CV] max_depth=30, n_estimators=500, max_features=75 .................\n",
      "[CV]  max_depth=30, n_estimators=700, max_features=50, score=0.75, total=   5.5s\n",
      "[CV] max_depth=30, n_estimators=700, max_features=75 .................\n",
      "[CV]  max_depth=30, n_estimators=700, max_features=50, score=0.6724137931034483, total=   5.5s\n",
      "[CV] max_depth=30, n_estimators=700, max_features=75 .................\n",
      "[CV]  max_depth=30, n_estimators=500, max_features=75, score=0.6860068259385665, total=   5.2s\n",
      "[CV] max_depth=30, n_estimators=700, max_features=75 .................\n",
      "[CV]  max_depth=30, n_estimators=700, max_features=50, score=0.708904109589041, total=   5.8s\n",
      "[CV] max_depth=30, n_estimators=700, max_features=75 .................\n",
      "[CV]  max_depth=30, n_estimators=500, max_features=75, score=0.7201365187713311, total=   5.4s\n",
      "[CV] max_depth=30, n_estimators=700, max_features=75 .................\n",
      "[CV]  max_depth=30, n_estimators=500, max_features=75, score=0.7602739726027398, total=   5.3s\n",
      "[CV]  max_depth=30, n_estimators=500, max_features=75, score=0.7157534246575342, total=   5.1s\n",
      "[CV]  max_depth=30, n_estimators=500, max_features=75, score=0.6655172413793103, total=   5.3s\n",
      "[CV]  max_depth=30, n_estimators=700, max_features=75, score=0.6825938566552902, total=   6.7s\n",
      "[CV]  max_depth=30, n_estimators=700, max_features=75, score=0.7201365187713311, total=   6.2s\n",
      "[CV]  max_depth=30, n_estimators=700, max_features=75, score=0.75, total=   6.3s\n",
      "[CV]  max_depth=30, n_estimators=700, max_features=75, score=0.7226027397260274, total=   6.6s\n",
      "[CV]  max_depth=30, n_estimators=700, max_features=75, score=0.6758620689655173, total=   5.5s\n"
     ]
    },
    {
     "name": "stderr",
     "output_type": "stream",
     "text": [
      "[Parallel(n_jobs=-1)]: Done 160 out of 160 | elapsed:  1.4min finished\n"
     ]
    },
    {
     "name": "stdout",
     "output_type": "stream",
     "text": [
      "CPU times: user 4.96 s, sys: 124 ms, total: 5.08 s\n",
      "Wall time: 1min 29s\n"
     ]
    },
    {
     "data": {
      "text/plain": [
       "GridSearchCV(cv=5, error_score='raise',\n",
       "       estimator=RandomForestClassifier(bootstrap=True, class_weight=None, criterion='gini',\n",
       "            max_depth=25, max_features=50, max_leaf_nodes=None,\n",
       "            min_impurity_decrease=0.0, min_impurity_split=None,\n",
       "            min_samples_leaf=1, min_samples_split=2,\n",
       "            min_weight_fraction_leaf=0.0, n_estimators=1000, n_jobs=1,\n",
       "            oob_score=False, random_state=67, verbose=0, warm_start=False),\n",
       "       fit_params=None, iid=True, n_jobs=-1,\n",
       "       param_grid={'n_estimators': [500, 700], 'max_depth': [10, 20, 25, 30], 'max_features': [10, 25, 50, 75]},\n",
       "       pre_dispatch='2*n_jobs', refit=True, return_train_score='warn',\n",
       "       scoring='accuracy', verbose=10)"
      ]
     },
     "execution_count": 24,
     "metadata": {},
     "output_type": "execute_result"
    }
   ],
   "source": [
    "from sklearn.ensemble import RandomForestClassifier\n",
    "tree_quant = RandomForestClassifier(n_estimators=1000, max_features=50, max_depth=25)\n",
    "\n",
    "param_grid = { \"n_estimators\"      : [500, 700],\n",
    "           \"max_features\"      : [10, 25, 50, 75],\n",
    "           \"max_depth\"         : [10, 20, 25, 30]}\n",
    "tree_quant.set_params(random_state=67)\n",
    "grid_search_tree = ms.GridSearchCV(tree_quant, param_grid, cv=5, n_jobs=-1, verbose=10, scoring='accuracy')\n",
    "%time grid_search_tree.fit(X_train, y_quant)"
   ]
  },
  {
   "cell_type": "code",
   "execution_count": 29,
   "metadata": {},
   "outputs": [
    {
     "name": "stdout",
     "output_type": "stream",
     "text": [
      "{'max_depth': 20, 'n_estimators': 500, 'max_features': 75}\n",
      "0.712328767123\n"
     ]
    }
   ],
   "source": [
    "print(grid_search_tree.best_params_)\n",
    "print(grid_search_tree.best_score_)"
   ]
  },
  {
   "cell_type": "code",
   "execution_count": 28,
   "metadata": {},
   "outputs": [
    {
     "name": "stdout",
     "output_type": "stream",
     "text": [
      "Fitting 5 folds for each of 40 candidates, totalling 200 fits\n",
      "[CV] max_depth=5, n_estimators=500, max_features=10 ..................\n",
      "[CV] max_depth=5, n_estimators=500, max_features=10 ..................\n",
      "[CV] max_depth=5, n_estimators=500, max_features=10 ..................\n",
      "[CV] max_depth=5, n_estimators=500, max_features=10 ..................\n",
      "[CV] max_depth=5, n_estimators=500, max_features=10 ..................\n",
      "[CV] max_depth=5, n_estimators=1000, max_features=10 .................\n",
      "[CV] max_depth=5, n_estimators=1000, max_features=10 .................\n",
      "[CV] max_depth=5, n_estimators=1000, max_features=10 .................\n",
      "[CV]  max_depth=5, n_estimators=500, max_features=10, score=0.7030716723549488, total=   7.0s\n",
      "[CV] max_depth=5, n_estimators=1000, max_features=10 .................\n",
      "[CV]  max_depth=5, n_estimators=500, max_features=10, score=0.7328767123287672, total=   7.1s\n",
      "[CV] max_depth=5, n_estimators=1000, max_features=10 .................\n",
      "[CV]  max_depth=5, n_estimators=500, max_features=10, score=0.6757679180887372, total=   7.2s\n",
      "[CV] max_depth=5, n_estimators=500, max_features=25 ..................\n"
     ]
    },
    {
     "name": "stderr",
     "output_type": "stream",
     "text": [
      "[Parallel(n_jobs=-1)]: Done   2 tasks      | elapsed:    7.2s\n"
     ]
    },
    {
     "name": "stdout",
     "output_type": "stream",
     "text": [
      "[CV]  max_depth=5, n_estimators=500, max_features=10, score=0.7363013698630136, total=   7.3s\n",
      "[CV] max_depth=5, n_estimators=500, max_features=25 ..................\n",
      "[CV]  max_depth=5, n_estimators=500, max_features=10, score=0.6758620689655173, total=   7.3s\n",
      "[CV] max_depth=5, n_estimators=500, max_features=25 ..................\n",
      "[CV]  max_depth=5, n_estimators=1000, max_features=10, score=0.6757679180887372, total=  13.7s\n",
      "[CV] max_depth=5, n_estimators=500, max_features=25 ..................\n",
      "[CV]  max_depth=5, n_estimators=1000, max_features=10, score=0.7064846416382252, total=  13.8s\n",
      "[CV] max_depth=5, n_estimators=500, max_features=25 ..................\n",
      "[CV]  max_depth=5, n_estimators=1000, max_features=10, score=0.6986301369863014, total=  14.0s\n",
      "[CV] max_depth=5, n_estimators=1000, max_features=25 .................\n",
      "[CV]  max_depth=5, n_estimators=500, max_features=25, score=0.6860068259385665, total=  10.7s\n",
      "[CV] max_depth=5, n_estimators=1000, max_features=25 .................\n"
     ]
    },
    {
     "name": "stderr",
     "output_type": "stream",
     "text": [
      "[Parallel(n_jobs=-1)]: Done   9 tasks      | elapsed:   18.2s\n"
     ]
    },
    {
     "name": "stdout",
     "output_type": "stream",
     "text": [
      "[CV]  max_depth=5, n_estimators=500, max_features=25, score=0.7030716723549488, total=  10.9s\n",
      "[CV] max_depth=5, n_estimators=1000, max_features=25 .................\n",
      "[CV]  max_depth=5, n_estimators=500, max_features=25, score=0.7397260273972602, total=  11.1s\n",
      "[CV] max_depth=5, n_estimators=1000, max_features=25 .................\n",
      "[CV]  max_depth=5, n_estimators=1000, max_features=10, score=0.726027397260274, total=  14.0s\n",
      "[CV] max_depth=5, n_estimators=1000, max_features=25 .................\n",
      "[CV]  max_depth=5, n_estimators=1000, max_features=10, score=0.696551724137931, total=  14.1s\n",
      "[CV] max_depth=5, n_estimators=500, max_features=50 ..................\n",
      "[CV]  max_depth=5, n_estimators=500, max_features=25, score=0.7328767123287672, total=  10.9s\n",
      "[CV] max_depth=5, n_estimators=500, max_features=50 ..................\n",
      "[CV]  max_depth=5, n_estimators=500, max_features=25, score=0.6827586206896552, total=  10.9s\n",
      "[CV] max_depth=5, n_estimators=500, max_features=50 ..................\n",
      "[CV]  max_depth=5, n_estimators=1000, max_features=25, score=0.6860068259385665, total=  21.8s\n",
      "[CV] max_depth=5, n_estimators=500, max_features=50 ..................\n"
     ]
    },
    {
     "name": "stderr",
     "output_type": "stream",
     "text": [
      "[Parallel(n_jobs=-1)]: Done  16 tasks      | elapsed:   36.4s\n"
     ]
    },
    {
     "name": "stdout",
     "output_type": "stream",
     "text": [
      "[CV]  max_depth=5, n_estimators=500, max_features=50, score=0.6791808873720137, total=  17.0s\n",
      "[CV] max_depth=5, n_estimators=500, max_features=50 ..................\n",
      "[CV]  max_depth=5, n_estimators=1000, max_features=25, score=0.7098976109215017, total=  21.7s\n",
      "[CV] max_depth=5, n_estimators=1000, max_features=50 .................\n",
      "[CV]  max_depth=5, n_estimators=1000, max_features=25, score=0.7157534246575342, total=  21.8s\n",
      "[CV] max_depth=5, n_estimators=1000, max_features=50 .................\n",
      "[CV]  max_depth=5, n_estimators=1000, max_features=25, score=0.726027397260274, total=  21.7s\n",
      "[CV] max_depth=5, n_estimators=1000, max_features=50 .................\n",
      "[CV]  max_depth=5, n_estimators=500, max_features=50, score=0.7191780821917808, total=  17.1s\n",
      "[CV] max_depth=5, n_estimators=1000, max_features=50 .................\n",
      "[CV]  max_depth=5, n_estimators=500, max_features=50, score=0.7064846416382252, total=  17.3s\n",
      "[CV] max_depth=5, n_estimators=1000, max_features=50 .................\n",
      "[CV]  max_depth=5, n_estimators=1000, max_features=25, score=0.6862068965517242, total=  22.5s\n",
      "[CV] max_depth=5, n_estimators=500, max_features=75 ..................\n",
      "[CV]  max_depth=5, n_estimators=500, max_features=50, score=0.7363013698630136, total=  17.2s\n",
      "[CV] max_depth=5, n_estimators=500, max_features=75 ..................\n",
      "[CV]  max_depth=5, n_estimators=500, max_features=50, score=0.6793103448275862, total=  17.4s\n",
      "[CV] max_depth=5, n_estimators=500, max_features=75 ..................\n"
     ]
    },
    {
     "name": "stderr",
     "output_type": "stream",
     "text": [
      "[Parallel(n_jobs=-1)]: Done  25 tasks      | elapsed:   56.3s\n"
     ]
    },
    {
     "name": "stdout",
     "output_type": "stream",
     "text": [
      "[CV]  max_depth=5, n_estimators=500, max_features=75, score=0.689419795221843, total=  23.2s\n",
      "[CV] max_depth=5, n_estimators=500, max_features=75 ..................\n",
      "[CV]  max_depth=5, n_estimators=1000, max_features=50, score=0.7294520547945206, total=  34.5s\n",
      "[CV] max_depth=5, n_estimators=500, max_features=75 ..................\n",
      "[CV]  max_depth=5, n_estimators=1000, max_features=50, score=0.6825938566552902, total=  35.3s\n",
      "[CV] max_depth=5, n_estimators=1000, max_features=75 .................\n",
      "[CV]  max_depth=5, n_estimators=1000, max_features=50, score=0.7157534246575342, total=  33.4s\n",
      "[CV] max_depth=5, n_estimators=1000, max_features=75 .................\n",
      "[CV]  max_depth=5, n_estimators=1000, max_features=50, score=0.7167235494880546, total=  35.8s\n",
      "[CV] max_depth=5, n_estimators=1000, max_features=75 .................\n",
      "[CV]  max_depth=5, n_estimators=1000, max_features=50, score=0.6931034482758621, total=  33.9s\n",
      "[CV] max_depth=5, n_estimators=1000, max_features=75 .................\n",
      "[CV]  max_depth=5, n_estimators=500, max_features=75, score=0.7133105802047781, total=  23.5s\n",
      "[CV] max_depth=5, n_estimators=1000, max_features=75 .................\n",
      "[CV]  max_depth=5, n_estimators=500, max_features=75, score=0.7157534246575342, total=  23.6s\n",
      "[CV] max_depth=10, n_estimators=500, max_features=10 .................\n",
      "[CV]  max_depth=5, n_estimators=500, max_features=75, score=0.7397260273972602, total=  22.8s\n",
      "[CV] max_depth=10, n_estimators=500, max_features=10 .................\n"
     ]
    },
    {
     "name": "stderr",
     "output_type": "stream",
     "text": [
      "[Parallel(n_jobs=-1)]: Done  34 tasks      | elapsed:  1.5min\n"
     ]
    },
    {
     "name": "stdout",
     "output_type": "stream",
     "text": [
      "[CV]  max_depth=10, n_estimators=500, max_features=10, score=0.6655290102389079, total=  12.9s\n",
      "[CV] max_depth=10, n_estimators=500, max_features=10 .................\n",
      "[CV]  max_depth=5, n_estimators=500, max_features=75, score=0.6896551724137931, total=  23.1s\n",
      "[CV] max_depth=10, n_estimators=500, max_features=10 .................\n",
      "[CV]  max_depth=10, n_estimators=500, max_features=10, score=0.7064846416382252, total=  12.4s\n",
      "[CV] max_depth=10, n_estimators=500, max_features=10 .................\n",
      "[CV]  max_depth=10, n_estimators=500, max_features=10, score=0.7294520547945206, total=  12.2s\n",
      "[CV] max_depth=10, n_estimators=1000, max_features=10 ................\n",
      "[CV]  max_depth=10, n_estimators=500, max_features=10, score=0.7431506849315068, total=  12.5s\n",
      "[CV] max_depth=10, n_estimators=1000, max_features=10 ................\n",
      "[CV]  max_depth=10, n_estimators=500, max_features=10, score=0.6827586206896552, total=  12.6s\n",
      "[CV] max_depth=10, n_estimators=1000, max_features=10 ................\n",
      "[CV]  max_depth=5, n_estimators=1000, max_features=75, score=0.6860068259385665, total=  43.9s\n",
      "[CV] max_depth=10, n_estimators=1000, max_features=10 ................\n",
      "[CV]  max_depth=5, n_estimators=1000, max_features=75, score=0.7201365187713311, total=  43.6s\n",
      "[CV] max_depth=10, n_estimators=1000, max_features=10 ................\n",
      "[CV]  max_depth=5, n_estimators=1000, max_features=75, score=0.7123287671232876, total=  43.8s\n",
      "[CV] max_depth=10, n_estimators=500, max_features=25 .................\n",
      "[CV]  max_depth=5, n_estimators=1000, max_features=75, score=0.6724137931034483, total=  44.2s\n",
      "[CV] max_depth=10, n_estimators=500, max_features=25 .................\n",
      "[CV]  max_depth=5, n_estimators=1000, max_features=75, score=0.7157534246575342, total=  47.0s\n",
      "[CV] max_depth=10, n_estimators=500, max_features=25 .................\n"
     ]
    },
    {
     "name": "stderr",
     "output_type": "stream",
     "text": [
      "[Parallel(n_jobs=-1)]: Done  45 tasks      | elapsed:  2.1min\n"
     ]
    },
    {
     "name": "stdout",
     "output_type": "stream",
     "text": [
      "[CV]  max_depth=10, n_estimators=1000, max_features=10, score=0.6723549488054608, total=  24.2s\n",
      "[CV] max_depth=10, n_estimators=500, max_features=25 .................\n",
      "[CV]  max_depth=10, n_estimators=1000, max_features=10, score=0.6962457337883959, total=  23.6s\n",
      "[CV] max_depth=10, n_estimators=500, max_features=25 .................\n",
      "[CV]  max_depth=10, n_estimators=500, max_features=25, score=0.6791808873720137, total=  18.5s\n",
      "[CV] max_depth=10, n_estimators=1000, max_features=25 ................\n",
      "[CV]  max_depth=10, n_estimators=1000, max_features=10, score=0.708904109589041, total=  23.0s\n",
      "[CV] max_depth=10, n_estimators=1000, max_features=25 ................\n",
      "[CV]  max_depth=10, n_estimators=500, max_features=25, score=0.7201365187713311, total=  18.4s\n",
      "[CV] max_depth=10, n_estimators=1000, max_features=25 ................\n",
      "[CV]  max_depth=10, n_estimators=500, max_features=25, score=0.7328767123287672, total=  19.1s\n",
      "[CV] max_depth=10, n_estimators=1000, max_features=25 ................\n",
      "[CV]  max_depth=10, n_estimators=1000, max_features=10, score=0.7363013698630136, total=  23.1s\n",
      "[CV] max_depth=10, n_estimators=1000, max_features=25 ................\n",
      "[CV]  max_depth=10, n_estimators=1000, max_features=10, score=0.6931034482758621, total=  23.2s\n",
      "[CV] max_depth=10, n_estimators=500, max_features=50 .................\n",
      "[CV]  max_depth=10, n_estimators=500, max_features=25, score=0.7431506849315068, total=  18.6s\n",
      "[CV] max_depth=10, n_estimators=500, max_features=50 .................\n",
      "[CV]  max_depth=10, n_estimators=500, max_features=25, score=0.6689655172413793, total=  19.0s\n",
      "[CV] max_depth=10, n_estimators=500, max_features=50 .................\n",
      "[CV]  max_depth=10, n_estimators=500, max_features=50, score=0.7167235494880546, total=  29.6s\n",
      "[CV] max_depth=10, n_estimators=500, max_features=50 .................\n"
     ]
    },
    {
     "name": "stderr",
     "output_type": "stream",
     "text": [
      "[Parallel(n_jobs=-1)]: Done  56 tasks      | elapsed:  2.9min\n"
     ]
    },
    {
     "name": "stdout",
     "output_type": "stream",
     "text": [
      "[CV]  max_depth=10, n_estimators=1000, max_features=25, score=0.6825938566552902, total=  37.4s\n",
      "[CV] max_depth=10, n_estimators=500, max_features=50 .................\n",
      "[CV]  max_depth=10, n_estimators=1000, max_features=25, score=0.726962457337884, total=  37.6s\n",
      "[CV] max_depth=10, n_estimators=1000, max_features=50 ................\n",
      "[CV]  max_depth=10, n_estimators=1000, max_features=25, score=0.708904109589041, total=  37.2s\n",
      "[CV] max_depth=10, n_estimators=1000, max_features=50 ................\n",
      "[CV]  max_depth=10, n_estimators=500, max_features=50, score=0.7064846416382252, total=  29.7s\n",
      "[CV] max_depth=10, n_estimators=1000, max_features=50 ................\n",
      "[CV]  max_depth=10, n_estimators=1000, max_features=25, score=0.7431506849315068, total=  37.7s\n",
      "[CV] max_depth=10, n_estimators=1000, max_features=50 ................\n",
      "[CV]  max_depth=10, n_estimators=1000, max_features=25, score=0.6689655172413793, total=  37.8s\n",
      "[CV] max_depth=10, n_estimators=1000, max_features=50 ................\n",
      "[CV]  max_depth=10, n_estimators=500, max_features=50, score=0.7226027397260274, total=  30.1s\n",
      "[CV] max_depth=10, n_estimators=500, max_features=75 .................\n",
      "[CV]  max_depth=10, n_estimators=500, max_features=50, score=0.726027397260274, total=  30.2s\n",
      "[CV] max_depth=10, n_estimators=500, max_features=75 .................\n",
      "[CV]  max_depth=10, n_estimators=500, max_features=50, score=0.7, total=  30.7s\n",
      "[CV] max_depth=10, n_estimators=500, max_features=75 .................\n",
      "[CV]  max_depth=10, n_estimators=500, max_features=75, score=0.6860068259385665, total=  42.2s\n",
      "[CV] max_depth=10, n_estimators=500, max_features=75 .................\n",
      "[CV]  max_depth=10, n_estimators=1000, max_features=50, score=0.689419795221843, total= 1.0min\n",
      "[CV] max_depth=10, n_estimators=500, max_features=75 .................\n",
      "[CV]  max_depth=10, n_estimators=1000, max_features=50, score=0.7098976109215017, total= 1.0min\n",
      "[CV] max_depth=10, n_estimators=1000, max_features=75 ................\n",
      "[CV]  max_depth=10, n_estimators=1000, max_features=50, score=0.6952054794520548, total= 1.0min\n",
      "[CV] max_depth=10, n_estimators=1000, max_features=75 ................\n"
     ]
    },
    {
     "name": "stderr",
     "output_type": "stream",
     "text": [
      "[Parallel(n_jobs=-1)]: Done  69 tasks      | elapsed:  4.0min\n"
     ]
    },
    {
     "name": "stdout",
     "output_type": "stream",
     "text": [
      "[CV]  max_depth=10, n_estimators=1000, max_features=50, score=0.7226027397260274, total= 1.0min\n",
      "[CV] max_depth=10, n_estimators=1000, max_features=75 ................\n",
      "[CV]  max_depth=10, n_estimators=1000, max_features=50, score=0.6896551724137931, total= 1.0min\n",
      "[CV] max_depth=10, n_estimators=1000, max_features=75 ................\n",
      "[CV]  max_depth=10, n_estimators=500, max_features=75, score=0.7030716723549488, total=  42.3s\n",
      "[CV] max_depth=10, n_estimators=1000, max_features=75 ................\n",
      "[CV]  max_depth=10, n_estimators=500, max_features=75, score=0.7294520547945206, total=  42.9s\n",
      "[CV] max_depth=20, n_estimators=500, max_features=10 .................\n",
      "[CV]  max_depth=20, n_estimators=500, max_features=10, score=0.658703071672355, total=  14.5s\n",
      "[CV] max_depth=20, n_estimators=500, max_features=10 .................\n",
      "[CV]  max_depth=10, n_estimators=500, max_features=75, score=0.7328767123287672, total=  42.4s\n",
      "[CV] max_depth=20, n_estimators=500, max_features=10 .................\n",
      "[CV]  max_depth=10, n_estimators=500, max_features=75, score=0.6896551724137931, total=  41.8s\n",
      "[CV] max_depth=20, n_estimators=500, max_features=10 .................\n",
      "[CV]  max_depth=20, n_estimators=500, max_features=10, score=0.7133105802047781, total=  14.9s\n",
      "[CV] max_depth=20, n_estimators=500, max_features=10 .................\n",
      "[CV]  max_depth=20, n_estimators=500, max_features=10, score=0.7328767123287672, total=  14.6s\n",
      "[CV] max_depth=20, n_estimators=1000, max_features=10 ................\n",
      "[CV]  max_depth=20, n_estimators=500, max_features=10, score=0.7397260273972602, total=  14.2s\n",
      "[CV] max_depth=20, n_estimators=1000, max_features=10 ................\n",
      "[CV]  max_depth=20, n_estimators=500, max_features=10, score=0.6620689655172414, total=  14.0s\n",
      "[CV] max_depth=20, n_estimators=1000, max_features=10 ................\n",
      "[CV]  max_depth=20, n_estimators=1000, max_features=10, score=0.6655290102389079, total=  28.3s\n",
      "[CV] max_depth=20, n_estimators=1000, max_features=10 ................\n",
      "[CV]  max_depth=10, n_estimators=1000, max_features=75, score=0.7133105802047781, total= 1.3min\n",
      "[CV] max_depth=20, n_estimators=1000, max_features=10 ................\n"
     ]
    },
    {
     "name": "stderr",
     "output_type": "stream",
     "text": [
      "[Parallel(n_jobs=-1)]: Done  82 tasks      | elapsed:  5.3min\n"
     ]
    },
    {
     "name": "stdout",
     "output_type": "stream",
     "text": [
      "[CV]  max_depth=10, n_estimators=1000, max_features=75, score=0.6791808873720137, total= 1.4min\n",
      "[CV] max_depth=20, n_estimators=500, max_features=25 .................\n",
      "[CV]  max_depth=10, n_estimators=1000, max_features=75, score=0.7123287671232876, total= 1.3min\n",
      "[CV] max_depth=20, n_estimators=500, max_features=25 .................\n",
      "[CV]  max_depth=10, n_estimators=1000, max_features=75, score=0.7123287671232876, total= 1.4min\n",
      "[CV] max_depth=20, n_estimators=500, max_features=25 .................\n",
      "[CV]  max_depth=20, n_estimators=1000, max_features=10, score=0.6962457337883959, total=  29.7s\n",
      "[CV] max_depth=20, n_estimators=500, max_features=25 .................\n",
      "[CV]  max_depth=20, n_estimators=1000, max_features=10, score=0.7157534246575342, total=  29.4s\n",
      "[CV] max_depth=20, n_estimators=500, max_features=25 .................\n",
      "[CV]  max_depth=10, n_estimators=1000, max_features=75, score=0.6862068965517242, total= 1.3min\n",
      "[CV] max_depth=20, n_estimators=1000, max_features=25 ................\n",
      "[CV]  max_depth=20, n_estimators=1000, max_features=10, score=0.7397260273972602, total=  28.5s\n",
      "[CV] max_depth=20, n_estimators=1000, max_features=25 ................\n",
      "[CV]  max_depth=20, n_estimators=500, max_features=25, score=0.6689419795221843, total=  22.6s\n",
      "[CV] max_depth=20, n_estimators=1000, max_features=25 ................\n",
      "[CV]  max_depth=20, n_estimators=500, max_features=25, score=0.7064846416382252, total=  22.7s\n",
      "[CV] max_depth=20, n_estimators=1000, max_features=25 ................\n",
      "[CV]  max_depth=20, n_estimators=500, max_features=25, score=0.7363013698630136, total=  22.7s\n",
      "[CV] max_depth=20, n_estimators=1000, max_features=25 ................\n",
      "[CV]  max_depth=20, n_estimators=500, max_features=25, score=0.75, total=  23.0s\n",
      "[CV] max_depth=20, n_estimators=500, max_features=50 .................\n",
      "[CV]  max_depth=20, n_estimators=500, max_features=25, score=0.6758620689655173, total=  23.1s\n",
      "[CV] max_depth=20, n_estimators=500, max_features=50 .................\n",
      "[CV]  max_depth=20, n_estimators=1000, max_features=10, score=0.6724137931034483, total=  28.6s\n",
      "[CV] max_depth=20, n_estimators=500, max_features=50 .................\n",
      "[CV]  max_depth=20, n_estimators=1000, max_features=25, score=0.6791808873720137, total=  45.9s\n",
      "[CV] max_depth=20, n_estimators=500, max_features=50 .................\n",
      "[CV]  max_depth=20, n_estimators=500, max_features=50, score=0.6928327645051194, total=  36.9s\n",
      "[CV] max_depth=20, n_estimators=500, max_features=50 .................\n"
     ]
    },
    {
     "name": "stderr",
     "output_type": "stream",
     "text": [
      "[Parallel(n_jobs=-1)]: Done  97 tasks      | elapsed:  6.4min\n"
     ]
    },
    {
     "name": "stdout",
     "output_type": "stream",
     "text": [
      "[CV]  max_depth=20, n_estimators=500, max_features=50, score=0.7133105802047781, total=  37.1s\n",
      "[CV] max_depth=20, n_estimators=1000, max_features=50 ................\n",
      "[CV]  max_depth=20, n_estimators=500, max_features=50, score=0.726027397260274, total=  37.0s\n",
      "[CV] max_depth=20, n_estimators=1000, max_features=50 ................\n",
      "[CV]  max_depth=20, n_estimators=1000, max_features=25, score=0.7064846416382252, total=  45.7s\n",
      "[CV] max_depth=20, n_estimators=1000, max_features=50 ................\n",
      "[CV]  max_depth=20, n_estimators=1000, max_features=25, score=0.7123287671232876, total=  45.8s\n",
      "[CV] max_depth=20, n_estimators=1000, max_features=50 ................\n",
      "[CV]  max_depth=20, n_estimators=1000, max_features=25, score=0.7363013698630136, total=  45.4s\n",
      "[CV] max_depth=20, n_estimators=1000, max_features=50 ................\n",
      "[CV]  max_depth=20, n_estimators=1000, max_features=25, score=0.6689655172413793, total=  46.0s\n",
      "[CV] max_depth=20, n_estimators=500, max_features=75 .................\n",
      "[CV]  max_depth=20, n_estimators=500, max_features=50, score=0.7328767123287672, total=  38.0s\n",
      "[CV] max_depth=20, n_estimators=500, max_features=75 .................\n",
      "[CV]  max_depth=20, n_estimators=500, max_features=50, score=0.7, total=  37.7s\n",
      "[CV] max_depth=20, n_estimators=500, max_features=75 .................\n",
      "[CV]  max_depth=20, n_estimators=500, max_features=75, score=0.6825938566552902, total=  53.3s\n",
      "[CV] max_depth=20, n_estimators=500, max_features=75 .................\n",
      "[CV]  max_depth=20, n_estimators=1000, max_features=50, score=0.6757679180887372, total= 1.2min\n",
      "[CV] max_depth=20, n_estimators=500, max_features=75 .................\n",
      "[CV]  max_depth=20, n_estimators=1000, max_features=50, score=0.7133105802047781, total= 1.2min\n",
      "[CV] max_depth=20, n_estimators=1000, max_features=75 ................\n",
      "[CV]  max_depth=20, n_estimators=500, max_features=75, score=0.7098976109215017, total=  52.4s\n",
      "[CV] max_depth=20, n_estimators=1000, max_features=75 ................\n",
      "[CV]  max_depth=20, n_estimators=1000, max_features=50, score=0.7157534246575342, total= 1.3min\n",
      "[CV] max_depth=20, n_estimators=1000, max_features=75 ................\n",
      "[CV]  max_depth=20, n_estimators=1000, max_features=50, score=0.7328767123287672, total= 1.3min\n",
      "[CV] max_depth=20, n_estimators=1000, max_features=75 ................\n",
      "[CV]  max_depth=20, n_estimators=1000, max_features=50, score=0.6862068965517242, total= 1.3min\n",
      "[CV] max_depth=20, n_estimators=1000, max_features=75 ................\n"
     ]
    },
    {
     "name": "stderr",
     "output_type": "stream",
     "text": [
      "[Parallel(n_jobs=-1)]: Done 112 tasks      | elapsed:  7.8min\n"
     ]
    },
    {
     "name": "stdout",
     "output_type": "stream",
     "text": [
      "[CV]  max_depth=20, n_estimators=500, max_features=75, score=0.7157534246575342, total=  52.8s\n",
      "[CV] max_depth=25, n_estimators=500, max_features=10 .................\n",
      "[CV]  max_depth=25, n_estimators=500, max_features=10, score=0.6757679180887372, total=  14.6s\n",
      "[CV] max_depth=25, n_estimators=500, max_features=10 .................\n",
      "[CV]  max_depth=20, n_estimators=500, max_features=75, score=0.7328767123287672, total=  53.0s\n",
      "[CV] max_depth=25, n_estimators=500, max_features=10 .................\n",
      "[CV]  max_depth=25, n_estimators=500, max_features=10, score=0.7030716723549488, total=  14.4s\n",
      "[CV] max_depth=25, n_estimators=500, max_features=10 .................\n",
      "[CV]  max_depth=20, n_estimators=500, max_features=75, score=0.7034482758620689, total=  51.7s\n",
      "[CV] max_depth=25, n_estimators=500, max_features=10 .................\n",
      "[CV]  max_depth=25, n_estimators=500, max_features=10, score=0.7226027397260274, total=  14.3s\n",
      "[CV] max_depth=25, n_estimators=1000, max_features=10 ................\n",
      "[CV]  max_depth=25, n_estimators=500, max_features=10, score=0.75, total=  14.1s\n",
      "[CV] max_depth=25, n_estimators=1000, max_features=10 ................\n",
      "[CV]  max_depth=25, n_estimators=500, max_features=10, score=0.6724137931034483, total=  14.1s\n",
      "[CV] max_depth=25, n_estimators=1000, max_features=10 ................\n",
      "[CV]  max_depth=25, n_estimators=1000, max_features=10, score=0.6791808873720137, total=  28.5s\n",
      "[CV] max_depth=25, n_estimators=1000, max_features=10 ................\n",
      "[CV]  max_depth=25, n_estimators=1000, max_features=10, score=0.6996587030716723, total=  28.6s\n",
      "[CV] max_depth=25, n_estimators=1000, max_features=10 ................\n",
      "[CV]  max_depth=25, n_estimators=1000, max_features=10, score=0.7191780821917808, total=  28.8s\n",
      "[CV] max_depth=25, n_estimators=500, max_features=25 .................\n",
      "[CV]  max_depth=20, n_estimators=1000, max_features=75, score=0.6757679180887372, total= 1.7min\n",
      "[CV] max_depth=25, n_estimators=500, max_features=25 .................\n",
      "[CV]  max_depth=20, n_estimators=1000, max_features=75, score=0.7235494880546075, total= 1.7min\n",
      "[CV] max_depth=25, n_estimators=500, max_features=25 .................\n",
      "[CV]  max_depth=20, n_estimators=1000, max_features=75, score=0.7191780821917808, total= 1.7min\n",
      "[CV] max_depth=25, n_estimators=500, max_features=25 .................\n",
      "[CV]  max_depth=20, n_estimators=1000, max_features=75, score=0.7054794520547946, total= 1.7min\n",
      "[CV] max_depth=25, n_estimators=500, max_features=25 .................\n",
      "[CV]  max_depth=20, n_estimators=1000, max_features=75, score=0.6793103448275862, total= 1.7min\n",
      "[CV] max_depth=25, n_estimators=1000, max_features=25 ................\n",
      "[CV]  max_depth=25, n_estimators=1000, max_features=10, score=0.7397260273972602, total=  28.7s\n",
      "[CV] max_depth=25, n_estimators=1000, max_features=25 ................\n"
     ]
    },
    {
     "name": "stderr",
     "output_type": "stream",
     "text": [
      "[Parallel(n_jobs=-1)]: Done 129 tasks      | elapsed:  9.6min\n"
     ]
    },
    {
     "name": "stdout",
     "output_type": "stream",
     "text": [
      "[CV]  max_depth=25, n_estimators=1000, max_features=10, score=0.696551724137931, total=  28.5s\n",
      "[CV] max_depth=25, n_estimators=1000, max_features=25 ................\n",
      "[CV]  max_depth=25, n_estimators=500, max_features=25, score=0.6757679180887372, total=  23.2s\n",
      "[CV] max_depth=25, n_estimators=1000, max_features=25 ................\n",
      "[CV]  max_depth=25, n_estimators=500, max_features=25, score=0.7294520547945206, total=  22.8s\n",
      "[CV] max_depth=25, n_estimators=1000, max_features=25 ................\n",
      "[CV]  max_depth=25, n_estimators=500, max_features=25, score=0.7064846416382252, total=  23.2s\n",
      "[CV] max_depth=25, n_estimators=500, max_features=50 .................\n",
      "[CV]  max_depth=25, n_estimators=500, max_features=25, score=0.726027397260274, total=  23.0s\n",
      "[CV] max_depth=25, n_estimators=500, max_features=50 .................\n",
      "[CV]  max_depth=25, n_estimators=500, max_features=25, score=0.6758620689655173, total=  23.3s\n",
      "[CV] max_depth=25, n_estimators=500, max_features=50 .................\n",
      "[CV]  max_depth=25, n_estimators=1000, max_features=25, score=0.6757679180887372, total=  45.2s\n",
      "[CV] max_depth=25, n_estimators=500, max_features=50 .................\n",
      "[CV]  max_depth=25, n_estimators=1000, max_features=25, score=0.7133105802047781, total=  45.9s\n",
      "[CV] max_depth=25, n_estimators=500, max_features=50 .................\n",
      "[CV]  max_depth=25, n_estimators=1000, max_features=25, score=0.702054794520548, total=  45.7s\n",
      "[CV] max_depth=25, n_estimators=1000, max_features=50 ................\n",
      "[CV]  max_depth=25, n_estimators=500, max_features=50, score=0.6757679180887372, total=  37.8s\n",
      "[CV] max_depth=25, n_estimators=1000, max_features=50 ................\n",
      "[CV]  max_depth=25, n_estimators=500, max_features=50, score=0.7201365187713311, total=  37.7s\n",
      "[CV] max_depth=25, n_estimators=1000, max_features=50 ................\n",
      "[CV]  max_depth=25, n_estimators=1000, max_features=25, score=0.7431506849315068, total=  46.5s\n",
      "[CV] max_depth=25, n_estimators=1000, max_features=50 ................\n",
      "[CV]  max_depth=25, n_estimators=500, max_features=50, score=0.7157534246575342, total=  37.3s\n",
      "[CV] max_depth=25, n_estimators=1000, max_features=50 ................\n",
      "[CV]  max_depth=25, n_estimators=1000, max_features=25, score=0.6793103448275862, total=  45.9s\n",
      "[CV] max_depth=25, n_estimators=500, max_features=75 .................\n",
      "[CV]  max_depth=25, n_estimators=500, max_features=50, score=0.7431506849315068, total=  37.9s\n",
      "[CV] max_depth=25, n_estimators=500, max_features=75 .................\n",
      "[CV]  max_depth=25, n_estimators=500, max_features=50, score=0.6931034482758621, total=  38.1s\n",
      "[CV] max_depth=25, n_estimators=500, max_features=75 .................\n",
      "[CV]  max_depth=25, n_estimators=500, max_features=75, score=0.6860068259385665, total=  53.1s\n",
      "[CV] max_depth=25, n_estimators=500, max_features=75 .................\n"
     ]
    },
    {
     "name": "stderr",
     "output_type": "stream",
     "text": [
      "[Parallel(n_jobs=-1)]: Done 146 tasks      | elapsed: 11.5min\n"
     ]
    },
    {
     "name": "stdout",
     "output_type": "stream",
     "text": [
      "[CV]  max_depth=25, n_estimators=1000, max_features=50, score=0.6757679180887372, total= 1.2min\n",
      "[CV] max_depth=25, n_estimators=500, max_features=75 .................\n",
      "[CV]  max_depth=25, n_estimators=1000, max_features=50, score=0.726962457337884, total= 1.3min\n",
      "[CV] max_depth=25, n_estimators=1000, max_features=75 ................\n",
      "[CV]  max_depth=25, n_estimators=1000, max_features=50, score=0.7054794520547946, total= 1.3min\n",
      "[CV] max_depth=25, n_estimators=1000, max_features=75 ................\n",
      "[CV]  max_depth=25, n_estimators=1000, max_features=50, score=0.6896551724137931, total= 1.3min\n",
      "[CV] max_depth=25, n_estimators=1000, max_features=75 ................\n",
      "[CV]  max_depth=25, n_estimators=1000, max_features=50, score=0.7226027397260274, total= 1.3min\n",
      "[CV] max_depth=25, n_estimators=1000, max_features=75 ................\n",
      "[CV]  max_depth=25, n_estimators=500, max_features=75, score=0.7201365187713311, total=  52.6s\n",
      "[CV] max_depth=25, n_estimators=1000, max_features=75 ................\n",
      "[CV]  max_depth=25, n_estimators=500, max_features=75, score=0.7226027397260274, total=  53.0s\n",
      "[CV] max_depth=30, n_estimators=500, max_features=10 .................\n",
      "[CV]  max_depth=30, n_estimators=500, max_features=10, score=0.658703071672355, total=  14.2s\n",
      "[CV] max_depth=30, n_estimators=500, max_features=10 .................\n",
      "[CV]  max_depth=30, n_estimators=500, max_features=10, score=0.7064846416382252, total=  14.2s\n",
      "[CV] max_depth=30, n_estimators=500, max_features=10 .................\n",
      "[CV]  max_depth=25, n_estimators=500, max_features=75, score=0.7328767123287672, total=  54.0s\n",
      "[CV] max_depth=30, n_estimators=500, max_features=10 .................\n",
      "[CV]  max_depth=25, n_estimators=500, max_features=75, score=0.6827586206896552, total=  52.8s\n",
      "[CV] max_depth=30, n_estimators=500, max_features=10 .................\n",
      "[CV]  max_depth=30, n_estimators=500, max_features=10, score=0.7226027397260274, total=  14.2s\n",
      "[CV] max_depth=30, n_estimators=1000, max_features=10 ................\n",
      "[CV]  max_depth=30, n_estimators=500, max_features=10, score=0.7465753424657534, total=  14.4s\n",
      "[CV] max_depth=30, n_estimators=1000, max_features=10 ................\n",
      "[CV]  max_depth=30, n_estimators=500, max_features=10, score=0.6758620689655173, total=  14.2s\n",
      "[CV] max_depth=30, n_estimators=1000, max_features=10 ................\n",
      "[CV]  max_depth=30, n_estimators=1000, max_features=10, score=0.6621160409556314, total=  28.6s\n",
      "[CV] max_depth=30, n_estimators=1000, max_features=10 ................\n",
      "[CV]  max_depth=30, n_estimators=1000, max_features=10, score=0.7030716723549488, total=  28.5s\n",
      "[CV] max_depth=30, n_estimators=1000, max_features=10 ................\n",
      "[CV]  max_depth=30, n_estimators=1000, max_features=10, score=0.7054794520547946, total=  28.6s\n",
      "[CV] max_depth=30, n_estimators=500, max_features=25 .................\n",
      "[CV]  max_depth=25, n_estimators=1000, max_features=75, score=0.6757679180887372, total= 1.7min\n",
      "[CV] max_depth=30, n_estimators=500, max_features=25 .................\n",
      "[CV]  max_depth=25, n_estimators=1000, max_features=75, score=0.7191780821917808, total= 1.7min\n",
      "[CV] max_depth=30, n_estimators=500, max_features=25 .................\n"
     ]
    },
    {
     "name": "stderr",
     "output_type": "stream",
     "text": [
      "[Parallel(n_jobs=-1)]: Done 165 tasks      | elapsed: 13.4min\n"
     ]
    },
    {
     "name": "stdout",
     "output_type": "stream",
     "text": [
      "[CV]  max_depth=25, n_estimators=1000, max_features=75, score=0.6827586206896552, total= 1.7min\n",
      "[CV] max_depth=30, n_estimators=500, max_features=25 .................\n",
      "[CV]  max_depth=25, n_estimators=1000, max_features=75, score=0.7201365187713311, total= 1.7min\n",
      "[CV] max_depth=30, n_estimators=500, max_features=25 .................\n",
      "[CV]  max_depth=25, n_estimators=1000, max_features=75, score=0.7123287671232876, total= 1.7min\n",
      "[CV] max_depth=30, n_estimators=1000, max_features=25 ................\n",
      "[CV]  max_depth=30, n_estimators=1000, max_features=10, score=0.7363013698630136, total=  28.3s\n",
      "[CV] max_depth=30, n_estimators=1000, max_features=25 ................\n",
      "[CV]  max_depth=30, n_estimators=1000, max_features=10, score=0.6793103448275862, total=  28.2s\n",
      "[CV] max_depth=30, n_estimators=1000, max_features=25 ................\n",
      "[CV]  max_depth=30, n_estimators=500, max_features=25, score=0.6723549488054608, total=  23.0s\n",
      "[CV] max_depth=30, n_estimators=1000, max_features=25 ................\n",
      "[CV]  max_depth=30, n_estimators=500, max_features=25, score=0.7133105802047781, total=  22.9s\n",
      "[CV] max_depth=30, n_estimators=1000, max_features=25 ................\n",
      "[CV]  max_depth=30, n_estimators=500, max_features=25, score=0.726027397260274, total=  22.7s\n",
      "[CV] max_depth=30, n_estimators=500, max_features=50 .................\n",
      "[CV]  max_depth=30, n_estimators=500, max_features=25, score=0.7328767123287672, total=  22.7s\n",
      "[CV] max_depth=30, n_estimators=500, max_features=50 .................\n",
      "[CV]  max_depth=30, n_estimators=500, max_features=25, score=0.6758620689655173, total=  22.9s\n",
      "[CV] max_depth=30, n_estimators=500, max_features=50 .................\n",
      "[CV]  max_depth=30, n_estimators=1000, max_features=25, score=0.6689419795221843, total=  45.2s\n",
      "[CV] max_depth=30, n_estimators=500, max_features=50 .................\n",
      "[CV]  max_depth=30, n_estimators=1000, max_features=25, score=0.7167235494880546, total=  46.0s\n",
      "[CV] max_depth=30, n_estimators=500, max_features=50 .................\n",
      "[CV]  max_depth=30, n_estimators=1000, max_features=25, score=0.702054794520548, total=  46.0s\n",
      "[CV] max_depth=30, n_estimators=1000, max_features=50 ................\n",
      "[CV]  max_depth=30, n_estimators=500, max_features=50, score=0.6962457337883959, total=  37.2s\n",
      "[CV] max_depth=30, n_estimators=1000, max_features=50 ................\n",
      "[CV]  max_depth=30, n_estimators=1000, max_features=25, score=0.7397260273972602, total=  45.8s\n",
      "[CV] max_depth=30, n_estimators=1000, max_features=50 ................\n",
      "[CV]  max_depth=30, n_estimators=500, max_features=50, score=0.7167235494880546, total=  37.2s\n",
      "[CV] max_depth=30, n_estimators=1000, max_features=50 ................\n",
      "[CV]  max_depth=30, n_estimators=500, max_features=50, score=0.726027397260274, total=  37.4s\n",
      "[CV] max_depth=30, n_estimators=1000, max_features=50 ................\n",
      "[CV]  max_depth=30, n_estimators=1000, max_features=25, score=0.6724137931034483, total=  46.2s\n",
      "[CV] max_depth=30, n_estimators=500, max_features=75 .................\n",
      "[CV]  max_depth=30, n_estimators=500, max_features=50, score=0.7431506849315068, total=  38.2s\n",
      "[CV] max_depth=30, n_estimators=500, max_features=75 .................\n"
     ]
    },
    {
     "name": "stderr",
     "output_type": "stream",
     "text": [
      "[Parallel(n_jobs=-1)]: Done 184 tasks      | elapsed: 14.9min\n"
     ]
    },
    {
     "name": "stdout",
     "output_type": "stream",
     "text": [
      "[CV]  max_depth=30, n_estimators=500, max_features=50, score=0.6896551724137931, total=  38.1s\n",
      "[CV] max_depth=30, n_estimators=500, max_features=75 .................\n",
      "[CV]  max_depth=30, n_estimators=500, max_features=75, score=0.6860068259385665, total=  53.0s\n",
      "[CV] max_depth=30, n_estimators=500, max_features=75 .................\n",
      "[CV]  max_depth=30, n_estimators=1000, max_features=50, score=0.689419795221843, total= 1.2min\n",
      "[CV] max_depth=30, n_estimators=500, max_features=75 .................\n",
      "[CV]  max_depth=30, n_estimators=1000, max_features=50, score=0.7133105802047781, total= 1.3min\n",
      "[CV] max_depth=30, n_estimators=1000, max_features=75 ................\n",
      "[CV]  max_depth=30, n_estimators=1000, max_features=50, score=0.7191780821917808, total= 1.3min\n",
      "[CV] max_depth=30, n_estimators=1000, max_features=75 ................\n",
      "[CV]  max_depth=30, n_estimators=1000, max_features=50, score=0.726027397260274, total= 1.3min\n",
      "[CV] max_depth=30, n_estimators=1000, max_features=75 ................\n",
      "[CV]  max_depth=30, n_estimators=1000, max_features=50, score=0.6827586206896552, total= 1.3min\n",
      "[CV] max_depth=30, n_estimators=1000, max_features=75 ................\n",
      "[CV]  max_depth=30, n_estimators=500, max_features=75, score=0.7064846416382252, total=  53.4s\n",
      "[CV] max_depth=30, n_estimators=1000, max_features=75 ................\n",
      "[CV]  max_depth=30, n_estimators=500, max_features=75, score=0.726027397260274, total=  53.7s\n",
      "[CV]  max_depth=30, n_estimators=500, max_features=75, score=0.7294520547945206, total=  51.5s\n",
      "[CV]  max_depth=30, n_estimators=500, max_features=75, score=0.6931034482758621, total=  48.2s\n",
      "[CV]  max_depth=30, n_estimators=1000, max_features=75, score=0.6791808873720137, total= 1.4min\n",
      "[CV]  max_depth=30, n_estimators=1000, max_features=75, score=0.7167235494880546, total= 1.4min\n",
      "[CV]  max_depth=30, n_estimators=1000, max_features=75, score=0.726027397260274, total= 1.4min\n",
      "[CV]  max_depth=30, n_estimators=1000, max_features=75, score=0.726027397260274, total= 1.4min\n",
      "[CV]  max_depth=30, n_estimators=1000, max_features=75, score=0.6862068965517242, total= 1.4min\n"
     ]
    },
    {
     "name": "stderr",
     "output_type": "stream",
     "text": [
      "[Parallel(n_jobs=-1)]: Done 200 out of 200 | elapsed: 17.2min finished\n"
     ]
    },
    {
     "name": "stdout",
     "output_type": "stream",
     "text": [
      "CPU times: user 22.8 s, sys: 380 ms, total: 23.2 s\n",
      "Wall time: 17min 30s\n"
     ]
    },
    {
     "data": {
      "text/plain": [
       "GridSearchCV(cv=5, error_score='raise',\n",
       "       estimator=GradientBoostingClassifier(criterion='friedman_mse', init=None,\n",
       "              learning_rate=0.01, loss='deviance', max_depth=3,\n",
       "              max_features='sqrt', max_leaf_nodes=None,\n",
       "              min_impurity_decrease=0.0, min_impurity_split=None,\n",
       "              min_samples_leaf=15, min_samples_split=10,\n",
       "              min_weight_fraction_leaf=0.0, n_estimators=1000,\n",
       "              presort='auto', random_state=67, subsample=1.0, verbose=0,\n",
       "              warm_start=False),\n",
       "       fit_params=None, iid=True, n_jobs=-1,\n",
       "       param_grid={'n_estimators': [500, 1000], 'max_depth': [5, 10, 20, 25, 30], 'max_features': [10, 25, 50, 75]},\n",
       "       pre_dispatch='2*n_jobs', refit=True, return_train_score='warn',\n",
       "       scoring='accuracy', verbose=10)"
      ]
     },
     "execution_count": 28,
     "metadata": {},
     "output_type": "execute_result"
    }
   ],
   "source": [
    "from sklearn.ensemble import GradientBoostingClassifier\n",
    "\n",
    "gbm_quant = GradientBoostingClassifier(random_state=0, learning_rate = 0.01, max_features='sqrt',\n",
    "        min_samples_leaf=15, min_samples_split=10, \n",
    "        n_estimators=1000, max_depth=3)\n",
    "\n",
    "param_grid = { \"n_estimators\"      : [500, 1000],\n",
    "           \"max_features\"      : [10, 25, 50, 75],\n",
    "           \"max_depth\"         : [5, 10, 20, 25, 30]}\n",
    "gbm_quant.set_params(random_state=67)\n",
    "grid_search_gbm = ms.GridSearchCV(gbm_quant, param_grid, cv=5, n_jobs=-1, verbose=10, scoring='accuracy')\n",
    "%time grid_search_gbm.fit(X_train, y_quant)"
   ]
  },
  {
   "cell_type": "code",
   "execution_count": 32,
   "metadata": {},
   "outputs": [
    {
     "name": "stdout",
     "output_type": "stream",
     "text": [
      "{'max_depth': 10, 'n_estimators': 500, 'max_features': 50}\n",
      "0.714383561644\n"
     ]
    }
   ],
   "source": [
    "print(grid_search_gbm.best_params_)\n",
    "print(grid_search_gbm.best_score_)"
   ]
  },
  {
   "cell_type": "code",
   "execution_count": 36,
   "metadata": {},
   "outputs": [
    {
     "name": "stdout",
     "output_type": "stream",
     "text": [
      "[CV]  ................................................................\n",
      "[CV] ....................... , score=0.6959459459459459, total=  21.6s\n",
      "[CV]  ................................................................\n"
     ]
    },
    {
     "name": "stderr",
     "output_type": "stream",
     "text": [
      "[Parallel(n_jobs=1)]: Done   1 out of   1 | elapsed:   21.6s remaining:    0.0s\n"
     ]
    },
    {
     "name": "stdout",
     "output_type": "stream",
     "text": [
      "[CV] ....................... , score=0.6554054054054054, total=  22.0s\n",
      "[CV]  ................................................................\n"
     ]
    },
    {
     "name": "stderr",
     "output_type": "stream",
     "text": [
      "[Parallel(n_jobs=1)]: Done   2 out of   2 | elapsed:   43.6s remaining:    0.0s\n"
     ]
    },
    {
     "name": "stdout",
     "output_type": "stream",
     "text": [
      "[CV] ....................... , score=0.6891891891891891, total=  21.8s\n",
      "[CV]  ................................................................\n"
     ]
    },
    {
     "name": "stderr",
     "output_type": "stream",
     "text": [
      "[Parallel(n_jobs=1)]: Done   3 out of   3 | elapsed:  1.1min remaining:    0.0s\n"
     ]
    },
    {
     "name": "stdout",
     "output_type": "stream",
     "text": [
      "[CV] ....................... , score=0.7027027027027027, total=  21.6s\n",
      "[CV]  ................................................................\n"
     ]
    },
    {
     "name": "stderr",
     "output_type": "stream",
     "text": [
      "[Parallel(n_jobs=1)]: Done   4 out of   4 | elapsed:  1.4min remaining:    0.0s\n"
     ]
    },
    {
     "name": "stdout",
     "output_type": "stream",
     "text": [
      "[CV] ....................... , score=0.6870748299319728, total=  21.7s\n",
      "[CV]  ................................................................\n",
      "[CV] ....................... , score=0.7724137931034483, total=  21.8s\n",
      "[CV]  ................................................................\n",
      "[CV] ....................... , score=0.7172413793103448, total=  21.6s\n",
      "[CV]  ................................................................\n",
      "[CV] ....................... , score=0.7361111111111112, total=  21.8s\n",
      "[CV]  ................................................................\n",
      "[CV] ....................... , score=0.6736111111111112, total=  21.7s\n",
      "[CV]  ................................................................\n",
      "[CV] ....................... , score=0.6993006993006993, total=  21.7s\n"
     ]
    },
    {
     "name": "stderr",
     "output_type": "stream",
     "text": [
      "[Parallel(n_jobs=1)]: Done  10 out of  10 | elapsed:  3.6min finished\n"
     ]
    }
   ],
   "source": [
    "from sklearn.ensemble import VotingClassifier\n",
    "vote1 = LogisticRegression(C = 1)\n",
    "vote2 = RandomForestClassifier(n_estimators=500, max_features=75, max_depth=20)\n",
    "vote3 = GradientBoostingClassifier(random_state=0, learning_rate = 0.01, max_features=50,\n",
    "        min_samples_leaf=15, min_samples_split=10, \n",
    "        n_estimators=500, max_depth=10)\n",
    "\n",
    "voter = VotingClassifier(estimators=[('lr', vote1),('rf', vote2),('gbm', vote3)], voting='hard')\n",
    "score = ms.cross_val_score(voter, X_train, y_quant, scoring='accuracy', cv=10, verbose=5)"
   ]
  },
  {
   "cell_type": "code",
   "execution_count": 54,
   "metadata": {},
   "outputs": [
    {
     "data": {
      "text/plain": [
       "0.70289961671119294"
      ]
     },
     "execution_count": 54,
     "metadata": {},
     "output_type": "execute_result"
    }
   ],
   "source": [
    "np.mean(score)"
   ]
  },
  {
   "cell_type": "code",
   "execution_count": 56,
   "metadata": {},
   "outputs": [
    {
     "data": {
      "text/plain": [
       "VotingClassifier(estimators=[('lr', LogisticRegression(C=1, class_weight=None, dual=False, fit_intercept=True,\n",
       "          intercept_scaling=1, max_iter=100, multi_class='ovr', n_jobs=1,\n",
       "          penalty='l2', random_state=None, solver='liblinear', tol=0.0001,\n",
       "          verbose=0, warm_start=False)), ('rf', RandomFor...         presort='auto', random_state=0, subsample=1.0, verbose=0,\n",
       "              warm_start=False))],\n",
       "         flatten_transform=None, n_jobs=1, voting='hard', weights=None)"
      ]
     },
     "execution_count": 56,
     "metadata": {},
     "output_type": "execute_result"
    }
   ],
   "source": [
    "voter.fit(X_train, y_quant)"
   ]
  },
  {
   "cell_type": "code",
   "execution_count": 57,
   "metadata": {},
   "outputs": [
    {
     "data": {
      "text/plain": [
       "1.0"
      ]
     },
     "execution_count": 57,
     "metadata": {},
     "output_type": "execute_result"
    }
   ],
   "source": [
    "vote_pred = voter.predict(X_train)\n",
    "metrics.accuracy_score(vote_pred, y_quant)"
   ]
  },
  {
   "cell_type": "markdown",
   "metadata": {},
   "source": [
    "STACKING"
   ]
  },
  {
   "cell_type": "code",
   "execution_count": 58,
   "metadata": {
    "collapsed": true
   },
   "outputs": [],
   "source": [
    "models = [\n",
    "    # linear model, ElasticNet = lasso + ridge\n",
    "    {'model': ElasticNet(random_state=0, \n",
    "              fit_intercept=True, alpha=0.05, l1_ratio=1),\n",
    "        'X_train': X_train,\n",
    "        'y_train': y_train,\n",
    "        'X_test': X_test},\n",
    "    \n",
    "    ElasticNet(random_state=0, \n",
    "              fit_intercept=True, alpha=0.18069, l1_ratio=0.01),\n",
    "    \n",
    "    # deep random forst model\n",
    "    rfr(random_state=0,\n",
    "        n_estimators=1000, max_depth=20,  max_features=70),\n",
    "    \n",
    "    # conservative gbm model\n",
    "    gbr(random_state=0, learning_rate = 0.005, max_features='sqrt',\n",
    "        min_samples_leaf=15, min_samples_split=10, \n",
    "        n_estimators=3000, max_depth=3),\n",
    "    \n",
    "    # aggressive gbm model\n",
    "    gbr(random_state = 0, learning_rate = 0.01, max_features='sqrt',\n",
    "        min_samples_leaf=10, min_samples_split=5, \n",
    "        n_estimators = 1000, max_depth = 9),\n",
    "    ]\n",
    "\n",
    "meta_model = lr(normalize=True)"
   ]
  },
  {
   "cell_type": "code",
   "execution_count": null,
   "metadata": {
    "collapsed": true
   },
   "outputs": [],
   "source": [
    "%%time\n",
    "stacking_features, stacking_prediction = stacking_regression(models,\n",
    "                                          X_train, y_train, X_test,\n",
    "                                          transform_target=np.log1p, transform_pred = np.expm1, \n",
    "                                          metric=rmsle, verbose=2, n_folds=3)"
   ]
  },
  {
   "cell_type": "code",
   "execution_count": 63,
   "metadata": {},
   "outputs": [
    {
     "name": "stdout",
     "output_type": "stream",
     "text": [
      "(1460, 5)\n",
      "(1459, 5)\n",
      "(1460,)\n"
     ]
    }
   ],
   "source": [
    "print(stacking_features.shape)\n",
    "print(stacking_prediction.shape)\n",
    "print(y_quant.shape)"
   ]
  },
  {
   "cell_type": "code",
   "execution_count": 82,
   "metadata": {},
   "outputs": [
    {
     "name": "stdout",
     "output_type": "stream",
     "text": [
      "(1460, 6)\n"
     ]
    }
   ],
   "source": [
    "big_features, big_predictions = append_meta_features(stacking_features, stacking_prediction, y_quant.reshape(-1,1))\n",
    "print(big_features.shape)"
   ]
  },
  {
   "cell_type": "code",
   "execution_count": 80,
   "metadata": {},
   "outputs": [
    {
     "ename": "ValueError",
     "evalue": "all the input arrays must have same number of dimensions",
     "output_type": "error",
     "traceback": [
      "\u001b[0;31m---------------------------------------------------------------------------\u001b[0m",
      "\u001b[0;31mValueError\u001b[0m                                Traceback (most recent call last)",
      "\u001b[0;32m<ipython-input-80-b5d6eaf0bb6e>\u001b[0m in \u001b[0;36m<module>\u001b[0;34m()\u001b[0m\n\u001b[0;32m----> 1\u001b[0;31m \u001b[0mnp\u001b[0m\u001b[0;34m.\u001b[0m\u001b[0mappend\u001b[0m\u001b[0;34m(\u001b[0m\u001b[0mstacking_features\u001b[0m\u001b[0;34m,\u001b[0m \u001b[0my_quant\u001b[0m\u001b[0;34m,\u001b[0m \u001b[0;36m1\u001b[0m\u001b[0;34m)\u001b[0m\u001b[0;34m.\u001b[0m\u001b[0mshape\u001b[0m\u001b[0;34m\u001b[0m\u001b[0m\n\u001b[0m",
      "\u001b[0;32m~/env/py35/lib/python3.5/site-packages/numpy/lib/function_base.py\u001b[0m in \u001b[0;36mappend\u001b[0;34m(arr, values, axis)\u001b[0m\n\u001b[1;32m   5150\u001b[0m         \u001b[0mvalues\u001b[0m \u001b[0;34m=\u001b[0m \u001b[0mravel\u001b[0m\u001b[0;34m(\u001b[0m\u001b[0mvalues\u001b[0m\u001b[0;34m)\u001b[0m\u001b[0;34m\u001b[0m\u001b[0m\n\u001b[1;32m   5151\u001b[0m         \u001b[0maxis\u001b[0m \u001b[0;34m=\u001b[0m \u001b[0marr\u001b[0m\u001b[0;34m.\u001b[0m\u001b[0mndim\u001b[0m\u001b[0;34m-\u001b[0m\u001b[0;36m1\u001b[0m\u001b[0;34m\u001b[0m\u001b[0m\n\u001b[0;32m-> 5152\u001b[0;31m     \u001b[0;32mreturn\u001b[0m \u001b[0mconcatenate\u001b[0m\u001b[0;34m(\u001b[0m\u001b[0;34m(\u001b[0m\u001b[0marr\u001b[0m\u001b[0;34m,\u001b[0m \u001b[0mvalues\u001b[0m\u001b[0;34m)\u001b[0m\u001b[0;34m,\u001b[0m \u001b[0maxis\u001b[0m\u001b[0;34m=\u001b[0m\u001b[0maxis\u001b[0m\u001b[0;34m)\u001b[0m\u001b[0;34m\u001b[0m\u001b[0m\n\u001b[0m",
      "\u001b[0;31mValueError\u001b[0m: all the input arrays must have same number of dimensions"
     ]
    }
   ],
   "source": [
    "np.append(stacking_features, y_quant, 1).shape"
   ]
  },
  {
   "cell_type": "code",
   "execution_count": 25,
   "metadata": {},
   "outputs": [
    {
     "data": {
      "text/plain": [
       "0.20193003366588899"
      ]
     },
     "execution_count": 25,
     "metadata": {},
     "output_type": "execute_result"
    }
   ],
   "source": [
    "def averaging_score(x, y):\n",
    "    return rmsle(x.mean(axis=1), y)\n",
    "\n",
    "averaging_score(stacking_features, y_train)"
   ]
  },
  {
   "cell_type": "markdown",
   "metadata": {},
   "source": [
    "One way to evaluate a meta-model: cross_val_score"
   ]
  },
  {
   "cell_type": "code",
   "execution_count": 26,
   "metadata": {
    "collapsed": true
   },
   "outputs": [],
   "source": [
    "meta_model = rfr(random_state=0, n_estimators=500, max_depth=5, max_features=3)"
   ]
  },
  {
   "cell_type": "code",
   "execution_count": 27,
   "metadata": {},
   "outputs": [
    {
     "name": "stdout",
     "output_type": "stream",
     "text": [
      "[ 0.09189106  0.11283033  0.10028609  0.08961675  0.09178818]\n",
      "0.0972824838602\n"
     ]
    }
   ],
   "source": [
    "score = ms.cross_val_score(estimator=meta_model, X= stacking_features, y=y_train, cv=5, scoring='neg_mean_squared_log_error')\n",
    "print(np.sqrt(score * -1))\n",
    "print(np.mean(np.sqrt(score * -1)))"
   ]
  },
  {
   "cell_type": "markdown",
   "metadata": {},
   "source": [
    "another way -- using gridsearchCV to tune params, and use the crossval score from best param set"
   ]
  },
  {
   "cell_type": "code",
   "execution_count": 43,
   "metadata": {},
   "outputs": [
    {
     "name": "stdout",
     "output_type": "stream",
     "text": [
      "Fitting 5 folds for each of 108 candidates, totalling 540 fits\n",
      "[CV] max_features=1, max_depth=1, n_estimators=500 ...................\n",
      "[CV] max_features=1, max_depth=1, n_estimators=500 ...................\n",
      "[CV] max_features=1, max_depth=1, n_estimators=500 ...................\n",
      "[CV] max_features=1, max_depth=1, n_estimators=500 ...................\n",
      "[CV] max_features=1, max_depth=1, n_estimators=700 ...................\n",
      "[CV] max_features=1, max_depth=1, n_estimators=700 ...................\n",
      "[CV] max_features=1, max_depth=1, n_estimators=700 ...................\n",
      "[CV] max_features=1, max_depth=1, n_estimators=500 ...................\n",
      "[CV]  max_features=1, max_depth=1, n_estimators=500, score=-0.0717085100043705, total=   0.6s\n",
      "[CV]  max_features=1, max_depth=1, n_estimators=500, score=-0.07823804465865188, total=   0.7s\n",
      "[CV] max_features=1, max_depth=1, n_estimators=700 ...................\n",
      "[CV] max_features=1, max_depth=1, n_estimators=700 ...................\n",
      "[CV]  max_features=1, max_depth=1, n_estimators=500, score=-0.06932262974126312, total=   0.7s\n",
      "[CV]  max_features=1, max_depth=1, n_estimators=500, score=-0.06388287924338575, total=   0.7s\n",
      "[CV] max_features=2, max_depth=1, n_estimators=500 ...................\n",
      "[CV]  max_features=1, max_depth=1, n_estimators=500, score=-0.06667276966400877, total=   0.7s\n",
      "[CV] max_features=2, max_depth=1, n_estimators=500 ...................\n",
      "[CV] max_features=2, max_depth=1, n_estimators=500 ...................\n"
     ]
    },
    {
     "name": "stderr",
     "output_type": "stream",
     "text": [
      "[Parallel(n_jobs=-1)]: Done   2 tasks      | elapsed:    0.7s\n"
     ]
    },
    {
     "name": "stdout",
     "output_type": "stream",
     "text": [
      "[CV]  max_features=1, max_depth=1, n_estimators=700, score=-0.06908893127642346, total=   0.9s\n",
      "[CV]  max_features=1, max_depth=1, n_estimators=700, score=-0.06410537418742247, total=   0.9s\n",
      "[CV] max_features=2, max_depth=1, n_estimators=500 ...................\n",
      "[CV] max_features=2, max_depth=1, n_estimators=500 ...................\n",
      "[CV]  max_features=1, max_depth=1, n_estimators=700, score=-0.07795334948997333, total=   1.0s\n",
      "[CV] max_features=2, max_depth=1, n_estimators=700 ...................\n",
      "[CV]  max_features=2, max_depth=1, n_estimators=500, score=-0.06495272397980129, total=   0.7s\n",
      "[CV] max_features=2, max_depth=1, n_estimators=700 ...................\n",
      "[CV]  max_features=2, max_depth=1, n_estimators=500, score=-0.0793485861626447, total=   0.7s\n",
      "[CV] max_features=2, max_depth=1, n_estimators=700 ...................\n",
      "[CV]  max_features=2, max_depth=1, n_estimators=500, score=-0.07067130304605876, total=   0.7s\n",
      "[CV] max_features=2, max_depth=1, n_estimators=700 ...................\n"
     ]
    },
    {
     "name": "stderr",
     "output_type": "stream",
     "text": [
      "[Parallel(n_jobs=-1)]: Done   9 tasks      | elapsed:    1.5s\n"
     ]
    },
    {
     "name": "stdout",
     "output_type": "stream",
     "text": [
      "[CV]  max_features=1, max_depth=1, n_estimators=700, score=-0.07149824956775497, total=   0.9s\n",
      "[CV] max_features=2, max_depth=1, n_estimators=700 ...................\n",
      "[CV]  max_features=1, max_depth=1, n_estimators=700, score=-0.06634271194433532, total=   1.0s\n",
      "[CV] max_features=3, max_depth=1, n_estimators=500 ...................\n",
      "[CV]  max_features=2, max_depth=1, n_estimators=500, score=-0.07314026281396803, total=   0.7s\n",
      "[CV]  max_features=2, max_depth=1, n_estimators=500, score=-0.06895490128608163, total=   0.7s\n",
      "[CV] max_features=3, max_depth=1, n_estimators=500 ...................\n",
      "[CV] max_features=3, max_depth=1, n_estimators=500 ...................\n",
      "[CV]  max_features=2, max_depth=1, n_estimators=700, score=-0.0649517214280109, total=   1.1s\n",
      "[CV] max_features=3, max_depth=1, n_estimators=500 ...................\n"
     ]
    },
    {
     "name": "stderr",
     "output_type": "stream",
     "text": [
      "[Parallel(n_jobs=-1)]: Done  16 tasks      | elapsed:    2.2s\n"
     ]
    },
    {
     "name": "stdout",
     "output_type": "stream",
     "text": [
      "[CV]  max_features=3, max_depth=1, n_estimators=500, score=-0.06473663206867093, total=   0.8s\n",
      "[CV] max_features=3, max_depth=1, n_estimators=500 ...................\n",
      "[CV]  max_features=2, max_depth=1, n_estimators=700, score=-0.07053477145119949, total=   1.0s\n",
      "[CV]  max_features=3, max_depth=1, n_estimators=500, score=-0.07982496248396223, total=   0.7s\n",
      "[CV] max_features=3, max_depth=1, n_estimators=700 ...................\n",
      "[CV]  max_features=2, max_depth=1, n_estimators=700, score=-0.07922332326753188, total=   1.1s\n",
      "[CV] max_features=3, max_depth=1, n_estimators=700 ...................\n",
      "[CV]  max_features=3, max_depth=1, n_estimators=500, score=-0.07176412900166326, total=   0.7s\n",
      "[CV] max_features=3, max_depth=1, n_estimators=700 ...................\n",
      "[CV] max_features=3, max_depth=1, n_estimators=700 ...................\n",
      "[CV]  max_features=2, max_depth=1, n_estimators=700, score=-0.07298448429581092, total=   1.0s\n",
      "[CV] max_features=3, max_depth=1, n_estimators=700 ...................\n",
      "[CV]  max_features=2, max_depth=1, n_estimators=700, score=-0.0688201707805973, total=   1.0s\n",
      "[CV] max_features=4, max_depth=1, n_estimators=500 ...................\n",
      "[CV]  max_features=3, max_depth=1, n_estimators=500, score=-0.07349432170117777, total=   0.8s\n",
      "[CV] max_features=4, max_depth=1, n_estimators=500 ...................\n",
      "[CV]  max_features=3, max_depth=1, n_estimators=500, score=-0.0700847178127382, total=   0.8s\n",
      "[CV] max_features=4, max_depth=1, n_estimators=500 ...................\n"
     ]
    },
    {
     "name": "stderr",
     "output_type": "stream",
     "text": [
      "[Parallel(n_jobs=-1)]: Done  25 tasks      | elapsed:    3.3s\n"
     ]
    },
    {
     "name": "stdout",
     "output_type": "stream",
     "text": [
      "[CV]  max_features=3, max_depth=1, n_estimators=700, score=-0.07341639280518313, total=   1.1s\n",
      "[CV]  max_features=4, max_depth=1, n_estimators=500, score=-0.06474821968456768, total=   0.8s\n",
      "[CV]  max_features=3, max_depth=1, n_estimators=700, score=-0.07158734475493987, total=   1.1s\n",
      "[CV] max_features=4, max_depth=1, n_estimators=500 ...................\n",
      "[CV] max_features=4, max_depth=1, n_estimators=700 ...................\n",
      "[CV]  max_features=3, max_depth=1, n_estimators=700, score=-0.06471615635688195, total=   1.1s\n",
      "[CV]  max_features=3, max_depth=1, n_estimators=700, score=-0.07973605217125065, total=   1.1s\n",
      "[CV] max_features=4, max_depth=1, n_estimators=500 ...................\n",
      "[CV] max_features=4, max_depth=1, n_estimators=700 ...................\n",
      "[CV] max_features=4, max_depth=1, n_estimators=700 ...................\n",
      "[CV]  max_features=3, max_depth=1, n_estimators=700, score=-0.06998853270582092, total=   1.0s\n",
      "[CV] max_features=4, max_depth=1, n_estimators=700 ...................\n",
      "[CV]  max_features=4, max_depth=1, n_estimators=500, score=-0.07980321039784506, total=   0.8s\n",
      "[CV] max_features=4, max_depth=1, n_estimators=700 ...................\n",
      "[CV]  max_features=4, max_depth=1, n_estimators=500, score=-0.07243597789026075, total=   0.9s\n",
      "[CV] max_features=5, max_depth=1, n_estimators=500 ...................\n",
      "[CV]  max_features=4, max_depth=1, n_estimators=500, score=-0.07356137957544517, total=   0.8s\n",
      "[CV] max_features=5, max_depth=1, n_estimators=500 ...................\n",
      "[CV]  max_features=4, max_depth=1, n_estimators=500, score=-0.07018755381518285, total=   0.8s\n",
      "[CV] max_features=5, max_depth=1, n_estimators=500 ...................\n"
     ]
    },
    {
     "name": "stderr",
     "output_type": "stream",
     "text": [
      "[Parallel(n_jobs=-1)]: Done  34 tasks      | elapsed:    4.5s\n"
     ]
    },
    {
     "name": "stdout",
     "output_type": "stream",
     "text": [
      "[CV]  max_features=4, max_depth=1, n_estimators=700, score=-0.07979275187597511, total=   1.1s\n",
      "[CV] max_features=5, max_depth=1, n_estimators=500 ...................\n",
      "[CV]  max_features=4, max_depth=1, n_estimators=700, score=-0.06471737441311409, total=   1.1s\n",
      "[CV] max_features=5, max_depth=1, n_estimators=500 ...................\n",
      "[CV]  max_features=4, max_depth=1, n_estimators=700, score=-0.07345745827332958, total=   1.1s\n",
      "[CV] max_features=5, max_depth=1, n_estimators=700 ...................\n",
      "[CV]  max_features=4, max_depth=1, n_estimators=700, score=-0.07226990615322096, total=   1.2s\n",
      "[CV] max_features=5, max_depth=1, n_estimators=700 ...................\n",
      "[CV]  max_features=5, max_depth=1, n_estimators=500, score=-0.0650025585446663, total=   0.8s\n",
      "[CV] max_features=5, max_depth=1, n_estimators=700 ...................\n",
      "[CV]  max_features=4, max_depth=1, n_estimators=700, score=-0.070263997516108, total=   1.1s\n",
      "[CV] max_features=5, max_depth=1, n_estimators=700 ...................\n",
      "[CV]  max_features=5, max_depth=1, n_estimators=500, score=-0.08017797788050571, total=   0.8s\n",
      "[CV] max_features=5, max_depth=1, n_estimators=700 ...................\n",
      "[CV]  max_features=5, max_depth=1, n_estimators=500, score=-0.07324583817002311, total=   0.8s\n",
      "[CV] max_features=6, max_depth=1, n_estimators=500 ...................\n",
      "[CV]  max_features=5, max_depth=1, n_estimators=500, score=-0.07364961239428253, total=   0.8s\n",
      "[CV] max_features=6, max_depth=1, n_estimators=500 ...................\n",
      "[CV]  max_features=5, max_depth=1, n_estimators=500, score=-0.07083475455702525, total=   0.8s\n",
      "[CV] max_features=6, max_depth=1, n_estimators=500 ...................\n"
     ]
    },
    {
     "name": "stderr",
     "output_type": "stream",
     "text": [
      "[Parallel(n_jobs=-1)]: Done  45 tasks      | elapsed:    5.7s\n"
     ]
    },
    {
     "name": "stdout",
     "output_type": "stream",
     "text": [
      "[CV]  max_features=5, max_depth=1, n_estimators=700, score=-0.06495012547028531, total=   1.2s\n",
      "[CV] max_features=6, max_depth=1, n_estimators=500 ...................\n",
      "[CV]  max_features=5, max_depth=1, n_estimators=700, score=-0.08011075415516779, total=   1.1s\n",
      "[CV] max_features=6, max_depth=1, n_estimators=500 ...................\n",
      "[CV]  max_features=5, max_depth=1, n_estimators=700, score=-0.07301269427263166, total=   1.1s\n",
      "[CV] max_features=6, max_depth=1, n_estimators=700 ...................\n",
      "[CV]  max_features=6, max_depth=1, n_estimators=500, score=-0.06538035597328108, total=   0.8s\n",
      "[CV] max_features=6, max_depth=1, n_estimators=700 ...................\n",
      "[CV]  max_features=5, max_depth=1, n_estimators=700, score=-0.07346610331906331, total=   1.2s\n",
      "[CV] max_features=6, max_depth=1, n_estimators=700 ...................\n",
      "[CV]  max_features=5, max_depth=1, n_estimators=700, score=-0.07068369614729754, total=   1.1s\n",
      "[CV] max_features=6, max_depth=1, n_estimators=700 ...................\n",
      "[CV]  max_features=6, max_depth=1, n_estimators=500, score=-0.08043348047929806, total=   0.8s\n",
      "[CV] max_features=6, max_depth=1, n_estimators=700 ...................\n",
      "[CV]  max_features=6, max_depth=1, n_estimators=500, score=-0.07361821109262641, total=   0.8s\n",
      "[CV] max_features=1, max_depth=2, n_estimators=500 ...................\n",
      "[CV]  max_features=6, max_depth=1, n_estimators=500, score=-0.07347667274701218, total=   0.8s\n",
      "[CV] max_features=1, max_depth=2, n_estimators=500 ...................\n",
      "[CV]  max_features=6, max_depth=1, n_estimators=500, score=-0.07093417685372065, total=   0.9s\n",
      "[CV] max_features=1, max_depth=2, n_estimators=500 ...................\n",
      "[CV]  max_features=1, max_depth=2, n_estimators=500, score=-0.02627637708053305, total=   0.7s\n",
      "[CV] max_features=1, max_depth=2, n_estimators=500 ...................\n",
      "[CV]  max_features=6, max_depth=1, n_estimators=700, score=-0.06533718759566207, total=   1.1s\n",
      "[CV] max_features=1, max_depth=2, n_estimators=500 ...................\n",
      "[CV]  max_features=6, max_depth=1, n_estimators=700, score=-0.0804586224793503, total=   1.1s\n",
      "[CV] max_features=1, max_depth=2, n_estimators=700 ...................\n",
      "[CV]  max_features=6, max_depth=1, n_estimators=700, score=-0.07351421975888275, total=   1.2s\n"
     ]
    },
    {
     "name": "stderr",
     "output_type": "stream",
     "text": [
      "[Parallel(n_jobs=-1)]: Done  56 tasks      | elapsed:    7.4s\n"
     ]
    },
    {
     "name": "stdout",
     "output_type": "stream",
     "text": [
      "[CV] max_features=1, max_depth=2, n_estimators=700 ...................\n",
      "[CV]  max_features=6, max_depth=1, n_estimators=700, score=-0.07334333714311964, total=   1.2s\n",
      "[CV] max_features=1, max_depth=2, n_estimators=700 ...................\n",
      "[CV]  max_features=6, max_depth=1, n_estimators=700, score=-0.07086725738290793, total=   1.2s\n",
      "[CV] max_features=1, max_depth=2, n_estimators=700 ...................\n",
      "[CV]  max_features=1, max_depth=2, n_estimators=500, score=-0.0350622218997074, total=   0.7s\n",
      "[CV] max_features=1, max_depth=2, n_estimators=700 ...................\n",
      "[CV]  max_features=1, max_depth=2, n_estimators=500, score=-0.03873303141099622, total=   0.8s\n",
      "[CV] max_features=2, max_depth=2, n_estimators=500 ...................\n",
      "[CV]  max_features=1, max_depth=2, n_estimators=500, score=-0.03290637021700716, total=   0.7s\n",
      "[CV] max_features=2, max_depth=2, n_estimators=500 ...................\n",
      "[CV]  max_features=1, max_depth=2, n_estimators=500, score=-0.02935731774861301, total=   0.7s\n",
      "[CV] max_features=2, max_depth=2, n_estimators=500 ...................\n",
      "[CV]  max_features=1, max_depth=2, n_estimators=700, score=-0.02641763045496643, total=   1.0s\n",
      "[CV] max_features=2, max_depth=2, n_estimators=500 ...................\n",
      "[CV]  max_features=1, max_depth=2, n_estimators=700, score=-0.03870397063780751, total=   1.0s\n",
      "[CV] max_features=2, max_depth=2, n_estimators=500 ...................\n",
      "[CV]  max_features=1, max_depth=2, n_estimators=700, score=-0.0351153721749263, total=   1.0s\n",
      "[CV] max_features=2, max_depth=2, n_estimators=700 ...................\n",
      "[CV]  max_features=2, max_depth=2, n_estimators=500, score=-0.026448485916184906, total=   0.8s\n",
      "[CV] max_features=2, max_depth=2, n_estimators=700 ...................\n",
      "[CV]  max_features=1, max_depth=2, n_estimators=700, score=-0.032860830480462865, total=   1.0s\n",
      "[CV] max_features=2, max_depth=2, n_estimators=700 ...................\n",
      "[CV]  max_features=2, max_depth=2, n_estimators=500, score=-0.039097052071078456, total=   0.8s\n",
      "[CV] max_features=2, max_depth=2, n_estimators=700 ...................\n",
      "[CV]  max_features=1, max_depth=2, n_estimators=700, score=-0.029388102941518033, total=   1.0s\n",
      "[CV] max_features=2, max_depth=2, n_estimators=700 ...................\n"
     ]
    },
    {
     "name": "stderr",
     "output_type": "stream",
     "text": [
      "[Parallel(n_jobs=-1)]: Done  69 tasks      | elapsed:    8.8s\n"
     ]
    },
    {
     "name": "stdout",
     "output_type": "stream",
     "text": [
      "[CV]  max_features=2, max_depth=2, n_estimators=500, score=-0.03467968034630947, total=   0.8s\n",
      "[CV] max_features=3, max_depth=2, n_estimators=500 ...................\n",
      "[CV]  max_features=2, max_depth=2, n_estimators=500, score=-0.029372550580570755, total=   0.8s\n",
      "[CV] max_features=3, max_depth=2, n_estimators=500 ...................\n",
      "[CV]  max_features=2, max_depth=2, n_estimators=500, score=-0.03284096605426397, total=   0.8s\n",
      "[CV] max_features=3, max_depth=2, n_estimators=500 ...................\n",
      "[CV]  max_features=2, max_depth=2, n_estimators=700, score=-0.0264663383438684, total=   1.1s\n",
      "[CV] max_features=3, max_depth=2, n_estimators=500 ...................\n",
      "[CV]  max_features=2, max_depth=2, n_estimators=700, score=-0.03907224345390161, total=   1.1s\n",
      "[CV]  max_features=3, max_depth=2, n_estimators=500, score=-0.026606751848262725, total=   0.8s\n",
      "[CV] max_features=3, max_depth=2, n_estimators=500 ...................\n",
      "[CV] max_features=3, max_depth=2, n_estimators=700 ...................\n",
      "[CV]  max_features=2, max_depth=2, n_estimators=700, score=-0.032820482818240654, total=   1.1s\n",
      "[CV] max_features=3, max_depth=2, n_estimators=700 ...................\n",
      "[CV]  max_features=2, max_depth=2, n_estimators=700, score=-0.03465740825173519, total=   1.1s\n",
      "[CV] max_features=3, max_depth=2, n_estimators=700 ...................\n",
      "[CV]  max_features=2, max_depth=2, n_estimators=700, score=-0.029387428591848272, total=   1.1s\n",
      "[CV] max_features=3, max_depth=2, n_estimators=700 ...................\n",
      "[CV]  max_features=3, max_depth=2, n_estimators=500, score=-0.03924782542659824, total=   0.8s\n",
      "[CV] max_features=3, max_depth=2, n_estimators=700 ...................\n",
      "[CV]  max_features=3, max_depth=2, n_estimators=500, score=-0.03499510565264286, total=   0.9s\n",
      "[CV] max_features=4, max_depth=2, n_estimators=500 ...................\n"
     ]
    },
    {
     "name": "stderr",
     "output_type": "stream",
     "text": [
      "[Parallel(n_jobs=-1)]: Done  82 tasks      | elapsed:   10.3s\n"
     ]
    },
    {
     "name": "stdout",
     "output_type": "stream",
     "text": [
      "[CV]  max_features=3, max_depth=2, n_estimators=500, score=-0.029973171760411983, total=   0.9s\n",
      "[CV] max_features=4, max_depth=2, n_estimators=500 ...................\n",
      "[CV]  max_features=3, max_depth=2, n_estimators=500, score=-0.03298971901892419, total=   0.9s\n",
      "[CV] max_features=4, max_depth=2, n_estimators=500 ...................\n",
      "[CV]  max_features=3, max_depth=2, n_estimators=700, score=-0.026698014444154632, total=   1.1s\n",
      "[CV] max_features=4, max_depth=2, n_estimators=500 ...................\n",
      "[CV]  max_features=3, max_depth=2, n_estimators=700, score=-0.03495737000749633, total=   1.1s\n",
      "[CV] max_features=4, max_depth=2, n_estimators=500 ...................\n",
      "[CV]  max_features=4, max_depth=2, n_estimators=500, score=-0.027020112852726114, total=   0.9s\n",
      "[CV] max_features=4, max_depth=2, n_estimators=700 ...................\n",
      "[CV]  max_features=3, max_depth=2, n_estimators=700, score=-0.03926093862226373, total=   1.2s\n",
      "[CV] max_features=4, max_depth=2, n_estimators=700 ...................\n",
      "[CV]  max_features=3, max_depth=2, n_estimators=700, score=-0.032974019328169644, total=   1.1s\n",
      "[CV] max_features=4, max_depth=2, n_estimators=700 ...................\n",
      "[CV]  max_features=3, max_depth=2, n_estimators=700, score=-0.030019236985311646, total=   1.2s\n",
      "[CV] max_features=4, max_depth=2, n_estimators=700 ...................\n",
      "[CV]  max_features=4, max_depth=2, n_estimators=500, score=-0.03940161657618063, total=   0.9s\n",
      "[CV] max_features=4, max_depth=2, n_estimators=700 ...................\n",
      "[CV]  max_features=4, max_depth=2, n_estimators=500, score=-0.03521968685542242, total=   0.9s\n",
      "[CV] max_features=5, max_depth=2, n_estimators=500 ...................\n",
      "[CV]  max_features=4, max_depth=2, n_estimators=500, score=-0.032839547291811856, total=   0.9s\n",
      "[CV] max_features=5, max_depth=2, n_estimators=500 ...................\n",
      "[CV]  max_features=4, max_depth=2, n_estimators=500, score=-0.030256315545791158, total=   0.9s\n",
      "[CV] max_features=5, max_depth=2, n_estimators=500 ...................\n",
      "[CV]  max_features=4, max_depth=2, n_estimators=700, score=-0.027047913433709346, total=   1.2s\n",
      "[CV] max_features=5, max_depth=2, n_estimators=500 ...................\n",
      "[CV]  max_features=4, max_depth=2, n_estimators=700, score=-0.03940179208753026, total=   1.2s\n",
      "[CV] max_features=5, max_depth=2, n_estimators=500 ...................\n",
      "[CV]  max_features=4, max_depth=2, n_estimators=700, score=-0.03521984745248799, total=   1.2s\n",
      "[CV] max_features=5, max_depth=2, n_estimators=700 ...................\n",
      "[CV]  max_features=4, max_depth=2, n_estimators=700, score=-0.0327877391517689, total=   1.2s\n",
      "[CV] max_features=5, max_depth=2, n_estimators=700 ...................\n"
     ]
    },
    {
     "name": "stderr",
     "output_type": "stream",
     "text": [
      "[Parallel(n_jobs=-1)]: Done  97 tasks      | elapsed:   12.6s\n"
     ]
    },
    {
     "name": "stdout",
     "output_type": "stream",
     "text": [
      "[CV]  max_features=5, max_depth=2, n_estimators=500, score=-0.02717214089135963, total=   1.1s\n",
      "[CV] max_features=5, max_depth=2, n_estimators=700 ...................\n",
      "[CV]  max_features=4, max_depth=2, n_estimators=700, score=-0.030256874038887042, total=   1.2s\n",
      "[CV] max_features=5, max_depth=2, n_estimators=700 ...................\n",
      "[CV]  max_features=5, max_depth=2, n_estimators=500, score=-0.03954533277168964, total=   1.0s\n",
      "[CV] max_features=5, max_depth=2, n_estimators=700 ...................\n",
      "[CV]  max_features=5, max_depth=2, n_estimators=500, score=-0.03558915231175187, total=   1.0s\n",
      "[CV] max_features=6, max_depth=2, n_estimators=500 ...................\n",
      "[CV]  max_features=5, max_depth=2, n_estimators=500, score=-0.032809469924124986, total=   1.0s\n",
      "[CV] max_features=6, max_depth=2, n_estimators=500 ...................\n",
      "[CV]  max_features=5, max_depth=2, n_estimators=500, score=-0.030602788713347723, total=   0.9s\n",
      "[CV] max_features=6, max_depth=2, n_estimators=500 ...................\n",
      "[CV]  max_features=5, max_depth=2, n_estimators=700, score=-0.02715576020257666, total=   1.4s\n",
      "[CV] max_features=6, max_depth=2, n_estimators=500 ...................\n",
      "[CV]  max_features=5, max_depth=2, n_estimators=700, score=-0.03953666975533207, total=   1.3s\n",
      "[CV] max_features=6, max_depth=2, n_estimators=500 ...................\n",
      "[CV]  max_features=6, max_depth=2, n_estimators=500, score=-0.027264088181271493, total=   1.0s\n",
      "[CV] max_features=6, max_depth=2, n_estimators=700 ...................\n",
      "[CV]  max_features=5, max_depth=2, n_estimators=700, score=-0.03273822253801014, total=   1.3s\n",
      "[CV] max_features=6, max_depth=2, n_estimators=700 ...................\n",
      "[CV]  max_features=5, max_depth=2, n_estimators=700, score=-0.03555762963896858, total=   1.3s\n",
      "[CV] max_features=6, max_depth=2, n_estimators=700 ...................\n",
      "[CV]  max_features=5, max_depth=2, n_estimators=700, score=-0.03058207508528811, total=   1.3s\n",
      "[CV] max_features=6, max_depth=2, n_estimators=700 ...................\n",
      "[CV]  max_features=6, max_depth=2, n_estimators=500, score=-0.03964316222393165, total=   1.0s\n",
      "[CV] max_features=6, max_depth=2, n_estimators=700 ...................\n",
      "[CV]  max_features=6, max_depth=2, n_estimators=500, score=-0.035691079795893164, total=   1.1s\n",
      "[CV] max_features=1, max_depth=3, n_estimators=500 ...................\n"
     ]
    },
    {
     "name": "stderr",
     "output_type": "stream",
     "text": [
      "[Parallel(n_jobs=-1)]: Done 112 tasks      | elapsed:   14.7s\n"
     ]
    },
    {
     "name": "stdout",
     "output_type": "stream",
     "text": [
      "[CV]  max_features=6, max_depth=2, n_estimators=500, score=-0.03274219465786189, total=   1.0s\n",
      "[CV] max_features=1, max_depth=3, n_estimators=500 ...................\n",
      "[CV]  max_features=6, max_depth=2, n_estimators=500, score=-0.03072772238849348, total=   1.0s\n",
      "[CV] max_features=1, max_depth=3, n_estimators=500 ...................\n",
      "[CV]  max_features=1, max_depth=3, n_estimators=500, score=-0.015090971996316897, total=   0.7s\n",
      "[CV] max_features=1, max_depth=3, n_estimators=500 ...................\n",
      "[CV]  max_features=6, max_depth=2, n_estimators=700, score=-0.027270736936034295, total=   1.4s\n",
      "[CV] max_features=1, max_depth=3, n_estimators=500 ...................\n",
      "[CV]  max_features=1, max_depth=3, n_estimators=500, score=-0.025168299292842675, total=   0.7s\n",
      "[CV] max_features=1, max_depth=3, n_estimators=700 ...................\n",
      "[CV]  max_features=6, max_depth=2, n_estimators=700, score=-0.0356976431768652, total=   1.4s\n",
      "[CV] max_features=1, max_depth=3, n_estimators=700 ...................\n",
      "[CV]  max_features=6, max_depth=2, n_estimators=700, score=-0.039729105954233894, total=   1.5s\n",
      "[CV] max_features=1, max_depth=3, n_estimators=700 ...................\n",
      "[CV]  max_features=1, max_depth=3, n_estimators=500, score=-0.02160467050654908, total=   0.7s\n",
      "[CV] max_features=1, max_depth=3, n_estimators=700 ...................\n",
      "[CV]  max_features=6, max_depth=2, n_estimators=700, score=-0.03268945197884309, total=   1.5s\n",
      "[CV] max_features=1, max_depth=3, n_estimators=700 ...................\n",
      "[CV]  max_features=6, max_depth=2, n_estimators=700, score=-0.030778349277431238, total=   1.5s\n",
      "[CV] max_features=2, max_depth=3, n_estimators=500 ...................\n",
      "[CV]  max_features=1, max_depth=3, n_estimators=500, score=-0.01891883565590802, total=   0.8s\n",
      "[CV] max_features=2, max_depth=3, n_estimators=500 ...................\n",
      "[CV]  max_features=1, max_depth=3, n_estimators=500, score=-0.019575374234431186, total=   0.8s\n",
      "[CV] max_features=2, max_depth=3, n_estimators=500 ...................\n",
      "[CV]  max_features=1, max_depth=3, n_estimators=700, score=-0.015128125098228211, total=   1.0s\n",
      "[CV] max_features=2, max_depth=3, n_estimators=500 ...................\n",
      "[CV]  max_features=2, max_depth=3, n_estimators=500, score=-0.014541646946834678, total=   0.8s\n",
      "[CV] max_features=2, max_depth=3, n_estimators=500 ...................\n",
      "[CV]  max_features=1, max_depth=3, n_estimators=700, score=-0.025158245791590195, total=   1.1s\n",
      "[CV] max_features=2, max_depth=3, n_estimators=700 ...................\n",
      "[CV]  max_features=1, max_depth=3, n_estimators=700, score=-0.02160395124160166, total=   1.1s\n",
      "[CV] max_features=2, max_depth=3, n_estimators=700 ...................\n",
      "[CV]  max_features=1, max_depth=3, n_estimators=700, score=-0.01955162237544481, total=   1.0s\n",
      "[CV] max_features=2, max_depth=3, n_estimators=700 ...................\n",
      "[CV]  max_features=1, max_depth=3, n_estimators=700, score=-0.018942554661626598, total=   1.1s\n",
      "[CV] max_features=2, max_depth=3, n_estimators=700 ...................\n",
      "[CV]  max_features=2, max_depth=3, n_estimators=500, score=-0.02464791235289148, total=   0.8s\n",
      "[CV] max_features=2, max_depth=3, n_estimators=700 ...................\n"
     ]
    },
    {
     "name": "stderr",
     "output_type": "stream",
     "text": [
      "[Parallel(n_jobs=-1)]: Done 129 tasks      | elapsed:   17.2s\n"
     ]
    },
    {
     "name": "stdout",
     "output_type": "stream",
     "text": [
      "[CV]  max_features=2, max_depth=3, n_estimators=500, score=-0.020724965237201333, total=   1.0s\n",
      "[CV] max_features=3, max_depth=3, n_estimators=500 ...................\n",
      "[CV]  max_features=2, max_depth=3, n_estimators=500, score=-0.017832827287065717, total=   0.8s\n",
      "[CV] max_features=3, max_depth=3, n_estimators=500 ...................\n",
      "[CV]  max_features=2, max_depth=3, n_estimators=500, score=-0.019290636858179666, total=   0.9s\n",
      "[CV] max_features=3, max_depth=3, n_estimators=500 ...................\n",
      "[CV]  max_features=2, max_depth=3, n_estimators=700, score=-0.02470970391340946, total=   1.1s\n",
      "[CV] max_features=3, max_depth=3, n_estimators=500 ...................\n",
      "[CV]  max_features=2, max_depth=3, n_estimators=700, score=-0.014531072939988352, total=   1.2s\n",
      "[CV] max_features=3, max_depth=3, n_estimators=500 ...................\n",
      "[CV]  max_features=2, max_depth=3, n_estimators=700, score=-0.020701525213275215, total=   1.1s\n",
      "[CV] max_features=3, max_depth=3, n_estimators=700 ...................\n",
      "[CV]  max_features=2, max_depth=3, n_estimators=700, score=-0.017852556535014545, total=   1.2s\n",
      "[CV] max_features=3, max_depth=3, n_estimators=700 ...................\n",
      "[CV]  max_features=2, max_depth=3, n_estimators=700, score=-0.019259211409162844, total=   1.1s\n",
      "[CV] max_features=3, max_depth=3, n_estimators=700 ...................\n",
      "[CV]  max_features=3, max_depth=3, n_estimators=500, score=-0.014463208314766203, total=   1.0s\n",
      "[CV] max_features=3, max_depth=3, n_estimators=700 ...................\n",
      "[CV]  max_features=3, max_depth=3, n_estimators=500, score=-0.024664662306786385, total=   0.9s\n",
      "[CV] max_features=3, max_depth=3, n_estimators=700 ...................\n",
      "[CV]  max_features=3, max_depth=3, n_estimators=500, score=-0.02053641446048941, total=   0.9s\n",
      "[CV] max_features=4, max_depth=3, n_estimators=500 ...................\n",
      "[CV]  max_features=3, max_depth=3, n_estimators=500, score=-0.017241502737871037, total=   0.9s\n",
      "[CV] max_features=4, max_depth=3, n_estimators=500 ...................\n",
      "[CV]  max_features=3, max_depth=3, n_estimators=500, score=-0.019134358151794737, total=   1.0s\n",
      "[CV] max_features=4, max_depth=3, n_estimators=500 ...................\n",
      "[CV]  max_features=3, max_depth=3, n_estimators=700, score=-0.014508714075408592, total=   1.3s\n",
      "[CV] max_features=4, max_depth=3, n_estimators=500 ...................\n",
      "[CV]  max_features=3, max_depth=3, n_estimators=700, score=-0.024662230221164934, total=   1.3s\n",
      "[CV] max_features=4, max_depth=3, n_estimators=500 ...................\n",
      "[CV]  max_features=3, max_depth=3, n_estimators=700, score=-0.020505986523309695, total=   1.3s\n",
      "[CV] max_features=4, max_depth=3, n_estimators=700 ...................\n"
     ]
    },
    {
     "name": "stderr",
     "output_type": "stream",
     "text": [
      "[Parallel(n_jobs=-1)]: Done 146 tasks      | elapsed:   19.8s\n"
     ]
    },
    {
     "name": "stdout",
     "output_type": "stream",
     "text": [
      "[CV]  max_features=4, max_depth=3, n_estimators=500, score=-0.014588995730357752, total=   1.0s\n",
      "[CV] max_features=4, max_depth=3, n_estimators=700 ...................\n",
      "[CV]  max_features=3, max_depth=3, n_estimators=700, score=-0.017273814724325428, total=   1.3s\n",
      "[CV] max_features=4, max_depth=3, n_estimators=700 ...................\n",
      "[CV]  max_features=3, max_depth=3, n_estimators=700, score=-0.019135005413096727, total=   1.4s\n",
      "[CV] max_features=4, max_depth=3, n_estimators=700 ...................\n",
      "[CV]  max_features=4, max_depth=3, n_estimators=500, score=-0.02463167108168122, total=   1.1s\n",
      "[CV] max_features=4, max_depth=3, n_estimators=700 ...................\n",
      "[CV]  max_features=4, max_depth=3, n_estimators=500, score=-0.020646802757628504, total=   1.0s\n",
      "[CV] max_features=5, max_depth=3, n_estimators=500 ...................\n",
      "[CV]  max_features=4, max_depth=3, n_estimators=500, score=-0.017011848853668902, total=   1.0s\n",
      "[CV] max_features=5, max_depth=3, n_estimators=500 ...................\n",
      "[CV]  max_features=4, max_depth=3, n_estimators=500, score=-0.019188592019226007, total=   1.0s\n",
      "[CV] max_features=5, max_depth=3, n_estimators=500 ...................\n",
      "[CV]  max_features=4, max_depth=3, n_estimators=700, score=-0.014539109094316407, total=   1.5s\n",
      "[CV] max_features=5, max_depth=3, n_estimators=500 ...................\n",
      "[CV]  max_features=4, max_depth=3, n_estimators=700, score=-0.024550188340451393, total=   1.4s\n",
      "[CV] max_features=5, max_depth=3, n_estimators=500 ...................\n",
      "[CV]  max_features=4, max_depth=3, n_estimators=700, score=-0.020636406011433524, total=   1.4s\n",
      "[CV] max_features=5, max_depth=3, n_estimators=700 ...................\n",
      "[CV]  max_features=5, max_depth=3, n_estimators=500, score=-0.01459066767776479, total=   1.2s\n",
      "[CV] max_features=5, max_depth=3, n_estimators=700 ...................\n",
      "[CV]  max_features=4, max_depth=3, n_estimators=700, score=-0.016969182051897472, total=   1.5s\n",
      "[CV] max_features=5, max_depth=3, n_estimators=700 ...................\n",
      "[CV]  max_features=5, max_depth=3, n_estimators=500, score=-0.024906931148052643, total=   1.1s\n",
      "[CV] max_features=5, max_depth=3, n_estimators=700 ...................\n",
      "[CV]  max_features=4, max_depth=3, n_estimators=700, score=-0.01911098239862513, total=   1.4s\n",
      "[CV] max_features=5, max_depth=3, n_estimators=700 ...................\n",
      "[CV]  max_features=5, max_depth=3, n_estimators=500, score=-0.02077020159231321, total=   1.1s\n",
      "[CV] max_features=6, max_depth=3, n_estimators=500 ...................\n",
      "[CV]  max_features=5, max_depth=3, n_estimators=500, score=-0.01685559612240075, total=   1.1s\n",
      "[CV] max_features=6, max_depth=3, n_estimators=500 ...................\n",
      "[CV]  max_features=5, max_depth=3, n_estimators=500, score=-0.019426837951212545, total=   1.1s\n",
      "[CV] max_features=6, max_depth=3, n_estimators=500 ...................\n"
     ]
    },
    {
     "name": "stderr",
     "output_type": "stream",
     "text": [
      "[Parallel(n_jobs=-1)]: Done 165 tasks      | elapsed:   22.8s\n"
     ]
    },
    {
     "name": "stdout",
     "output_type": "stream",
     "text": [
      "[CV]  max_features=6, max_depth=3, n_estimators=500, score=-0.014567130636779557, total=   1.2s\n",
      "[CV] max_features=6, max_depth=3, n_estimators=500 ...................\n",
      "[CV]  max_features=5, max_depth=3, n_estimators=700, score=-0.014585561535567832, total=   1.6s\n",
      "[CV] max_features=6, max_depth=3, n_estimators=500 ...................\n",
      "[CV]  max_features=5, max_depth=3, n_estimators=700, score=-0.02480025555818035, total=   1.6s\n",
      "[CV] max_features=6, max_depth=3, n_estimators=700 ...................\n",
      "[CV]  max_features=5, max_depth=3, n_estimators=700, score=-0.020767153172327506, total=   1.6s\n",
      "[CV] max_features=6, max_depth=3, n_estimators=700 ...................\n",
      "[CV]  max_features=5, max_depth=3, n_estimators=700, score=-0.016870078694835526, total=   1.6s\n",
      "[CV] max_features=6, max_depth=3, n_estimators=700 ...................\n",
      "[CV]  max_features=5, max_depth=3, n_estimators=700, score=-0.019378975499852007, total=   1.5s\n",
      "[CV] max_features=6, max_depth=3, n_estimators=700 ...................\n",
      "[CV]  max_features=6, max_depth=3, n_estimators=500, score=-0.025089828601466056, total=   1.2s\n",
      "[CV] max_features=6, max_depth=3, n_estimators=700 ...................\n",
      "[CV]  max_features=6, max_depth=3, n_estimators=500, score=-0.0206642341311923, total=   1.2s\n",
      "[CV] max_features=1, max_depth=4, n_estimators=500 ...................\n",
      "[CV]  max_features=6, max_depth=3, n_estimators=500, score=-0.01689896003329734, total=   1.2s\n",
      "[CV]  max_features=6, max_depth=3, n_estimators=500, score=-0.019485262338352318, total=   1.2s\n",
      "[CV] max_features=1, max_depth=4, n_estimators=500 ...................\n",
      "[CV] max_features=1, max_depth=4, n_estimators=500 ...................\n",
      "[CV]  max_features=1, max_depth=4, n_estimators=500, score=-0.012441394909956566, total=   0.8s\n",
      "[CV] max_features=1, max_depth=4, n_estimators=500 ...................\n",
      "[CV]  max_features=6, max_depth=3, n_estimators=700, score=-0.01456670963101214, total=   1.7s\n",
      "[CV] max_features=1, max_depth=4, n_estimators=500 ...................\n",
      "[CV]  max_features=6, max_depth=3, n_estimators=700, score=-0.025006660524590336, total=   1.7s\n",
      "[CV] max_features=1, max_depth=4, n_estimators=700 ...................\n",
      "[CV]  max_features=6, max_depth=3, n_estimators=700, score=-0.016888911314299742, total=   1.7s\n",
      "[CV] max_features=1, max_depth=4, n_estimators=700 ...................\n",
      "[CV]  max_features=1, max_depth=4, n_estimators=500, score=-0.018160511418373063, total=   0.8s\n",
      "[CV] max_features=1, max_depth=4, n_estimators=700 ...................\n",
      "[CV]  max_features=6, max_depth=3, n_estimators=700, score=-0.020663237106712605, total=   1.7s\n",
      "[CV] max_features=1, max_depth=4, n_estimators=700 ...................\n",
      "[CV]  max_features=1, max_depth=4, n_estimators=500, score=-0.02057153466045516, total=   0.9s\n",
      "[CV] max_features=1, max_depth=4, n_estimators=700 ...................\n",
      "[CV]  max_features=1, max_depth=4, n_estimators=500, score=-0.014415882165288295, total=   0.8s\n",
      "[CV] max_features=2, max_depth=4, n_estimators=500 ...................\n",
      "[CV]  max_features=6, max_depth=3, n_estimators=700, score=-0.01950209297171655, total=   1.7s\n",
      "[CV] max_features=2, max_depth=4, n_estimators=500 ...................\n"
     ]
    },
    {
     "name": "stderr",
     "output_type": "stream",
     "text": [
      "[Parallel(n_jobs=-1)]: Done 184 tasks      | elapsed:   25.8s\n"
     ]
    },
    {
     "name": "stdout",
     "output_type": "stream",
     "text": [
      "[CV]  max_features=1, max_depth=4, n_estimators=500, score=-0.016034252034806105, total=   0.8s\n",
      "[CV] max_features=2, max_depth=4, n_estimators=500 ...................\n",
      "[CV]  max_features=1, max_depth=4, n_estimators=700, score=-0.012479318079708885, total=   1.1s\n",
      "[CV] max_features=2, max_depth=4, n_estimators=500 ...................\n",
      "[CV]  max_features=2, max_depth=4, n_estimators=500, score=-0.012079722282983298, total=   0.9s\n",
      "[CV] max_features=2, max_depth=4, n_estimators=500 ...................\n",
      "[CV]  max_features=1, max_depth=4, n_estimators=700, score=-0.01818354697462436, total=   1.2s\n",
      "[CV] max_features=2, max_depth=4, n_estimators=700 ...................\n",
      "[CV]  max_features=1, max_depth=4, n_estimators=700, score=-0.020656480861414434, total=   1.2s\n",
      "[CV] max_features=2, max_depth=4, n_estimators=700 ...................\n",
      "[CV]  max_features=1, max_depth=4, n_estimators=700, score=-0.014391281398851426, total=   1.2s\n",
      "[CV] max_features=2, max_depth=4, n_estimators=700 ...................\n",
      "[CV]  max_features=2, max_depth=4, n_estimators=500, score=-0.019948801752522106, total=   0.9s\n",
      "[CV] max_features=2, max_depth=4, n_estimators=700 ...................\n",
      "[CV]  max_features=1, max_depth=4, n_estimators=700, score=-0.016084770795140806, total=   1.2s\n",
      "[CV] max_features=2, max_depth=4, n_estimators=700 ...................\n",
      "[CV]  max_features=2, max_depth=4, n_estimators=500, score=-0.017500637809376288, total=   0.9s\n",
      "[CV] max_features=3, max_depth=4, n_estimators=500 ...................\n",
      "[CV]  max_features=2, max_depth=4, n_estimators=500, score=-0.013435180537790067, total=   1.0s\n",
      "[CV] max_features=3, max_depth=4, n_estimators=500 ...................\n",
      "[CV]  max_features=2, max_depth=4, n_estimators=500, score=-0.015408238619288256, total=   0.9s\n",
      "[CV] max_features=3, max_depth=4, n_estimators=500 ...................\n",
      "[CV]  max_features=2, max_depth=4, n_estimators=700, score=-0.012123360473571687, total=   1.2s\n",
      "[CV] max_features=3, max_depth=4, n_estimators=500 ...................\n",
      "[CV]  max_features=2, max_depth=4, n_estimators=700, score=-0.019941477542279706, total=   1.2s\n",
      "[CV] max_features=3, max_depth=4, n_estimators=500 ...................\n",
      "[CV]  max_features=2, max_depth=4, n_estimators=700, score=-0.017478540385742872, total=   1.3s\n",
      "[CV]  max_features=2, max_depth=4, n_estimators=700, score=-0.013443732751073278, total=   1.3s\n",
      "[CV] max_features=3, max_depth=4, n_estimators=700 ...................\n",
      "[CV] max_features=3, max_depth=4, n_estimators=700 ...................\n",
      "[CV]  max_features=2, max_depth=4, n_estimators=700, score=-0.015473949985914552, total=   1.3s\n",
      "[CV] max_features=3, max_depth=4, n_estimators=700 ...................\n",
      "[CV]  max_features=3, max_depth=4, n_estimators=500, score=-0.012214337450391327, total=   1.1s\n",
      "[CV] max_features=3, max_depth=4, n_estimators=700 ...................\n",
      "[CV]  max_features=3, max_depth=4, n_estimators=500, score=-0.019678708038569036, total=   1.1s\n",
      "[CV] max_features=3, max_depth=4, n_estimators=700 ...................\n",
      "[CV]  max_features=3, max_depth=4, n_estimators=500, score=-0.01727006641106648, total=   1.1s\n",
      "[CV] max_features=4, max_depth=4, n_estimators=500 ...................\n",
      "[CV]  max_features=3, max_depth=4, n_estimators=500, score=-0.013250224621522902, total=   1.0s\n",
      "[CV] max_features=4, max_depth=4, n_estimators=500 ...................\n",
      "[CV]  max_features=3, max_depth=4, n_estimators=500, score=-0.015330006911547598, total=   1.0s\n",
      "[CV] max_features=4, max_depth=4, n_estimators=500 ...................\n"
     ]
    },
    {
     "name": "stderr",
     "output_type": "stream",
     "text": [
      "[Parallel(n_jobs=-1)]: Done 205 tasks      | elapsed:   29.2s\n"
     ]
    },
    {
     "name": "stdout",
     "output_type": "stream",
     "text": [
      "[CV]  max_features=3, max_depth=4, n_estimators=700, score=-0.019711796270773536, total=   1.5s\n",
      "[CV] max_features=4, max_depth=4, n_estimators=500 ...................\n",
      "[CV]  max_features=3, max_depth=4, n_estimators=700, score=-0.0122182643121503, total=   1.5s\n",
      "[CV] max_features=4, max_depth=4, n_estimators=500 ...................\n",
      "[CV]  max_features=3, max_depth=4, n_estimators=700, score=-0.013252829289656992, total=   1.5s\n",
      "[CV] max_features=4, max_depth=4, n_estimators=700 ...................\n",
      "[CV]  max_features=3, max_depth=4, n_estimators=700, score=-0.01728046315909192, total=   1.5s\n",
      "[CV] max_features=4, max_depth=4, n_estimators=700 ...................\n",
      "[CV]  max_features=4, max_depth=4, n_estimators=500, score=-0.012354206243191317, total=   1.2s\n",
      "[CV] max_features=4, max_depth=4, n_estimators=700 ...................\n",
      "[CV]  max_features=3, max_depth=4, n_estimators=700, score=-0.015303206303406957, total=   1.4s\n",
      "[CV] max_features=4, max_depth=4, n_estimators=700 ...................\n",
      "[CV]  max_features=4, max_depth=4, n_estimators=500, score=-0.01722764834244037, total=   1.1s\n",
      "[CV]  max_features=4, max_depth=4, n_estimators=500, score=-0.019815583977817047, total=   1.2s\n",
      "[CV] max_features=4, max_depth=4, n_estimators=700 ...................\n",
      "[CV] max_features=5, max_depth=4, n_estimators=500 ...................\n",
      "[CV]  max_features=4, max_depth=4, n_estimators=500, score=-0.013249298105549432, total=   1.2s\n",
      "[CV] max_features=5, max_depth=4, n_estimators=500 ...................\n",
      "[CV]  max_features=4, max_depth=4, n_estimators=500, score=-0.015314297260215078, total=   1.3s\n",
      "[CV] max_features=5, max_depth=4, n_estimators=500 ...................\n",
      "[CV]  max_features=4, max_depth=4, n_estimators=700, score=-0.012353683896141833, total=   1.6s\n",
      "[CV] max_features=5, max_depth=4, n_estimators=500 ...................\n",
      "[CV]  max_features=4, max_depth=4, n_estimators=700, score=-0.019819509151305773, total=   1.6s\n",
      "[CV] max_features=5, max_depth=4, n_estimators=500 ...................\n",
      "[CV]  max_features=5, max_depth=4, n_estimators=500, score=-0.012383939870803459, total=   1.3s\n",
      "[CV] max_features=5, max_depth=4, n_estimators=700 ...................\n",
      "[CV]  max_features=4, max_depth=4, n_estimators=700, score=-0.01722628944358822, total=   1.7s\n",
      "[CV] max_features=5, max_depth=4, n_estimators=700 ...................\n",
      "[CV]  max_features=4, max_depth=4, n_estimators=700, score=-0.0152470562776526, total=   1.6s\n",
      "[CV] max_features=5, max_depth=4, n_estimators=700 ...................\n",
      "[CV]  max_features=4, max_depth=4, n_estimators=700, score=-0.013223316166376538, total=   1.6s\n",
      "[CV] max_features=5, max_depth=4, n_estimators=700 ...................\n",
      "[CV]  max_features=5, max_depth=4, n_estimators=500, score=-0.019937064570151413, total=   1.3s\n",
      "[CV] max_features=5, max_depth=4, n_estimators=700 ...................\n",
      "[CV]  max_features=5, max_depth=4, n_estimators=500, score=-0.01719096629492931, total=   1.3s\n",
      "[CV] max_features=6, max_depth=4, n_estimators=500 ...................\n",
      "[CV]  max_features=5, max_depth=4, n_estimators=500, score=-0.013242686997654253, total=   1.3s\n",
      "[CV] max_features=6, max_depth=4, n_estimators=500 ...................\n",
      "[CV]  max_features=5, max_depth=4, n_estimators=500, score=-0.015245331217869851, total=   1.3s\n",
      "[CV] max_features=6, max_depth=4, n_estimators=500 ...................\n",
      "[CV]  max_features=5, max_depth=4, n_estimators=700, score=-0.01236956321054301, total=   1.8s\n",
      "[CV] max_features=6, max_depth=4, n_estimators=500 ...................\n",
      "[CV]  max_features=5, max_depth=4, n_estimators=700, score=-0.019929745211738712, total=   1.8s\n",
      "[CV] max_features=6, max_depth=4, n_estimators=500 ...................\n"
     ]
    },
    {
     "name": "stderr",
     "output_type": "stream",
     "text": [
      "[Parallel(n_jobs=-1)]: Done 226 tasks      | elapsed:   33.6s\n"
     ]
    },
    {
     "name": "stdout",
     "output_type": "stream",
     "text": [
      "[CV]  max_features=5, max_depth=4, n_estimators=700, score=-0.01722154437829732, total=   1.7s\n",
      "[CV] max_features=6, max_depth=4, n_estimators=700 ...................\n",
      "[CV]  max_features=5, max_depth=4, n_estimators=700, score=-0.01325645695254618, total=   1.7s\n",
      "[CV] max_features=6, max_depth=4, n_estimators=700 ...................\n",
      "[CV]  max_features=6, max_depth=4, n_estimators=500, score=-0.012463764393585694, total=   1.4s\n",
      "[CV] max_features=6, max_depth=4, n_estimators=700 ...................\n",
      "[CV]  max_features=5, max_depth=4, n_estimators=700, score=-0.015266719718406211, total=   1.8s\n",
      "[CV] max_features=6, max_depth=4, n_estimators=700 ...................\n",
      "[CV]  max_features=6, max_depth=4, n_estimators=500, score=-0.017222588820783383, total=   1.4s\n",
      "[CV] max_features=6, max_depth=4, n_estimators=700 ...................\n",
      "[CV]  max_features=6, max_depth=4, n_estimators=500, score=-0.020026370100877045, total=   1.4s\n",
      "[CV] max_features=1, max_depth=5, n_estimators=500 ...................\n",
      "[CV]  max_features=6, max_depth=4, n_estimators=500, score=-0.013283796110765897, total=   1.4s\n",
      "[CV] max_features=1, max_depth=5, n_estimators=500 ...................\n",
      "[CV]  max_features=6, max_depth=4, n_estimators=500, score=-0.015363465365764896, total=   1.4s\n",
      "[CV] max_features=1, max_depth=5, n_estimators=500 ...................\n",
      "[CV]  max_features=1, max_depth=5, n_estimators=500, score=-0.01293875226523755, total=   0.8s\n",
      "[CV] max_features=1, max_depth=5, n_estimators=500 ...................\n",
      "[CV]  max_features=6, max_depth=4, n_estimators=700, score=-0.01243203944263225, total=   1.9s\n",
      "[CV] max_features=1, max_depth=5, n_estimators=500 ...................\n",
      "[CV]  max_features=6, max_depth=4, n_estimators=700, score=-0.019982373097188203, total=   1.9s\n",
      "[CV] max_features=1, max_depth=5, n_estimators=700 ...................\n",
      "[CV]  max_features=6, max_depth=4, n_estimators=700, score=-0.01720959241611244, total=   1.9s\n",
      "[CV] max_features=1, max_depth=5, n_estimators=700 ...................\n",
      "[CV]  max_features=1, max_depth=5, n_estimators=500, score=-0.01868767142811796, total=   0.8s\n",
      "[CV] max_features=1, max_depth=5, n_estimators=700 ...................\n",
      "[CV]  max_features=1, max_depth=5, n_estimators=500, score=-0.017375734094801396, total=   0.9s\n",
      "[CV] max_features=1, max_depth=5, n_estimators=700 ...................\n",
      "[CV]  max_features=6, max_depth=4, n_estimators=700, score=-0.013297195977561006, total=   2.0s\n",
      "[CV] max_features=1, max_depth=5, n_estimators=700 ...................\n",
      "[CV]  max_features=1, max_depth=5, n_estimators=500, score=-0.012315725157120528, total=   0.8s\n",
      "[CV] max_features=2, max_depth=5, n_estimators=500 ...................\n",
      "[CV]  max_features=6, max_depth=4, n_estimators=700, score=-0.015358327038992686, total=   2.0s\n",
      "[CV] max_features=2, max_depth=5, n_estimators=500 ...................\n",
      "[CV]  max_features=1, max_depth=5, n_estimators=500, score=-0.015348781484895534, total=   0.8s\n",
      "[CV] max_features=2, max_depth=5, n_estimators=500 ...................\n",
      "[CV]  max_features=1, max_depth=5, n_estimators=700, score=-0.01295015969964113, total=   1.2s\n",
      "[CV] max_features=2, max_depth=5, n_estimators=500 ...................\n",
      "[CV]  max_features=1, max_depth=5, n_estimators=700, score=-0.018740218723948553, total=   1.2s\n",
      "[CV] max_features=2, max_depth=5, n_estimators=500 ...................\n",
      "[CV]  max_features=1, max_depth=5, n_estimators=700, score=-0.017400824897963737, total=   1.2s\n",
      "[CV] max_features=2, max_depth=5, n_estimators=700 ...................\n",
      "[CV]  max_features=2, max_depth=5, n_estimators=500, score=-0.012829990492498255, total=   1.0s\n",
      "[CV] max_features=2, max_depth=5, n_estimators=700 ...................\n",
      "[CV]  max_features=1, max_depth=5, n_estimators=700, score=-0.012340507100949763, total=   1.2s\n",
      "[CV] max_features=2, max_depth=5, n_estimators=700 ...................\n",
      "[CV]  max_features=1, max_depth=5, n_estimators=700, score=-0.015314524336511358, total=   1.2s\n",
      "[CV] max_features=2, max_depth=5, n_estimators=700 ...................\n"
     ]
    },
    {
     "name": "stderr",
     "output_type": "stream",
     "text": [
      "[Parallel(n_jobs=-1)]: Done 249 tasks      | elapsed:   37.3s\n"
     ]
    },
    {
     "name": "stdout",
     "output_type": "stream",
     "text": [
      "[CV]  max_features=2, max_depth=5, n_estimators=500, score=-0.01867898741910961, total=   1.0s\n",
      "[CV] max_features=2, max_depth=5, n_estimators=700 ...................\n",
      "[CV]  max_features=2, max_depth=5, n_estimators=500, score=-0.01727308832832615, total=   1.0s\n",
      "[CV] max_features=3, max_depth=5, n_estimators=500 ...................\n",
      "[CV]  max_features=2, max_depth=5, n_estimators=500, score=-0.011705833339167214, total=   1.0s\n",
      "[CV] max_features=3, max_depth=5, n_estimators=500 ...................\n",
      "[CV]  max_features=2, max_depth=5, n_estimators=500, score=-0.015386791105986243, total=   1.0s\n",
      "[CV] max_features=3, max_depth=5, n_estimators=500 ...................\n",
      "[CV]  max_features=2, max_depth=5, n_estimators=700, score=-0.012859295871348455, total=   1.3s\n",
      "[CV] max_features=3, max_depth=5, n_estimators=500 ...................\n",
      "[CV]  max_features=2, max_depth=5, n_estimators=700, score=-0.017194591763394867, total=   1.4s\n",
      "[CV] max_features=3, max_depth=5, n_estimators=500 ...................\n",
      "[CV]  max_features=2, max_depth=5, n_estimators=700, score=-0.01873039483667097, total=   1.5s\n",
      "[CV] max_features=3, max_depth=5, n_estimators=700 ...................\n",
      "[CV]  max_features=2, max_depth=5, n_estimators=700, score=-0.011731801688080381, total=   1.4s\n",
      "[CV] max_features=3, max_depth=5, n_estimators=700 ...................\n",
      "[CV]  max_features=3, max_depth=5, n_estimators=500, score=-0.012992870850769223, total=   1.1s\n",
      "[CV] max_features=3, max_depth=5, n_estimators=700 ...................\n",
      "[CV]  max_features=2, max_depth=5, n_estimators=700, score=-0.015396109931350259, total=   1.4s\n",
      "[CV] max_features=3, max_depth=5, n_estimators=700 ...................\n",
      "[CV]  max_features=3, max_depth=5, n_estimators=500, score=-0.018531644680827353, total=   1.1s\n",
      "[CV] max_features=3, max_depth=5, n_estimators=700 ...................\n",
      "[CV]  max_features=3, max_depth=5, n_estimators=500, score=-0.017149300129116588, total=   1.1s\n",
      "[CV] max_features=4, max_depth=5, n_estimators=500 ...................\n",
      "[CV]  max_features=3, max_depth=5, n_estimators=500, score=-0.011649523042162001, total=   1.1s\n",
      "[CV] max_features=4, max_depth=5, n_estimators=500 ...................\n",
      "[CV]  max_features=3, max_depth=5, n_estimators=500, score=-0.01525950937366007, total=   1.1s\n",
      "[CV] max_features=4, max_depth=5, n_estimators=500 ...................\n",
      "[CV]  max_features=3, max_depth=5, n_estimators=700, score=-0.018517071062139474, total=   1.5s\n",
      "[CV] max_features=4, max_depth=5, n_estimators=500 ...................\n",
      "[CV]  max_features=3, max_depth=5, n_estimators=700, score=-0.017143400650615804, total=   1.6s\n",
      "[CV] max_features=4, max_depth=5, n_estimators=500 ...................\n",
      "[CV]  max_features=3, max_depth=5, n_estimators=700, score=-0.012979706505969997, total=   1.7s\n",
      "[CV] max_features=4, max_depth=5, n_estimators=700 ...................\n",
      "[CV]  max_features=4, max_depth=5, n_estimators=500, score=-0.013169775817827852, total=   1.2s\n",
      "[CV] max_features=4, max_depth=5, n_estimators=700 ...................\n",
      "[CV]  max_features=3, max_depth=5, n_estimators=700, score=-0.011688647335397914, total=   1.6s\n",
      "[CV] max_features=4, max_depth=5, n_estimators=700 ...................\n",
      "[CV]  max_features=3, max_depth=5, n_estimators=700, score=-0.015174450062684572, total=   1.5s\n",
      "[CV] max_features=4, max_depth=5, n_estimators=700 ...................\n",
      "[CV]  max_features=4, max_depth=5, n_estimators=500, score=-0.018563346008825168, total=   1.2s\n",
      "[CV] max_features=4, max_depth=5, n_estimators=700 ...................\n",
      "[CV]  max_features=4, max_depth=5, n_estimators=500, score=-0.017143746749687758, total=   1.2s\n",
      "[CV] max_features=5, max_depth=5, n_estimators=500 ...................\n"
     ]
    },
    {
     "name": "stderr",
     "output_type": "stream",
     "text": [
      "[Parallel(n_jobs=-1)]: Done 272 tasks      | elapsed:   41.2s\n"
     ]
    },
    {
     "name": "stdout",
     "output_type": "stream",
     "text": [
      "[CV]  max_features=4, max_depth=5, n_estimators=500, score=-0.011713544473644253, total=   1.2s\n",
      "[CV] max_features=5, max_depth=5, n_estimators=500 ...................\n",
      "[CV]  max_features=4, max_depth=5, n_estimators=500, score=-0.015226455616395875, total=   1.3s\n",
      "[CV] max_features=5, max_depth=5, n_estimators=500 ...................\n",
      "[CV]  max_features=4, max_depth=5, n_estimators=700, score=-0.01856876032431822, total=   1.7s\n",
      "[CV] max_features=5, max_depth=5, n_estimators=500 ...................\n",
      "[CV]  max_features=4, max_depth=5, n_estimators=700, score=-0.013161530732717315, total=   1.9s\n",
      "[CV] max_features=5, max_depth=5, n_estimators=500 ...................\n",
      "[CV]  max_features=4, max_depth=5, n_estimators=700, score=-0.01716503658316673, total=   1.7s\n",
      "[CV] max_features=5, max_depth=5, n_estimators=700 ...................\n",
      "[CV]  max_features=4, max_depth=5, n_estimators=700, score=-0.011679911973253455, total=   1.7s\n",
      "[CV]  max_features=5, max_depth=5, n_estimators=500, score=-0.013243336437230975, total=   1.4s\n",
      "[CV] max_features=5, max_depth=5, n_estimators=700 ...................\n",
      "[CV] max_features=5, max_depth=5, n_estimators=700 ...................\n",
      "[CV]  max_features=4, max_depth=5, n_estimators=700, score=-0.015157517697883502, total=   1.8s\n",
      "[CV] max_features=5, max_depth=5, n_estimators=700 ...................\n",
      "[CV]  max_features=5, max_depth=5, n_estimators=500, score=-0.01879864638965795, total=   1.4s\n",
      "[CV] max_features=5, max_depth=5, n_estimators=700 ...................\n",
      "[CV]  max_features=5, max_depth=5, n_estimators=500, score=-0.017194049769176406, total=   1.4s\n",
      "[CV] max_features=6, max_depth=5, n_estimators=500 ...................\n",
      "[CV]  max_features=5, max_depth=5, n_estimators=500, score=-0.011669540868588688, total=   1.4s\n",
      "[CV] max_features=6, max_depth=5, n_estimators=500 ...................\n",
      "[CV]  max_features=5, max_depth=5, n_estimators=500, score=-0.015401571613829669, total=   1.4s\n",
      "[CV] max_features=6, max_depth=5, n_estimators=500 ...................\n",
      "[CV]  max_features=5, max_depth=5, n_estimators=700, score=-0.013211972773886027, total=   1.9s\n",
      "[CV] max_features=6, max_depth=5, n_estimators=500 ...................\n",
      "[CV]  max_features=5, max_depth=5, n_estimators=700, score=-0.017202428134965267, total=   2.0s\n",
      "[CV] max_features=6, max_depth=5, n_estimators=500 ...................\n",
      "[CV]  max_features=5, max_depth=5, n_estimators=700, score=-0.018785647078944253, total=   2.0s\n",
      "[CV] max_features=6, max_depth=5, n_estimators=700 ...................\n",
      "[CV]  max_features=6, max_depth=5, n_estimators=500, score=-0.013292238771215608, total=   1.5s\n",
      "[CV] max_features=6, max_depth=5, n_estimators=700 ...................\n",
      "[CV]  max_features=5, max_depth=5, n_estimators=700, score=-0.011669506017313263, total=   1.9s\n",
      "[CV] max_features=6, max_depth=5, n_estimators=700 ...................\n",
      "[CV]  max_features=5, max_depth=5, n_estimators=700, score=-0.015356204201985375, total=   1.9s\n",
      "[CV] max_features=6, max_depth=5, n_estimators=700 ...................\n",
      "[CV]  max_features=6, max_depth=5, n_estimators=500, score=-0.018850253724990402, total=   1.6s\n",
      "[CV] max_features=6, max_depth=5, n_estimators=700 ...................\n",
      "[CV]  max_features=6, max_depth=5, n_estimators=500, score=-0.01715188012098227, total=   1.5s\n",
      "[CV] max_features=1, max_depth=6, n_estimators=500 ...................\n",
      "[CV]  max_features=6, max_depth=5, n_estimators=500, score=-0.01179917901316253, total=   1.5s\n",
      "[CV] max_features=1, max_depth=6, n_estimators=500 ...................\n",
      "[CV]  max_features=6, max_depth=5, n_estimators=500, score=-0.015418818339482809, total=   1.6s\n",
      "[CV] max_features=1, max_depth=6, n_estimators=500 ...................\n",
      "[CV]  max_features=1, max_depth=6, n_estimators=500, score=-0.013247056245304525, total=   0.9s\n",
      "[CV] max_features=1, max_depth=6, n_estimators=500 ...................\n",
      "[CV]  max_features=6, max_depth=5, n_estimators=700, score=-0.013238703901227182, total=   2.1s\n",
      "[CV] max_features=1, max_depth=6, n_estimators=500 ...................\n",
      "[CV]  max_features=6, max_depth=5, n_estimators=700, score=-0.018851016675023813, total=   2.1s\n",
      "[CV] max_features=1, max_depth=6, n_estimators=700 ...................\n",
      "[CV]  max_features=1, max_depth=6, n_estimators=500, score=-0.01837607475810959, total=   0.8s\n",
      "[CV] max_features=1, max_depth=6, n_estimators=700 ...................\n"
     ]
    },
    {
     "name": "stderr",
     "output_type": "stream",
     "text": [
      "[Parallel(n_jobs=-1)]: Done 297 tasks      | elapsed:   47.2s\n"
     ]
    },
    {
     "name": "stdout",
     "output_type": "stream",
     "text": [
      "[CV]  max_features=6, max_depth=5, n_estimators=700, score=-0.017155056673121456, total=   2.2s\n",
      "[CV] max_features=1, max_depth=6, n_estimators=700 ...................\n",
      "[CV]  max_features=1, max_depth=6, n_estimators=500, score=-0.01736472426768525, total=   0.9s\n",
      "[CV] max_features=1, max_depth=6, n_estimators=700 ...................\n",
      "[CV]  max_features=6, max_depth=5, n_estimators=700, score=-0.011806598075960191, total=   2.1s\n",
      "[CV] max_features=1, max_depth=6, n_estimators=700 ...................\n",
      "[CV]  max_features=1, max_depth=6, n_estimators=500, score=-0.011792782067315797, total=   0.9s\n",
      "[CV] max_features=2, max_depth=6, n_estimators=500 ...................\n",
      "[CV]  max_features=6, max_depth=5, n_estimators=700, score=-0.015350194804610782, total=   2.1s\n",
      "[CV] max_features=2, max_depth=6, n_estimators=500 ...................\n",
      "[CV]  max_features=1, max_depth=6, n_estimators=500, score=-0.015639063923508712, total=   0.9s\n",
      "[CV] max_features=2, max_depth=6, n_estimators=500 ...................\n",
      "[CV]  max_features=1, max_depth=6, n_estimators=700, score=-0.013242524610310063, total=   1.2s\n",
      "[CV] max_features=2, max_depth=6, n_estimators=500 ...................\n",
      "[CV]  max_features=1, max_depth=6, n_estimators=700, score=-0.01841031889105897, total=   1.2s\n",
      "[CV] max_features=2, max_depth=6, n_estimators=500 ...................\n",
      "[CV]  max_features=2, max_depth=6, n_estimators=500, score=-0.013320649878523952, total=   1.0s\n",
      "[CV] max_features=2, max_depth=6, n_estimators=700 ...................\n",
      "[CV]  max_features=1, max_depth=6, n_estimators=700, score=-0.017333382719326874, total=   1.3s\n",
      "[CV] max_features=2, max_depth=6, n_estimators=700 ...................\n",
      "[CV]  max_features=1, max_depth=6, n_estimators=700, score=-0.01564954093813885, total=   1.2s\n",
      "[CV]  max_features=1, max_depth=6, n_estimators=700, score=-0.011868692728093369, total=   1.2s\n",
      "[CV] max_features=2, max_depth=6, n_estimators=700 ...................\n",
      "[CV] max_features=2, max_depth=6, n_estimators=700 ...................\n",
      "[CV]  max_features=2, max_depth=6, n_estimators=500, score=-0.018464492782410375, total=   1.1s\n",
      "[CV] max_features=2, max_depth=6, n_estimators=700 ...................\n",
      "[CV]  max_features=2, max_depth=6, n_estimators=500, score=-0.017189549624256024, total=   1.0s\n",
      "[CV] max_features=3, max_depth=6, n_estimators=500 ...................\n",
      "[CV]  max_features=2, max_depth=6, n_estimators=500, score=-0.011639932599997276, total=   1.0s\n",
      "[CV] max_features=3, max_depth=6, n_estimators=500 ...................\n",
      "[CV]  max_features=2, max_depth=6, n_estimators=500, score=-0.01536480758526321, total=   1.0s\n",
      "[CV] max_features=3, max_depth=6, n_estimators=500 ...................\n",
      "[CV]  max_features=2, max_depth=6, n_estimators=700, score=-0.013331442217564247, total=   1.5s\n",
      "[CV] max_features=3, max_depth=6, n_estimators=500 ...................\n",
      "[CV]  max_features=2, max_depth=6, n_estimators=700, score=-0.018451762660339304, total=   1.4s\n",
      "[CV]  max_features=2, max_depth=6, n_estimators=700, score=-0.017145944052406676, total=   1.4s\n",
      "[CV] max_features=3, max_depth=6, n_estimators=500 ...................\n",
      "[CV] max_features=3, max_depth=6, n_estimators=700 ...................\n",
      "[CV]  max_features=2, max_depth=6, n_estimators=700, score=-0.011661523388177745, total=   1.4s\n",
      "[CV] max_features=3, max_depth=6, n_estimators=700 ...................\n",
      "[CV]  max_features=3, max_depth=6, n_estimators=500, score=-0.013393739414292167, total=   1.2s\n",
      "[CV] max_features=3, max_depth=6, n_estimators=700 ...................\n",
      "[CV]  max_features=2, max_depth=6, n_estimators=700, score=-0.015395844200475359, total=   1.5s\n",
      "[CV] max_features=3, max_depth=6, n_estimators=700 ...................\n",
      "[CV]  max_features=3, max_depth=6, n_estimators=500, score=-0.018475421086643337, total=   1.2s\n",
      "[CV] max_features=3, max_depth=6, n_estimators=700 ...................\n",
      "[CV]  max_features=3, max_depth=6, n_estimators=500, score=-0.01703744240534937, total=   1.2s\n",
      "[CV] max_features=4, max_depth=6, n_estimators=500 ...................\n"
     ]
    },
    {
     "name": "stderr",
     "output_type": "stream",
     "text": [
      "[Parallel(n_jobs=-1)]: Done 322 tasks      | elapsed:   50.9s\n"
     ]
    },
    {
     "name": "stdout",
     "output_type": "stream",
     "text": [
      "[CV]  max_features=3, max_depth=6, n_estimators=500, score=-0.011588299287186339, total=   1.2s\n",
      "[CV] max_features=4, max_depth=6, n_estimators=500 ...................\n",
      "[CV]  max_features=3, max_depth=6, n_estimators=500, score=-0.015314167364458342, total=   1.2s\n",
      "[CV] max_features=4, max_depth=6, n_estimators=500 ...................\n",
      "[CV]  max_features=3, max_depth=6, n_estimators=700, score=-0.018495925841885835, total=   1.7s\n",
      "[CV] max_features=4, max_depth=6, n_estimators=500 ...................\n",
      "[CV]  max_features=3, max_depth=6, n_estimators=700, score=-0.013395565221161093, total=   1.7s\n",
      "[CV] max_features=4, max_depth=6, n_estimators=500 ...................\n",
      "[CV]  max_features=3, max_depth=6, n_estimators=700, score=-0.017000715698102933, total=   1.7s\n",
      "[CV] max_features=4, max_depth=6, n_estimators=700 ...................\n",
      "[CV]  max_features=4, max_depth=6, n_estimators=500, score=-0.01374551637799655, total=   1.4s\n",
      "[CV] max_features=4, max_depth=6, n_estimators=700 ...................\n",
      "[CV]  max_features=3, max_depth=6, n_estimators=700, score=-0.011610559696716186, total=   1.6s\n",
      "[CV] max_features=4, max_depth=6, n_estimators=700 ...................\n",
      "[CV]  max_features=3, max_depth=6, n_estimators=700, score=-0.015355080137831429, total=   1.7s\n",
      "[CV] max_features=4, max_depth=6, n_estimators=700 ...................\n",
      "[CV]  max_features=4, max_depth=6, n_estimators=500, score=-0.01866351931299686, total=   1.3s\n",
      "[CV] max_features=4, max_depth=6, n_estimators=700 ...................\n",
      "[CV]  max_features=4, max_depth=6, n_estimators=500, score=-0.01703981896161375, total=   1.3s\n",
      "[CV] max_features=5, max_depth=6, n_estimators=500 ...................\n",
      "[CV]  max_features=4, max_depth=6, n_estimators=500, score=-0.011697532627522619, total=   1.4s\n",
      "[CV] max_features=5, max_depth=6, n_estimators=500 ...................\n",
      "[CV]  max_features=4, max_depth=6, n_estimators=500, score=-0.015347837797664354, total=   1.4s\n",
      "[CV] max_features=5, max_depth=6, n_estimators=500 ...................\n",
      "[CV]  max_features=4, max_depth=6, n_estimators=700, score=-0.013784569142434146, total=   2.0s\n",
      "[CV] max_features=5, max_depth=6, n_estimators=500 ...................\n",
      "[CV]  max_features=4, max_depth=6, n_estimators=700, score=-0.01861920648912033, total=   1.9s\n",
      "[CV] max_features=5, max_depth=6, n_estimators=500 ...................\n",
      "[CV]  max_features=4, max_depth=6, n_estimators=700, score=-0.017057272211837775, total=   2.0s\n",
      "[CV] max_features=5, max_depth=6, n_estimators=700 ...................\n",
      "[CV]  max_features=5, max_depth=6, n_estimators=500, score=-0.013884956189779064, total=   1.5s\n",
      "[CV]  max_features=4, max_depth=6, n_estimators=700, score=-0.01167349847388079, total=   1.9s\n",
      "[CV] max_features=5, max_depth=6, n_estimators=700 ...................\n",
      "[CV] max_features=5, max_depth=6, n_estimators=700 ...................\n",
      "[CV]  max_features=4, max_depth=6, n_estimators=700, score=-0.01535470324969343, total=   1.9s\n",
      "[CV] max_features=5, max_depth=6, n_estimators=700 ...................\n",
      "[CV]  max_features=5, max_depth=6, n_estimators=500, score=-0.01872072466890976, total=   1.5s\n",
      "[CV] max_features=5, max_depth=6, n_estimators=700 ...................\n",
      "[CV]  max_features=5, max_depth=6, n_estimators=500, score=-0.01709024908775762, total=   1.6s\n",
      "[CV] max_features=6, max_depth=6, n_estimators=500 ...................\n",
      "[CV]  max_features=5, max_depth=6, n_estimators=500, score=-0.015660358165510348, total=   1.5s\n",
      "[CV] max_features=6, max_depth=6, n_estimators=500 ...................\n",
      "[CV]  max_features=5, max_depth=6, n_estimators=500, score=-0.011773806927857717, total=   1.6s\n",
      "[CV] max_features=6, max_depth=6, n_estimators=500 ...................\n",
      "[CV]  max_features=5, max_depth=6, n_estimators=700, score=-0.017068725557682317, total=   2.1s\n",
      "[CV] max_features=6, max_depth=6, n_estimators=500 ...................\n",
      "[CV]  max_features=5, max_depth=6, n_estimators=700, score=-0.013858296923436798, total=   2.2s\n",
      "[CV]  max_features=5, max_depth=6, n_estimators=700, score=-0.018714490258711292, total=   2.2s\n",
      "[CV] max_features=6, max_depth=6, n_estimators=500 ...................\n",
      "[CV] max_features=6, max_depth=6, n_estimators=700 ...................\n",
      "[CV]  max_features=6, max_depth=6, n_estimators=500, score=-0.014032084887560407, total=   1.7s\n",
      "[CV] max_features=6, max_depth=6, n_estimators=700 ...................\n"
     ]
    },
    {
     "name": "stderr",
     "output_type": "stream",
     "text": [
      "[Parallel(n_jobs=-1)]: Done 349 tasks      | elapsed:   57.0s\n"
     ]
    },
    {
     "name": "stdout",
     "output_type": "stream",
     "text": [
      "[CV]  max_features=5, max_depth=6, n_estimators=700, score=-0.011780060345062467, total=   2.2s\n",
      "[CV] max_features=6, max_depth=6, n_estimators=700 ...................\n",
      "[CV]  max_features=5, max_depth=6, n_estimators=700, score=-0.015624654677707182, total=   2.1s\n",
      "[CV] max_features=6, max_depth=6, n_estimators=700 ...................\n",
      "[CV]  max_features=6, max_depth=6, n_estimators=500, score=-0.018910991120098652, total=   1.7s\n",
      "[CV] max_features=6, max_depth=6, n_estimators=700 ...................\n",
      "[CV]  max_features=6, max_depth=6, n_estimators=500, score=-0.017108129330618713, total=   1.8s\n",
      "[CV] max_features=1, max_depth=7, n_estimators=500 ...................\n",
      "[CV]  max_features=6, max_depth=6, n_estimators=500, score=-0.011869711294558808, total=   1.7s\n",
      "[CV] max_features=1, max_depth=7, n_estimators=500 ...................\n",
      "[CV]  max_features=6, max_depth=6, n_estimators=500, score=-0.01577133510775745, total=   1.8s\n",
      "[CV] max_features=1, max_depth=7, n_estimators=500 ...................\n",
      "[CV]  max_features=1, max_depth=7, n_estimators=500, score=-0.013334975841182494, total=   0.9s\n",
      "[CV] max_features=1, max_depth=7, n_estimators=500 ...................\n",
      "[CV]  max_features=6, max_depth=6, n_estimators=700, score=-0.01397739723826938, total=   2.4s\n",
      "[CV] max_features=1, max_depth=7, n_estimators=500 ...................\n",
      "[CV]  max_features=6, max_depth=6, n_estimators=700, score=-0.01892036546537913, total=   2.3s\n",
      "[CV] max_features=1, max_depth=7, n_estimators=700 ...................\n",
      "[CV]  max_features=1, max_depth=7, n_estimators=500, score=-0.01853496443702226, total=   1.0s\n",
      "[CV] max_features=1, max_depth=7, n_estimators=700 ...................\n",
      "[CV]  max_features=6, max_depth=6, n_estimators=700, score=-0.017080885994267856, total=   2.4s\n",
      "[CV]  max_features=1, max_depth=7, n_estimators=500, score=-0.017256740839874714, total=   0.9s\n",
      "[CV] max_features=1, max_depth=7, n_estimators=700 ...................\n",
      "[CV] max_features=1, max_depth=7, n_estimators=700 ...................\n",
      "[CV]  max_features=6, max_depth=6, n_estimators=700, score=-0.011902313464003457, total=   2.4s\n",
      "[CV] max_features=1, max_depth=7, n_estimators=700 ...................\n",
      "[CV]  max_features=1, max_depth=7, n_estimators=500, score=-0.011780359700616411, total=   0.9s\n",
      "[CV] max_features=2, max_depth=7, n_estimators=500 ...................\n",
      "[CV]  max_features=6, max_depth=6, n_estimators=700, score=-0.01571467247576519, total=   2.4s\n",
      "[CV]  max_features=1, max_depth=7, n_estimators=500, score=-0.015655158984224322, total=   0.9s\n",
      "[CV] max_features=2, max_depth=7, n_estimators=500 ...................\n",
      "[CV] max_features=2, max_depth=7, n_estimators=500 ...................\n",
      "[CV]  max_features=1, max_depth=7, n_estimators=700, score=-0.013275377801661723, total=   1.3s\n",
      "[CV] max_features=2, max_depth=7, n_estimators=500 ...................\n",
      "[CV]  max_features=2, max_depth=7, n_estimators=500, score=-0.013474648781967958, total=   1.1s\n",
      "[CV] max_features=2, max_depth=7, n_estimators=500 ...................\n",
      "[CV]  max_features=1, max_depth=7, n_estimators=700, score=-0.018505034448441662, total=   1.3s\n",
      "[CV] max_features=2, max_depth=7, n_estimators=700 ...................\n",
      "[CV]  max_features=1, max_depth=7, n_estimators=700, score=-0.011832981598398662, total=   1.3s\n",
      "[CV] max_features=2, max_depth=7, n_estimators=700 ...................\n",
      "[CV]  max_features=1, max_depth=7, n_estimators=700, score=-0.017221357591215385, total=   1.3s\n",
      "[CV] max_features=2, max_depth=7, n_estimators=700 ...................\n",
      "[CV]  max_features=1, max_depth=7, n_estimators=700, score=-0.015715823179936448, total=   1.3s\n",
      "[CV] max_features=2, max_depth=7, n_estimators=700 ...................\n",
      "[CV]  max_features=2, max_depth=7, n_estimators=500, score=-0.01688599021953202, total=   1.1s\n",
      "[CV] max_features=2, max_depth=7, n_estimators=700 ...................\n",
      "[CV]  max_features=2, max_depth=7, n_estimators=500, score=-0.018570987451137836, total=   1.2s\n",
      "[CV] max_features=3, max_depth=7, n_estimators=500 ...................\n",
      "[CV]  max_features=2, max_depth=7, n_estimators=500, score=-0.011766538235205484, total=   1.1s\n",
      "[CV] max_features=3, max_depth=7, n_estimators=500 ...................\n",
      "[CV]  max_features=2, max_depth=7, n_estimators=500, score=-0.015600492003840588, total=   1.1s\n",
      "[CV] max_features=3, max_depth=7, n_estimators=500 ...................\n",
      "[CV]  max_features=2, max_depth=7, n_estimators=700, score=-0.01858417706730457, total=   1.5s\n",
      "[CV]  max_features=2, max_depth=7, n_estimators=700, score=-0.013473104240152068, total=   1.6s\n",
      "[CV] max_features=3, max_depth=7, n_estimators=500 ...................\n",
      "[CV] max_features=3, max_depth=7, n_estimators=500 ...................\n",
      "[CV]  max_features=2, max_depth=7, n_estimators=700, score=-0.01687785696896097, total=   1.5s\n",
      "[CV] max_features=3, max_depth=7, n_estimators=700 ...................\n",
      "[CV]  max_features=2, max_depth=7, n_estimators=700, score=-0.01178500772519859, total=   1.5s\n",
      "[CV] max_features=3, max_depth=7, n_estimators=700 ...................\n",
      "[CV]  max_features=3, max_depth=7, n_estimators=500, score=-0.013727133687055587, total=   1.3s\n",
      "[CV] max_features=3, max_depth=7, n_estimators=700 ...................\n"
     ]
    },
    {
     "name": "stderr",
     "output_type": "stream",
     "text": [
      "[Parallel(n_jobs=-1)]: Done 376 tasks      | elapsed:  1.0min\n"
     ]
    },
    {
     "name": "stdout",
     "output_type": "stream",
     "text": [
      "[CV]  max_features=2, max_depth=7, n_estimators=700, score=-0.015541996283123062, total=   1.7s\n",
      "[CV] max_features=3, max_depth=7, n_estimators=700 ...................\n",
      "[CV]  max_features=3, max_depth=7, n_estimators=500, score=-0.01879590618393655, total=   1.3s\n",
      "[CV] max_features=3, max_depth=7, n_estimators=700 ...................\n",
      "[CV]  max_features=3, max_depth=7, n_estimators=500, score=-0.016929128918363307, total=   1.3s\n",
      "[CV] max_features=4, max_depth=7, n_estimators=500 ...................\n",
      "[CV]  max_features=3, max_depth=7, n_estimators=500, score=-0.011804864964265685, total=   1.2s\n",
      "[CV] max_features=4, max_depth=7, n_estimators=500 ...................\n",
      "[CV]  max_features=3, max_depth=7, n_estimators=500, score=-0.01567840803760393, total=   1.3s\n",
      "[CV] max_features=4, max_depth=7, n_estimators=500 ...................\n",
      "[CV]  max_features=3, max_depth=7, n_estimators=700, score=-0.01692409383151566, total=   1.8s\n",
      "[CV] max_features=4, max_depth=7, n_estimators=500 ...................\n",
      "[CV]  max_features=3, max_depth=7, n_estimators=700, score=-0.018757734181605205, total=   1.8s\n",
      "[CV]  max_features=3, max_depth=7, n_estimators=700, score=-0.013680908366174607, total=   1.8s\n",
      "[CV] max_features=4, max_depth=7, n_estimators=500 ...................\n",
      "[CV] max_features=4, max_depth=7, n_estimators=700 ...................\n",
      "[CV]  max_features=3, max_depth=7, n_estimators=700, score=-0.011798568404623299, total=   1.8s\n",
      "[CV] max_features=4, max_depth=7, n_estimators=700 ...................\n",
      "[CV]  max_features=4, max_depth=7, n_estimators=500, score=-0.014097657892318137, total=   1.5s\n",
      "[CV] max_features=4, max_depth=7, n_estimators=700 ...................\n",
      "[CV]  max_features=3, max_depth=7, n_estimators=700, score=-0.01556116978817076, total=   1.9s\n",
      "[CV] max_features=4, max_depth=7, n_estimators=700 ...................\n",
      "[CV]  max_features=4, max_depth=7, n_estimators=500, score=-0.01882221541678175, total=   1.5s\n",
      "[CV] max_features=4, max_depth=7, n_estimators=700 ...................\n",
      "[CV]  max_features=4, max_depth=7, n_estimators=500, score=-0.0170393273442589, total=   1.5s\n",
      "[CV] max_features=5, max_depth=7, n_estimators=500 ...................\n",
      "[CV]  max_features=4, max_depth=7, n_estimators=500, score=-0.015625510412932298, total=   1.5s\n",
      "[CV] max_features=5, max_depth=7, n_estimators=500 ...................\n",
      "[CV]  max_features=4, max_depth=7, n_estimators=500, score=-0.01185685060787673, total=   1.5s\n",
      "[CV] max_features=5, max_depth=7, n_estimators=500 ...................\n",
      "[CV]  max_features=4, max_depth=7, n_estimators=700, score=-0.014077014039710562, total=   2.1s\n",
      "[CV] max_features=5, max_depth=7, n_estimators=500 ...................\n",
      "[CV]  max_features=4, max_depth=7, n_estimators=700, score=-0.018822326952041512, total=   2.1s\n",
      "[CV] max_features=5, max_depth=7, n_estimators=500 ...................\n",
      "[CV]  max_features=5, max_depth=7, n_estimators=500, score=-0.014223896102979743, total=   1.6s\n",
      "[CV] max_features=5, max_depth=7, n_estimators=700 ...................\n",
      "[CV]  max_features=4, max_depth=7, n_estimators=700, score=-0.017033345012505807, total=   2.1s\n",
      "[CV] max_features=5, max_depth=7, n_estimators=700 ...................\n",
      "[CV]  max_features=4, max_depth=7, n_estimators=700, score=-0.011855867957024415, total=   2.1s\n",
      "[CV] max_features=5, max_depth=7, n_estimators=700 ...................\n",
      "[CV]  max_features=4, max_depth=7, n_estimators=700, score=-0.015683016405184734, total=   2.1s\n",
      "[CV] max_features=5, max_depth=7, n_estimators=700 ...................\n",
      "[CV]  max_features=5, max_depth=7, n_estimators=500, score=-0.01891218249062334, total=   1.6s\n",
      "[CV] max_features=5, max_depth=7, n_estimators=700 ...................\n",
      "[CV]  max_features=5, max_depth=7, n_estimators=500, score=-0.017015674416869377, total=   1.7s\n",
      "[CV] max_features=6, max_depth=7, n_estimators=500 ...................\n",
      "[CV]  max_features=5, max_depth=7, n_estimators=500, score=-0.011860951636714603, total=   1.7s\n",
      "[CV] max_features=6, max_depth=7, n_estimators=500 ...................\n",
      "[CV]  max_features=5, max_depth=7, n_estimators=500, score=-0.015844133265802442, total=   1.7s\n",
      "[CV] max_features=6, max_depth=7, n_estimators=500 ...................\n"
     ]
    },
    {
     "name": "stderr",
     "output_type": "stream",
     "text": [
      "[Parallel(n_jobs=-1)]: Done 405 tasks      | elapsed:  1.2min\n"
     ]
    },
    {
     "name": "stdout",
     "output_type": "stream",
     "text": [
      "[CV]  max_features=5, max_depth=7, n_estimators=700, score=-0.01896007543658537, total=   2.3s\n",
      "[CV] max_features=6, max_depth=7, n_estimators=500 ...................\n",
      "[CV]  max_features=5, max_depth=7, n_estimators=700, score=-0.014165205142810673, total=   2.4s\n",
      "[CV]  max_features=5, max_depth=7, n_estimators=700, score=-0.017046470828174974, total=   2.3s\n",
      "[CV] max_features=6, max_depth=7, n_estimators=500 ...................\n",
      "[CV] max_features=6, max_depth=7, n_estimators=700 ...................\n",
      "[CV]  max_features=6, max_depth=7, n_estimators=500, score=-0.014513011372335832, total=   1.8s\n",
      "[CV] max_features=6, max_depth=7, n_estimators=700 ...................\n",
      "[CV]  max_features=5, max_depth=7, n_estimators=700, score=-0.011894844649488149, total=   2.3s\n",
      "[CV] max_features=6, max_depth=7, n_estimators=700 ...................\n",
      "[CV]  max_features=5, max_depth=7, n_estimators=700, score=-0.01582577655440516, total=   2.4s\n",
      "[CV] max_features=6, max_depth=7, n_estimators=700 ...................\n",
      "[CV]  max_features=6, max_depth=7, n_estimators=500, score=-0.019100511131824968, total=   1.9s\n",
      "[CV] max_features=6, max_depth=7, n_estimators=700 ...................\n",
      "[CV]  max_features=6, max_depth=7, n_estimators=500, score=-0.01709339010137668, total=   1.9s\n",
      "[CV] max_features=1, max_depth=8, n_estimators=500 ...................\n",
      "[CV]  max_features=6, max_depth=7, n_estimators=500, score=-0.011974714610638941, total=   1.9s\n",
      "[CV] max_features=1, max_depth=8, n_estimators=500 ...................\n",
      "[CV]  max_features=6, max_depth=7, n_estimators=500, score=-0.016041107347856694, total=   1.9s\n",
      "[CV] max_features=1, max_depth=8, n_estimators=500 ...................\n",
      "[CV]  max_features=1, max_depth=8, n_estimators=500, score=-0.013511617672999814, total=   0.9s\n",
      "[CV] max_features=1, max_depth=8, n_estimators=500 ...................\n",
      "[CV]  max_features=6, max_depth=7, n_estimators=700, score=-0.014388524939336959, total=   2.6s\n",
      "[CV] max_features=1, max_depth=8, n_estimators=500 ...................\n",
      "[CV]  max_features=6, max_depth=7, n_estimators=700, score=-0.01910923086361442, total=   2.6s\n",
      "[CV] max_features=1, max_depth=8, n_estimators=700 ...................\n",
      "[CV]  max_features=1, max_depth=8, n_estimators=500, score=-0.01837026891582786, total=   1.0s\n",
      "[CV] max_features=1, max_depth=8, n_estimators=700 ...................\n",
      "[CV]  max_features=1, max_depth=8, n_estimators=500, score=-0.017123472893214156, total=   0.9s\n",
      "[CV] max_features=1, max_depth=8, n_estimators=700 ...................\n",
      "[CV]  max_features=6, max_depth=7, n_estimators=700, score=-0.017116935293022217, total=   2.6s\n",
      "[CV] max_features=1, max_depth=8, n_estimators=700 ...................\n",
      "[CV]  max_features=1, max_depth=8, n_estimators=500, score=-0.012015355312442168, total=   0.9s\n",
      "[CV] max_features=1, max_depth=8, n_estimators=700 ...................\n",
      "[CV]  max_features=6, max_depth=7, n_estimators=700, score=-0.012038392628299926, total=   2.7s\n",
      "[CV] max_features=2, max_depth=8, n_estimators=500 ...................\n",
      "[CV]  max_features=6, max_depth=7, n_estimators=700, score=-0.015931780516657855, total=   2.6s\n",
      "[CV] max_features=2, max_depth=8, n_estimators=500 ...................\n",
      "[CV]  max_features=1, max_depth=8, n_estimators=500, score=-0.015784906326989107, total=   0.9s\n",
      "[CV] max_features=2, max_depth=8, n_estimators=500 ...................\n",
      "[CV]  max_features=1, max_depth=8, n_estimators=700, score=-0.013499721974994548, total=   1.3s\n",
      "[CV] max_features=2, max_depth=8, n_estimators=500 ...................\n",
      "[CV]  max_features=1, max_depth=8, n_estimators=700, score=-0.018411371317676548, total=   1.3s\n",
      "[CV] max_features=2, max_depth=8, n_estimators=500 ...................\n",
      "[CV]  max_features=1, max_depth=8, n_estimators=700, score=-0.017078626508208742, total=   1.3s\n",
      "[CV] max_features=2, max_depth=8, n_estimators=700 ...................\n",
      "[CV]  max_features=1, max_depth=8, n_estimators=700, score=-0.012055080765308831, total=   1.3s\n",
      "[CV] max_features=2, max_depth=8, n_estimators=700 ...................\n",
      "[CV]  max_features=2, max_depth=8, n_estimators=500, score=-0.013604222909839753, total=   1.1s\n",
      "[CV]  max_features=1, max_depth=8, n_estimators=700, score=-0.01580345060710638, total=   1.4s\n",
      "[CV] max_features=2, max_depth=8, n_estimators=700 ...................\n",
      "[CV] max_features=2, max_depth=8, n_estimators=700 ...................\n",
      "[CV]  max_features=2, max_depth=8, n_estimators=500, score=-0.018626821336861884, total=   1.2s\n",
      "[CV] max_features=2, max_depth=8, n_estimators=700 ...................\n",
      "[CV]  max_features=2, max_depth=8, n_estimators=500, score=-0.01685355481155067, total=   1.2s\n",
      "[CV] max_features=3, max_depth=8, n_estimators=500 ...................\n",
      "[CV]  max_features=2, max_depth=8, n_estimators=500, score=-0.011934420697506377, total=   1.2s\n",
      "[CV] max_features=3, max_depth=8, n_estimators=500 ...................\n",
      "[CV]  max_features=2, max_depth=8, n_estimators=500, score=-0.01576777865526217, total=   1.2s\n",
      "[CV] max_features=3, max_depth=8, n_estimators=500 ...................\n"
     ]
    },
    {
     "name": "stderr",
     "output_type": "stream",
     "text": [
      "[Parallel(n_jobs=-1)]: Done 434 tasks      | elapsed:  1.3min\n"
     ]
    },
    {
     "name": "stdout",
     "output_type": "stream",
     "text": [
      "[CV]  max_features=2, max_depth=8, n_estimators=700, score=-0.0136080388305564, total=   1.6s\n",
      "[CV] max_features=3, max_depth=8, n_estimators=500 ...................\n",
      "[CV]  max_features=2, max_depth=8, n_estimators=700, score=-0.018764415249571773, total=   1.6s\n",
      "[CV] max_features=3, max_depth=8, n_estimators=500 ...................\n",
      "[CV]  max_features=2, max_depth=8, n_estimators=700, score=-0.011969696930967754, total=   1.6s\n",
      "[CV] max_features=3, max_depth=8, n_estimators=700 ...................\n",
      "[CV]  max_features=2, max_depth=8, n_estimators=700, score=-0.016803939799372246, total=   1.7s\n",
      "[CV] max_features=3, max_depth=8, n_estimators=700 ...................\n",
      "[CV]  max_features=3, max_depth=8, n_estimators=500, score=-0.013940133900476229, total=   1.3s\n",
      "[CV] max_features=3, max_depth=8, n_estimators=700 ...................\n",
      "[CV]  max_features=2, max_depth=8, n_estimators=700, score=-0.015713103690390983, total=   1.6s\n",
      "[CV] max_features=3, max_depth=8, n_estimators=700 ...................\n",
      "[CV]  max_features=3, max_depth=8, n_estimators=500, score=-0.018849001411358448, total=   1.4s\n",
      "[CV] max_features=3, max_depth=8, n_estimators=700 ...................\n",
      "[CV]  max_features=3, max_depth=8, n_estimators=500, score=-0.016867151258068248, total=   1.4s\n",
      "[CV] max_features=4, max_depth=8, n_estimators=500 ...................\n",
      "[CV]  max_features=3, max_depth=8, n_estimators=500, score=-0.015689633441952566, total=   1.4s\n",
      "[CV]  max_features=3, max_depth=8, n_estimators=500, score=-0.012003933533435018, total=   1.4s\n",
      "[CV] max_features=4, max_depth=8, n_estimators=500 ...................\n",
      "[CV] max_features=4, max_depth=8, n_estimators=500 ...................\n",
      "[CV]  max_features=3, max_depth=8, n_estimators=700, score=-0.018875803740135123, total=   1.9s\n",
      "[CV]  max_features=3, max_depth=8, n_estimators=700, score=-0.013926637710428912, total=   1.9s\n",
      "[CV] max_features=4, max_depth=8, n_estimators=500 ...................\n",
      "[CV] max_features=4, max_depth=8, n_estimators=500 ...................\n",
      "[CV]  max_features=3, max_depth=8, n_estimators=700, score=-0.01684468258513764, total=   1.9s\n",
      "[CV] max_features=4, max_depth=8, n_estimators=700 ...................\n",
      "[CV]  max_features=3, max_depth=8, n_estimators=700, score=-0.011990643849173014, total=   2.0s\n",
      "[CV] max_features=4, max_depth=8, n_estimators=700 ...................\n",
      "[CV]  max_features=4, max_depth=8, n_estimators=500, score=-0.01416004406009643, total=   1.6s\n",
      "[CV] max_features=4, max_depth=8, n_estimators=700 ...................\n",
      "[CV]  max_features=3, max_depth=8, n_estimators=700, score=-0.015617184609453364, total=   1.9s\n",
      "[CV] max_features=4, max_depth=8, n_estimators=700 ...................\n",
      "[CV]  max_features=4, max_depth=8, n_estimators=500, score=-0.01701575837658664, total=   1.6s\n",
      "[CV]  max_features=4, max_depth=8, n_estimators=500, score=-0.018814161479825082, total=   1.6s\n",
      "[CV] max_features=4, max_depth=8, n_estimators=700 ...................\n",
      "[CV] max_features=5, max_depth=8, n_estimators=500 ...................\n",
      "[CV]  max_features=4, max_depth=8, n_estimators=500, score=-0.01194888774353725, total=   1.6s\n",
      "[CV] max_features=5, max_depth=8, n_estimators=500 ...................\n",
      "[CV]  max_features=4, max_depth=8, n_estimators=500, score=-0.015813480926402067, total=   1.6s\n",
      "[CV] max_features=5, max_depth=8, n_estimators=500 ...................\n",
      "[CV]  max_features=4, max_depth=8, n_estimators=700, score=-0.014151266432559236, total=   2.2s\n",
      "[CV] max_features=5, max_depth=8, n_estimators=500 ...................\n",
      "[CV]  max_features=4, max_depth=8, n_estimators=700, score=-0.018891483189835044, total=   2.2s\n",
      "[CV] max_features=5, max_depth=8, n_estimators=500 ...................\n",
      "[CV]  max_features=4, max_depth=8, n_estimators=700, score=-0.016988644378080738, total=   2.2s\n",
      "[CV] max_features=5, max_depth=8, n_estimators=700 ...................\n",
      "[CV]  max_features=5, max_depth=8, n_estimators=500, score=-0.014391055100191341, total=   1.8s\n",
      "[CV] max_features=5, max_depth=8, n_estimators=700 ...................\n",
      "[CV]  max_features=4, max_depth=8, n_estimators=700, score=-0.011943629658624872, total=   2.2s\n",
      "[CV] max_features=5, max_depth=8, n_estimators=700 ...................\n",
      "[CV]  max_features=4, max_depth=8, n_estimators=700, score=-0.015830355585640186, total=   2.2s\n",
      "[CV] max_features=5, max_depth=8, n_estimators=700 ...................\n",
      "[CV]  max_features=5, max_depth=8, n_estimators=500, score=-0.019010420589192136, total=   1.8s\n",
      "[CV] max_features=5, max_depth=8, n_estimators=700 ...................\n",
      "[CV]  max_features=5, max_depth=8, n_estimators=500, score=-0.017070700311044264, total=   1.8s\n",
      "[CV] max_features=6, max_depth=8, n_estimators=500 ...................\n",
      "[CV]  max_features=5, max_depth=8, n_estimators=500, score=-0.011969450475406368, total=   1.9s\n",
      "[CV]  max_features=5, max_depth=8, n_estimators=500, score=-0.016001267500603513, total=   1.8s\n",
      "[CV] max_features=6, max_depth=8, n_estimators=500 ...................\n",
      "[CV] max_features=6, max_depth=8, n_estimators=500 ...................\n"
     ]
    },
    {
     "name": "stderr",
     "output_type": "stream",
     "text": [
      "[Parallel(n_jobs=-1)]: Done 465 tasks      | elapsed:  1.4min\n"
     ]
    },
    {
     "name": "stdout",
     "output_type": "stream",
     "text": [
      "[CV]  max_features=5, max_depth=8, n_estimators=700, score=-0.014342493552459848, total=   2.5s\n",
      "[CV] max_features=6, max_depth=8, n_estimators=500 ...................\n",
      "[CV]  max_features=5, max_depth=8, n_estimators=700, score=-0.019117051139454784, total=   2.5s\n",
      "[CV] max_features=6, max_depth=8, n_estimators=500 ...................\n",
      "[CV]  max_features=5, max_depth=8, n_estimators=700, score=-0.01701561090918555, total=   2.5s\n",
      "[CV] max_features=6, max_depth=8, n_estimators=700 ...................\n",
      "[CV]  max_features=6, max_depth=8, n_estimators=500, score=-0.014683976164293852, total=   2.0s\n",
      "[CV] max_features=6, max_depth=8, n_estimators=700 ...................\n",
      "[CV]  max_features=5, max_depth=8, n_estimators=700, score=-0.012042792438927676, total=   2.5s\n",
      "[CV] max_features=6, max_depth=8, n_estimators=700 ...................\n",
      "[CV]  max_features=5, max_depth=8, n_estimators=700, score=-0.01600134288085319, total=   2.5s\n",
      "[CV] max_features=6, max_depth=8, n_estimators=700 ...................\n",
      "[CV]  max_features=6, max_depth=8, n_estimators=500, score=-0.017059437845986195, total=   2.0s\n",
      "[CV] max_features=6, max_depth=8, n_estimators=700 ...................\n",
      "[CV]  max_features=6, max_depth=8, n_estimators=500, score=-0.019213584264590328, total=   2.1s\n",
      "[CV] max_features=1, max_depth=9, n_estimators=500 ...................\n",
      "[CV]  max_features=6, max_depth=8, n_estimators=500, score=-0.012105306306554674, total=   2.0s\n",
      "[CV] max_features=1, max_depth=9, n_estimators=500 ...................\n",
      "[CV]  max_features=6, max_depth=8, n_estimators=500, score=-0.01606115334206121, total=   2.1s\n",
      "[CV] max_features=1, max_depth=9, n_estimators=500 ...................\n",
      "[CV]  max_features=1, max_depth=9, n_estimators=500, score=-0.013575171306262646, total=   1.1s\n",
      "[CV] max_features=1, max_depth=9, n_estimators=500 ...................\n",
      "[CV]  max_features=1, max_depth=9, n_estimators=500, score=-0.018356562339810818, total=   0.9s\n",
      "[CV] max_features=1, max_depth=9, n_estimators=500 ...................\n",
      "[CV]  max_features=6, max_depth=8, n_estimators=700, score=-0.014590381384362036, total=   2.8s\n",
      "[CV] max_features=1, max_depth=9, n_estimators=700 ...................\n",
      "[CV]  max_features=6, max_depth=8, n_estimators=700, score=-0.019249113210937526, total=   2.8s\n",
      "[CV] max_features=1, max_depth=9, n_estimators=700 ...................\n",
      "[CV]  max_features=1, max_depth=9, n_estimators=500, score=-0.017097592338045264, total=   1.0s\n",
      "[CV] max_features=1, max_depth=9, n_estimators=700 ...................\n",
      "[CV]  max_features=6, max_depth=8, n_estimators=700, score=-0.017052981766832107, total=   2.8s\n",
      "[CV] max_features=1, max_depth=9, n_estimators=700 ...................\n",
      "[CV]  max_features=1, max_depth=9, n_estimators=500, score=-0.012036126306563625, total=   1.0s\n",
      "[CV] max_features=1, max_depth=9, n_estimators=700 ...................\n",
      "[CV]  max_features=6, max_depth=8, n_estimators=700, score=-0.012160870280645707, total=   2.8s\n",
      "[CV] max_features=2, max_depth=9, n_estimators=500 ...................\n",
      "[CV]  max_features=6, max_depth=8, n_estimators=700, score=-0.015967050697257804, total=   2.8s\n",
      "[CV] max_features=2, max_depth=9, n_estimators=500 ...................\n",
      "[CV]  max_features=1, max_depth=9, n_estimators=500, score=-0.015871876632273962, total=   1.0s\n",
      "[CV] max_features=2, max_depth=9, n_estimators=500 ...................\n",
      "[CV]  max_features=1, max_depth=9, n_estimators=700, score=-0.013510836921580584, total=   1.4s\n",
      "[CV] max_features=2, max_depth=9, n_estimators=500 ...................\n",
      "[CV]  max_features=1, max_depth=9, n_estimators=700, score=-0.018411284902971697, total=   1.4s\n",
      "[CV] max_features=2, max_depth=9, n_estimators=500 ...................\n",
      "[CV]  max_features=1, max_depth=9, n_estimators=700, score=-0.017058813950587393, total=   1.4s\n",
      "[CV] max_features=2, max_depth=9, n_estimators=700 ...................\n",
      "[CV]  max_features=1, max_depth=9, n_estimators=700, score=-0.012050568510784029, total=   1.4s\n",
      "[CV] max_features=2, max_depth=9, n_estimators=700 ...................\n",
      "[CV]  max_features=2, max_depth=9, n_estimators=500, score=-0.01371928157531626, total=   1.2s\n",
      "[CV] max_features=2, max_depth=9, n_estimators=700 ...................\n",
      "[CV]  max_features=1, max_depth=9, n_estimators=700, score=-0.015847626549004797, total=   1.4s\n",
      "[CV] max_features=2, max_depth=9, n_estimators=700 ...................\n",
      "[CV]  max_features=2, max_depth=9, n_estimators=500, score=-0.016948790289324705, total=   1.2s\n",
      "[CV] max_features=2, max_depth=9, n_estimators=700 ...................\n",
      "[CV]  max_features=2, max_depth=9, n_estimators=500, score=-0.018853834125395687, total=   1.3s\n",
      "[CV] max_features=3, max_depth=9, n_estimators=500 ...................\n",
      "[CV]  max_features=2, max_depth=9, n_estimators=500, score=-0.011953060383484487, total=   1.2s\n",
      "[CV] max_features=3, max_depth=9, n_estimators=500 ...................\n",
      "[CV]  max_features=2, max_depth=9, n_estimators=500, score=-0.01576372054636154, total=   1.2s\n",
      "[CV] max_features=3, max_depth=9, n_estimators=500 ...................\n",
      "[CV]  max_features=2, max_depth=9, n_estimators=700, score=-0.013723877822078697, total=   1.7s\n",
      "[CV] max_features=3, max_depth=9, n_estimators=500 ...................\n",
      "[CV]  max_features=2, max_depth=9, n_estimators=700, score=-0.018887735516323237, total=   1.7s\n",
      "[CV] max_features=3, max_depth=9, n_estimators=500 ...................\n"
     ]
    },
    {
     "name": "stderr",
     "output_type": "stream",
     "text": [
      "[Parallel(n_jobs=-1)]: Done 496 tasks      | elapsed:  1.5min\n"
     ]
    },
    {
     "name": "stdout",
     "output_type": "stream",
     "text": [
      "[CV]  max_features=2, max_depth=9, n_estimators=700, score=-0.01692778894128202, total=   1.7s\n",
      "[CV] max_features=3, max_depth=9, n_estimators=700 ...................\n",
      "[CV]  max_features=2, max_depth=9, n_estimators=700, score=-0.011981229164762373, total=   1.8s\n",
      "[CV] max_features=3, max_depth=9, n_estimators=700 ...................\n",
      "[CV]  max_features=3, max_depth=9, n_estimators=500, score=-0.014145221558561124, total=   1.5s\n",
      "[CV] max_features=3, max_depth=9, n_estimators=700 ...................\n",
      "[CV]  max_features=2, max_depth=9, n_estimators=700, score=-0.015746239762435908, total=   1.7s\n",
      "[CV] max_features=3, max_depth=9, n_estimators=700 ...................\n",
      "[CV]  max_features=3, max_depth=9, n_estimators=500, score=-0.01879873210657358, total=   1.5s\n",
      "[CV] max_features=3, max_depth=9, n_estimators=700 ...................\n",
      "[CV]  max_features=3, max_depth=9, n_estimators=500, score=-0.016882476796036876, total=   1.5s\n",
      "[CV] max_features=4, max_depth=9, n_estimators=500 ...................\n",
      "[CV]  max_features=3, max_depth=9, n_estimators=500, score=-0.012072562535818544, total=   1.5s\n",
      "[CV] max_features=4, max_depth=9, n_estimators=500 ...................\n",
      "[CV]  max_features=3, max_depth=9, n_estimators=500, score=-0.01581378392078999, total=   1.5s\n",
      "[CV] max_features=4, max_depth=9, n_estimators=500 ...................\n",
      "[CV]  max_features=3, max_depth=9, n_estimators=700, score=-0.014145749101921578, total=   2.1s\n",
      "[CV] max_features=4, max_depth=9, n_estimators=500 ...................\n",
      "[CV]  max_features=3, max_depth=9, n_estimators=700, score=-0.01881250974645912, total=   2.1s\n",
      "[CV] max_features=4, max_depth=9, n_estimators=500 ...................\n",
      "[CV]  max_features=4, max_depth=9, n_estimators=500, score=-0.01442190309914504, total=   1.7s\n",
      "[CV] max_features=4, max_depth=9, n_estimators=700 ...................\n",
      "[CV]  max_features=3, max_depth=9, n_estimators=700, score=-0.016829423466873317, total=   2.1s\n",
      "[CV] max_features=4, max_depth=9, n_estimators=700 ...................\n",
      "[CV]  max_features=3, max_depth=9, n_estimators=700, score=-0.012035321594175584, total=   2.0s\n",
      "[CV] max_features=4, max_depth=9, n_estimators=700 ...................\n",
      "[CV]  max_features=3, max_depth=9, n_estimators=700, score=-0.015733813236139847, total=   2.0s\n",
      "[CV] max_features=4, max_depth=9, n_estimators=700 ...................\n",
      "[CV]  max_features=4, max_depth=9, n_estimators=500, score=-0.019093475986151024, total=   1.7s\n",
      "[CV] max_features=4, max_depth=9, n_estimators=700 ...................\n",
      "[CV]  max_features=4, max_depth=9, n_estimators=500, score=-0.016964286304083424, total=   1.8s\n",
      "[CV] max_features=5, max_depth=9, n_estimators=500 ...................\n",
      "[CV]  max_features=4, max_depth=9, n_estimators=500, score=-0.012028246411648104, total=   1.7s\n",
      "[CV] max_features=5, max_depth=9, n_estimators=500 ...................\n",
      "[CV]  max_features=4, max_depth=9, n_estimators=500, score=-0.015727636921095186, total=   1.7s\n",
      "[CV] max_features=5, max_depth=9, n_estimators=500 ...................\n",
      "[CV]  max_features=4, max_depth=9, n_estimators=700, score=-0.019081758097776833, total=   2.4s\n",
      "[CV]  max_features=4, max_depth=9, n_estimators=700, score=-0.016955236522812382, total=   2.3s\n",
      "[CV] max_features=5, max_depth=9, n_estimators=500 ...................\n",
      "[CV] max_features=5, max_depth=9, n_estimators=500 ...................\n",
      "[CV]  max_features=4, max_depth=9, n_estimators=700, score=-0.014440258831451568, total=   2.4s\n",
      "[CV] max_features=5, max_depth=9, n_estimators=700 ...................\n",
      "[CV]  max_features=4, max_depth=9, n_estimators=700, score=-0.012035374938283692, total=   2.3s\n",
      "[CV] max_features=5, max_depth=9, n_estimators=700 ...................\n",
      "[CV]  max_features=5, max_depth=9, n_estimators=500, score=-0.01476858829631428, total=   1.9s\n",
      "[CV] max_features=5, max_depth=9, n_estimators=700 ...................\n",
      "[CV]  max_features=4, max_depth=9, n_estimators=700, score=-0.015756532475391626, total=   2.3s\n",
      "[CV] max_features=5, max_depth=9, n_estimators=700 ...................\n",
      "[CV]  max_features=5, max_depth=9, n_estimators=500, score=-0.017129674314203893, total=   1.9s\n",
      "[CV] max_features=5, max_depth=9, n_estimators=700 ...................\n",
      "[CV]  max_features=5, max_depth=9, n_estimators=500, score=-0.01922820306299323, total=   2.0s\n",
      "[CV] max_features=6, max_depth=9, n_estimators=500 ...................\n",
      "[CV]  max_features=5, max_depth=9, n_estimators=500, score=-0.012035181970460374, total=   1.9s\n",
      "[CV] max_features=6, max_depth=9, n_estimators=500 ...................\n",
      "[CV]  max_features=5, max_depth=9, n_estimators=500, score=-0.0158843126468415, total=   2.0s\n",
      "[CV] max_features=6, max_depth=9, n_estimators=500 ...................\n",
      "[CV]  max_features=5, max_depth=9, n_estimators=700, score=-0.014668708572510633, total=   2.6s\n",
      "[CV] max_features=6, max_depth=9, n_estimators=500 ...................\n",
      "[CV]  max_features=5, max_depth=9, n_estimators=700, score=-0.017101520062172287, total=   2.7s\n",
      "[CV] max_features=6, max_depth=9, n_estimators=500 ...................\n",
      "[CV]  max_features=5, max_depth=9, n_estimators=700, score=-0.019289317762547775, total=   2.7s\n",
      "[CV] max_features=6, max_depth=9, n_estimators=700 ...................\n",
      "[CV]  max_features=5, max_depth=9, n_estimators=700, score=-0.012066491064863079, total=   2.7s\n",
      "[CV] max_features=6, max_depth=9, n_estimators=700 ...................\n",
      "[CV]  max_features=6, max_depth=9, n_estimators=500, score=-0.014808225972017369, total=   2.2s\n",
      "[CV] max_features=6, max_depth=9, n_estimators=700 ...................\n",
      "[CV]  max_features=5, max_depth=9, n_estimators=700, score=-0.01586736174002687, total=   2.7s\n",
      "[CV] max_features=6, max_depth=9, n_estimators=700 ...................\n",
      "[CV]  max_features=6, max_depth=9, n_estimators=500, score=-0.019479090577514513, total=   2.2s\n",
      "[CV] max_features=6, max_depth=9, n_estimators=700 ...................\n",
      "[CV]  max_features=6, max_depth=9, n_estimators=500, score=-0.017031529291569567, total=   2.2s\n",
      "[CV]  max_features=6, max_depth=9, n_estimators=500, score=-0.012160959075506645, total=   2.1s\n",
      "[CV]  max_features=6, max_depth=9, n_estimators=500, score=-0.016068291948682017, total=   2.1s\n",
      "[CV]  max_features=6, max_depth=9, n_estimators=700, score=-0.014769263829964538, total=   2.8s\n",
      "[CV]  max_features=6, max_depth=9, n_estimators=700, score=-0.01949496440837914, total=   2.6s\n",
      "[CV]  max_features=6, max_depth=9, n_estimators=700, score=-0.017057549708167415, total=   2.8s\n",
      "[CV]  max_features=6, max_depth=9, n_estimators=700, score=-0.012182708177285827, total=   2.5s\n",
      "[CV]  max_features=6, max_depth=9, n_estimators=700, score=-0.016037696841871327, total=   2.2s\n"
     ]
    },
    {
     "name": "stderr",
     "output_type": "stream",
     "text": [
      "[Parallel(n_jobs=-1)]: Done 540 out of 540 | elapsed:  1.7min finished\n"
     ]
    },
    {
     "name": "stdout",
     "output_type": "stream",
     "text": [
      "CPU times: user 2 s, sys: 184 ms, total: 2.18 s\n",
      "Wall time: 1min 43s\n"
     ]
    },
    {
     "data": {
      "text/plain": [
       "GridSearchCV(cv=5, error_score='raise',\n",
       "       estimator=RandomForestRegressor(bootstrap=True, criterion='mse', max_depth=1,\n",
       "           max_features=2, max_leaf_nodes=None, min_impurity_decrease=0.0,\n",
       "           min_impurity_split=None, min_samples_leaf=1,\n",
       "           min_samples_split=2, min_weight_fraction_leaf=0.0,\n",
       "           n_estimators=500, n_jobs=1, oob_score=False, random_state=67,\n",
       "           verbose=0, warm_start=False),\n",
       "       fit_params=None, iid=True, n_jobs=-1,\n",
       "       param_grid={'max_features': range(1, 7), 'max_depth': range(1, 10), 'n_estimators': [500, 700]},\n",
       "       pre_dispatch='2*n_jobs', refit=True, return_train_score='warn',\n",
       "       scoring='neg_mean_squared_log_error', verbose=10)"
      ]
     },
     "execution_count": 43,
     "metadata": {},
     "output_type": "execute_result"
    }
   ],
   "source": [
    "param_grid = { \"n_estimators\"      : [500, 700],\n",
    "           \"max_features\"      : range(1, 7),\n",
    "           \"max_depth\"         : range(1, 10)}\n",
    "meta_model.set_params(random_state=67)\n",
    "grid_search_tree = ms.GridSearchCV(meta_model, param_grid, cv=5, n_jobs=-1, verbose=10, scoring='neg_mean_squared_log_error')\n",
    "%time grid_search_tree.fit(stacking_features, y_train)"
   ]
  },
  {
   "cell_type": "code",
   "execution_count": 44,
   "metadata": {},
   "outputs": [
    {
     "data": {
      "text/plain": [
       "{'max_depth': 5, 'max_features': 3, 'n_estimators': 700}"
      ]
     },
     "execution_count": 44,
     "metadata": {},
     "output_type": "execute_result"
    }
   ],
   "source": [
    "grid_search_tree.best_params_"
   ]
  },
  {
   "cell_type": "code",
   "execution_count": 45,
   "metadata": {},
   "outputs": [
    {
     "data": {
      "text/plain": [
       "0.12288472290468638"
      ]
     },
     "execution_count": 45,
     "metadata": {},
     "output_type": "execute_result"
    }
   ],
   "source": [
    "np.sqrt(grid_search_tree.best_score_ * -1)"
   ]
  },
  {
   "cell_type": "code",
   "execution_count": null,
   "metadata": {
    "collapsed": true
   },
   "outputs": [],
   "source": []
  },
  {
   "cell_type": "code",
   "execution_count": null,
   "metadata": {
    "collapsed": true
   },
   "outputs": [],
   "source": []
  },
  {
   "cell_type": "code",
   "execution_count": null,
   "metadata": {
    "collapsed": true
   },
   "outputs": [],
   "source": []
  }
 ],
 "metadata": {
  "kernelspec": {
   "display_name": "Python 3",
   "language": "python",
   "name": "python3"
  },
  "language_info": {
   "codemirror_mode": {
    "name": "ipython",
    "version": 3
   },
   "file_extension": ".py",
   "mimetype": "text/x-python",
   "name": "python",
   "nbconvert_exporter": "python",
   "pygments_lexer": "ipython3",
   "version": "3.6.3"
  }
 },
 "nbformat": 4,
 "nbformat_minor": 2
}
