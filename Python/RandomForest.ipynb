{
 "cells": [
  {
   "cell_type": "code",
   "execution_count": 16,
   "metadata": {
    "collapsed": true
   },
   "outputs": [],
   "source": [
    "from sklearn import ensemble\n",
    "import pandas as pd\n",
    "import numpy as np"
   ]
  },
  {
   "cell_type": "code",
   "execution_count": 10,
   "metadata": {
    "collapsed": true
   },
   "outputs": [],
   "source": [
    "encoded_private_train = pd.read_csv('../Data/encoded_private_train.csv')\n",
    "encoded_private_test = pd.read_csv('../Data/encoded_private_test.csv')\n",
    "private_test = pd.read_csv('../Data/private_test.csv')"
   ]
  },
  {
   "cell_type": "code",
   "execution_count": 17,
   "metadata": {},
   "outputs": [
    {
     "name": "stdout",
     "output_type": "stream",
     "text": [
      "(1168, 332)\n",
      "(292, 332)\n",
      "(292, 82)\n"
     ]
    }
   ],
   "source": [
    "print(encoded_private_train.shape)\n",
    "print(encoded_private_test.shape)\n",
    "print(private_test.shape)"
   ]
  },
  {
   "cell_type": "code",
   "execution_count": 15,
   "metadata": {
    "collapsed": true
   },
   "outputs": [],
   "source": [
    "randomForest = ensemble.RandomForestRegressor()"
   ]
  },
  {
   "cell_type": "code",
   "execution_count": 45,
   "metadata": {},
   "outputs": [
    {
     "name": "stdout",
     "output_type": "stream",
     "text": [
      "(1168,)\n",
      "(1168, 331)\n",
      "(292,)\n",
      "(292, 331)\n"
     ]
    }
   ],
   "source": [
    "y_train = np.log(encoded_private_train['SalePrice'])\n",
    "x_train = encoded_private_train.drop('SalePrice', axis=1)\n",
    "print(y_train.shape)\n",
    "print(x_train.shape)\n",
    "\n",
    "y_test = np.log(private_test['SalePrice'])\n",
    "x_test = encoded_private_test.drop('SalePrice', axis=1)\n",
    "print(y_test.shape)\n",
    "print(x_test.shape)"
   ]
  },
  {
   "cell_type": "code",
   "execution_count": 67,
   "metadata": {},
   "outputs": [
    {
     "name": "stdout",
     "output_type": "stream",
     "text": [
      "Fitting 5 folds for each of 60 candidates, totalling 300 fits\n"
     ]
    },
    {
     "name": "stderr",
     "output_type": "stream",
     "text": [
      "[Parallel(n_jobs=-1)]: Done   5 tasks      | elapsed:    7.4s\n",
      "[Parallel(n_jobs=-1)]: Done  10 tasks      | elapsed:    9.8s\n",
      "[Parallel(n_jobs=-1)]: Done  17 tasks      | elapsed:   15.9s\n",
      "[Parallel(n_jobs=-1)]: Done  24 tasks      | elapsed:   18.9s\n",
      "[Parallel(n_jobs=-1)]: Done  33 tasks      | elapsed:   24.4s\n",
      "[Parallel(n_jobs=-1)]: Done  42 tasks      | elapsed:   32.3s\n",
      "[Parallel(n_jobs=-1)]: Done  53 tasks      | elapsed:   42.4s\n",
      "[Parallel(n_jobs=-1)]: Done  64 tasks      | elapsed:   55.7s\n",
      "[Parallel(n_jobs=-1)]: Done  77 tasks      | elapsed:  1.3min\n",
      "[Parallel(n_jobs=-1)]: Done  90 tasks      | elapsed:  1.6min\n",
      "[Parallel(n_jobs=-1)]: Done 105 tasks      | elapsed:  2.1min\n",
      "[Parallel(n_jobs=-1)]: Done 120 tasks      | elapsed:  2.4min\n",
      "[Parallel(n_jobs=-1)]: Done 137 tasks      | elapsed:  2.8min\n",
      "[Parallel(n_jobs=-1)]: Done 154 tasks      | elapsed:  3.3min\n",
      "[Parallel(n_jobs=-1)]: Done 173 tasks      | elapsed:  4.0min\n",
      "[Parallel(n_jobs=-1)]: Done 192 tasks      | elapsed:  5.1min\n",
      "[Parallel(n_jobs=-1)]: Done 213 tasks      | elapsed:  6.1min\n",
      "[Parallel(n_jobs=-1)]: Done 234 tasks      | elapsed:  6.7min\n",
      "[Parallel(n_jobs=-1)]: Done 257 tasks      | elapsed:  7.7min\n",
      "[Parallel(n_jobs=-1)]: Done 280 tasks      | elapsed:  9.0min\n",
      "[Parallel(n_jobs=-1)]: Done 300 out of 300 | elapsed: 10.9min finished\n"
     ]
    },
    {
     "name": "stdout",
     "output_type": "stream",
     "text": [
      "Wall time: 11min 8s\n"
     ]
    },
    {
     "data": {
      "text/plain": [
       "GridSearchCV(cv=5, error_score='raise',\n",
       "       estimator=RandomForestRegressor(bootstrap=True, criterion='mse', max_depth=None,\n",
       "           max_features='auto', max_leaf_nodes=None,\n",
       "           min_impurity_split=1e-07, min_samples_leaf=1,\n",
       "           min_samples_split=2, min_weight_fraction_leaf=0.0,\n",
       "           n_estimators=10, n_jobs=1, oob_score=False, random_state=108,\n",
       "           verbose=0, warm_start=False),\n",
       "       fit_params={}, iid=True, n_jobs=-1,\n",
       "       param_grid={'n_estimators': [300, 500, 750, 1000], 'max_features': [5, 10, 25, 50, 100], 'max_depth': [5, 10, 20]},\n",
       "       pre_dispatch='2*n_jobs', refit=True, return_train_score=True,\n",
       "       scoring=None, verbose=10)"
      ]
     },
     "execution_count": 67,
     "metadata": {},
     "output_type": "execute_result"
    }
   ],
   "source": [
    "from sklearn.model_selection import GridSearchCV\n",
    "param_grid = { \"n_estimators\"      : [300, 500, 750, 1000],\n",
    "           \"max_features\"      : [5, 10, 25, 50, 100],\n",
    "           \"max_depth\"         : [5, 10, 20]}\n",
    "randomForest.set_params(random_state=108)\n",
    "grid_search_tree = GridSearchCV(randomForest, param_grid, cv=5, n_jobs=-1, verbose=10)\n",
    "%time grid_search_tree.fit(x_train, y_train)"
   ]
  },
  {
   "cell_type": "code",
   "execution_count": 68,
   "metadata": {},
   "outputs": [
    {
     "data": {
      "text/plain": [
       "{'max_depth': 20, 'max_features': 50, 'n_estimators': 1000}"
      ]
     },
     "execution_count": 68,
     "metadata": {},
     "output_type": "execute_result"
    }
   ],
   "source": [
    "grid_search_tree.best_params_"
   ]
  },
  {
   "cell_type": "code",
   "execution_count": 70,
   "metadata": {},
   "outputs": [
    {
     "data": {
      "text/plain": [
       "0.1482834383596599"
      ]
     },
     "execution_count": 70,
     "metadata": {},
     "output_type": "execute_result"
    }
   ],
   "source": [
    "pred_test = grid_search_tree.predict(x_test)\n",
    "np.sqrt(np.mean((pred_test - y_test)**2))"
   ]
  },
  {
   "cell_type": "code",
   "execution_count": null,
   "metadata": {
    "collapsed": true
   },
   "outputs": [],
   "source": []
  }
 ],
 "metadata": {
  "kernelspec": {
   "display_name": "Python 3",
   "language": "python",
   "name": "python3"
  },
  "language_info": {
   "codemirror_mode": {
    "name": "ipython",
    "version": 3
   },
   "file_extension": ".py",
   "mimetype": "text/x-python",
   "name": "python",
   "nbconvert_exporter": "python",
   "pygments_lexer": "ipython3",
   "version": "3.6.2"
  }
 },
 "nbformat": 4,
 "nbformat_minor": 2
}
