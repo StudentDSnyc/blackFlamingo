{
 "cells": [
  {
   "cell_type": "code",
   "execution_count": 67,
   "metadata": {},
   "outputs": [],
   "source": [
    "from sklearn.linear_model import ElasticNet, LinearRegression as lr\n",
    "from sklearn.ensemble import GradientBoostingRegressor as gbr, RandomForestRegressor as rfr\n",
    "from xgboost import XGBRegressor"
   ]
  },
  {
   "cell_type": "code",
   "execution_count": 68,
   "metadata": {},
   "outputs": [
    {
     "name": "stdout",
     "output_type": "stream",
     "text": [
      "The autoreload extension is already loaded. To reload it, use:\n",
      "  %reload_ext autoreload\n"
     ]
    }
   ],
   "source": [
    "# Useful if you are debugging the function inside another .py script\n",
    "%load_ext autoreload\n",
    "%autoreload 2"
   ]
  },
  {
   "cell_type": "code",
   "execution_count": 69,
   "metadata": {},
   "outputs": [],
   "source": [
    "import pandas as pd\n",
    "\n",
    "houses_train = pd.read_csv('../Data/encoded_houses_train.csv')\n",
    "houses_test = pd.read_csv('../Data/encoded_houses_test.csv')"
   ]
  },
  {
   "cell_type": "code",
   "execution_count": 70,
   "metadata": {},
   "outputs": [],
   "source": [
    "X_train = houses_train.loc[:, houses_train.columns != \"SalePrice\"].values # convert to np.array\n",
    "y_train = houses_train.loc[:, houses_train.columns == \"SalePrice\"].values.reshape(-1, )\n",
    "\n",
    "X_test = houses_test.loc[:, houses_train.columns != \"SalePrice\"].values # convert to np.array"
   ]
  },
  {
   "cell_type": "code",
   "execution_count": 71,
   "metadata": {},
   "outputs": [],
   "source": [
    "from stacking import stacking_regression\n",
    "from sklearn.metrics import mean_squared_error\n",
    "import numpy as np"
   ]
  },
  {
   "cell_type": "code",
   "execution_count": 72,
   "metadata": {},
   "outputs": [],
   "source": [
    "from sklearn.metrics import mean_squared_log_error\n",
    "def rmsle(y, y_pred):\n",
    "    return np.sqrt(mean_squared_log_error(y, y_pred))"
   ]
  },
  {
   "cell_type": "code",
   "execution_count": null,
   "metadata": {},
   "outputs": [],
   "source": [
    "models = [\n",
    "    # linear model, ElasticNet = lasso + ridge\n",
    "    ElasticNet(random_state=0, \n",
    "              fit_intercept=True, alpha=0.18069, l1_ratio=0.01),\n",
    "    \n",
    "    # deep random forest model\n",
    "    rfr(random_state=0,\n",
    "        n_estimators=1000, max_depth=20,  max_features=70),\n",
    "    \n",
    "    # aggressive random forest model\n",
    "    rfr(random_state=0, \n",
    "        n_estimators=1500, max_depth=10,  max_features=75),\n",
    "    \n",
    "    # conservative gbm model\n",
    "    gbr(random_state=0, learning_rate = 0.005, max_features='sqrt',\n",
    "        min_samples_leaf=15, min_samples_split=10, \n",
    "        n_estimators=3000, max_depth=3),\n",
    "    \n",
    "    # aggressive gbm model\n",
    "    gbr(random_state = 0, learning_rate = 0.01, max_features='sqrt',\n",
    "        min_samples_leaf=10, min_samples_split=5, \n",
    "        n_estimators = 1000, max_depth = 9)\n",
    "    ]\n",
    "\n",
    "meta_model = lr(normalize=True)"
   ]
  },
  {
   "cell_type": "code",
   "execution_count": null,
   "metadata": {},
   "outputs": [
    {
     "name": "stdout",
     "output_type": "stream",
     "text": [
      "metric: [rmsle]\n",
      "\n",
      "model 0: [ElasticNet]\n",
      "    fold 0: [0.11174785]\n",
      "    fold 1: [0.14402997]\n",
      "    fold 2: [0.12856209]\n",
      "    fold 3: [0.11664593]\n",
      "    fold 4: [0.15702438]\n",
      "    ----\n",
      "    MEAN:   [0.13268259]\n",
      "\n",
      "model 1: [RandomForestRegressor]\n",
      "    fold 0: [0.11933864]\n",
      "    fold 1: [0.14926581]\n",
      "    fold 2: [0.14516046]\n",
      "    fold 3: [0.12589981]\n",
      "    fold 4: [0.13240177]\n",
      "    ----\n",
      "    MEAN:   [0.13488851]\n",
      "\n",
      "model 2: [RandomForestRegressor]\n",
      "    fold 0: [0.12064394]\n",
      "    fold 1: [0.15028258]\n",
      "    fold 2: [0.14689157]\n",
      "    fold 3: [0.12692987]\n"
     ]
    }
   ],
   "source": [
    "%%time\n",
    "stacking_features, stacking_prediction = stacking_regression(models, \n",
    "                                          rfr(random_state=0,\n",
    "                                              n_estimators=1000, \n",
    "                                              max_depth=5,  \n",
    "                                              max_features=2), \n",
    "                                          X_train, y_train, X_test,\n",
    "                                          transform_target=np.log1p, transform_pred = np.expm1, \n",
    "                                          metric=rmsle, verbose=2, n_folds=5)"
   ]
  },
  {
   "cell_type": "code",
   "execution_count": null,
   "metadata": {},
   "outputs": [],
   "source": [
    "print(stacking_features.shape)\n",
    "print(stacking_prediction.shape)"
   ]
  },
  {
   "cell_type": "code",
   "execution_count": null,
   "metadata": {},
   "outputs": [],
   "source": [
    "stacking_prediction[0:5]"
   ]
  },
  {
   "cell_type": "markdown",
   "metadata": {},
   "source": [
    "Replace shallow RF with splines model"
   ]
  },
  {
   "cell_type": "code",
   "execution_count": null,
   "metadata": {},
   "outputs": [],
   "source": [
    "splines_features = np.array(pd.read_csv('../R/2017-11-12 14-38-24 splines_features.csv'))"
   ]
  },
  {
   "cell_type": "code",
   "execution_count": null,
   "metadata": {},
   "outputs": [],
   "source": [
    "splines_features[0:3,1]"
   ]
  },
  {
   "cell_type": "code",
   "execution_count": null,
   "metadata": {},
   "outputs": [],
   "source": [
    "stacking_features[0:3,:]"
   ]
  },
  {
   "cell_type": "code",
   "execution_count": null,
   "metadata": {},
   "outputs": [],
   "source": [
    "stacking_features[:,2] = splines_features[:,1]"
   ]
  },
  {
   "cell_type": "code",
   "execution_count": null,
   "metadata": {},
   "outputs": [],
   "source": [
    "stacking_features[0:3,:]"
   ]
  },
  {
   "cell_type": "code",
   "execution_count": null,
   "metadata": {},
   "outputs": [],
   "source": [
    "import sklearn.model_selection as ms\n",
    "\n",
    "def averaging_score(x, y):\n",
    "    return rmsle(x.mean(axis=1), y)\n",
    "\n",
    "averaging_score(stacking_features, y_train)"
   ]
  },
  {
   "cell_type": "markdown",
   "metadata": {},
   "source": [
    "One way to evaluate a meta-model: cross_val_score"
   ]
  },
  {
   "cell_type": "code",
   "execution_count": null,
   "metadata": {},
   "outputs": [],
   "source": [
    "meta_model = rfr(random_state=0, n_estimators=500, max_depth=1, max_features=2)"
   ]
  },
  {
   "cell_type": "code",
   "execution_count": null,
   "metadata": {},
   "outputs": [],
   "source": [
    "score = ms.cross_val_score(estimator=meta_model, X= stacking_features, y=y_train, cv=5, scoring='neg_mean_squared_log_error')\n",
    "print(np.sqrt(score * -1))\n",
    "print(np.mean(np.sqrt(score * -1)))"
   ]
  },
  {
   "cell_type": "markdown",
   "metadata": {},
   "source": [
    "another way -- using gridsearchCV to tune params, and use the crossval score from best param set"
   ]
  },
  {
   "cell_type": "code",
   "execution_count": null,
   "metadata": {},
   "outputs": [],
   "source": [
    "param_grid = { \"n_estimators\"      : [500, 750],\n",
    "           \"max_features\"      : range(1, 6),\n",
    "           \"max_depth\"         : range(1, 6)}\n",
    "meta_model.set_params(random_state=67)\n",
    "grid_search_tree = ms.GridSearchCV(meta_model, param_grid, cv=5, n_jobs=-1, verbose=10, scoring='neg_mean_squared_log_error')\n",
    "%time grid_search_tree.fit(stacking_features, y_train)"
   ]
  },
  {
   "cell_type": "code",
   "execution_count": null,
   "metadata": {},
   "outputs": [],
   "source": [
    "grid_search_tree.best_params_"
   ]
  },
  {
   "cell_type": "code",
   "execution_count": null,
   "metadata": {},
   "outputs": [],
   "source": [
    "np.sqrt(grid_search_tree.best_score_ * -1)"
   ]
  },
  {
   "cell_type": "code",
   "execution_count": null,
   "metadata": {},
   "outputs": [],
   "source": []
  },
  {
   "cell_type": "code",
   "execution_count": null,
   "metadata": {},
   "outputs": [],
   "source": []
  }
 ],
 "metadata": {
  "kernelspec": {
   "display_name": "Python 3",
   "language": "python",
   "name": "python3"
  },
  "language_info": {
   "codemirror_mode": {
    "name": "ipython",
    "version": 3
   },
   "file_extension": ".py",
   "mimetype": "text/x-python",
   "name": "python",
   "nbconvert_exporter": "python",
   "pygments_lexer": "ipython3",
   "version": "3.6.3"
  }
 },
 "nbformat": 4,
 "nbformat_minor": 2
}
