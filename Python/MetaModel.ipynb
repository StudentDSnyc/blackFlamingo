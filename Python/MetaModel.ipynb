{
 "cells": [
  {
   "cell_type": "code",
   "execution_count": 227,
   "metadata": {},
   "outputs": [],
   "source": [
    "from sklearn.linear_model import ElasticNet, LinearRegression as lr\n",
    "from sklearn.ensemble import GradientBoostingRegressor as gbr, RandomForestRegressor as rfr\n",
    "from xgboost import XGBRegressor"
   ]
  },
  {
   "cell_type": "code",
   "execution_count": 228,
   "metadata": {},
   "outputs": [
    {
     "name": "stdout",
     "output_type": "stream",
     "text": [
      "The autoreload extension is already loaded. To reload it, use:\n",
      "  %reload_ext autoreload\n"
     ]
    }
   ],
   "source": [
    "# Useful if you are debugging the function inside another .py script\n",
    "%load_ext autoreload\n",
    "%autoreload 2"
   ]
  },
  {
   "cell_type": "code",
   "execution_count": 229,
   "metadata": {},
   "outputs": [],
   "source": [
    "import pandas as pd\n",
    "\n",
    "houses_train = pd.read_csv('../Data/encoded_houses_train.csv')\n",
    "houses_test = pd.read_csv('../Data/encoded_houses_test.csv')"
   ]
  },
  {
   "cell_type": "code",
   "execution_count": 230,
   "metadata": {},
   "outputs": [],
   "source": [
    "X_train = houses_train.loc[:, houses_train.columns != \"SalePrice\"].values # convert to np.array\n",
    "y_train = houses_train.loc[:, houses_train.columns == \"SalePrice\"].values.reshape(-1, )\n",
    "\n",
    "X_test = houses_test.loc[:, houses_train.columns != \"SalePrice\"].values # convert to np.array"
   ]
  },
  {
   "cell_type": "code",
   "execution_count": 231,
   "metadata": {},
   "outputs": [],
   "source": [
    "from stacking import stacking_regression\n",
    "from sklearn.metrics import mean_squared_error\n",
    "import numpy as np"
   ]
  },
  {
   "cell_type": "code",
   "execution_count": 232,
   "metadata": {},
   "outputs": [],
   "source": [
    "from sklearn.metrics import mean_squared_log_error\n",
    "def rmsle(y, y_pred):\n",
    "    return np.sqrt(mean_squared_log_error(y, y_pred))"
   ]
  },
  {
   "cell_type": "code",
   "execution_count": 233,
   "metadata": {},
   "outputs": [],
   "source": [
    "models = [\n",
    "#     # linear model, ElasticNet = lasso + ridge\n",
    "#     ElasticNet(random_state=0, \n",
    "#               fit_intercept=True, alpha=0.18069, l1_ratio=0.01),\n",
    "    \n",
    "    # deep random forest model\n",
    "#     rfr(random_state=0,\n",
    "#         n_estimators=1000, max_depth=20,  max_features=70),\n",
    "    \n",
    "#     # aggressive random forest model\n",
    "#     rfr(random_state=0, \n",
    "#         n_estimators=1500, max_depth=10,  max_features=75),\n",
    "    \n",
    "#     # conservative gbm model\n",
    "#     gbr(random_state=0, learning_rate = 0.005, max_features='sqrt',\n",
    "#         min_samples_leaf=15, min_samples_split=10, \n",
    "#         n_estimators=3000, max_depth=3),\n",
    "    \n",
    "#     # aggressive gbm model\n",
    "#     gbr(random_state = 0, learning_rate = 0.01, max_features='sqrt',\n",
    "#         min_samples_leaf=10, min_samples_split=5, \n",
    "#         n_estimators = 1000, max_depth = 9)\n",
    "    \n",
    "    XGBRegressor(max_depth=3, \n",
    "                 learning_rate=0.03, \n",
    "                 n_estimators=1700, # Number of boosted trees to fit\n",
    "                 silent=True, # print messages while running \n",
    "                 objective='reg:linear', \n",
    "                 booster='gbtree', # Specify which booster to use: gbtree, gblinear or dart\n",
    "                 n_jobs=-1, # Number of parallel threads used to run xgboost. (replaces nthread)\n",
    "                 gamma=0,  # Minimum loss reduction required to make a further partition on a leaf node of the tree.\n",
    "                 min_child_weight=1, # Minimum sum of instance weight(hessian) needed in a child\n",
    "                 max_delta_step=0, # Maximum delta step we allow each tree’s weight estimation to be\n",
    "                 subsample=1, # Subsample ratio of the training instance\n",
    "                 colsample_bytree=1, # Subsample ratio of columns when constructing each tree\n",
    "                 colsample_bylevel=0.3, # Subsample ratio of columns for each split, in each level\n",
    "                 reg_alpha=0, # L1 regularization term on weights\n",
    "                 reg_lambda=1, # L2 regularization term on weights\n",
    "                 scale_pos_weight=1, # Balancing of positive and negative weights\n",
    "                 base_score=0.5, # The initial prediction score of all instances, global bias\n",
    "                 random_state=743, \n",
    "                 missing=None),\n",
    "\n",
    "    ]\n",
    "\n",
    "meta_model = lr(normalize=True)"
   ]
  },
  {
   "cell_type": "code",
   "execution_count": 234,
   "metadata": {},
   "outputs": [
    {
     "name": "stdout",
     "output_type": "stream",
     "text": [
      "metric: [rmsle]\n",
      "\n",
      "using default dataset\n",
      "model 0: [XGBRegressor]\n",
      "    fold 0: [0.10726674]\n",
      "    fold 1: [0.13252907]\n",
      "    fold 2: [0.12698703]\n",
      "    fold 3: [0.10451538]\n",
      "    fold 4: [0.11525209]\n",
      "    ----\n",
      "    MEAN:   [0.11781538]\n",
      "\n",
      "CPU times: user 43 s, sys: 318 ms, total: 43.3 s\n",
      "Wall time: 43.5 s\n"
     ]
    }
   ],
   "source": [
    "%%time\n",
    "stacking_features, stacking_prediction = stacking_regression(models,  \n",
    "                                                             X_train, y_train, X_test,\n",
    "                                                             transform_target=np.log1p, \n",
    "                                                             transform_pred = np.expm1, \n",
    "                                                             metric=rmsle, verbose=2, n_folds=5)\n"
   ]
  },
  {
   "cell_type": "code",
   "execution_count": 235,
   "metadata": {},
   "outputs": [
    {
     "name": "stdout",
     "output_type": "stream",
     "text": [
      "(1460, 1)\n",
      "(1459, 1)\n"
     ]
    }
   ],
   "source": [
    "print(stacking_features.shape)\n",
    "print(stacking_prediction.shape)"
   ]
  },
  {
   "cell_type": "code",
   "execution_count": 236,
   "metadata": {},
   "outputs": [
    {
     "data": {
      "text/plain": [
       "array([[ 204999.015625],\n",
       "       [ 184164.21875 ],\n",
       "       [ 208079.203125],\n",
       "       [ 184706.3125  ],\n",
       "       [ 295874.3125  ]])"
      ]
     },
     "execution_count": 236,
     "metadata": {},
     "output_type": "execute_result"
    },
    {
     "data": {
      "text/plain": [
       "array([[ 123093.8203125],\n",
       "       [ 157722.80625  ],\n",
       "       [ 187823.58125  ],\n",
       "       [ 192872.565625 ],\n",
       "       [ 182545.7      ]])"
      ]
     },
     "execution_count": 236,
     "metadata": {},
     "output_type": "execute_result"
    }
   ],
   "source": [
    "stacking_features[0:5]\n",
    "stacking_prediction[0:5]"
   ]
  },
  {
   "cell_type": "markdown",
   "metadata": {},
   "source": [
    "Replace shallow RF with splines model"
   ]
  },
  {
   "cell_type": "code",
   "execution_count": 237,
   "metadata": {},
   "outputs": [],
   "source": [
    "splines_features = np.array(pd.read_csv('../R/2017-11-12 17-34-10 splines_features.csv'))\n",
    "splines_predictions = np.array(pd.read_csv('../R/2017-11-12 15-58-28 splines_predictions.csv'))"
   ]
  },
  {
   "cell_type": "code",
   "execution_count": 238,
   "metadata": {},
   "outputs": [
    {
     "data": {
      "text/plain": [
       "array([ 207566.93888495,  214669.16703789,  214696.62457309])"
      ]
     },
     "execution_count": 238,
     "metadata": {},
     "output_type": "execute_result"
    },
    {
     "data": {
      "text/plain": [
       "array([ 116475.83560003,  152685.11721187,  182211.34550559])"
      ]
     },
     "execution_count": 238,
     "metadata": {},
     "output_type": "execute_result"
    }
   ],
   "source": [
    "splines_features[0:3,1]\n",
    "splines_predictions[0:3,1]"
   ]
  },
  {
   "cell_type": "code",
   "execution_count": 239,
   "metadata": {},
   "outputs": [
    {
     "data": {
      "text/plain": [
       "array([[ 204999.015625],\n",
       "       [ 184164.21875 ],\n",
       "       [ 208079.203125]])"
      ]
     },
     "execution_count": 239,
     "metadata": {},
     "output_type": "execute_result"
    },
    {
     "data": {
      "text/plain": [
       "array([[ 123093.8203125],\n",
       "       [ 157722.80625  ],\n",
       "       [ 187823.58125  ]])"
      ]
     },
     "execution_count": 239,
     "metadata": {},
     "output_type": "execute_result"
    }
   ],
   "source": [
    "stacking_features[0:3,:]\n",
    "stacking_prediction[0:3,:]"
   ]
  },
  {
   "cell_type": "code",
   "execution_count": 240,
   "metadata": {},
   "outputs": [
    {
     "data": {
      "text/plain": [
       "(1460, 1)"
      ]
     },
     "execution_count": 240,
     "metadata": {},
     "output_type": "execute_result"
    },
    {
     "data": {
      "text/plain": [
       "(1460, 2)"
      ]
     },
     "execution_count": 240,
     "metadata": {},
     "output_type": "execute_result"
    },
    {
     "data": {
      "text/plain": [
       "(1460,)"
      ]
     },
     "execution_count": 240,
     "metadata": {},
     "output_type": "execute_result"
    },
    {
     "data": {
      "text/plain": [
       "(1459, 2)"
      ]
     },
     "execution_count": 240,
     "metadata": {},
     "output_type": "execute_result"
    }
   ],
   "source": [
    "stacking_features.shape\n",
    "splines_features.shape\n",
    "splines_features[:,1].shape\n",
    "splines_predictions.shape"
   ]
  },
  {
   "cell_type": "code",
   "execution_count": 241,
   "metadata": {},
   "outputs": [],
   "source": [
    "from stacking import append_meta_features\n",
    "\n",
    "stacking_features, stacking_prediction = append_meta_features(stacking_features, \n",
    "                                                              stacking_prediction, \n",
    "                                                              splines_features[:,1].reshape(-1, 1),\n",
    "                                                              splines_predictions[:,1].reshape(-1, 1))"
   ]
  },
  {
   "cell_type": "code",
   "execution_count": 242,
   "metadata": {},
   "outputs": [
    {
     "data": {
      "text/plain": [
       "(1460, 2)"
      ]
     },
     "execution_count": 242,
     "metadata": {},
     "output_type": "execute_result"
    }
   ],
   "source": [
    "stacking_features.shape"
   ]
  },
  {
   "cell_type": "code",
   "execution_count": 243,
   "metadata": {},
   "outputs": [
    {
     "data": {
      "text/plain": [
       "array([[ 184164.21875   ,  214669.16703789],\n",
       "       [ 208079.203125  ,  214696.62457309]])"
      ]
     },
     "execution_count": 243,
     "metadata": {},
     "output_type": "execute_result"
    },
    {
     "data": {
      "text/plain": [
       "array([[ 157722.80625   ,  152685.11721187],\n",
       "       [ 187823.58125   ,  182211.34550559]])"
      ]
     },
     "execution_count": 243,
     "metadata": {},
     "output_type": "execute_result"
    }
   ],
   "source": [
    "stacking_features[1:3,:]\n",
    "stacking_prediction[1:3,:]"
   ]
  },
  {
   "cell_type": "code",
   "execution_count": 244,
   "metadata": {},
   "outputs": [
    {
     "data": {
      "text/plain": [
       "array([ 174340.171875,  197251.84375 ,  262363.34375 ,  143586.875   ,\n",
       "        153073.3125  ])"
      ]
     },
     "execution_count": 244,
     "metadata": {},
     "output_type": "execute_result"
    }
   ],
   "source": [
    "stacking_features[-5:,0]"
   ]
  },
  {
   "cell_type": "code",
   "execution_count": 245,
   "metadata": {},
   "outputs": [
    {
     "data": {
      "text/plain": [
       "array([ 182136.47124518,  216730.33285582,  243911.84142698,\n",
       "        143447.24443165,  149231.1106964 ])"
      ]
     },
     "execution_count": 245,
     "metadata": {},
     "output_type": "execute_result"
    }
   ],
   "source": [
    "stacking_features[-5:,1]"
   ]
  },
  {
   "cell_type": "code",
   "execution_count": 246,
   "metadata": {},
   "outputs": [
    {
     "data": {
      "text/plain": [
       "0.11439506632484021"
      ]
     },
     "execution_count": 246,
     "metadata": {},
     "output_type": "execute_result"
    },
    {
     "data": {
      "text/plain": [
       "(array([ 206282.97725498,  199416.69289395,  211387.91384905, ...,\n",
       "         253137.59258849,  143517.05971582,  151152.2115982 ]),\n",
       " array([ 208500.,  181500.,  223500., ...,  266500.,  142125.,  147500.]))"
      ]
     },
     "execution_count": 246,
     "metadata": {},
     "output_type": "execute_result"
    },
    {
     "data": {
      "text/plain": [
       "0.11439596577593641"
      ]
     },
     "execution_count": 246,
     "metadata": {},
     "output_type": "execute_result"
    },
    {
     "data": {
      "text/plain": [
       "0.11781629738643835"
      ]
     },
     "execution_count": 246,
     "metadata": {},
     "output_type": "execute_result"
    },
    {
     "data": {
      "text/plain": [
       "0.12438846250408098"
      ]
     },
     "execution_count": 246,
     "metadata": {},
     "output_type": "execute_result"
    }
   ],
   "source": [
    "import sklearn.model_selection as ms\n",
    "\n",
    "def averaging_score(x, y):\n",
    "    return rmsle(x.mean(axis=1), y)\n",
    "\n",
    "averaging_score(stacking_features, y_train)\n",
    "\n",
    "stacking_features.mean(axis=1), y_train\n",
    "np.sqrt(np.mean((np.log(stacking_features.mean(axis=1))-np.log(y_train))**2))\n",
    "\n",
    "np.sqrt(np.mean((np.log(stacking_features[:,0])-np.log(y_train))**2))\n",
    "np.sqrt(np.mean((np.log(stacking_features[:,1])-np.log(y_train))**2))"
   ]
  },
  {
   "cell_type": "code",
   "execution_count": 247,
   "metadata": {},
   "outputs": [
    {
     "data": {
      "text/plain": [
       "0.12438846250408098"
      ]
     },
     "execution_count": 247,
     "metadata": {},
     "output_type": "execute_result"
    }
   ],
   "source": [
    "np.sqrt(np.mean((np.log(stacking_features[:,1])-np.log(y_train))**2))"
   ]
  },
  {
   "cell_type": "markdown",
   "metadata": {},
   "source": [
    "One way to evaluate a meta-model: cross_val_score"
   ]
  },
  {
   "cell_type": "code",
   "execution_count": 248,
   "metadata": {},
   "outputs": [],
   "source": [
    "meta_model = gbr(random_state = 0, learning_rate = 0.01, max_features='sqrt',\n",
    "                 min_samples_leaf=10, min_samples_split=5, \n",
    "                 n_estimators = 1000, max_depth = 9)"
   ]
  },
  {
   "cell_type": "code",
   "execution_count": 249,
   "metadata": {},
   "outputs": [
    {
     "name": "stdout",
     "output_type": "stream",
     "text": [
      "[ 0.11372052  0.13899879  0.1271798   0.11510308  0.12365745]\n",
      "0.123731928536\n"
     ]
    }
   ],
   "source": [
    "score = ms.cross_val_score(estimator=meta_model, X= stacking_features, y=y_train, cv=5, scoring='neg_mean_squared_log_error')\n",
    "print(np.sqrt(score * -1))\n",
    "print(np.mean(np.sqrt(score * -1)))"
   ]
  },
  {
   "cell_type": "markdown",
   "metadata": {},
   "source": [
    "another way -- using gridsearchCV to tune params, and use the crossval score from best param set"
   ]
  },
  {
   "cell_type": "code",
   "execution_count": 250,
   "metadata": {},
   "outputs": [
    {
     "data": {
      "text/plain": [
       "GradientBoostingRegressor(alpha=0.9, criterion='friedman_mse', init=None,\n",
       "             learning_rate=0.01, loss='ls', max_depth=9,\n",
       "             max_features='sqrt', max_leaf_nodes=None,\n",
       "             min_impurity_decrease=0.0, min_impurity_split=None,\n",
       "             min_samples_leaf=10, min_samples_split=5,\n",
       "             min_weight_fraction_leaf=0.0, n_estimators=1000,\n",
       "             presort='auto', random_state=67, subsample=1.0, verbose=0,\n",
       "             warm_start=False)"
      ]
     },
     "execution_count": 250,
     "metadata": {},
     "output_type": "execute_result"
    },
    {
     "name": "stdout",
     "output_type": "stream",
     "text": [
      "Fitting 5 folds for each of 10 candidates, totalling 50 fits\n",
      "[CV] max_depth=1, max_features=1, n_estimators=500 ...................\n",
      "[CV] max_depth=1, max_features=1, n_estimators=500 ...................\n",
      "[CV] max_depth=1, max_features=1, n_estimators=500 ...................\n",
      "[CV] max_depth=1, max_features=1, n_estimators=500 ...................\n",
      "[CV]  max_depth=1, max_features=1, n_estimators=500, score=-0.02279496719401029, total=   0.3s\n",
      "[CV]  max_depth=1, max_features=1, n_estimators=500, score=-0.016067991047111596, total=   0.4s\n",
      "[CV]  max_depth=1, max_features=1, n_estimators=500, score=-0.029404134664068236, total=   0.4s\n",
      "[CV] max_depth=1, max_features=1, n_estimators=500 ...................\n",
      "[CV] max_depth=1, max_features=1, n_estimators=750 ...................\n",
      "[CV]  max_depth=1, max_features=1, n_estimators=500, score=-0.022120623227422895, total=   0.4s\n",
      "[CV] max_depth=1, max_features=1, n_estimators=750 ...................\n",
      "[CV] max_depth=1, max_features=1, n_estimators=750 ...................\n",
      "[CV]  max_depth=1, max_features=1, n_estimators=500, score=-0.02013291131544258, total=   0.3s\n",
      "[CV] max_depth=1, max_features=1, n_estimators=750 ...................\n",
      "[CV]  max_depth=1, max_features=1, n_estimators=750, score=-0.022783051533192426, total=   0.4s\n",
      "[CV] max_depth=1, max_features=1, n_estimators=750 ...................\n",
      "[CV]  max_depth=1, max_features=1, n_estimators=750, score=-0.01153649203729984, total=   0.4s\n",
      "[CV] max_depth=2, max_features=1, n_estimators=500 ...................\n",
      "[CV]  max_depth=1, max_features=1, n_estimators=750, score=-0.017388144189744555, total=   0.4s\n",
      "[CV] max_depth=2, max_features=1, n_estimators=500 ...................\n"
     ]
    },
    {
     "name": "stderr",
     "output_type": "stream",
     "text": [
      "[Parallel(n_jobs=-1)]: Done   5 tasks      | elapsed:    0.7s\n"
     ]
    },
    {
     "name": "stdout",
     "output_type": "stream",
     "text": [
      "[CV]  max_depth=1, max_features=1, n_estimators=750, score=-0.015657489896969093, total=   0.4s\n",
      "[CV] max_depth=2, max_features=1, n_estimators=500 ...................\n",
      "[CV]  max_depth=2, max_features=1, n_estimators=500, score=-0.011042753526138021, total=   0.4s\n",
      "[CV] max_depth=2, max_features=1, n_estimators=500 ...................\n",
      "[CV]  max_depth=2, max_features=1, n_estimators=500, score=-0.01956911682723461, total=   0.4s\n",
      "[CV] max_depth=2, max_features=1, n_estimators=500 ...................\n",
      "[CV]  max_depth=1, max_features=1, n_estimators=750, score=-0.015240952291279862, total=   0.5s\n",
      "[CV] max_depth=2, max_features=1, n_estimators=750 ...................\n"
     ]
    },
    {
     "name": "stderr",
     "output_type": "stream",
     "text": [
      "[Parallel(n_jobs=-1)]: Done  10 tasks      | elapsed:    1.3s\n"
     ]
    },
    {
     "name": "stdout",
     "output_type": "stream",
     "text": [
      "[CV]  max_depth=2, max_features=1, n_estimators=500, score=-0.015896489836927208, total=   0.5s\n",
      "[CV] max_depth=2, max_features=1, n_estimators=750 ...................\n",
      "[CV]  max_depth=2, max_features=1, n_estimators=500, score=-0.012815238273745684, total=   0.5s\n",
      "[CV] max_depth=2, max_features=1, n_estimators=750 ...................\n",
      "[CV]  max_depth=2, max_features=1, n_estimators=500, score=-0.013594296969201735, total=   0.5s\n",
      "[CV] max_depth=2, max_features=1, n_estimators=750 ...................\n",
      "[CV]  max_depth=2, max_features=1, n_estimators=750, score=-0.011166975751634526, total=   0.6s\n",
      "[CV] max_depth=2, max_features=1, n_estimators=750 ...................\n",
      "[CV]  max_depth=2, max_features=1, n_estimators=750, score=-0.018954405044877852, total=   0.5s\n",
      "[CV] max_depth=3, max_features=1, n_estimators=500 ...................\n",
      "[CV]  max_depth=2, max_features=1, n_estimators=750, score=-0.01591138716769468, total=   0.5s\n",
      "[CV] max_depth=3, max_features=1, n_estimators=500 ...................\n",
      "[CV]  max_depth=2, max_features=1, n_estimators=750, score=-0.012393364129518669, total=   0.5s\n",
      "[CV] max_depth=3, max_features=1, n_estimators=500 ...................\n"
     ]
    },
    {
     "name": "stderr",
     "output_type": "stream",
     "text": [
      "[Parallel(n_jobs=-1)]: Done  17 tasks      | elapsed:    2.2s\n"
     ]
    },
    {
     "name": "stdout",
     "output_type": "stream",
     "text": [
      "[CV]  max_depth=2, max_features=1, n_estimators=750, score=-0.013680086633793208, total=   0.5s\n",
      "[CV] max_depth=3, max_features=1, n_estimators=500 ...................\n",
      "[CV]  max_depth=3, max_features=1, n_estimators=500, score=-0.011278137943938992, total=   0.5s\n",
      "[CV] max_depth=3, max_features=1, n_estimators=500 ...................\n",
      "[CV]  max_depth=3, max_features=1, n_estimators=500, score=-0.0189499325904257, total=   0.5s\n",
      "[CV]  max_depth=3, max_features=1, n_estimators=500, score=-0.01564744435888353, total=   0.4s\n",
      "[CV] max_depth=3, max_features=1, n_estimators=750 ...................\n",
      "[CV] max_depth=3, max_features=1, n_estimators=750 ...................\n",
      "[CV]  max_depth=3, max_features=1, n_estimators=500, score=-0.012125545137926711, total=   0.4s\n",
      "[CV] max_depth=3, max_features=1, n_estimators=750 ...................\n",
      "[CV]  max_depth=3, max_features=1, n_estimators=500, score=-0.013627498938300802, total=   0.4s\n",
      "[CV] max_depth=3, max_features=1, n_estimators=750 ...................\n"
     ]
    },
    {
     "name": "stderr",
     "output_type": "stream",
     "text": [
      "[Parallel(n_jobs=-1)]: Done  24 tasks      | elapsed:    3.0s\n"
     ]
    },
    {
     "name": "stdout",
     "output_type": "stream",
     "text": [
      "[CV]  max_depth=3, max_features=1, n_estimators=750, score=-0.011401256047427458, total=   0.6s\n",
      "[CV] max_depth=3, max_features=1, n_estimators=750 ...................\n",
      "[CV]  max_depth=3, max_features=1, n_estimators=750, score=-0.018732414465177382, total=   0.6s\n",
      "[CV] max_depth=4, max_features=1, n_estimators=500 ...................\n",
      "[CV]  max_depth=3, max_features=1, n_estimators=750, score=-0.015676831824600522, total=   0.6s\n",
      "[CV] max_depth=4, max_features=1, n_estimators=500 ...................\n",
      "[CV]  max_depth=3, max_features=1, n_estimators=750, score=-0.012110797417931708, total=   0.5s\n",
      "[CV] max_depth=4, max_features=1, n_estimators=500 ...................\n",
      "[CV]  max_depth=4, max_features=1, n_estimators=500, score=-0.011337494996882597, total=   0.4s\n",
      "[CV] max_depth=4, max_features=1, n_estimators=500 ...................\n",
      "[CV]  max_depth=3, max_features=1, n_estimators=750, score=-0.013811787794995268, total=   0.6s\n",
      "[CV] max_depth=4, max_features=1, n_estimators=500 ...................\n",
      "[CV]  max_depth=4, max_features=1, n_estimators=500, score=-0.01875414393684545, total=   0.5s\n",
      "[CV] max_depth=4, max_features=1, n_estimators=750 ...................\n",
      "[CV]  max_depth=4, max_features=1, n_estimators=500, score=-0.015554826393813998, total=   0.5s\n",
      "[CV] max_depth=4, max_features=1, n_estimators=750 ...................\n",
      "[CV]  max_depth=4, max_features=1, n_estimators=500, score=-0.011846023753968656, total=   0.5s\n"
     ]
    },
    {
     "name": "stderr",
     "output_type": "stream",
     "text": [
      "[Parallel(n_jobs=-1)]: Done  33 tasks      | elapsed:    4.3s\n"
     ]
    },
    {
     "name": "stdout",
     "output_type": "stream",
     "text": [
      "[CV] max_depth=4, max_features=1, n_estimators=750 ...................\n",
      "[CV]  max_depth=4, max_features=1, n_estimators=500, score=-0.0136668584522407, total=   0.6s\n",
      "[CV] max_depth=4, max_features=1, n_estimators=750 ...................\n",
      "[CV]  max_depth=4, max_features=1, n_estimators=750, score=-0.0115265639129984, total=   0.7s\n",
      "[CV] max_depth=4, max_features=1, n_estimators=750 ...................\n",
      "[CV]  max_depth=4, max_features=1, n_estimators=750, score=-0.01861733509431819, total=   0.7s\n",
      "[CV] max_depth=5, max_features=1, n_estimators=500 ...................\n",
      "[CV]  max_depth=4, max_features=1, n_estimators=750, score=-0.015639963322369378, total=   0.5s\n",
      "[CV] max_depth=5, max_features=1, n_estimators=500 ...................\n",
      "[CV]  max_depth=4, max_features=1, n_estimators=750, score=-0.011888848467420969, total=   0.6s\n",
      "[CV] max_depth=5, max_features=1, n_estimators=500 ...................\n",
      "[CV]  max_depth=5, max_features=1, n_estimators=500, score=-0.011430718594326397, total=   0.7s\n",
      "[CV] max_depth=5, max_features=1, n_estimators=500 ...................\n",
      "[CV]  max_depth=4, max_features=1, n_estimators=750, score=-0.013855964791460888, total=   0.8s\n",
      "[CV] max_depth=5, max_features=1, n_estimators=500 ...................\n",
      "[CV]  max_depth=5, max_features=1, n_estimators=500, score=-0.018670885128899282, total=   0.6s\n",
      "[CV] max_depth=5, max_features=1, n_estimators=750 ...................\n",
      "[CV]  max_depth=5, max_features=1, n_estimators=500, score=-0.015636344549975336, total=   0.7s\n"
     ]
    },
    {
     "name": "stderr",
     "output_type": "stream",
     "text": [
      "[Parallel(n_jobs=-1)]: Done  42 tasks      | elapsed:    5.8s\n"
     ]
    },
    {
     "name": "stdout",
     "output_type": "stream",
     "text": [
      "[CV] max_depth=5, max_features=1, n_estimators=750 ...................\n",
      "[CV]  max_depth=5, max_features=1, n_estimators=500, score=-0.012041314866891995, total=   0.6s\n",
      "[CV]  max_depth=5, max_features=1, n_estimators=500, score=-0.013947590671523314, total=   0.6s\n",
      "[CV] max_depth=5, max_features=1, n_estimators=750 ...................\n",
      "[CV] max_depth=5, max_features=1, n_estimators=750 ...................\n",
      "[CV]  max_depth=5, max_features=1, n_estimators=750, score=-0.011657109358759373, total=   0.8s\n",
      "[CV] max_depth=5, max_features=1, n_estimators=750 ...................\n",
      "[CV]  max_depth=5, max_features=1, n_estimators=750, score=-0.018633138603155703, total=   0.8s\n",
      "[CV]  max_depth=5, max_features=1, n_estimators=750, score=-0.01571053988512303, total=   0.7s\n",
      "[CV]  max_depth=5, max_features=1, n_estimators=750, score=-0.012138390242397198, total=   0.7s\n",
      "[CV]  max_depth=5, max_features=1, n_estimators=750, score=-0.014200750497720405, total=   0.4s\n"
     ]
    },
    {
     "name": "stderr",
     "output_type": "stream",
     "text": [
      "[Parallel(n_jobs=-1)]: Done  50 out of  50 | elapsed:    7.2s finished\n"
     ]
    },
    {
     "name": "stdout",
     "output_type": "stream",
     "text": [
      "CPU times: user 445 ms, sys: 162 ms, total: 607 ms\n",
      "Wall time: 7.67 s\n"
     ]
    },
    {
     "data": {
      "text/plain": [
       "GridSearchCV(cv=5, error_score='raise',\n",
       "       estimator=GradientBoostingRegressor(alpha=0.9, criterion='friedman_mse', init=None,\n",
       "             learning_rate=0.01, loss='ls', max_depth=9,\n",
       "             max_features='sqrt', max_leaf_nodes=None,\n",
       "             min_impurity_decrease=0.0, min_impurity_split=None,\n",
       "             min_samples_leaf=10, min_samples_split=5,\n",
       "             min_weight_fraction_leaf=0.0, n_estimators=1000,\n",
       "             presort='auto', random_state=67, subsample=1.0, verbose=0,\n",
       "             warm_start=False),\n",
       "       fit_params=None, iid=True, n_jobs=-1,\n",
       "       param_grid={'n_estimators': [500, 750], 'max_features': range(1, 2), 'max_depth': range(1, 6)},\n",
       "       pre_dispatch='2*n_jobs', refit=True, return_train_score='warn',\n",
       "       scoring='neg_mean_squared_log_error', verbose=10)"
      ]
     },
     "execution_count": 250,
     "metadata": {},
     "output_type": "execute_result"
    }
   ],
   "source": [
    "param_grid = { \"n_estimators\"      : [500, 750],\n",
    "           \"max_features\"      : range(1, 2),\n",
    "           \"max_depth\"         : range(1, 6)}\n",
    "meta_model.set_params(random_state=67)\n",
    "grid_search_tree = ms.GridSearchCV(meta_model, param_grid, cv=5, n_jobs=-1, verbose=10, scoring='neg_mean_squared_log_error')\n",
    "%time grid_search_tree.fit(stacking_features, y_train)"
   ]
  },
  {
   "cell_type": "code",
   "execution_count": 251,
   "metadata": {},
   "outputs": [
    {
     "data": {
      "text/plain": [
       "{'max_depth': 4, 'max_features': 1, 'n_estimators': 500}"
      ]
     },
     "execution_count": 251,
     "metadata": {},
     "output_type": "execute_result"
    }
   ],
   "source": [
    "grid_search_tree.best_params_"
   ]
  },
  {
   "cell_type": "code",
   "execution_count": 252,
   "metadata": {},
   "outputs": [
    {
     "data": {
      "text/plain": [
       "0.1192973994131904"
      ]
     },
     "execution_count": 252,
     "metadata": {},
     "output_type": "execute_result"
    }
   ],
   "source": [
    "np.sqrt(grid_search_tree.best_score_ * -1)"
   ]
  },
  {
   "cell_type": "code",
   "execution_count": 270,
   "metadata": {},
   "outputs": [
    {
     "data": {
      "text/plain": [
       "array([ 122761.86713292,  155040.28695736,  177587.87086525, ...,\n",
       "        162191.93001178,  120129.61098835,  214317.4667008 ])"
      ]
     },
     "execution_count": 270,
     "metadata": {},
     "output_type": "execute_result"
    }
   ],
   "source": [
    "stacking_prediction_model = grid_search_tree.predict(stacking_prediction)\n",
    "stacking_prediction_model"
   ]
  },
  {
   "cell_type": "code",
   "execution_count": 255,
   "metadata": {},
   "outputs": [
    {
     "data": {
      "text/plain": [
       "array([[ 123093.8203125 ,  116475.83560003],\n",
       "       [ 157722.80625   ,  152685.11721187],\n",
       "       [ 187823.58125   ,  182211.34550559],\n",
       "       [ 192872.565625  ,  200004.35554143],\n",
       "       [ 182545.7       ,  199303.35548476],\n",
       "       [ 172196.946875  ,  172792.20986824],\n",
       "       [ 174421.21875   ,  178415.4691187 ],\n",
       "       [ 168104.346875  ,  164221.24539806],\n",
       "       [ 185497.56875   ,  190698.41061584],\n",
       "       [ 127708.315625  ,  119437.52758844]])"
      ]
     },
     "execution_count": 255,
     "metadata": {},
     "output_type": "execute_result"
    }
   ],
   "source": [
    "stacking_prediction[0:10,]"
   ]
  },
  {
   "cell_type": "code",
   "execution_count": 260,
   "metadata": {},
   "outputs": [
    {
     "data": {
      "text/html": [
       "<div>\n",
       "<style>\n",
       "    .dataframe thead tr:only-child th {\n",
       "        text-align: right;\n",
       "    }\n",
       "\n",
       "    .dataframe thead th {\n",
       "        text-align: left;\n",
       "    }\n",
       "\n",
       "    .dataframe tbody tr th {\n",
       "        vertical-align: top;\n",
       "    }\n",
       "</style>\n",
       "<table border=\"1\" class=\"dataframe\">\n",
       "  <thead>\n",
       "    <tr style=\"text-align: right;\">\n",
       "      <th></th>\n",
       "      <th>Id</th>\n",
       "      <th>SalePrice</th>\n",
       "    </tr>\n",
       "  </thead>\n",
       "  <tbody>\n",
       "    <tr>\n",
       "      <th>0</th>\n",
       "      <td>1461</td>\n",
       "      <td>119784.827956</td>\n",
       "    </tr>\n",
       "    <tr>\n",
       "      <th>1</th>\n",
       "      <td>1462</td>\n",
       "      <td>155203.961731</td>\n",
       "    </tr>\n",
       "    <tr>\n",
       "      <th>2</th>\n",
       "      <td>1463</td>\n",
       "      <td>185017.463378</td>\n",
       "    </tr>\n",
       "    <tr>\n",
       "      <th>3</th>\n",
       "      <td>1464</td>\n",
       "      <td>196438.460583</td>\n",
       "    </tr>\n",
       "    <tr>\n",
       "      <th>4</th>\n",
       "      <td>1465</td>\n",
       "      <td>190924.527742</td>\n",
       "    </tr>\n",
       "  </tbody>\n",
       "</table>\n",
       "</div>"
      ],
      "text/plain": [
       "     Id      SalePrice\n",
       "0  1461  119784.827956\n",
       "1  1462  155203.961731\n",
       "2  1463  185017.463378\n",
       "3  1464  196438.460583\n",
       "4  1465  190924.527742"
      ]
     },
     "execution_count": 260,
     "metadata": {},
     "output_type": "execute_result"
    }
   ],
   "source": [
    "submission.head()"
   ]
  },
  {
   "cell_type": "code",
   "execution_count": 267,
   "metadata": {},
   "outputs": [],
   "source": [
    "submission = pd.DataFrame({\"Id\": range(1461, 2920), \n",
    "                            \"SalePrice\": stacking_prediction_model})   # values"
   ]
  },
  {
   "cell_type": "code",
   "execution_count": 268,
   "metadata": {},
   "outputs": [
    {
     "data": {
      "text/plain": [
       "'2017-11-12 18 00'"
      ]
     },
     "execution_count": 268,
     "metadata": {},
     "output_type": "execute_result"
    }
   ],
   "source": [
    "import datetime\n",
    "time = '{:%Y-%m-%d %H %M}'.format(datetime.datetime.now())\n",
    "time"
   ]
  },
  {
   "cell_type": "code",
   "execution_count": 269,
   "metadata": {},
   "outputs": [],
   "source": [
    "submission.to_csv(\"./Ensemble Submissions/submission {}.csv\".format(time), sep=',', index = False)"
   ]
  },
  {
   "cell_type": "code",
   "execution_count": null,
   "metadata": {},
   "outputs": [],
   "source": []
  }
 ],
 "metadata": {
  "kernelspec": {
   "display_name": "Python 3",
   "language": "python",
   "name": "python3"
  },
  "language_info": {
   "codemirror_mode": {
    "name": "ipython",
    "version": 3
   },
   "file_extension": ".py",
   "mimetype": "text/x-python",
   "name": "python",
   "nbconvert_exporter": "python",
   "pygments_lexer": "ipython3",
   "version": "3.6.3"
  }
 },
 "nbformat": 4,
 "nbformat_minor": 2
}
